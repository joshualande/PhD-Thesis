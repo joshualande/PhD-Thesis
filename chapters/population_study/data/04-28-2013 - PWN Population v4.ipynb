{
 "metadata": {
  "name": "04-28-2013 - PWN Population v4"
 },
 "nbformat": 3,
 "nbformat_minor": 0,
 "worksheets": [
  {
   "cells": [
    {
     "cell_type": "markdown",
     "metadata": {},
     "source": [
      "# Load in multiwavelenth TeVCat data"
     ]
    },
    {
     "cell_type": "markdown",
     "metadata": {},
     "source": [
      "The multiwavelenth data from the paper is stored in a csv file:"
     ]
    },
    {
     "cell_type": "code",
     "collapsed": false,
     "input": [
      "from os.path import expandvars\n",
      "\n",
      "csvfile=expandvars(\"$thesis/chapters/population_study/data/tevcat_multiwavelenth_v3.csv\")\n",
      "\n",
      "print ''.join(open(csvfile).readlines()[:4])"
     ],
     "language": "python",
     "metadata": {},
     "outputs": [
      {
       "output_type": "stream",
       "stream": "stdout",
       "text": [
        "\\tablehead{ \\colhead{Source} & \\colhead{$\\dot{E}$} & \\colhead{age} & \\colhead{distance} & \\colhead{$\\text{G}_{10\\,\\text{GeV}}^{316\\,\\text{GeV}}$} & \\colhead{$\\text{G}_{1\\,\\text{TeV}}^{30\\,\\text{TeV}}$} & \\colhead{$\\text{G}_{1\\,\\text{keV}}^{10\\,\\text{keV}}$} & \\colhead{$\\text{L}_{10\\,\\text{GeV}}^{316\\,\\text{GeV}}$} & \\colhead{Lx} & \\colhead{Reference}}\n",
        "\\startdata\n",
        "VERJ0006+727 & 4.5000e+01 &1.3900e+01 &1.4000e+00_{-3.0000e-01}^{+3.0000e-01} &$<\\,6.89932 $ & - & - &$<\\,0.16180 $& - & \\\\\n",
        "Crab & 4.6000e+04 &1.2000e+00 &2.0000e+00_{-5.0000e-01}^{+5.0000e-01} &$485.66557 \\pm 187.55718$ &$80.00000 \\pm 16.49242$ &$21000.00000 \\pm 4200.00000$ &$ 23.24386 \\pm 14.68489 $ &$ 1.00506e+37^{+5.41239e+36}_{-5.41239e+36}$ & \\\\\n",
        "\n"
       ]
      }
     ],
     "prompt_number": 1
    },
    {
     "cell_type": "markdown",
     "metadata": {},
     "source": [
      "We can load in the latex table using astropy"
     ]
    },
    {
     "cell_type": "code",
     "collapsed": false,
     "input": [
      "from astropy.table import Table\n",
      "from astropy.io.ascii.latex import AASTex\n",
      "\n",
      "from astropy.io.ascii import read\n",
      "x=read(csvfile,  Reader=AASTex, guess=False)"
     ],
     "language": "python",
     "metadata": {},
     "outputs": [],
     "prompt_number": 2
    },
    {
     "cell_type": "markdown",
     "metadata": {},
     "source": [
      "Next, we can conver the (lame) astropy table to the (awesome) pandas table"
     ]
    },
    {
     "cell_type": "code",
     "collapsed": false,
     "input": [
      "from pandas import DataFrame\n",
      "\n",
      "df=DataFrame({i:x[i] for i in x.keys()}, columns=reversed(x.keys()))\n",
      "df=df.set_index('Source')"
     ],
     "language": "python",
     "metadata": {},
     "outputs": [],
     "prompt_number": 3
    },
    {
     "cell_type": "markdown",
     "metadata": {},
     "source": [
      "Here is the raw data"
     ]
    },
    {
     "cell_type": "code",
     "collapsed": false,
     "input": [
      "df.ix[:5]"
     ],
     "language": "python",
     "metadata": {},
     "outputs": [
      {
       "html": [
        "<div style=\"max-height:1000px;max-width:1500px;overflow:auto;\">\n",
        "<table border=\"1\" class=\"dataframe\">\n",
        "  <thead>\n",
        "    <tr style=\"text-align: right;\">\n",
        "      <th></th>\n",
        "      <th>Reference</th>\n",
        "      <th>Lx</th>\n",
        "      <th>$\\text{L}_{10\\,\\text{GeV}}^{316\\,\\text{GeV}}$</th>\n",
        "      <th>$\\text{G}_{1\\,\\text{keV}}^{10\\,\\text{keV}}$</th>\n",
        "      <th>$\\text{G}_{1\\,\\text{TeV}}^{30\\,\\text{TeV}}$</th>\n",
        "      <th>$\\text{G}_{10\\,\\text{GeV}}^{316\\,\\text{GeV}}$</th>\n",
        "      <th>distance</th>\n",
        "      <th>age</th>\n",
        "      <th>$\\dot{E}$</th>\n",
        "    </tr>\n",
        "    <tr>\n",
        "      <th>Source</th>\n",
        "      <th></th>\n",
        "      <th></th>\n",
        "      <th></th>\n",
        "      <th></th>\n",
        "      <th></th>\n",
        "      <th></th>\n",
        "      <th></th>\n",
        "      <th></th>\n",
        "      <th></th>\n",
        "    </tr>\n",
        "  </thead>\n",
        "  <tbody>\n",
        "    <tr>\n",
        "      <th>VERJ0006+727</th>\n",
        "      <td> </td>\n",
        "      <td>                                            -</td>\n",
        "      <td>             $&lt;\\,0.16180 $</td>\n",
        "      <td>                            -</td>\n",
        "      <td>                       -</td>\n",
        "      <td>             $&lt;\\,6.89932 $</td>\n",
        "      <td> 1.4000e+00_{-3.0000e-01}^{+3.0000e-01}</td>\n",
        "      <td> 1.3900e+01</td>\n",
        "      <td> 4.5000e+01</td>\n",
        "    </tr>\n",
        "    <tr>\n",
        "      <th>Crab</th>\n",
        "      <td> </td>\n",
        "      <td> $ 1.00506e+37^{+5.41239e+36}_{-5.41239e+36}$</td>\n",
        "      <td> $ 23.24386 \\pm 14.68489 $</td>\n",
        "      <td> $21000.00000 \\pm 4200.00000$</td>\n",
        "      <td> $80.00000 \\pm 16.49242$</td>\n",
        "      <td> $485.66557 \\pm 187.55718$</td>\n",
        "      <td> 2.0000e+00_{-5.0000e-01}^{+5.0000e-01}</td>\n",
        "      <td> 1.2000e+00</td>\n",
        "      <td> 4.6000e+04</td>\n",
        "    </tr>\n",
        "    <tr>\n",
        "      <th>MGROJ0631+105</th>\n",
        "      <td> </td>\n",
        "      <td>                                            -</td>\n",
        "      <td>             $&lt;\\,0.07127 $</td>\n",
        "      <td>                            -</td>\n",
        "      <td>                       -</td>\n",
        "      <td>             $&lt;\\,5.95656 $</td>\n",
        "      <td> 1.0000e+00_{-2.0000e-01}^{+2.0000e-01}</td>\n",
        "      <td> 4.3600e+01</td>\n",
        "      <td> 1.7000e+01</td>\n",
        "    </tr>\n",
        "    <tr>\n",
        "      <th>MGROJ0632+17</th>\n",
        "      <td> </td>\n",
        "      <td>                                            -</td>\n",
        "      <td>             $&lt;\\,0.01390 $</td>\n",
        "      <td>                            -</td>\n",
        "      <td>                       -</td>\n",
        "      <td>            $&lt;\\,29.05020 $</td>\n",
        "      <td> 2.0000e-01_{-1.0000e-01}^{+2.0000e-01}</td>\n",
        "      <td> 3.4200e+02</td>\n",
        "      <td> 3.2000e+00</td>\n",
        "    </tr>\n",
        "    <tr>\n",
        "      <th>Vela-X</th>\n",
        "      <td> </td>\n",
        "      <td> $ 5.80420e+32^{+2.06712e+32}_{-2.06712e+32}$</td>\n",
        "      <td>   $ 0.14447 \\pm 0.02269 $</td>\n",
        "      <td>            $53.90000 \\pm 11$</td>\n",
        "      <td> $79.00000 \\pm 21.21320$</td>\n",
        "      <td>  $134.16000 \\pm 11.14000$</td>\n",
        "      <td> 2.9000e-01_{-2.0000e-02}^{+2.0000e-02}</td>\n",
        "      <td> 1.1300e+01</td>\n",
        "      <td> 6.9000e+02</td>\n",
        "    </tr>\n",
        "  </tbody>\n",
        "</table>\n",
        "</div>"
       ],
       "output_type": "pyout",
       "prompt_number": 4,
       "text": [
        "              Reference                                            Lx  \\\n",
        "Source                                                                  \n",
        "VERJ0006+727                                                        -   \n",
        "Crab                     $ 1.00506e+37^{+5.41239e+36}_{-5.41239e+36}$   \n",
        "MGROJ0631+105                                                       -   \n",
        "MGROJ0632+17                                                        -   \n",
        "Vela-X                   $ 5.80420e+32^{+2.06712e+32}_{-2.06712e+32}$   \n",
        "\n",
        "              $\\text{L}_{10\\,\\text{GeV}}^{316\\,\\text{GeV}}$  \\\n",
        "Source                                                        \n",
        "VERJ0006+727                                  $<\\,0.16180 $   \n",
        "Crab                              $ 23.24386 \\pm 14.68489 $   \n",
        "MGROJ0631+105                                 $<\\,0.07127 $   \n",
        "MGROJ0632+17                                  $<\\,0.01390 $   \n",
        "Vela-X                              $ 0.14447 \\pm 0.02269 $   \n",
        "\n",
        "              $\\text{G}_{1\\,\\text{keV}}^{10\\,\\text{keV}}$  \\\n",
        "Source                                                      \n",
        "VERJ0006+727                                            -   \n",
        "Crab                         $21000.00000 \\pm 4200.00000$   \n",
        "MGROJ0631+105                                           -   \n",
        "MGROJ0632+17                                            -   \n",
        "Vela-X                                  $53.90000 \\pm 11$   \n",
        "\n",
        "              $\\text{G}_{1\\,\\text{TeV}}^{30\\,\\text{TeV}}$  \\\n",
        "Source                                                      \n",
        "VERJ0006+727                                            -   \n",
        "Crab                              $80.00000 \\pm 16.49242$   \n",
        "MGROJ0631+105                                           -   \n",
        "MGROJ0632+17                                            -   \n",
        "Vela-X                            $79.00000 \\pm 21.21320$   \n",
        "\n",
        "              $\\text{G}_{10\\,\\text{GeV}}^{316\\,\\text{GeV}}$  \\\n",
        "Source                                                        \n",
        "VERJ0006+727                                  $<\\,6.89932 $   \n",
        "Crab                              $485.66557 \\pm 187.55718$   \n",
        "MGROJ0631+105                                 $<\\,5.95656 $   \n",
        "MGROJ0632+17                                 $<\\,29.05020 $   \n",
        "Vela-X                             $134.16000 \\pm 11.14000$   \n",
        "\n",
        "                                             distance         age   $\\dot{E}$  \n",
        "Source                                                                         \n",
        "VERJ0006+727   1.4000e+00_{-3.0000e-01}^{+3.0000e-01}  1.3900e+01  4.5000e+01  \n",
        "Crab           2.0000e+00_{-5.0000e-01}^{+5.0000e-01}  1.2000e+00  4.6000e+04  \n",
        "MGROJ0631+105  1.0000e+00_{-2.0000e-01}^{+2.0000e-01}  4.3600e+01  1.7000e+01  \n",
        "MGROJ0632+17   2.0000e-01_{-1.0000e-01}^{+2.0000e-01}  3.4200e+02  3.2000e+00  \n",
        "Vela-X         2.9000e-01_{-2.0000e-02}^{+2.0000e-02}  1.1300e+01  6.9000e+02  "
       ]
      }
     ],
     "prompt_number": 4
    },
    {
     "cell_type": "markdown",
     "metadata": {},
     "source": [
      "Now, lets clean the data up"
     ]
    },
    {
     "cell_type": "code",
     "collapsed": false,
     "input": [
      "df=df.rename(columns={\n",
      "    r'$\\text{G}_{1\\,\\text{keV}}^{10\\,\\text{keV}}$':'F_Xray', \n",
      "    'Lx':'L_Xray',\n",
      "    r'$\\text{G}_{1\\,\\text{TeV}}^{30\\,\\text{TeV}}$':'F_TeV',\n",
      "    r'$\\text{G}_{10\\,\\text{GeV}}^{316\\,\\text{GeV}}$':'F_GeV',\n",
      "    r'$\\dot{E}$':'Edot',\n",
      "    r'$\\text{L}_{10\\,\\text{GeV}}^{316\\,\\text{GeV}}$':'L_GeV'})"
     ],
     "language": "python",
     "metadata": {},
     "outputs": [],
     "prompt_number": 5
    },
    {
     "cell_type": "code",
     "collapsed": false,
     "input": [
      "# First, replace \\nodata with missing data\n",
      "import numpy as np\n",
      "df = df.applymap(lambda x: np.nan if x=='-' else x)\n",
      "\n",
      "# Next, convert nubmers to DataPoints:\n",
      "df['Edot'] = df['Edot'].astype(float)\n",
      "df['age'] = df['age'].astype(float)\n",
      "# Not sure what to do with assymetric errors in Distance, yet..."
     ],
     "language": "python",
     "metadata": {},
     "outputs": [
      {
       "output_type": "stream",
       "stream": "stdout",
       "text": [
        "\u001b[0;33mWARNING\u001b[0m: FutureWarning: rename with inplace=True  will return None from pandas 0.11 onward [pandas.core.frame]\n"
       ]
      }
     ],
     "prompt_number": 6
    },
    {
     "cell_type": "markdown",
     "metadata": {},
     "source": [
      "Next, convert numbers w/ errors and limits"
     ]
    },
    {
     "cell_type": "code",
     "collapsed": false,
     "input": [
      "from lande.datapoints import DataPoint"
     ],
     "language": "python",
     "metadata": {},
     "outputs": [],
     "prompt_number": 7
    },
    {
     "cell_type": "code",
     "collapsed": false,
     "input": [
      "for i in ['F_GeV','F_TeV','F_Xray','L_GeV','L_Xray','distance']:\n",
      "    df[i] = df[i].map(lambda x: DataPoint.from_string(x), na_action='ignore')"
     ],
     "language": "python",
     "metadata": {},
     "outputs": [],
     "prompt_number": 8
    },
    {
     "cell_type": "markdown",
     "metadata": {},
     "source": [
      "Since HESSJ1708-443 is classified as 'PSR', lets represent the emission as PWN:"
     ]
    },
    {
     "cell_type": "code",
     "collapsed": false,
     "input": [
      "df['L_GeV']['HESSJ1708-443'],df['F_GeV']['HESSJ1708-443']"
     ],
     "language": "python",
     "metadata": {},
     "outputs": [
      {
       "output_type": "pyout",
       "prompt_number": 9,
       "text": [
        "(1.80099 +/- 0.94926, 28.45405 +/- 13.03169)"
       ]
      }
     ],
     "prompt_number": 9
    },
    {
     "cell_type": "code",
     "collapsed": false,
     "input": [
      "from lande.datapoints import UpperLimit\n",
      "for val in ['L_GeV','F_GeV']:\n",
      "    detection = df[val]['HESSJ1708-443']\n",
      "    df[val]['HESSJ1708-443'] = UpperLimit(detection.value + detection.error)"
     ],
     "language": "python",
     "metadata": {},
     "outputs": [],
     "prompt_number": 10
    },
    {
     "cell_type": "markdown",
     "metadata": {},
     "source": [
      "Now it is an upper limit"
     ]
    },
    {
     "cell_type": "code",
     "collapsed": false,
     "input": [
      "df['L_GeV']['HESSJ1708-443'],df['F_GeV']['HESSJ1708-443'],"
     ],
     "language": "python",
     "metadata": {},
     "outputs": [
      {
       "output_type": "pyout",
       "prompt_number": 11,
       "text": [
        "(<2.75025, <41.48574)"
       ]
      }
     ],
     "prompt_number": 11
    },
    {
     "cell_type": "markdown",
     "metadata": {},
     "source": [
      "Next we have to scale luminosity and Edot"
     ]
    },
    {
     "cell_type": "code",
     "collapsed": false,
     "input": [
      "df['L_GeV']*=10.**34\n",
      "df['Edot']*=10.**34\n",
      "df['age']*=1e3"
     ],
     "language": "python",
     "metadata": {},
     "outputs": [],
     "prompt_number": 12
    },
    {
     "cell_type": "markdown",
     "metadata": {},
     "source": [
      "And define a column for significance"
     ]
    },
    {
     "cell_type": "code",
     "collapsed": false,
     "input": [
      "df['GeV_significant'] = df['F_GeV'].map(lambda x: x.significant())"
     ],
     "language": "python",
     "metadata": {},
     "outputs": [],
     "prompt_number": 13
    },
    {
     "cell_type": "markdown",
     "metadata": {},
     "source": [
      "Now, the final data is in the right format"
     ]
    },
    {
     "cell_type": "code",
     "collapsed": false,
     "input": [
      "type(df['F_Xray']['Crab'])"
     ],
     "language": "python",
     "metadata": {},
     "outputs": [
      {
       "output_type": "pyout",
       "prompt_number": 14,
       "text": [
        "lande.datapoints.Detection"
       ]
      }
     ],
     "prompt_number": 14
    },
    {
     "cell_type": "markdown",
     "metadata": {},
     "source": [
      "Add computed the ohter things we need to plot"
     ]
    },
    {
     "cell_type": "code",
     "collapsed": false,
     "input": [
      "df['L_GeV/TeV'] = df['F_GeV']/df['F_TeV']\n",
      "df['L_GeV/Xray'] = df['F_GeV']/df['F_Xray']"
     ],
     "language": "python",
     "metadata": {},
     "outputs": [],
     "prompt_number": 15
    },
    {
     "cell_type": "markdown",
     "metadata": {},
     "source": [
      "# The final data frame"
     ]
    },
    {
     "cell_type": "code",
     "collapsed": false,
     "input": [
      "df.ix[:5]"
     ],
     "language": "python",
     "metadata": {},
     "outputs": [
      {
       "html": [
        "<div style=\"max-height:1000px;max-width:1500px;overflow:auto;\">\n",
        "<table border=\"1\" class=\"dataframe\">\n",
        "  <thead>\n",
        "    <tr style=\"text-align: right;\">\n",
        "      <th></th>\n",
        "      <th>Reference</th>\n",
        "      <th>L_Xray</th>\n",
        "      <th>L_GeV</th>\n",
        "      <th>F_Xray</th>\n",
        "      <th>F_TeV</th>\n",
        "      <th>F_GeV</th>\n",
        "      <th>distance</th>\n",
        "      <th>age</th>\n",
        "      <th>Edot</th>\n",
        "      <th>GeV_significant</th>\n",
        "      <th>L_GeV/TeV</th>\n",
        "      <th>L_GeV/Xray</th>\n",
        "    </tr>\n",
        "    <tr>\n",
        "      <th>Source</th>\n",
        "      <th></th>\n",
        "      <th></th>\n",
        "      <th></th>\n",
        "      <th></th>\n",
        "      <th></th>\n",
        "      <th></th>\n",
        "      <th></th>\n",
        "      <th></th>\n",
        "      <th></th>\n",
        "      <th></th>\n",
        "      <th></th>\n",
        "      <th></th>\n",
        "    </tr>\n",
        "  </thead>\n",
        "  <tbody>\n",
        "    <tr>\n",
        "      <th>VERJ0006+727</th>\n",
        "      <td> </td>\n",
        "      <td>                                   NaN</td>\n",
        "      <td>                    &lt;1.618e+33</td>\n",
        "      <td>                NaN</td>\n",
        "      <td>               NaN</td>\n",
        "      <td>                &lt;6.89932</td>\n",
        "      <td>    1.4 +0.3 -0.3</td>\n",
        "      <td>  13900</td>\n",
        "      <td> 4.500000e+35</td>\n",
        "      <td> False</td>\n",
        "      <td>                             NaN</td>\n",
        "      <td>                                 NaN</td>\n",
        "    </tr>\n",
        "    <tr>\n",
        "      <th>Crab</th>\n",
        "      <td> </td>\n",
        "      <td> 1.00506e+37 +5.41239e+36 -5.41239e+36</td>\n",
        "      <td> 2.324386e+35 +/- 1.468489e+35</td>\n",
        "      <td> 21000.0 +/- 4200.0</td>\n",
        "      <td> 80.0 +/- 16.49242</td>\n",
        "      <td> 485.66557 +/- 187.55718</td>\n",
        "      <td>    2.0 +0.5 -0.5</td>\n",
        "      <td>   1200</td>\n",
        "      <td> 4.600000e+38</td>\n",
        "      <td>  True</td>\n",
        "      <td>   6.070819625 +/- 2.65760148494</td>\n",
        "      <td> 0.0231269319048 +/- 0.0100579429702</td>\n",
        "    </tr>\n",
        "    <tr>\n",
        "      <th>MGROJ0631+105</th>\n",
        "      <td> </td>\n",
        "      <td>                                   NaN</td>\n",
        "      <td>                    &lt;7.127e+32</td>\n",
        "      <td>                NaN</td>\n",
        "      <td>               NaN</td>\n",
        "      <td>                &lt;5.95656</td>\n",
        "      <td>    1.0 +0.2 -0.2</td>\n",
        "      <td>  43600</td>\n",
        "      <td> 1.700000e+35</td>\n",
        "      <td> False</td>\n",
        "      <td>                             NaN</td>\n",
        "      <td>                                 NaN</td>\n",
        "    </tr>\n",
        "    <tr>\n",
        "      <th>MGROJ0632+17</th>\n",
        "      <td> </td>\n",
        "      <td>                                   NaN</td>\n",
        "      <td>                     &lt;1.39e+32</td>\n",
        "      <td>                NaN</td>\n",
        "      <td>               NaN</td>\n",
        "      <td>                &lt;29.0502</td>\n",
        "      <td>    0.2 +0.1 -0.2</td>\n",
        "      <td> 342000</td>\n",
        "      <td> 3.200000e+34</td>\n",
        "      <td> False</td>\n",
        "      <td>                             NaN</td>\n",
        "      <td>                                 NaN</td>\n",
        "    </tr>\n",
        "    <tr>\n",
        "      <th>Vela-X</th>\n",
        "      <td> </td>\n",
        "      <td>  5.8042e+32 +2.06712e+32 -2.06712e+32</td>\n",
        "      <td>      1.4447e+33 +/- 2.269e+32</td>\n",
        "      <td>      53.9 +/- 11.0</td>\n",
        "      <td>  79.0 +/- 21.2132</td>\n",
        "      <td>        134.16 +/- 11.14</td>\n",
        "      <td> 0.29 +0.02 -0.02</td>\n",
        "      <td>  11300</td>\n",
        "      <td> 6.900000e+36</td>\n",
        "      <td>  True</td>\n",
        "      <td> 1.6982278481 +/- 0.477315773649</td>\n",
        "      <td>     2.48905380334 +/- 0.54840670225</td>\n",
        "    </tr>\n",
        "  </tbody>\n",
        "</table>\n",
        "</div>"
       ],
       "output_type": "pyout",
       "prompt_number": 16,
       "text": [
        "              Reference                                 L_Xray  \\\n",
        "Source                                                           \n",
        "VERJ0006+727                                               NaN   \n",
        "Crab                     1.00506e+37 +5.41239e+36 -5.41239e+36   \n",
        "MGROJ0631+105                                              NaN   \n",
        "MGROJ0632+17                                               NaN   \n",
        "Vela-X                    5.8042e+32 +2.06712e+32 -2.06712e+32   \n",
        "\n",
        "                                       L_GeV              F_Xray  \\\n",
        "Source                                                             \n",
        "VERJ0006+727                      <1.618e+33                 NaN   \n",
        "Crab           2.324386e+35 +/- 1.468489e+35  21000.0 +/- 4200.0   \n",
        "MGROJ0631+105                     <7.127e+32                 NaN   \n",
        "MGROJ0632+17                       <1.39e+32                 NaN   \n",
        "Vela-X              1.4447e+33 +/- 2.269e+32       53.9 +/- 11.0   \n",
        "\n",
        "                           F_TeV                    F_GeV          distance  \\\n",
        "Source                                                                        \n",
        "VERJ0006+727                 NaN                 <6.89932     1.4 +0.3 -0.3   \n",
        "Crab           80.0 +/- 16.49242  485.66557 +/- 187.55718     2.0 +0.5 -0.5   \n",
        "MGROJ0631+105                NaN                 <5.95656     1.0 +0.2 -0.2   \n",
        "MGROJ0632+17                 NaN                 <29.0502     0.2 +0.1 -0.2   \n",
        "Vela-X          79.0 +/- 21.2132         134.16 +/- 11.14  0.29 +0.02 -0.02   \n",
        "\n",
        "                  age          Edot GeV_significant  \\\n",
        "Source                                                \n",
        "VERJ0006+727    13900  4.500000e+35           False   \n",
        "Crab             1200  4.600000e+38            True   \n",
        "MGROJ0631+105   43600  1.700000e+35           False   \n",
        "MGROJ0632+17   342000  3.200000e+34           False   \n",
        "Vela-X          11300  6.900000e+36            True   \n",
        "\n",
        "                                     L_GeV/TeV  \\\n",
        "Source                                           \n",
        "VERJ0006+727                               NaN   \n",
        "Crab             6.070819625 +/- 2.65760148494   \n",
        "MGROJ0631+105                              NaN   \n",
        "MGROJ0632+17                               NaN   \n",
        "Vela-X         1.6982278481 +/- 0.477315773649   \n",
        "\n",
        "                                        L_GeV/Xray  \n",
        "Source                                              \n",
        "VERJ0006+727                                   NaN  \n",
        "Crab           0.0231269319048 +/- 0.0100579429702  \n",
        "MGROJ0631+105                                  NaN  \n",
        "MGROJ0632+17                                   NaN  \n",
        "Vela-X             2.48905380334 +/- 0.54840670225  "
       ]
      }
     ],
     "prompt_number": 16
    },
    {
     "cell_type": "code",
     "collapsed": false,
     "input": [
      "df.ix['HESSJ1708-443']"
     ],
     "language": "python",
     "metadata": {},
     "outputs": [
      {
       "output_type": "pyout",
       "prompt_number": 17,
       "text": [
        "Reference                                               \n",
        "L_Xray             4.55721e+32 +1.20805e+32 -1.20805e+32\n",
        "L_GeV                                       <2.75025e+34\n",
        "F_Xray                                               NaN\n",
        "F_TeV                                     22.88 +/- 6.96\n",
        "F_GeV                                          <41.48574\n",
        "distance                                   2.3 +0.3 -0.3\n",
        "age                                                17500\n",
        "Edot                                             3.4e+36\n",
        "GeV_significant                                    False\n",
        "L_GeV/TeV                                 <1.81318793706\n",
        "L_GeV/Xray                                           NaN\n",
        "Name: HESSJ1708-443"
       ]
      }
     ],
     "prompt_number": 17
    },
    {
     "cell_type": "markdown",
     "metadata": {},
     "source": [
      "# Make plot of Luminosity vs Edot"
     ]
    },
    {
     "cell_type": "markdown",
     "metadata": {},
     "source": [
      "Before making any plots, lets tweak matplotlib"
     ]
    },
    {
     "cell_type": "code",
     "collapsed": false,
     "input": [
      "from lande.utilities.pubplot import set_latex_defaults\n",
      "set_latex_defaults()\n",
      "\n",
      "params = {'backend': 'ps',\n",
      "          'axes.labelsize': 14,\n",
      "          'text.fontsize': 14,\n",
      "          'xtick.labelsize': 12,\n",
      "          'ytick.labelsize': 12}\n",
      "pylab.rcParams.update(params)"
     ],
     "language": "python",
     "metadata": {},
     "outputs": [],
     "prompt_number": 18
    },
    {
     "cell_type": "markdown",
     "metadata": {},
     "source": [
      "Make a plot of Edot vs GeV Luminosity"
     ]
    },
    {
     "cell_type": "code",
     "collapsed": false,
     "input": [
      "# First, lets make a table of the quantities we want, with missing values dropped from the plot\n",
      "\n",
      "l=df[['Edot','L_GeV','GeV_significant']].dropna()\n",
      "Edot=l['Edot'].values\n",
      "luim=l['L_GeV'].values\n",
      "significant=l['GeV_significant'].values\n",
      "names = l.index.values\n",
      "\n",
      "fig=figure(None, (4,4))\n",
      "axes=fig.add_subplot(111)\n",
      "xlim(1e34,1e39)\n",
      "axes.set_xscale('log')\n",
      "axes.set_yscale('log')\n",
      "axes.set_ylabel(r'$L_\\mathrm{GeV}$')\n",
      "axes.set_xlabel('$\\dot E$')\n",
      "   \n",
      "\n",
      "def myplot(cut, **mykwargs):\n",
      "    kwargs=dict(marker='.', color='black', markersize=6)\n",
      "    kwargs.update(mykwargs)\n",
      "    from lande.datapoints import plot\n",
      "    plot(Edot[cut],luim[cut], axes=axes, log_clipping=True, **kwargs)\n",
      "\n",
      "myplot(cut=(significant==False), color='gray')\n",
      "myplot(cut=(significant==True), color='black')\n",
      "#myplot(cut=(names=='Vela-X'), color='blue')\n",
      "#myplot(cut=(names=='Crab'), color='blue')\n",
      "#myplot(cut=(names=='HESSJ1708-443'), color='red')\n",
      "\n",
      "\n",
      "def myplot(factor, **mykwargs):\n",
      "    kwargs=dict(color='black')\n",
      "    kwargs.update(mykwargs)\n",
      "    axes.plot([10**34,10**39],[10**34/factor,10**39/factor], **kwargs)\n",
      "\n",
      "myplot(1, linestyle='-')\n",
      "myplot(10, linestyle='--')\n",
      "myplot(100, linestyle='-.')\n",
      "\n",
      "axes.set_xlim(10.**34,10.**39)\n",
      "axes.set_ylim(10.**32,10.**36)\n",
      "fig.tight_layout()\n",
      "savefig('pwn_luminosity_vs_edot.pdf')"
     ],
     "language": "python",
     "metadata": {},
     "outputs": [
      {
       "output_type": "display_data",
       "png": "[encoded data removed]"
      }
     ],
     "prompt_number": 19
    },
    {
     "cell_type": "markdown",
     "metadata": {},
     "source": [
      "# Plot GeV vs TeV luminosity ratio"
     ]
    },
    {
     "cell_type": "code",
     "collapsed": false,
     "input": [
      "\n",
      "from mpl_toolkits.axes_grid1 import Grid\n",
      "fig = plt.figure(None, (6., 6.))\n",
      "grid = Grid(fig, 111, # similar to subplot(111)\n",
      "            nrows_ncols = (2, 2), # creates 2x2 grid of axes\n",
      "            axes_pad=0.1, # pad between axes in inch.\n",
      "            share_all=False,\n",
      "           )\n",
      "\n",
      "for ax in grid:\n",
      "    ax.set_xscale('log')\n",
      "    ax.set_yscale('log')\n",
      "\n",
      "mykwargs = dict(marker='.',markersize=6, log_clipping=True)\n",
      "\n",
      "for i,_x in enumerate(['age','Edot']):\n",
      "    l=df[['F_GeV','F_TeV','L_GeV','L_GeV/TeV',_x,'GeV_significant']].dropna()\n",
      "    x=l[_x].values\n",
      "    ratio=l['L_GeV/TeV'].values\n",
      "    l_gev=l['L_GeV'].values\n",
      "    significant=l['GeV_significant'].values\n",
      "    names = l.index.values\n",
      "    from lande.datapoints import plot\n",
      "    plot(x[significant==False],l_gev[significant==False], axes=grid[0+i], color='gray', **mykwargs)\n",
      "    plot(x[significant==True],l_gev[significant==True], axes=grid[0+i], color='black', **mykwargs)\n",
      "\n",
      "    plot(x[significant==False],ratio[significant==False], axes=grid[2+i], color='gray', ul_fraction=0.3, **mykwargs)\n",
      "    plot(x[significant==True],ratio[significant==True], axes=grid[2+i], color='black', ul_fraction=0.3, **mykwargs)\n",
      "\n",
      "\n",
      "grid[0].set_ylabel(r'$L_\\mathrm{GeV}$ (erg s$^{-1})$')\n",
      "grid[2].set_ylabel(r'$L_\\mathrm{GeV}/L_\\mathrm{TeV}$')\n",
      "\n",
      "grid[2].set_xlabel('Age (yr)')\n",
      "grid[3].set_xlabel(r'$\\dot{E}$ (erg s$^{-1}$)')\n",
      "\n",
      "grid[0].set_xlim(0.5e3, 300e3)\n",
      "grid[1].set_xlim(1e35, 1e39)\n",
      "\n",
      "grid[0].set_ylim(1e33,1e36)\n",
      "grid[2].set_ylim(3e-1,1e2)\n",
      "\n",
      "grid[2].axhline(2.7, color='black', linestyle='--')\n",
      "grid[3].axhline(2.7, color='black', linestyle='--')\n",
      "\n",
      "fig.tight_layout()\n",
      "savefig('pwn_age_edot_vs_l_gev.pdf')"
     ],
     "language": "python",
     "metadata": {},
     "outputs": [
      {
       "output_type": "display_data",
       "png": "[encoded data removed]"
      }
     ],
     "prompt_number": 20
    },
    {
     "cell_type": "markdown",
     "metadata": {},
     "source": [
      "# Plot GeV vs X-ray luminosity ratio"
     ]
    },
    {
     "cell_type": "code",
     "collapsed": false,
     "input": [
      "\n",
      "from mpl_toolkits.axes_grid1 import Grid\n",
      "fig = plt.figure(None, (6., 6.))\n",
      "grid = Grid(fig, 111, # similar to subplot(111)\n",
      "            nrows_ncols = (2, 2), # creates 2x2 grid of axes\n",
      "            axes_pad=0.1, # pad between axes in inch.\n",
      "            share_all=False,\n",
      "           )\n",
      "\n",
      "for ax in grid:\n",
      "    ax.set_xscale('log')\n",
      "    ax.set_yscale('log')\n",
      "\n",
      "    for i,_x in enumerate(['age','Edot']):\n",
      "        l=df[['F_GeV','F_Xray','L_Xray','L_GeV/Xray',_x,'GeV_significant']].dropna()\n",
      "\n",
      "        x=l[_x].values\n",
      "        ratio=l['L_GeV/Xray'].values\n",
      "        l_xray=l['L_Xray'].values\n",
      "        significant=l['GeV_significant'].values\n",
      "        names = l.index.values\n",
      "\n",
      "        mykwargs = dict(marker='.',markersize=6, log_clipping=True)\n",
      "    \n",
      "        from lande.datapoints import plot\n",
      "        plot(x[significant==False],l_xray[significant==False], axes=grid[0+i], color='gray', **mykwargs)\n",
      "        plot(x[significant==True],l_xray[significant==True], axes=grid[0+i], color='black', **mykwargs)\n",
      "\n",
      "        plot(x[significant==False],ratio[significant==False], axes=grid[2+i], color='gray', ul_fraction=.6, **mykwargs)\n",
      "        plot(x[significant==True],ratio[significant==True], axes=grid[2+i], color='black', ul_fraction=.6, **mykwargs)\n",
      "\n",
      "grid[0].set_ylabel(r'$L_\\mathrm{X}$ (erg s$^{-1}$)')\n",
      "grid[2].set_ylabel(r'$L_\\mathrm{GeV}/L_\\mathrm{X}$')\n",
      "\n",
      "grid[2].set_xlabel('Age (yr)')\n",
      "grid[3].set_xlabel(r'$\\dot{E}$ (erg s$^{-1}$)')\n",
      "\n",
      "grid[0].set_xlim(0.5e3, 300e3)\n",
      "grid[1].set_xlim(1e35, 1e39)\n",
      "\n",
      "grid[0].set_ylim(1e31,2*1e37)\n",
      "grid[2].set_ylim(1e-2,1e4)\n",
      "fig.tight_layout()\n",
      "\n",
      "def fraction(Edot):\n",
      "        # This is Mattana et al 2009 eqn 3 scaled by average(R) from tevcat\n",
      "    return 2.7*10.**(0.47 - 1.87*np.log10(Edot/1e37))\n",
      "Edot = np.logspace(np.log10(grid[3].get_xlim()[0]),np.log10(grid[3].get_xlim()[1]),100)\n",
      "grid[3].plot(Edot,fraction(Edot),  color='black', linestyle='--')\n",
      "\n",
      "def fraction(age):\n",
      "    # This is Mattana et al 2009 eqn 5 scaled by average(R) from tevcat\n",
      "    return 2.7*10.**(0.7  + 2.21 *np.log10(age/1e4))\n",
      "age = np.logspace(np.log10(grid[2].get_xlim()[0]), np.log10(grid[2].get_xlim()[1]), 100)\n",
      "grid[2].plot(age, fraction(age), color='black', linestyle='--')\n",
      "    \n",
      "savefig('pwn_age_edot_vs_l_xray.pdf')"
     ],
     "language": "python",
     "metadata": {},
     "outputs": [
      {
       "output_type": "display_data",
       "png": "[encoded data removed]"
      }
     ],
     "prompt_number": 21
    },
    {
     "cell_type": "markdown",
     "metadata": {},
     "source": [
      "# SuperTable"
     ]
    },
    {
     "cell_type": "markdown",
     "metadata": {},
     "source": [
      "Finally, we want to make a table of pulsar properties:"
     ]
    },
    {
     "cell_type": "markdown",
     "metadata": {},
     "source": [
      "First, we add the PSR names to the data frame"
     ]
    },
    {
     "cell_type": "code",
     "collapsed": false,
     "input": [
      "x=df.copy()"
     ],
     "language": "python",
     "metadata": {},
     "outputs": [],
     "prompt_number": 74
    },
    {
     "cell_type": "code",
     "collapsed": false,
     "input": [
      "from pandas import read_csv\n",
      "temp = read_csv('pwn_psr_mapper.csv', sep='\\s*,\\s*')\n",
      "temp.ix[:5]"
     ],
     "language": "python",
     "metadata": {},
     "outputs": [
      {
       "html": [
        "<div style=\"max-height:1000px;max-width:1500px;overflow:auto;\">\n",
        "<table border=\"1\" class=\"dataframe\">\n",
        "  <thead>\n",
        "    <tr style=\"text-align: right;\">\n",
        "      <th></th>\n",
        "      <th>Source</th>\n",
        "      <th>PSR</th>\n",
        "    </tr>\n",
        "  </thead>\n",
        "  <tbody>\n",
        "    <tr>\n",
        "      <th>0</th>\n",
        "      <td>          Crab</td>\n",
        "      <td> PSR J0534+2200</td>\n",
        "    </tr>\n",
        "    <tr>\n",
        "      <th>1</th>\n",
        "      <td>  VERJ0006+727</td>\n",
        "      <td>  PSRJ0007+7303</td>\n",
        "    </tr>\n",
        "    <tr>\n",
        "      <th>2</th>\n",
        "      <td> MGROJ0631+105</td>\n",
        "      <td>  PSRJ0631+1036</td>\n",
        "    </tr>\n",
        "    <tr>\n",
        "      <th>3</th>\n",
        "      <td>  MGROJ0632+17</td>\n",
        "      <td>  PSRJ0633+1746</td>\n",
        "    </tr>\n",
        "    <tr>\n",
        "      <th>4</th>\n",
        "      <td> HESSJ1018-589</td>\n",
        "      <td>  PSRJ1016-5857</td>\n",
        "    </tr>\n",
        "    <tr>\n",
        "      <th>5</th>\n",
        "      <td> HESSJ1023-575</td>\n",
        "      <td>  PSRJ1023-5746</td>\n",
        "    </tr>\n",
        "  </tbody>\n",
        "</table>\n",
        "</div>"
       ],
       "output_type": "pyout",
       "prompt_number": 75,
       "text": [
        "          Source             PSR\n",
        "0           Crab  PSR J0534+2200\n",
        "1   VERJ0006+727   PSRJ0007+7303\n",
        "2  MGROJ0631+105   PSRJ0631+1036\n",
        "3   MGROJ0632+17   PSRJ0633+1746\n",
        "4  HESSJ1018-589   PSRJ1016-5857\n",
        "5  HESSJ1023-575   PSRJ1023-5746"
       ]
      }
     ],
     "prompt_number": 75
    },
    {
     "cell_type": "code",
     "collapsed": false,
     "input": [
      "temp=temp.set_index('Source')['PSR']"
     ],
     "language": "python",
     "metadata": {},
     "outputs": [],
     "prompt_number": 76
    },
    {
     "cell_type": "code",
     "collapsed": false,
     "input": [
      "type(temp)"
     ],
     "language": "python",
     "metadata": {},
     "outputs": [
      {
       "output_type": "pyout",
       "prompt_number": 77,
       "text": [
        "pandas.core.series.Series"
       ]
      }
     ],
     "prompt_number": 77
    },
    {
     "cell_type": "code",
     "collapsed": false,
     "input": [
      "x['PSR'] = temp"
     ],
     "language": "python",
     "metadata": {},
     "outputs": [],
     "prompt_number": 78
    },
    {
     "cell_type": "code",
     "collapsed": false,
     "input": [
      "x['PSR']"
     ],
     "language": "python",
     "metadata": {},
     "outputs": [
      {
       "output_type": "pyout",
       "prompt_number": 79,
       "text": [
        "Source\n",
        "VERJ0006+727       PSRJ0007+7303\n",
        "Crab              PSR J0534+2200\n",
        "MGROJ0631+105      PSRJ0631+1036\n",
        "MGROJ0632+17       PSRJ0633+1746\n",
        "Vela-X             PSRJ0835-4510\n",
        "HESSJ1018-589      PSRJ1016-5857\n",
        "HESSJ1023-575      PSRJ1023-5746\n",
        "HESSJ1026-582      PSRJ1028-5819\n",
        "HESSJ1119-614      PSRJ1119-6127\n",
        "HESSJ1303-631      PSRJ1301-6305\n",
        "HESSJ1356-645      PSRJ1357-6429\n",
        "HESSJ1418-609      PSRJ1418-6058\n",
        "HESSJ1420-607      PSRJ1420-6048\n",
        "HESSJ1458-608      PSRJ1459-6053\n",
        "HESSJ1514-591      PSRJ1513-5906\n",
        "HESSJ1554-550            \\nodata\n",
        "HESSJ1616-508      PSRJ1617-5055\n",
        "HESSJ1632-478            \\nodata\n",
        "HESSJ1640-465            \\nodata\n",
        "HESSJ1646-458B     PSRJ1648-4611\n",
        "HESSJ1702-420      PSRJ1702-4128\n",
        "HESSJ1708-443      PSRJ1709-4429\n",
        "HESSJ1718-385      PSRJ1718-3825\n",
        "HESSJ1804-216      PSRJ1803-2137\n",
        "HESSJ1809-193      PSRJ1809-1917\n",
        "HESSJ1813-178      PSRJ1813-1749\n",
        "HESSJ1818-154      PSRJ1818-1541\n",
        "HESSJ1825-137      PSRJ1826-1334\n",
        "HESSJ1831-098      PSRJ1831-0952\n",
        "HESSJ1833-105      PSRJ1833-1034\n",
        "HESSJ1837-069      PSRJ1836-0655\n",
        "HESSJ1841-055      PSRJ1838-0537\n",
        "HESSJ1846-029      PSRJ1846-0258\n",
        "HESSJ1848-018            \\nodata\n",
        "HESSJ1849-000       PSRJ1849-001\n",
        "HESSJ1857+026      PSRJ1856+0245\n",
        "MGROJ1908+06       PSRJ1907+0602\n",
        "HESSJ1912+101      PSRJ1913+1011\n",
        "VERJ1930+188       PSRJ1930+1852\n",
        "VERJ1959+208       PSRJ1959+2048\n",
        "MGROJ2019+37       PSRJ2021+3651\n",
        "MGROJ2228+61       PSRJ2229+6114\n",
        "Name: PSR"
       ]
      }
     ],
     "prompt_number": 79
    },
    {
     "cell_type": "markdown",
     "metadata": {},
     "source": [
      "Convert format"
     ]
    },
    {
     "cell_type": "code",
     "collapsed": false,
     "input": [
      "x['age']/=1e3"
     ],
     "language": "python",
     "metadata": {},
     "outputs": [],
     "prompt_number": 80
    },
    {
     "cell_type": "code",
     "collapsed": false,
     "input": [
      "from lande.datapoints import Detection\n",
      "def fix_dist(i):\n",
      "    if isinstance(i,DataPoint):\n",
      "        if i.lower == 0 and i.upper == 0:\n",
      "            return '%g' % i.value\n",
      "        elif i.lower == i.upper:\n",
      "            if i.value > 1:\n",
      "                return r'$%.1f \\pm %.1f$' % (i.value,i.lower)\n",
      "            elif i.value > .1:\n",
      "                return r'$%.02f \\pm %.02f$' % (i.value,i.lower)\n",
      "            else:\n",
      "                raise Exception()\n",
      "            \n",
      "        else:\n",
      "            return i._repr_html_()\n",
      "    elif np.isnan(i):\n",
      "        return r'\\nodata'\n",
      "    elif isinstance(i,float):\n",
      "        return '%g' % i\n",
      "    else:\n",
      "        raise Exception(type(i))\n",
      "map(fix_dist,x['distance'])[:5]"
     ],
     "language": "python",
     "metadata": {},
     "outputs": [
      {
       "output_type": "pyout",
       "prompt_number": 81,
       "text": [
        "['$1.4 \\\\pm 0.3$',\n",
        " '$2.0 \\\\pm 0.5$',\n",
        " '$1.00 \\\\pm 0.20$',\n",
        " '$0.2_{-0.1}^{+0.2}$',\n",
        " '$0.29 \\\\pm 0.02$']"
       ]
      }
     ],
     "prompt_number": 81
    },
    {
     "cell_type": "code",
     "collapsed": false,
     "input": [
      "def fix_tev_flux(i):\n",
      "    if isinstance(i,Detection):\n",
      "        val, err = i.value, i.error\n",
      "        if val > 10:\n",
      "            return '$%d \\pm %d$' % (round(val), round(err))\n",
      "        elif val > 1:\n",
      "            return '$%.1f \\pm %.1f$' % (val, err)\n",
      "        elif val > 0.1:\n",
      "            return '$%.1f \\pm %.1f$' % (val, err)\n",
      "        else:\n",
      "            raise Exception(val)\n",
      "    elif np.isnan(i):\n",
      "        return r'\\nodata'\n",
      "    else:\n",
      "        raise Exception(type(i))\n",
      "map(fix_tev_flux,x['F_TeV'])[:5]"
     ],
     "language": "python",
     "metadata": {},
     "outputs": [
      {
       "output_type": "pyout",
       "prompt_number": 82,
       "text": [
        "['\\\\nodata', '$80 \\\\pm 16$', '\\\\nodata', '\\\\nodata', '$79 \\\\pm 21$']"
       ]
      }
     ],
     "prompt_number": 82
    },
    {
     "cell_type": "code",
     "collapsed": false,
     "input": [
      "def fix_xray_flux(i):\n",
      "    if isinstance(i,Detection):\n",
      "        val, err = i.value, i.error\n",
      "        if val > 10:\n",
      "            return '$%d \\pm %d$' % (round(val), round(err))\n",
      "        elif val > 1:\n",
      "            return '$%.1f \\pm %.1f$' % (val, err)\n",
      "        elif val > 0.1:\n",
      "            return '$%.2f \\pm %.2f$' % (val, err)\n",
      "        elif val > 0.001:\n",
      "            return '$%.2f \\pm %.2f$' % (val, err)\n",
      "        else:\n",
      "            raise Exception(val)\n",
      "    elif np.isnan(i):\n",
      "        return r'\\nodata'\n",
      "    else:\n",
      "        raise Exception(type(i))\n",
      "map(fix_xray_flux,x['F_Xray'])[:5]"
     ],
     "language": "python",
     "metadata": {},
     "outputs": [
      {
       "output_type": "pyout",
       "prompt_number": 83,
       "text": [
        "['\\\\nodata', '$21000 \\\\pm 4200$', '\\\\nodata', '\\\\nodata', '$54 \\\\pm 11$']"
       ]
      }
     ],
     "prompt_number": 83
    },
    {
     "cell_type": "code",
     "collapsed": false,
     "input": [
      "x=x.rename(index={'HESSJ1708-443':r'HESSJ1708-443\\tablenotemark{a}'})"
     ],
     "language": "python",
     "metadata": {},
     "outputs": [],
     "prompt_number": 84
    },
    {
     "cell_type": "markdown",
     "metadata": {},
     "source": [
      "Fix the names"
     ]
    },
    {
     "cell_type": "code",
     "collapsed": false,
     "input": [
      "x.index = x.index.map(lambda x: x.replace('VERJ',r'VER\\,J').replace('MGROJ',r'MGRO\\,J').replace('HESSJ',r'HESS\\,J').replace('-',r'$-$'))"
     ],
     "language": "python",
     "metadata": {},
     "outputs": []
    },
    {
     "cell_type": "markdown",
     "metadata": {},
     "source": [
      "Now we have to make an astropy Table to pass into the ascii table generator"
     ]
    },
    {
     "cell_type": "code",
     "collapsed": false,
     "input": [
      "from astropy.table import Table\n",
      "src_str = r'Source'\n",
      "f_tev_str = r'$F_{1\\unitspace\\tev}^{30\\unitspace\\tev}$'\n",
      "f_xray_str = r'$F_{1\\unitspace\\kev}^{10\\unitspace\\kev}$'\n",
      "edot_str = r'$\\dot{E}$'\n",
      "age_str = r'$\\tau$'\n",
      "dist_str = r'Distance'\n",
      "psr_str = r'PSR'\n",
      "t = Table(\n",
      "    [x.index.values, \n",
      "     map(fix_tev_flux,x['F_TeV']), \n",
      "     map(fix_xray_flux,x['F_Xray']), \n",
      "     x['PSR'],  x['Edot'], \n",
      "     x['age'], \n",
      "     map(fix_dist,x['distance'])],\n",
      "    names=[src_str,f_tev_str,f_xray_str,psr_str,edot_str,age_str,dist_str,])"
     ],
     "language": "python",
     "metadata": {},
     "outputs": [],
     "prompt_number": 111
    },
    {
     "cell_type": "markdown",
     "metadata": {},
     "source": [
      "Now make the main table"
     ]
    },
    {
     "cell_type": "code",
     "collapsed": false,
     "input": [
      "from astropy.io import ascii"
     ],
     "language": "python",
     "metadata": {},
     "outputs": [],
     "prompt_number": 112
    },
    {
     "cell_type": "code",
     "collapsed": false,
     "input": [
      "from StringIO import StringIO\n",
      "from textwrap import dedent\n",
      "out = StringIO()\n",
      "\n",
      "\n",
      "ascii.write(t, out, Writer=ascii.AASTex,\n",
      "            formats={edot_str:'%.1e', \n",
      "                     age_str:'%g',\n",
      "                    },\n",
      "            latexdict=dict(\n",
      "                col_align='lcclccc',\n",
      "                tablefoot=dedent(r\"\"\"\n",
      "                    \\tablenotetext{a}{[INSERT MANUALLY]}\n",
      "                    \\tablecomments{[INSERT MANUALLY]}\n",
      "                    \"\"\"),\n",
      "                preamble=dedent(r\"\"\"\n",
      "                    \\tabletypesize{\\tiny}\n",
      "                    \\tablecolumns{%s}\n",
      "                    \\tablewidth{0pt}\n",
      "\n",
      "                    \\tablecaption{[INSERT MANUALLY]\n",
      "                    \\tablabel{pwn_multiwavelenth_properties}}\n",
      "                    \"\"\" % len(t.colnames)),\n",
      "                units={edot_str:'($\\erg\\unitspace\\second^{-1}$)',\n",
      "                       age_str:'(kyr)',\n",
      "                       f_tev_str:'($10^{-12}\\erg\\unitspace\\cm^{-2}\\second^{-1}$)',\n",
      "                       f_xray_str:'($10^{-12}\\erg\\unitspace\\cm^{-2}\\second^{-1}$)',\n",
      "                       dist_str:'(kpc)'}))\n",
      "out=out.getvalue().replace('nan',r'\\nodata')\n",
      "open('pwn_multiwavelenth_properties.tex','w').write(out)\n",
      "print out"
     ],
     "language": "python",
     "metadata": {},
     "outputs": [
      {
       "output_type": "stream",
       "stream": "stdout",
       "text": [
        "\\begin{deluxetable}{lcclccc}\n",
        "\n",
        "\\tabletypesize{\\tiny}\n",
        "\\tablecolumns{7}\n",
        "\\tablewidth{0pt}\n",
        "\n",
        "\\tablecaption{[INSERT MANUALLY]\n",
        "\\tablabel{pwn_multiwavelenth_properties}}\n",
        "\n",
        "\\tablehead{\\colhead{Source} & \\colhead{$F_{1\\unitspace\\tev}^{30\\unitspace\\tev}$} & \\colhead{$F_{1\\unitspace\\kev}^{10\\unitspace\\kev}$} & \\colhead{PSR} & \\colhead{$\\dot{E}$} & \\colhead{$\\tau$} & \\colhead{Distance}\\\\ \\colhead{ } & \\colhead{($10^{-12}\\erg\\unitspace\\cm^{-2}\\second^{-1}$)} & \\colhead{($10^{-12}\\erg\\unitspace\\cm^{-2}\\second^{-1}$)} & \\colhead{ } & \\colhead{($\\erg\\unitspace\\second^{-1}$)} & \\colhead{(kyr)} & \\colhead{(kpc)}}\n",
        "\\startdata\n",
        "VER\\,J0006+727 & \\nodata & \\nodata & PSRJ0007+7303 & 4.5e+35 & 13.9 & $1.4 \\pm 0.3$ \\\\\n",
        "Crab & $80 \\pm 16$ & $21000 \\pm 4200$ & PSR J0534+2200 & 4.6e+38 & 1.2 & $2.0 \\pm 0.5$ \\\\\n",
        "MGRO\\,J0631+105 & \\nodata & \\nodata & PSRJ0631+1036 & 1.7e+35 & 43.6 & $1.00 \\pm 0.20$ \\\\\n",
        "MGRO\\,J0632+17 & \\nodata & \\nodata & PSRJ0633+1746 & 3.2e+34 & 342 & $0.2_{-0.1}^{+0.2}$ \\\\\n",
        "Vela$-$X & $79 \\pm 21$ & $54 \\pm 11$ & PSRJ0835-4510 & 6.9e+36 & 11.3 & $0.29 \\pm 0.02$ \\\\\n",
        "HESS\\,J1018$-$589 & $0.9 \\pm 0.4$ & \\nodata & PSRJ1016-5857 & 2.6e+36 & 21 & 3 \\\\\n",
        "HESS\\,J1023$-$575 & $4.8 \\pm 1.7$ & \\nodata & PSRJ1023-5746 & 1.1e+37 & 4.6 & 2.8 \\\\\n",
        "HESS\\,J1026$-$582 & $5.9 \\pm 4.4$ & \\nodata & PSRJ1028-5819 & 8.4e+35 & 90 & $2.3 \\pm 0.3$ \\\\\n",
        "HESS\\,J1119$-$614 & $2.3 \\pm 1.2$ & \\nodata & PSRJ1119-6127 & 2.3e+36 & 1.6 & $8.4 \\pm 0.4$ \\\\\n",
        "HESS\\,J1303$-$631 & $27 \\pm 1$ & $0.16 \\pm 0.03$ & PSRJ1301-6305 & 1.7e+36 & 11 & $6.7_{-1.2}^{+1.1}$ \\\\\n",
        "HESS\\,J1356$-$645 & $6.7 \\pm 3.7$ & $0.06 \\pm 0.01$ & PSRJ1357-6429 & 3.1e+36 & 7.3 & $2.5_{-0.4}^{+0.5}$ \\\\\n",
        "HESS\\,J1418$-$609 & $3.4 \\pm 1.8$ & $3.1 \\pm 0.1$ & PSRJ1418-6058 & 4.9e+36 & 1 & $1.6 \\pm 0.7$ \\\\\n",
        "HESS\\,J1420$-$607 & $15 \\pm 3$ & $1.3 \\pm 0.3$ & PSRJ1420-6048 & 1.0e+37 & 13 & $5.6 \\pm 0.9$ \\\\\n",
        "HESS\\,J1458$-$608 & $3.9 \\pm 2.4$ & \\nodata & PSRJ1459-6053 & 9.1e+35 & 64.7 & 4 \\\\\n",
        "HESS\\,J1514$-$591 & $20 \\pm 4$ & $29 \\pm 6$ & PSRJ1513-5906 & 1.7e+37 & 1.56 & $4.2 \\pm 0.6$ \\\\\n",
        "HESS\\,J1554$-$550 & $1.6 \\pm 0.5$ & $3.1 \\pm 1.0$ & \\nodata & \\nodata & 18 & $7.8 \\pm 1.3$ \\\\\n",
        "HESS\\,J1616$-$508 & $21 \\pm 5$ & $4.2 \\pm 0.8$ & PSRJ1617-5055 & 1.6e+37 & 8.13 & $6.8 \\pm 0.7$ \\\\\n",
        "HESS\\,J1632$-$478 & $15 \\pm 5$ & $0.43 \\pm 0.08$ & \\nodata & 3.0e+36 & 20 & 3 \\\\\n",
        "HESS\\,J1640$-$465 & $5.5 \\pm 1.2$ & $0.46 \\pm 0.09$ & \\nodata & 4.0e+36 & \\nodata & \\nodata \\\\\n",
        "HESS\\,J1646$-$458B & $5.0 \\pm 2.0$ & \\nodata & PSRJ1648-4611 & 2.1e+35 & 110 & $5.0 \\pm 0.7$ \\\\\n",
        "HESS\\,J1702$-$420 & $9.0 \\pm 3.0$ & $0.01 \\pm 0.00$ & PSRJ1702-4128 & 3.4e+35 & 55 & $4.8 \\pm 0.6$ \\\\\n",
        "HESS\\,J1708$-$443\\tablenotemark{a} & $23 \\pm 7$ & \\nodata & PSRJ1709-4429 & 3.4e+36 & 17.5 & $2.3 \\pm 0.3$ \\\\\n",
        "HESS\\,J1718$-$385 & $4.3 \\pm 1.6$ & $0.14 \\pm 0.03$ & PSRJ1718-3825 & 1.3e+36 & 89.5 & $3.6 \\pm 0.4$ \\\\\n",
        "HESS\\,J1804$-$216 & $12 \\pm 2$ & $0.07 \\pm 0.01$ & PSRJ1803-2137 & 2.2e+36 & 16 & $3.8_{-0.5}^{+0.4}$ \\\\\n",
        "HESS\\,J1809$-$193 & $19 \\pm 6$ & $0.23 \\pm 0.05$ & PSRJ1809-1917 & 1.8e+36 & 51.3 & $3.5 \\pm 0.4$ \\\\\n",
        "HESS\\,J1813$-$178 & $5.0 \\pm 0.6$ & \\nodata & PSRJ1813-1749 & 6.8e+37 & 5.4 & 4.7 \\\\\n",
        "HESS\\,J1818$-$154 & $1.3 \\pm 0.9$ & \\nodata & PSRJ1818-1541 & 2.3e+33 & 9 & $7.8_{-1.4}^{+1.6}$ \\\\\n",
        "HESS\\,J1825$-$137 & $61 \\pm 14$ & $0.44 \\pm 0.09$ & PSRJ1826-1334 & 2.8e+36 & 21 & $3.9 \\pm 0.4$ \\\\\n",
        "HESS\\,J1831$-$098 & $5.1 \\pm 0.6$ & \\nodata & PSRJ1831-0952 & 1.1e+36 & 128 & $4.0 \\pm 0.4$ \\\\\n",
        "HESS\\,J1833$-$105 & $2.4 \\pm 1.2$ & $40 \\pm 0$ & PSRJ1833-1034 & 3.4e+37 & 4.85 & $4.7 \\pm 0.4$ \\\\\n",
        "HESS\\,J1837$-$069 & $23 \\pm 9$ & $0.64 \\pm 0.24$ & PSRJ1836-0655 & 5.5e+36 & 2.23 & $6.6 \\pm 0.9$ \\\\\n",
        "HESS\\,J1841$-$055 & $23 \\pm 3$ & \\nodata & PSRJ1838-0537 & 5.9e+36 & 4.97 & 1.3 \\\\\n",
        "HESS\\,J1846$-$029 & $9.0 \\pm 1.5$ & $29 \\pm 1$ & PSRJ1846-0258 & 8.1e+36 & 0.73 & 5.1 \\\\\n",
        "HESS\\,J1848$-$018 & $4.3 \\pm 1.0$ & \\nodata & \\nodata & \\nodata & \\nodata & 6 \\\\\n",
        "HESS\\,J1849$-$000 & $2.1 \\pm 0.4$ & $0.90 \\pm 0.20$ & PSRJ1849-001 & 9.8e+36 & 42.9 & 7 \\\\\n",
        "HESS\\,J1857+026 & $18 \\pm 3$ & \\nodata & PSRJ1856+0245 & 4.6e+36 & 20.6 & $9.0 \\pm 1.2$ \\\\\n",
        "MGRO\\,J1908+06 & $12 \\pm 5$ & \\nodata & PSRJ1907+0602 & 2.8e+36 & 19.5 & $3.2 \\pm 0.3$ \\\\\n",
        "HESS\\,J1912+101 & $7.3 \\pm 3.7$ & \\nodata & PSRJ1913+1011 & 2.9e+36 & 169 & $4.8_{-0.7}^{+0.5}$ \\\\\n",
        "VER\\,J1930+188 & $2.3 \\pm 1.3$ & $5.2 \\pm 0.1$ & PSRJ1930+1852 & 1.2e+37 & 2.89 & $9_{-2}^{+7}$ \\\\\n",
        "VER\\,J1959+208 & \\nodata & \\nodata & PSRJ1959+2048 & 1.6e+35 & \\nodata & $2.5 \\pm 1.0$ \\\\\n",
        "MGRO\\,J2019+37 & \\nodata & \\nodata & PSRJ2021+3651 & 3.4e+36 & 17.2 & $10_{-4}^{+2}$ \\\\\n",
        "MGRO\\,J2228+61 & \\nodata & $0.88 \\pm 0.02$ & PSRJ2229+6114 & 2.2e+37 & 10.5 & $0.80 \\pm 0.20$ \\\\\n",
        "\\enddata\n",
        "\n",
        "\\tablenotetext{a}{[INSERT MANUALLY]}\n",
        "\\tablecomments{[INSERT MANUALLY]}\n",
        "\n",
        "\\end{deluxetable}\n",
        "\n"
       ]
      }
     ],
     "prompt_number": 116
    },
    {
     "cell_type": "markdown",
     "metadata": {},
     "source": [
      "# TESTING"
     ]
    },
    {
     "cell_type": "code",
     "collapsed": false,
     "input": [],
     "language": "python",
     "metadata": {},
     "outputs": []
    }
   ],
   "metadata": {}
  }
 ]
}