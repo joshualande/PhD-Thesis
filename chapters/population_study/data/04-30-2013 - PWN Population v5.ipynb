{
 "metadata": {
  "name": "04-28-2013 - PWN Population v4"
 },
 "nbformat": 3,
 "nbformat_minor": 0,
 "worksheets": [
  {
   "cells": [
    {
     "cell_type": "markdown",
     "metadata": {},
     "source": [
      "# Load in multiwavelenth TeVCat data"
     ]
    },
    {
     "cell_type": "markdown",
     "metadata": {},
     "source": [
      "The multiwavelenth data from the paper is stored in a csv file:"
     ]
    },
    {
     "cell_type": "code",
     "collapsed": false,
     "input": [
      "from os.path import expandvars\n",
      "\n",
      "csvfile=expandvars(\"$thesis/chapters/population_study/data/tevcat_multiwavelenth_v3.csv\")\n",
      "\n",
      "print ''.join(open(csvfile).readlines()[:4])"
     ],
     "language": "python",
     "metadata": {},
     "outputs": [
      {
       "output_type": "stream",
       "stream": "stdout",
       "text": [
        "\\tablehead{ \\colhead{Source} & \\colhead{$\\dot{E}$} & \\colhead{age} & \\colhead{distance} & \\colhead{$\\text{G}_{10\\,\\text{GeV}}^{316\\,\\text{GeV}}$} & \\colhead{$\\text{G}_{1\\,\\text{TeV}}^{30\\,\\text{TeV}}$} & \\colhead{$\\text{G}_{1\\,\\text{keV}}^{10\\,\\text{keV}}$} & \\colhead{$\\text{L}_{10\\,\\text{GeV}}^{316\\,\\text{GeV}}$} & \\colhead{Lx} & \\colhead{Reference}}\n",
        "\\startdata\n",
        "VERJ0006+727 & 4.5000e+01 &1.3900e+01 &1.4000e+00_{-3.0000e-01}^{+3.0000e-01} &$<\\,6.89932 $ & - & - &$<\\,0.16180 $& - & \\\\\n",
        "Crab & 4.6000e+04 &1.2000e+00 &2.0000e+00_{-5.0000e-01}^{+5.0000e-01} &$485.66557 \\pm 187.55718$ &$80.00000 \\pm 16.49242$ &$21000.00000 \\pm 4200.00000$ &$ 23.24386 \\pm 14.68489 $ &$ 1.00506e+37^{+5.41239e+36}_{-5.41239e+36}$ & \\\\\n",
        "\n"
       ]
      }
     ],
     "prompt_number": 1
    },
    {
     "cell_type": "markdown",
     "metadata": {},
     "source": [
      "We can load in the latex table using astropy"
     ]
    },
    {
     "cell_type": "code",
     "collapsed": false,
     "input": [
      "from astropy.table import Table\n",
      "from astropy.io.ascii.latex import AASTex\n",
      "\n",
      "from astropy.io.ascii import read\n",
      "x=read(csvfile,  Reader=AASTex, guess=False)"
     ],
     "language": "python",
     "metadata": {},
     "outputs": [],
     "prompt_number": 2
    },
    {
     "cell_type": "markdown",
     "metadata": {},
     "source": [
      "Next, we can conver the (lame) astropy table to the (awesome) pandas table"
     ]
    },
    {
     "cell_type": "code",
     "collapsed": false,
     "input": [
      "from pandas import DataFrame\n",
      "\n",
      "df=DataFrame({i:x[i] for i in x.keys()}, columns=reversed(x.keys()))\n",
      "df=df.set_index('Source')"
     ],
     "language": "python",
     "metadata": {},
     "outputs": [],
     "prompt_number": 3
    },
    {
     "cell_type": "markdown",
     "metadata": {},
     "source": [
      "Here is the raw data"
     ]
    },
    {
     "cell_type": "code",
     "collapsed": false,
     "input": [
      "df.ix[:5]"
     ],
     "language": "python",
     "metadata": {},
     "outputs": [
      {
       "html": [
        "<div style=\"max-height:1000px;max-width:1500px;overflow:auto;\">\n",
        "<table border=\"1\" class=\"dataframe\">\n",
        "  <thead>\n",
        "    <tr style=\"text-align: right;\">\n",
        "      <th></th>\n",
        "      <th>Reference</th>\n",
        "      <th>Lx</th>\n",
        "      <th>$\\text{L}_{10\\,\\text{GeV}}^{316\\,\\text{GeV}}$</th>\n",
        "      <th>$\\text{G}_{1\\,\\text{keV}}^{10\\,\\text{keV}}$</th>\n",
        "      <th>$\\text{G}_{1\\,\\text{TeV}}^{30\\,\\text{TeV}}$</th>\n",
        "      <th>$\\text{G}_{10\\,\\text{GeV}}^{316\\,\\text{GeV}}$</th>\n",
        "      <th>distance</th>\n",
        "      <th>age</th>\n",
        "      <th>$\\dot{E}$</th>\n",
        "    </tr>\n",
        "    <tr>\n",
        "      <th>Source</th>\n",
        "      <th></th>\n",
        "      <th></th>\n",
        "      <th></th>\n",
        "      <th></th>\n",
        "      <th></th>\n",
        "      <th></th>\n",
        "      <th></th>\n",
        "      <th></th>\n",
        "      <th></th>\n",
        "    </tr>\n",
        "  </thead>\n",
        "  <tbody>\n",
        "    <tr>\n",
        "      <th>VERJ0006+727</th>\n",
        "      <td> </td>\n",
        "      <td>                                            -</td>\n",
        "      <td>             $&lt;\\,0.16180 $</td>\n",
        "      <td>                            -</td>\n",
        "      <td>                       -</td>\n",
        "      <td>             $&lt;\\,6.89932 $</td>\n",
        "      <td> 1.4000e+00_{-3.0000e-01}^{+3.0000e-01}</td>\n",
        "      <td> 1.3900e+01</td>\n",
        "      <td> 4.5000e+01</td>\n",
        "    </tr>\n",
        "    <tr>\n",
        "      <th>Crab</th>\n",
        "      <td> </td>\n",
        "      <td> $ 1.00506e+37^{+5.41239e+36}_{-5.41239e+36}$</td>\n",
        "      <td> $ 23.24386 \\pm 14.68489 $</td>\n",
        "      <td> $21000.00000 \\pm 4200.00000$</td>\n",
        "      <td> $80.00000 \\pm 16.49242$</td>\n",
        "      <td> $485.66557 \\pm 187.55718$</td>\n",
        "      <td> 2.0000e+00_{-5.0000e-01}^{+5.0000e-01}</td>\n",
        "      <td> 1.2000e+00</td>\n",
        "      <td> 4.6000e+04</td>\n",
        "    </tr>\n",
        "    <tr>\n",
        "      <th>MGROJ0631+105</th>\n",
        "      <td> </td>\n",
        "      <td>                                            -</td>\n",
        "      <td>             $&lt;\\,0.07127 $</td>\n",
        "      <td>                            -</td>\n",
        "      <td>                       -</td>\n",
        "      <td>             $&lt;\\,5.95656 $</td>\n",
        "      <td> 1.0000e+00_{-2.0000e-01}^{+2.0000e-01}</td>\n",
        "      <td> 4.3600e+01</td>\n",
        "      <td> 1.7000e+01</td>\n",
        "    </tr>\n",
        "    <tr>\n",
        "      <th>MGROJ0632+17</th>\n",
        "      <td> </td>\n",
        "      <td>                                            -</td>\n",
        "      <td>             $&lt;\\,0.01390 $</td>\n",
        "      <td>                            -</td>\n",
        "      <td>                       -</td>\n",
        "      <td>            $&lt;\\,29.05020 $</td>\n",
        "      <td> 2.0000e-01_{-1.0000e-01}^{+2.0000e-01}</td>\n",
        "      <td> 3.4200e+02</td>\n",
        "      <td> 3.2000e+00</td>\n",
        "    </tr>\n",
        "    <tr>\n",
        "      <th>Vela-X</th>\n",
        "      <td> </td>\n",
        "      <td> $ 5.80420e+32^{+2.06712e+32}_{-2.06712e+32}$</td>\n",
        "      <td>   $ 0.14447 \\pm 0.02269 $</td>\n",
        "      <td>            $53.90000 \\pm 11$</td>\n",
        "      <td> $79.00000 \\pm 21.21320$</td>\n",
        "      <td>  $134.16000 \\pm 11.14000$</td>\n",
        "      <td> 2.9000e-01_{-2.0000e-02}^{+2.0000e-02}</td>\n",
        "      <td> 1.1300e+01</td>\n",
        "      <td> 6.9000e+02</td>\n",
        "    </tr>\n",
        "  </tbody>\n",
        "</table>\n",
        "</div>"
       ],
       "output_type": "pyout",
       "prompt_number": 4,
       "text": [
        "              Reference                                            Lx  \\\n",
        "Source                                                                  \n",
        "VERJ0006+727                                                        -   \n",
        "Crab                     $ 1.00506e+37^{+5.41239e+36}_{-5.41239e+36}$   \n",
        "MGROJ0631+105                                                       -   \n",
        "MGROJ0632+17                                                        -   \n",
        "Vela-X                   $ 5.80420e+32^{+2.06712e+32}_{-2.06712e+32}$   \n",
        "\n",
        "              $\\text{L}_{10\\,\\text{GeV}}^{316\\,\\text{GeV}}$  \\\n",
        "Source                                                        \n",
        "VERJ0006+727                                  $<\\,0.16180 $   \n",
        "Crab                              $ 23.24386 \\pm 14.68489 $   \n",
        "MGROJ0631+105                                 $<\\,0.07127 $   \n",
        "MGROJ0632+17                                  $<\\,0.01390 $   \n",
        "Vela-X                              $ 0.14447 \\pm 0.02269 $   \n",
        "\n",
        "              $\\text{G}_{1\\,\\text{keV}}^{10\\,\\text{keV}}$  \\\n",
        "Source                                                      \n",
        "VERJ0006+727                                            -   \n",
        "Crab                         $21000.00000 \\pm 4200.00000$   \n",
        "MGROJ0631+105                                           -   \n",
        "MGROJ0632+17                                            -   \n",
        "Vela-X                                  $53.90000 \\pm 11$   \n",
        "\n",
        "              $\\text{G}_{1\\,\\text{TeV}}^{30\\,\\text{TeV}}$  \\\n",
        "Source                                                      \n",
        "VERJ0006+727                                            -   \n",
        "Crab                              $80.00000 \\pm 16.49242$   \n",
        "MGROJ0631+105                                           -   \n",
        "MGROJ0632+17                                            -   \n",
        "Vela-X                            $79.00000 \\pm 21.21320$   \n",
        "\n",
        "              $\\text{G}_{10\\,\\text{GeV}}^{316\\,\\text{GeV}}$  \\\n",
        "Source                                                        \n",
        "VERJ0006+727                                  $<\\,6.89932 $   \n",
        "Crab                              $485.66557 \\pm 187.55718$   \n",
        "MGROJ0631+105                                 $<\\,5.95656 $   \n",
        "MGROJ0632+17                                 $<\\,29.05020 $   \n",
        "Vela-X                             $134.16000 \\pm 11.14000$   \n",
        "\n",
        "                                             distance         age   $\\dot{E}$  \n",
        "Source                                                                         \n",
        "VERJ0006+727   1.4000e+00_{-3.0000e-01}^{+3.0000e-01}  1.3900e+01  4.5000e+01  \n",
        "Crab           2.0000e+00_{-5.0000e-01}^{+5.0000e-01}  1.2000e+00  4.6000e+04  \n",
        "MGROJ0631+105  1.0000e+00_{-2.0000e-01}^{+2.0000e-01}  4.3600e+01  1.7000e+01  \n",
        "MGROJ0632+17   2.0000e-01_{-1.0000e-01}^{+2.0000e-01}  3.4200e+02  3.2000e+00  \n",
        "Vela-X         2.9000e-01_{-2.0000e-02}^{+2.0000e-02}  1.1300e+01  6.9000e+02  "
       ]
      }
     ],
     "prompt_number": 4
    },
    {
     "cell_type": "markdown",
     "metadata": {},
     "source": [
      "First, we have to add in '3C58'"
     ]
    },
    {
     "cell_type": "markdown",
     "metadata": {},
     "source": [
      "From previous notebook:\n",
      "\n",
      "* F_GeV = 1.3496858779828874e-11 +/- 8.8566527849001708e-12 erg/cm^2/s (10 to 316 GeV)\n",
      "* F_Xray = 5.499303801762257e-12 erg/cm^2/s (2 to 10 keV)\n",
      "* F_TeV < 1.8586553078233693e-11 erg/cm^2/s (http://arxiv.org/abs/0709.3975) (1 to 30 TeV)\n",
      "* Edot = 2.6437701773402044e+37 erg/s\n",
      "* age = 5476.2713765444896 years\n",
      "* distance = 1.95 kpc\n",
      "* L_Xray = 1.283078649022639e+33 erg/s\n",
      "* L_GeV = 3.149040670152239e+33 +/- 2.0664037666860248e+33 erg/s\n",
      "\n"
     ]
    },
    {
     "cell_type": "code",
     "collapsed": false,
     "input": [
      "j0205 = df[:1].copy()\n",
      "j0205.rename(index={'VERJ0006+727':r'3C\\,58'}, inplace=True)\n",
      "\n",
      "j0205['Lx'] = \"1.283078649022639e+33\" # erg/s\n",
      "j0205[r'$\\text{L}_{10\\,\\text{GeV}}^{316\\,\\text{GeV}}$'] = \"0.314904067 +/- 0.2066403767\" # *1e34 erg/s\n",
      "j0205[r'$\\text{G}_{1\\,\\text{keV}}^{10\\,\\text{keV}}$'] = \"5.4993038018\" # e-12 erg/cm^2/s\n",
      "j0205[r'$\\text{G}_{10\\,\\text{GeV}}^{316\\,\\text{GeV}}$'] = \"13.49685878 +/- 8.8566527849\" # e-12 erg/cm^2/s\n",
      "j0205[r'$\\text{G}_{1\\,\\text{TeV}}^{30\\,\\text{TeV}}$'] = \"<18.586553078\" # e-12 erg/cm^2/s\n",
      "j0205['distance'] = \"1.95\" # kpc\n",
      "j0205['age'] = \"5.4762713765444896\"  # *1e3 years\n",
      "j0205['$\\dot{E}$'] = \"2643.7701773\" # *1e34 erg/s\n",
      "\n",
      "j0205"
     ],
     "language": "python",
     "metadata": {},
     "outputs": [
      {
       "output_type": "stream",
       "stream": "stdout",
       "text": [
        "\u001b[0;33mWARNING\u001b[0m: FutureWarning: rename with inplace=True  will return None from pandas 0.11 onward [pandas.core.frame]\n"
       ]
      },
      {
       "html": [
        "<div style=\"max-height:1000px;max-width:1500px;overflow:auto;\">\n",
        "<table border=\"1\" class=\"dataframe\">\n",
        "  <thead>\n",
        "    <tr style=\"text-align: right;\">\n",
        "      <th></th>\n",
        "      <th>Reference</th>\n",
        "      <th>Lx</th>\n",
        "      <th>$\\text{L}_{10\\,\\text{GeV}}^{316\\,\\text{GeV}}$</th>\n",
        "      <th>$\\text{G}_{1\\,\\text{keV}}^{10\\,\\text{keV}}$</th>\n",
        "      <th>$\\text{G}_{1\\,\\text{TeV}}^{30\\,\\text{TeV}}$</th>\n",
        "      <th>$\\text{G}_{10\\,\\text{GeV}}^{316\\,\\text{GeV}}$</th>\n",
        "      <th>distance</th>\n",
        "      <th>age</th>\n",
        "      <th>$\\dot{E}$</th>\n",
        "    </tr>\n",
        "  </thead>\n",
        "  <tbody>\n",
        "    <tr>\n",
        "      <th>3C\\,58</th>\n",
        "      <td> </td>\n",
        "      <td> 1.283078649022639e+33</td>\n",
        "      <td> 0.314904067 +/- 0.2066403767</td>\n",
        "      <td> 5.4993038018</td>\n",
        "      <td> &lt;18.586553078</td>\n",
        "      <td> 13.49685878 +/- 8.8566527849</td>\n",
        "      <td> 1.95</td>\n",
        "      <td> 5.4762713765444896</td>\n",
        "      <td> 2643.7701773</td>\n",
        "    </tr>\n",
        "  </tbody>\n",
        "</table>\n",
        "</div>"
       ],
       "output_type": "pyout",
       "prompt_number": 5,
       "text": [
        "       Reference                     Lx  \\\n",
        "3C\\,58            1.283078649022639e+33   \n",
        "\n",
        "       $\\text{L}_{10\\,\\text{GeV}}^{316\\,\\text{GeV}}$  \\\n",
        "3C\\,58                  0.314904067 +/- 0.2066403767   \n",
        "\n",
        "       $\\text{G}_{1\\,\\text{keV}}^{10\\,\\text{keV}}$  \\\n",
        "3C\\,58                                5.4993038018   \n",
        "\n",
        "       $\\text{G}_{1\\,\\text{TeV}}^{30\\,\\text{TeV}}$  \\\n",
        "3C\\,58                               <18.586553078   \n",
        "\n",
        "       $\\text{G}_{10\\,\\text{GeV}}^{316\\,\\text{GeV}}$ distance                 age  \\\n",
        "3C\\,58                  13.49685878 +/- 8.8566527849     1.95  5.4762713765444896   \n",
        "\n",
        "           $\\dot{E}$  \n",
        "3C\\,58  2643.7701773  "
       ]
      }
     ],
     "prompt_number": 5
    },
    {
     "cell_type": "code",
     "collapsed": false,
     "input": [
      "from pandas import concat\n",
      "\n",
      "df=concat([df[:1], j0205, df[1:]])"
     ],
     "language": "python",
     "metadata": {},
     "outputs": [],
     "prompt_number": 6
    },
    {
     "cell_type": "markdown",
     "metadata": {},
     "source": [
      "Note that 3c58 is now in the table."
     ]
    },
    {
     "cell_type": "code",
     "collapsed": false,
     "input": [
      "df.ix[:5]"
     ],
     "language": "python",
     "metadata": {},
     "outputs": [
      {
       "html": [
        "<div style=\"max-height:1000px;max-width:1500px;overflow:auto;\">\n",
        "<table border=\"1\" class=\"dataframe\">\n",
        "  <thead>\n",
        "    <tr style=\"text-align: right;\">\n",
        "      <th></th>\n",
        "      <th>Reference</th>\n",
        "      <th>Lx</th>\n",
        "      <th>$\\text{L}_{10\\,\\text{GeV}}^{316\\,\\text{GeV}}$</th>\n",
        "      <th>$\\text{G}_{1\\,\\text{keV}}^{10\\,\\text{keV}}$</th>\n",
        "      <th>$\\text{G}_{1\\,\\text{TeV}}^{30\\,\\text{TeV}}$</th>\n",
        "      <th>$\\text{G}_{10\\,\\text{GeV}}^{316\\,\\text{GeV}}$</th>\n",
        "      <th>distance</th>\n",
        "      <th>age</th>\n",
        "      <th>$\\dot{E}$</th>\n",
        "    </tr>\n",
        "  </thead>\n",
        "  <tbody>\n",
        "    <tr>\n",
        "      <th>VERJ0006+727</th>\n",
        "      <td> </td>\n",
        "      <td>                                            -</td>\n",
        "      <td>                $&lt;\\,0.16180 $</td>\n",
        "      <td>                            -</td>\n",
        "      <td>                       -</td>\n",
        "      <td>                $&lt;\\,6.89932 $</td>\n",
        "      <td> 1.4000e+00_{-3.0000e-01}^{+3.0000e-01}</td>\n",
        "      <td>         1.3900e+01</td>\n",
        "      <td>   4.5000e+01</td>\n",
        "    </tr>\n",
        "    <tr>\n",
        "      <th>3C\\,58</th>\n",
        "      <td> </td>\n",
        "      <td>                        1.283078649022639e+33</td>\n",
        "      <td> 0.314904067 +/- 0.2066403767</td>\n",
        "      <td>                 5.4993038018</td>\n",
        "      <td>           &lt;18.586553078</td>\n",
        "      <td> 13.49685878 +/- 8.8566527849</td>\n",
        "      <td>                                   1.95</td>\n",
        "      <td> 5.4762713765444896</td>\n",
        "      <td> 2643.7701773</td>\n",
        "    </tr>\n",
        "    <tr>\n",
        "      <th>Crab</th>\n",
        "      <td> </td>\n",
        "      <td> $ 1.00506e+37^{+5.41239e+36}_{-5.41239e+36}$</td>\n",
        "      <td>    $ 23.24386 \\pm 14.68489 $</td>\n",
        "      <td> $21000.00000 \\pm 4200.00000$</td>\n",
        "      <td> $80.00000 \\pm 16.49242$</td>\n",
        "      <td>    $485.66557 \\pm 187.55718$</td>\n",
        "      <td> 2.0000e+00_{-5.0000e-01}^{+5.0000e-01}</td>\n",
        "      <td>         1.2000e+00</td>\n",
        "      <td>   4.6000e+04</td>\n",
        "    </tr>\n",
        "    <tr>\n",
        "      <th>MGROJ0631+105</th>\n",
        "      <td> </td>\n",
        "      <td>                                            -</td>\n",
        "      <td>                $&lt;\\,0.07127 $</td>\n",
        "      <td>                            -</td>\n",
        "      <td>                       -</td>\n",
        "      <td>                $&lt;\\,5.95656 $</td>\n",
        "      <td> 1.0000e+00_{-2.0000e-01}^{+2.0000e-01}</td>\n",
        "      <td>         4.3600e+01</td>\n",
        "      <td>   1.7000e+01</td>\n",
        "    </tr>\n",
        "    <tr>\n",
        "      <th>MGROJ0632+17</th>\n",
        "      <td> </td>\n",
        "      <td>                                            -</td>\n",
        "      <td>                $&lt;\\,0.01390 $</td>\n",
        "      <td>                            -</td>\n",
        "      <td>                       -</td>\n",
        "      <td>               $&lt;\\,29.05020 $</td>\n",
        "      <td> 2.0000e-01_{-1.0000e-01}^{+2.0000e-01}</td>\n",
        "      <td>         3.4200e+02</td>\n",
        "      <td>   3.2000e+00</td>\n",
        "    </tr>\n",
        "  </tbody>\n",
        "</table>\n",
        "</div>"
       ],
       "output_type": "pyout",
       "prompt_number": 7,
       "text": [
        "              Reference                                            Lx  \\\n",
        "VERJ0006+727                                                        -   \n",
        "3C\\,58                                          1.283078649022639e+33   \n",
        "Crab                     $ 1.00506e+37^{+5.41239e+36}_{-5.41239e+36}$   \n",
        "MGROJ0631+105                                                       -   \n",
        "MGROJ0632+17                                                        -   \n",
        "\n",
        "              $\\text{L}_{10\\,\\text{GeV}}^{316\\,\\text{GeV}}$  \\\n",
        "VERJ0006+727                                  $<\\,0.16180 $   \n",
        "3C\\,58                         0.314904067 +/- 0.2066403767   \n",
        "Crab                              $ 23.24386 \\pm 14.68489 $   \n",
        "MGROJ0631+105                                 $<\\,0.07127 $   \n",
        "MGROJ0632+17                                  $<\\,0.01390 $   \n",
        "\n",
        "              $\\text{G}_{1\\,\\text{keV}}^{10\\,\\text{keV}}$  \\\n",
        "VERJ0006+727                                            -   \n",
        "3C\\,58                                       5.4993038018   \n",
        "Crab                         $21000.00000 \\pm 4200.00000$   \n",
        "MGROJ0631+105                                           -   \n",
        "MGROJ0632+17                                            -   \n",
        "\n",
        "              $\\text{G}_{1\\,\\text{TeV}}^{30\\,\\text{TeV}}$  \\\n",
        "VERJ0006+727                                            -   \n",
        "3C\\,58                                      <18.586553078   \n",
        "Crab                              $80.00000 \\pm 16.49242$   \n",
        "MGROJ0631+105                                           -   \n",
        "MGROJ0632+17                                            -   \n",
        "\n",
        "              $\\text{G}_{10\\,\\text{GeV}}^{316\\,\\text{GeV}}$  \\\n",
        "VERJ0006+727                                  $<\\,6.89932 $   \n",
        "3C\\,58                         13.49685878 +/- 8.8566527849   \n",
        "Crab                              $485.66557 \\pm 187.55718$   \n",
        "MGROJ0631+105                                 $<\\,5.95656 $   \n",
        "MGROJ0632+17                                 $<\\,29.05020 $   \n",
        "\n",
        "                                             distance                 age  \\\n",
        "VERJ0006+727   1.4000e+00_{-3.0000e-01}^{+3.0000e-01}          1.3900e+01   \n",
        "3C\\,58                                           1.95  5.4762713765444896   \n",
        "Crab           2.0000e+00_{-5.0000e-01}^{+5.0000e-01}          1.2000e+00   \n",
        "MGROJ0631+105  1.0000e+00_{-2.0000e-01}^{+2.0000e-01}          4.3600e+01   \n",
        "MGROJ0632+17   2.0000e-01_{-1.0000e-01}^{+2.0000e-01}          3.4200e+02   \n",
        "\n",
        "                  $\\dot{E}$  \n",
        "VERJ0006+727     4.5000e+01  \n",
        "3C\\,58         2643.7701773  \n",
        "Crab             4.6000e+04  \n",
        "MGROJ0631+105    1.7000e+01  \n",
        "MGROJ0632+17     3.2000e+00  "
       ]
      }
     ],
     "prompt_number": 7
    },
    {
     "cell_type": "markdown",
     "metadata": {},
     "source": [
      "Now, lets clean the data up"
     ]
    },
    {
     "cell_type": "code",
     "collapsed": false,
     "input": [
      "df=df.rename(columns={\n",
      "    r'$\\text{G}_{1\\,\\text{keV}}^{10\\,\\text{keV}}$':'F_Xray', \n",
      "    'Lx':'L_Xray',\n",
      "    r'$\\text{G}_{1\\,\\text{TeV}}^{30\\,\\text{TeV}}$':'F_TeV',\n",
      "    r'$\\text{G}_{10\\,\\text{GeV}}^{316\\,\\text{GeV}}$':'F_GeV',\n",
      "    r'$\\dot{E}$':'Edot',\n",
      "    r'$\\text{L}_{10\\,\\text{GeV}}^{316\\,\\text{GeV}}$':'L_GeV'})"
     ],
     "language": "python",
     "metadata": {},
     "outputs": [],
     "prompt_number": 8
    },
    {
     "cell_type": "code",
     "collapsed": false,
     "input": [
      "# First, replace \\nodata with missing data\n",
      "import numpy as np\n",
      "df = df.applymap(lambda x: np.nan if x=='-' else x)\n",
      "\n",
      "# Next, convert nubmers to DataPoints:\n",
      "df['Edot'] = df['Edot'].astype(float)\n",
      "df['age'] = df['age'].astype(float)\n",
      "# Not sure what to do with assymetric errors in Distance, yet..."
     ],
     "language": "python",
     "metadata": {},
     "outputs": [],
     "prompt_number": 9
    },
    {
     "cell_type": "markdown",
     "metadata": {},
     "source": [
      "Next, convert numbers w/ errors and limits"
     ]
    },
    {
     "cell_type": "code",
     "collapsed": false,
     "input": [
      "from lande.datapoints import DataPoint"
     ],
     "language": "python",
     "metadata": {},
     "outputs": [],
     "prompt_number": 10
    },
    {
     "cell_type": "code",
     "collapsed": false,
     "input": [
      "for i in ['F_GeV','F_TeV','F_Xray','L_GeV','L_Xray','distance']:\n",
      "    df[i] = df[i].map(lambda x: DataPoint.from_string(x), na_action='ignore')"
     ],
     "language": "python",
     "metadata": {},
     "outputs": [],
     "prompt_number": 11
    },
    {
     "cell_type": "markdown",
     "metadata": {},
     "source": [
      "Since HESSJ1708-443 is classified as 'PSR', lets represent the emission as PWN:"
     ]
    },
    {
     "cell_type": "code",
     "collapsed": false,
     "input": [
      "df['L_GeV']['HESSJ1708-443'],df['F_GeV']['HESSJ1708-443']"
     ],
     "language": "python",
     "metadata": {},
     "outputs": [
      {
       "output_type": "pyout",
       "prompt_number": 12,
       "text": [
        "(1.80099 +/- 0.94926, 28.45405 +/- 13.03169)"
       ]
      }
     ],
     "prompt_number": 12
    },
    {
     "cell_type": "code",
     "collapsed": false,
     "input": [
      "from lande.datapoints import UpperLimit\n",
      "for val in ['L_GeV','F_GeV']:\n",
      "    detection = df[val]['HESSJ1708-443']\n",
      "    df[val]['HESSJ1708-443'] = UpperLimit(detection.value + detection.error)"
     ],
     "language": "python",
     "metadata": {},
     "outputs": [],
     "prompt_number": 13
    },
    {
     "cell_type": "markdown",
     "metadata": {},
     "source": [
      "Now it is an upper limit"
     ]
    },
    {
     "cell_type": "code",
     "collapsed": false,
     "input": [
      "df['L_GeV']['HESSJ1708-443'],df['F_GeV']['HESSJ1708-443'],"
     ],
     "language": "python",
     "metadata": {},
     "outputs": [
      {
       "output_type": "pyout",
       "prompt_number": 14,
       "text": [
        "(<2.75025, <41.48574)"
       ]
      }
     ],
     "prompt_number": 14
    },
    {
     "cell_type": "markdown",
     "metadata": {},
     "source": [
      "Next we have to scale luminosity and Edot"
     ]
    },
    {
     "cell_type": "code",
     "collapsed": false,
     "input": [
      "df['L_GeV']*=10.**34\n",
      "df['Edot']*=10.**34\n",
      "df['age']*=1e3"
     ],
     "language": "python",
     "metadata": {},
     "outputs": [],
     "prompt_number": 15
    },
    {
     "cell_type": "markdown",
     "metadata": {},
     "source": [
      "And define a column for significance"
     ]
    },
    {
     "cell_type": "code",
     "collapsed": false,
     "input": [
      "df['GeV_significant'] = df['F_GeV'].map(lambda x: x.significant())"
     ],
     "language": "python",
     "metadata": {},
     "outputs": [],
     "prompt_number": 16
    },
    {
     "cell_type": "markdown",
     "metadata": {},
     "source": [
      "Now, the final data is in the right format"
     ]
    },
    {
     "cell_type": "code",
     "collapsed": false,
     "input": [
      "type(df['F_Xray']['Crab'])"
     ],
     "language": "python",
     "metadata": {},
     "outputs": [
      {
       "output_type": "pyout",
       "prompt_number": 17,
       "text": [
        "lande.datapoints.Detection"
       ]
      }
     ],
     "prompt_number": 17
    },
    {
     "cell_type": "markdown",
     "metadata": {},
     "source": [
      "Add computed the ohter things we need to plot"
     ]
    },
    {
     "cell_type": "code",
     "collapsed": false,
     "input": [
      "df['L_GeV/TeV'] = df['F_GeV']/df['F_TeV']\n",
      "df['L_GeV/Xray'] = df['F_GeV']/df['F_Xray']"
     ],
     "language": "python",
     "metadata": {},
     "outputs": [
      {
       "ename": "TypeError",
       "evalue": "'NotImplementedType' object is not callable",
       "output_type": "pyerr",
       "traceback": [
        "\u001b[1;31m---------------------------------------------------------------------------\u001b[0m\n\u001b[1;31mTypeError\u001b[0m                                 Traceback (most recent call last)",
        "\u001b[1;32m<ipython-input-18-eb21eaa10970>\u001b[0m in \u001b[0;36m<module>\u001b[1;34m()\u001b[0m\n\u001b[1;32m----> 1\u001b[1;33m \u001b[0mdf\u001b[0m\u001b[1;33m[\u001b[0m\u001b[1;34m'L_GeV/TeV'\u001b[0m\u001b[1;33m]\u001b[0m \u001b[1;33m=\u001b[0m \u001b[0mdf\u001b[0m\u001b[1;33m[\u001b[0m\u001b[1;34m'F_GeV'\u001b[0m\u001b[1;33m]\u001b[0m\u001b[1;33m/\u001b[0m\u001b[0mdf\u001b[0m\u001b[1;33m[\u001b[0m\u001b[1;34m'F_TeV'\u001b[0m\u001b[1;33m]\u001b[0m\u001b[1;33m\u001b[0m\u001b[0m\n\u001b[0m\u001b[0;32m      2\u001b[0m \u001b[0mdf\u001b[0m\u001b[1;33m[\u001b[0m\u001b[1;34m'L_GeV/Xray'\u001b[0m\u001b[1;33m]\u001b[0m \u001b[1;33m=\u001b[0m \u001b[0mdf\u001b[0m\u001b[1;33m[\u001b[0m\u001b[1;34m'F_GeV'\u001b[0m\u001b[1;33m]\u001b[0m\u001b[1;33m/\u001b[0m\u001b[0mdf\u001b[0m\u001b[1;33m[\u001b[0m\u001b[1;34m'F_Xray'\u001b[0m\u001b[1;33m]\u001b[0m\u001b[1;33m\u001b[0m\u001b[0m\n",
        "\u001b[1;32m/u/gl/lande/lib/python2.7/site-packages/pandas-0.10.1-py2.7-linux-x86_64.egg/pandas/core/series.pyc\u001b[0m in \u001b[0;36mwrapper\u001b[1;34m(self, other)\u001b[0m\n\u001b[0;32m     91\u001b[0m             \u001b[1;32mif\u001b[0m \u001b[0mself\u001b[0m\u001b[1;33m.\u001b[0m\u001b[0mindex\u001b[0m\u001b[1;33m.\u001b[0m\u001b[0mequals\u001b[0m\u001b[1;33m(\u001b[0m\u001b[0mother\u001b[0m\u001b[1;33m.\u001b[0m\u001b[0mindex\u001b[0m\u001b[1;33m)\u001b[0m\u001b[1;33m:\u001b[0m\u001b[1;33m\u001b[0m\u001b[0m\n\u001b[0;32m     92\u001b[0m                 \u001b[0mname\u001b[0m \u001b[1;33m=\u001b[0m \u001b[0m_maybe_match_name\u001b[0m\u001b[1;33m(\u001b[0m\u001b[0mself\u001b[0m\u001b[1;33m,\u001b[0m \u001b[0mother\u001b[0m\u001b[1;33m)\u001b[0m\u001b[1;33m\u001b[0m\u001b[0m\n\u001b[1;32m---> 93\u001b[1;33m                 return Series(wrap_results(na_op(lvalues, rvalues)),\n\u001b[0m\u001b[0;32m     94\u001b[0m                               index=self.index, name=name)\n\u001b[0;32m     95\u001b[0m \u001b[1;33m\u001b[0m\u001b[0m\n",
        "\u001b[1;32m/u/gl/lande/lib/python2.7/site-packages/pandas-0.10.1-py2.7-linux-x86_64.egg/pandas/core/series.pyc\u001b[0m in \u001b[0;36mna_op\u001b[1;34m(x, y)\u001b[0m\n\u001b[0;32m     63\u001b[0m             \u001b[1;32mif\u001b[0m \u001b[0misinstance\u001b[0m\u001b[1;33m(\u001b[0m\u001b[0my\u001b[0m\u001b[1;33m,\u001b[0m \u001b[0mnp\u001b[0m\u001b[1;33m.\u001b[0m\u001b[0mndarray\u001b[0m\u001b[1;33m)\u001b[0m\u001b[1;33m:\u001b[0m\u001b[1;33m\u001b[0m\u001b[0m\n\u001b[0;32m     64\u001b[0m                 \u001b[0mmask\u001b[0m \u001b[1;33m=\u001b[0m \u001b[0mnotnull\u001b[0m\u001b[1;33m(\u001b[0m\u001b[0mx\u001b[0m\u001b[1;33m)\u001b[0m \u001b[1;33m&\u001b[0m \u001b[0mnotnull\u001b[0m\u001b[1;33m(\u001b[0m\u001b[0my\u001b[0m\u001b[1;33m)\u001b[0m\u001b[1;33m\u001b[0m\u001b[0m\n\u001b[1;32m---> 65\u001b[1;33m                 \u001b[0mresult\u001b[0m\u001b[1;33m[\u001b[0m\u001b[0mmask\u001b[0m\u001b[1;33m]\u001b[0m \u001b[1;33m=\u001b[0m \u001b[0mop\u001b[0m\u001b[1;33m(\u001b[0m\u001b[0mx\u001b[0m\u001b[1;33m[\u001b[0m\u001b[0mmask\u001b[0m\u001b[1;33m]\u001b[0m\u001b[1;33m,\u001b[0m \u001b[0my\u001b[0m\u001b[1;33m[\u001b[0m\u001b[0mmask\u001b[0m\u001b[1;33m]\u001b[0m\u001b[1;33m)\u001b[0m\u001b[1;33m\u001b[0m\u001b[0m\n\u001b[0m\u001b[0;32m     66\u001b[0m             \u001b[1;32melse\u001b[0m\u001b[1;33m:\u001b[0m\u001b[1;33m\u001b[0m\u001b[0m\n\u001b[0;32m     67\u001b[0m                 \u001b[0mmask\u001b[0m \u001b[1;33m=\u001b[0m \u001b[0mnotnull\u001b[0m\u001b[1;33m(\u001b[0m\u001b[0mx\u001b[0m\u001b[1;33m)\u001b[0m\u001b[1;33m\u001b[0m\u001b[0m\n",
        "\u001b[1;32m/u/gl/lande/svn/lande/trunk/code/lande/datapoints/__init__.pyc\u001b[0m in \u001b[0;36m__div__\u001b[1;34m(self, other)\u001b[0m\n\u001b[0;32m    115\u001b[0m             \u001b[1;32mreturn\u001b[0m \u001b[0mDetection\u001b[0m\u001b[1;33m.\u001b[0m\u001b[0mfrom_uncertainty\u001b[0m\u001b[1;33m(\u001b[0m\u001b[0mself\u001b[0m\u001b[1;33m.\u001b[0m\u001b[0mto_uncertainty\u001b[0m\u001b[1;33m(\u001b[0m\u001b[1;33m)\u001b[0m\u001b[1;33m.\u001b[0m\u001b[0m__div__\u001b[0m\u001b[1;33m(\u001b[0m\u001b[0mother\u001b[0m\u001b[1;33m.\u001b[0m\u001b[0mto_uncertainty\u001b[0m\u001b[1;33m(\u001b[0m\u001b[1;33m)\u001b[0m\u001b[1;33m)\u001b[0m\u001b[1;33m)\u001b[0m\u001b[1;33m\u001b[0m\u001b[0m\n\u001b[0;32m    116\u001b[0m         \u001b[1;32melse\u001b[0m\u001b[1;33m:\u001b[0m\u001b[1;33m\u001b[0m\u001b[0m\n\u001b[1;32m--> 117\u001b[1;33m             \u001b[1;32mraise\u001b[0m \u001b[0mNotImplemented\u001b[0m\u001b[1;33m(\u001b[0m\u001b[1;33m)\u001b[0m\u001b[1;33m\u001b[0m\u001b[0m\n\u001b[0m\u001b[0;32m    118\u001b[0m \u001b[1;33m\u001b[0m\u001b[0m\n\u001b[0;32m    119\u001b[0m     \u001b[1;32mdef\u001b[0m \u001b[0m__mul__\u001b[0m\u001b[1;33m(\u001b[0m\u001b[0mself\u001b[0m\u001b[1;33m,\u001b[0m \u001b[0mother\u001b[0m\u001b[1;33m)\u001b[0m\u001b[1;33m:\u001b[0m\u001b[1;33m\u001b[0m\u001b[0m\n",
        "\u001b[1;31mTypeError\u001b[0m: 'NotImplementedType' object is not callable"
       ]
      },
      {
       "output_type": "stream",
       "stream": "stdout",
       "text": [
        "\u001b[0;31mERROR\u001b[0m: TypeError: 'NotImplementedType' object is not callable [lande.datapoints]\n"
       ]
      }
     ],
     "prompt_number": 18
    },
    {
     "cell_type": "markdown",
     "metadata": {},
     "source": [
      "# The final data frame"
     ]
    },
    {
     "cell_type": "code",
     "collapsed": false,
     "input": [
      "df.ix[:5]"
     ],
     "language": "python",
     "metadata": {},
     "outputs": []
    },
    {
     "cell_type": "code",
     "collapsed": false,
     "input": [
      "df.ix['HESSJ1708-443']"
     ],
     "language": "python",
     "metadata": {},
     "outputs": []
    },
    {
     "cell_type": "markdown",
     "metadata": {},
     "source": [
      "# Make plot of Luminosity vs Edot"
     ]
    },
    {
     "cell_type": "markdown",
     "metadata": {},
     "source": [
      "Before making any plots, lets tweak matplotlib"
     ]
    },
    {
     "cell_type": "code",
     "collapsed": false,
     "input": [
      "from lande.utilities.pubplot import set_latex_defaults\n",
      "set_latex_defaults()\n",
      "\n",
      "params = {'backend': 'ps',\n",
      "          'axes.labelsize': 14,\n",
      "          'text.fontsize': 14,\n",
      "          'xtick.labelsize': 12,\n",
      "          'ytick.labelsize': 12}\n",
      "pylab.rcParams.update(params)"
     ],
     "language": "python",
     "metadata": {},
     "outputs": []
    },
    {
     "cell_type": "markdown",
     "metadata": {},
     "source": [
      "Make a plot of Edot vs GeV Luminosity"
     ]
    },
    {
     "cell_type": "code",
     "collapsed": false,
     "input": [
      "# First, lets make a table of the quantities we want, with missing values dropped from the plot\n",
      "\n",
      "l=df[['Edot','L_GeV','GeV_significant']].dropna()\n",
      "Edot=l['Edot'].values\n",
      "luim=l['L_GeV'].values\n",
      "significant=l['GeV_significant'].values\n",
      "names = l.index.values\n",
      "\n",
      "fig=figure(None, (4,4))\n",
      "axes=fig.add_subplot(111)\n",
      "xlim(1e34,1e39)\n",
      "axes.set_xscale('log')\n",
      "axes.set_yscale('log')\n",
      "axes.set_ylabel(r'$L_\\mathrm{GeV}$')\n",
      "axes.set_xlabel('$\\dot E$')\n",
      "   \n",
      "\n",
      "def myplot(cut, **mykwargs):\n",
      "    kwargs=dict(marker='.', color='black', markersize=6)\n",
      "    kwargs.update(mykwargs)\n",
      "    from lande.datapoints import plot\n",
      "    plot(Edot[cut],luim[cut], axes=axes, log_clipping=True, **kwargs)\n",
      "\n",
      "myplot(cut=(significant==False), color='gray')\n",
      "myplot(cut=(significant==True), color='black')\n",
      "\n",
      "\n",
      "def myplot(factor, **mykwargs):\n",
      "    kwargs=dict(color='black')\n",
      "    kwargs.update(mykwargs)\n",
      "    axes.plot([10**34,10**39],[10**34/factor,10**39/factor], **kwargs)\n",
      "\n",
      "myplot(1, linestyle='-')\n",
      "myplot(10, linestyle='--')\n",
      "myplot(100, linestyle='-.')\n",
      "\n",
      "axes.set_xlim(10.**34,10.**39)\n",
      "axes.set_ylim(10.**32,10.**36)\n",
      "fig.tight_layout()\n",
      "savefig('pwn_luminosity_vs_edot.pdf')"
     ],
     "language": "python",
     "metadata": {},
     "outputs": []
    },
    {
     "cell_type": "markdown",
     "metadata": {},
     "source": [
      "# Plot GeV vs TeV luminosity ratio"
     ]
    },
    {
     "cell_type": "code",
     "collapsed": false,
     "input": [
      "\n",
      "from mpl_toolkits.axes_grid1 import Grid\n",
      "fig = plt.figure(None, (6., 6.))\n",
      "grid = Grid(fig, 111, # similar to subplot(111)\n",
      "            nrows_ncols = (2, 2), # creates 2x2 grid of axes\n",
      "            axes_pad=0.1, # pad between axes in inch.\n",
      "            share_all=False,\n",
      "           )\n",
      "\n",
      "for ax in grid:\n",
      "    ax.set_xscale('log')\n",
      "    ax.set_yscale('log')\n",
      "\n",
      "mykwargs = dict(marker='.',markersize=6, log_clipping=True)\n",
      "\n",
      "for i,_x in enumerate(['age','Edot']):\n",
      "    l=df[['F_GeV','F_TeV','L_GeV','L_GeV/TeV',_x,'GeV_significant']].dropna()\n",
      "    x=l[_x].values\n",
      "    ratio=l['L_GeV/TeV'].values\n",
      "    l_gev=l['L_GeV'].values\n",
      "    significant=l['GeV_significant'].values\n",
      "    names = l.index.values\n",
      "    from lande.datapoints import plot\n",
      "    plot(x[significant==False],l_gev[significant==False], axes=grid[0+i], color='gray', **mykwargs)\n",
      "    plot(x[significant==True],l_gev[significant==True], axes=grid[0+i], color='black', **mykwargs)\n",
      "\n",
      "    plot(x[significant==False],ratio[significant==False], axes=grid[2+i], color='gray', ul_fraction=0.3, **mykwargs)\n",
      "    plot(x[significant==True],ratio[significant==True], axes=grid[2+i], color='black', ul_fraction=0.3, **mykwargs)\n",
      "\n",
      "\n",
      "grid[0].set_ylabel(r'$L_\\mathrm{GeV}$ (erg s$^{-1})$')\n",
      "grid[2].set_ylabel(r'$L_\\mathrm{GeV}/L_\\mathrm{TeV}$')\n",
      "\n",
      "grid[2].set_xlabel('Age (yr)')\n",
      "grid[3].set_xlabel(r'$\\dot{E}$ (erg s$^{-1}$)')\n",
      "\n",
      "grid[0].set_xlim(0.5e3, 300e3)\n",
      "grid[1].set_xlim(1e35, 1e39)\n",
      "\n",
      "grid[0].set_ylim(1e33,1e36)\n",
      "grid[2].set_ylim(3e-1,1e2)\n",
      "\n",
      "grid[2].axhline(2.7, color='black', linestyle='--')\n",
      "grid[3].axhline(2.7, color='black', linestyle='--')\n",
      "\n",
      "fig.tight_layout()\n",
      "savefig('pwn_age_edot_vs_l_gev.pdf')"
     ],
     "language": "python",
     "metadata": {},
     "outputs": []
    },
    {
     "cell_type": "markdown",
     "metadata": {},
     "source": [
      "# Plot GeV vs X-ray luminosity ratio"
     ]
    },
    {
     "cell_type": "code",
     "collapsed": false,
     "input": [
      "\n",
      "from mpl_toolkits.axes_grid1 import Grid\n",
      "fig = plt.figure(None, (6., 6.))\n",
      "grid = Grid(fig, 111, # similar to subplot(111)\n",
      "            nrows_ncols = (2, 2), # creates 2x2 grid of axes\n",
      "            axes_pad=0.1, # pad between axes in inch.\n",
      "            share_all=False,\n",
      "           )\n",
      "\n",
      "for ax in grid:\n",
      "    ax.set_xscale('log')\n",
      "    ax.set_yscale('log')\n",
      "\n",
      "    for i,_x in enumerate(['age','Edot']):\n",
      "        l=df[['F_GeV','F_Xray','L_Xray','L_GeV/Xray',_x,'GeV_significant']].dropna()\n",
      "\n",
      "        x=l[_x].values\n",
      "        ratio=l['L_GeV/Xray'].values\n",
      "        l_xray=l['L_Xray'].values\n",
      "        significant=l['GeV_significant'].values\n",
      "        names = l.index.values\n",
      "\n",
      "        mykwargs = dict(marker='.',markersize=6, log_clipping=True)\n",
      "    \n",
      "        from lande.datapoints import plot\n",
      "        plot(x[significant==False],l_xray[significant==False], axes=grid[0+i], color='gray', **mykwargs)\n",
      "        plot(x[significant==True],l_xray[significant==True], axes=grid[0+i], color='black', **mykwargs)\n",
      "\n",
      "        plot(x[significant==False],ratio[significant==False], axes=grid[2+i], color='gray', ul_fraction=.6, **mykwargs)\n",
      "        plot(x[significant==True],ratio[significant==True], axes=grid[2+i], color='black', ul_fraction=.6, **mykwargs)\n",
      "\n",
      "grid[0].set_ylabel(r'$L_\\mathrm{X}$ (erg s$^{-1}$)')\n",
      "grid[2].set_ylabel(r'$L_\\mathrm{GeV}/L_\\mathrm{X}$')\n",
      "\n",
      "grid[2].set_xlabel('Age (yr)')\n",
      "grid[3].set_xlabel(r'$\\dot{E}$ (erg s$^{-1}$)')\n",
      "\n",
      "grid[0].set_xlim(0.5e3, 300e3)\n",
      "grid[1].set_xlim(1e35, 1e39)\n",
      "\n",
      "grid[0].set_ylim(1e31,2*1e37)\n",
      "grid[2].set_ylim(1e-2,1e4)\n",
      "fig.tight_layout()\n",
      "\n",
      "def fraction(Edot):\n",
      "        # This is Mattana et al 2009 eqn 3 scaled by average(R) from tevcat\n",
      "    return 2.7*10.**(0.47 - 1.87*np.log10(Edot/1e37))\n",
      "Edot = np.logspace(np.log10(grid[3].get_xlim()[0]),np.log10(grid[3].get_xlim()[1]),100)\n",
      "grid[3].plot(Edot,fraction(Edot),  color='black', linestyle='--')\n",
      "\n",
      "def fraction(age):\n",
      "    # This is Mattana et al 2009 eqn 5 scaled by average(R) from tevcat\n",
      "    return 2.7*10.**(0.7  + 2.21 *np.log10(age/1e4))\n",
      "age = np.logspace(np.log10(grid[2].get_xlim()[0]), np.log10(grid[2].get_xlim()[1]), 100)\n",
      "grid[2].plot(age, fraction(age), color='black', linestyle='--')\n",
      "    \n",
      "savefig('pwn_age_edot_vs_l_xray.pdf')"
     ],
     "language": "python",
     "metadata": {},
     "outputs": []
    },
    {
     "cell_type": "markdown",
     "metadata": {},
     "source": [
      "# SuperTable"
     ]
    },
    {
     "cell_type": "markdown",
     "metadata": {},
     "source": [
      "Finally, we want to make a table of pulsar properties:"
     ]
    },
    {
     "cell_type": "markdown",
     "metadata": {},
     "source": [
      "First, we add the PSR names to the data frame"
     ]
    },
    {
     "cell_type": "code",
     "collapsed": false,
     "input": [
      "x=df.copy()"
     ],
     "language": "python",
     "metadata": {},
     "outputs": []
    },
    {
     "cell_type": "code",
     "collapsed": false,
     "input": [
      "from pandas import read_csv\n",
      "temp = read_csv('pwn_psr_mapper.csv', sep='\\s*,\\s*')\n",
      "temp.ix[:5]"
     ],
     "language": "python",
     "metadata": {},
     "outputs": []
    },
    {
     "cell_type": "code",
     "collapsed": false,
     "input": [
      "temp=temp.set_index('Source')['PSR']"
     ],
     "language": "python",
     "metadata": {},
     "outputs": []
    },
    {
     "cell_type": "code",
     "collapsed": false,
     "input": [
      "type(temp)"
     ],
     "language": "python",
     "metadata": {},
     "outputs": []
    },
    {
     "cell_type": "code",
     "collapsed": false,
     "input": [
      "x['PSR'] = temp"
     ],
     "language": "python",
     "metadata": {},
     "outputs": []
    },
    {
     "cell_type": "code",
     "collapsed": false,
     "input": [
      "x['PSR']"
     ],
     "language": "python",
     "metadata": {},
     "outputs": []
    },
    {
     "cell_type": "markdown",
     "metadata": {},
     "source": [
      "Convert format"
     ]
    },
    {
     "cell_type": "code",
     "collapsed": false,
     "input": [
      "x['age']/=1e3"
     ],
     "language": "python",
     "metadata": {},
     "outputs": []
    },
    {
     "cell_type": "code",
     "collapsed": false,
     "input": [
      "from lande.datapoints import Detection\n",
      "def fix_dist(i):\n",
      "    if isinstance(i,DataPoint):\n",
      "        if i.lower == 0 and i.upper == 0:\n",
      "            return '%g' % i.value\n",
      "        elif i.lower == i.upper:\n",
      "            if i.value > 1:\n",
      "                return r'$%.1f \\pm %.1f$' % (i.value,i.lower)\n",
      "            elif i.value > .1:\n",
      "                return r'$%.02f \\pm %.02f$' % (i.value,i.lower)\n",
      "            else:\n",
      "                raise Exception()\n",
      "            \n",
      "        else:\n",
      "            return i._repr_html_()\n",
      "    elif np.isnan(i):\n",
      "        return r'\\nodata'\n",
      "    elif isinstance(i,float):\n",
      "        return '%g' % i\n",
      "    else:\n",
      "        raise Exception(type(i))\n",
      "map(fix_dist,x['distance'])[:5]"
     ],
     "language": "python",
     "metadata": {},
     "outputs": []
    },
    {
     "cell_type": "code",
     "collapsed": false,
     "input": [
      "def fix_tev_flux(i):\n",
      "    if isinstance(i,Detection):\n",
      "        val, err = i.value, i.error\n",
      "        if val > 10:\n",
      "            return '$%d \\pm %d$' % (round(val), round(err))\n",
      "        elif val > 1:\n",
      "            return '$%.1f \\pm %.1f$' % (val, err)\n",
      "        elif val > 0.1:\n",
      "            return '$%.1f \\pm %.1f$' % (val, err)\n",
      "        else:\n",
      "            raise Exception(val)\n",
      "    elif np.isnan(i):\n",
      "        return r'\\nodata'\n",
      "    else:\n",
      "        raise Exception(type(i),i)\n",
      "map(fix_tev_flux,x['F_TeV'])[:5]"
     ],
     "language": "python",
     "metadata": {},
     "outputs": []
    },
    {
     "cell_type": "code",
     "collapsed": false,
     "input": [
      "def fix_xray_flux(i):\n",
      "    if isinstance(i,Detection):\n",
      "        val, err = i.value, i.error\n",
      "        if val > 10:\n",
      "            return '$%d \\pm %d$' % (round(val), round(err))\n",
      "        elif val > 1:\n",
      "            return '$%.1f \\pm %.1f$' % (val, err)\n",
      "        elif val > 0.1:\n",
      "            return '$%.2f \\pm %.2f$' % (val, err)\n",
      "        elif val > 0.001:\n",
      "            return '$%.2f \\pm %.2f$' % (val, err)\n",
      "        else:\n",
      "            raise Exception(val)\n",
      "    elif np.isnan(i):\n",
      "        return r'\\nodata'\n",
      "    else:\n",
      "        raise Exception(type(i))\n",
      "map(fix_xray_flux,x['F_Xray'])[:5]"
     ],
     "language": "python",
     "metadata": {},
     "outputs": []
    },
    {
     "cell_type": "markdown",
     "metadata": {},
     "source": [
      "Fix the names"
     ]
    },
    {
     "cell_type": "code",
     "collapsed": false,
     "input": [
      "x.index = x.index.map(lambda x: x.replace('VERJ',r'VER\\,J').replace('MGROJ',r'MGRO\\,J').replace('HESSJ',r'HESS\\,J').replace('-',r'$-$'))"
     ],
     "language": "python",
     "metadata": {},
     "outputs": []
    },
    {
     "cell_type": "code",
     "collapsed": false,
     "input": [
      "x['PSR'] = x['PSR'].map(lambda x: x.replace('PSRJ',r'PSR\\,J').replace('-',r'$-$'))"
     ],
     "language": "python",
     "metadata": {},
     "outputs": []
    },
    {
     "cell_type": "markdown",
     "metadata": {},
     "source": [
      "Now we have to make an astropy Table to pass into the ascii table generator"
     ]
    },
    {
     "cell_type": "code",
     "collapsed": false,
     "input": [
      "from astropy.table import Table\n",
      "src_str = r'Source'\n",
      "f_tev_str = r'\\FluxPWNTeV'\n",
      "f_xray_str = r'\\FluxPWNKeV'\n",
      "edot_str = r'$\\dot{E}$'\n",
      "age_str = r'$\\tau$'\n",
      "dist_str = r'Distance'\n",
      "psr_str = r'PSR'\n",
      "t = Table(\n",
      "    [x.index.values, \n",
      "     map(fix_tev_flux,x['F_TeV']), \n",
      "     map(fix_xray_flux,x['F_Xray']), \n",
      "     x['PSR'],  x['Edot'], \n",
      "     x['age'], \n",
      "     map(fix_dist,x['distance'])],\n",
      "    names=[src_str,f_tev_str,f_xray_str,psr_str,edot_str,age_str,dist_str,])"
     ],
     "language": "python",
     "metadata": {},
     "outputs": []
    },
    {
     "cell_type": "markdown",
     "metadata": {},
     "source": [
      "Now make the main table"
     ]
    },
    {
     "cell_type": "code",
     "collapsed": false,
     "input": [
      "from astropy.io import ascii"
     ],
     "language": "python",
     "metadata": {},
     "outputs": []
    },
    {
     "cell_type": "code",
     "collapsed": false,
     "input": [
      "from StringIO import StringIO\n",
      "from textwrap import dedent\n",
      "out = StringIO()\n",
      "\n",
      "\n",
      "ascii.write(t, out, Writer=ascii.AASTex,\n",
      "            formats={edot_str:'%.1e', \n",
      "                     age_str:'%g',\n",
      "                    },\n",
      "            latexdict=dict(\n",
      "                col_align='lcclccc',\n",
      "                tablefoot=dedent(r\"\"\"\n",
      "                    \\tablecomments{[INSERT MANUALLY]}\n",
      "                    \"\"\"),\n",
      "                preamble=dedent(r\"\"\"\n",
      "                    \\tabletypesize{\\tiny}\n",
      "                    \\tablecolumns{%s}\n",
      "                    \\tablewidth{0pt}\n",
      "\n",
      "                    \\tablecaption{[INSERT MANUALLY]\n",
      "                    \\tablabel{pwn_multiwavelenth_properties}}\n",
      "                    \"\"\" % len(t.colnames)),\n",
      "                units={edot_str:'($\\erg\\unitspace\\second^{-1}$)',\n",
      "                       age_str:'(kyr)',\n",
      "                       f_tev_str:'($10^{-12}\\erg\\unitspace\\cm^{-2}\\second^{-1}$)',\n",
      "                       f_xray_str:'($10^{-12}\\erg\\unitspace\\cm^{-2}\\second^{-1}$)',\n",
      "                       dist_str:'(kpc)'}))\n",
      "out=out.getvalue().replace('nan',r'\\nodata')\n",
      "open('pwn_multiwavelenth_properties.tex','w').write(out)\n",
      "print out"
     ],
     "language": "python",
     "metadata": {},
     "outputs": []
    },
    {
     "cell_type": "markdown",
     "metadata": {},
     "source": [
      "# Data points"
     ]
    },
    {
     "cell_type": "code",
     "collapsed": false,
     "input": [
      "from lande.datapoints import *\n"
     ],
     "language": "python",
     "metadata": {},
     "outputs": [],
     "prompt_number": 1
    },
    {
     "cell_type": "code",
     "collapsed": false,
     "input": [
      "x = DataPoint.from_string('1.0+/-2')\n",
      "y = DataPoint.from_string('<10')"
     ],
     "language": "python",
     "metadata": {},
     "outputs": [],
     "prompt_number": 2
    },
    {
     "cell_type": "code",
     "collapsed": false,
     "input": [
      "x/y"
     ],
     "language": "python",
     "metadata": {},
     "outputs": [
      {
       "html": [
        "$>0.1$"
       ],
       "output_type": "pyout",
       "prompt_number": 3,
       "text": [
        ">0.1"
       ]
      }
     ],
     "prompt_number": 3
    },
    {
     "cell_type": "code",
     "collapsed": false,
     "input": [],
     "language": "python",
     "metadata": {},
     "outputs": []
    }
   ],
   "metadata": {}
  }
 ]
}