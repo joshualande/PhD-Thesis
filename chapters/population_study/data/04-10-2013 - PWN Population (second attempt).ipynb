{
 "metadata": {
  "name": "04-10-2013 - PWN Population (second attempt)"
 },
 "nbformat": 3,
 "nbformat_minor": 0,
 "worksheets": [
  {
   "cells": [
    {
     "cell_type": "markdown",
     "metadata": {},
     "source": [
      "# Load in multiwavelenth TeVCat data"
     ]
    },
    {
     "cell_type": "markdown",
     "metadata": {},
     "source": [
      "The multiwavelenth data from the paper is stored in a csv file:"
     ]
    },
    {
     "cell_type": "code",
     "collapsed": false,
     "input": [
      "from os.path import expandvars\n",
      "\n",
      "csvfile=expandvars(\"$thesis/chapters/population_study/data/tevcat_multiwavelenth_v2.csv\")\n",
      "\n",
      "print ''.join(open(csvfile).readlines()[:10])"
     ],
     "language": "python",
     "metadata": {},
     "outputs": [
      {
       "output_type": "stream",
       "stream": "stdout",
       "text": [
        "        Source &       Edot &     age &               Distance &                   F_GeV &                   F_TeV &                 F_Xray &                    L_GeV\n",
        "          Crab &   4.60e+38 &    1.20 &           2.0$\\pm 0.5$ &       $485.7 \\pm 187.6$ &         $80.0 \\pm 16.5$ & $21000.00 \\pm 4200.00$ &         $23.24\\pm 14.68$\n",
        " HESSJ1018-589 & 2.5680e+02 &   21.00 &                      3 &   $6.77458 \\pm 6.29718$ &   $0.90000 \\pm 0.40000$ &                \\nodata &   $ 0.68169 \\pm 0.98354$\n",
        " HESSJ1023-577 & 1.1000e+03 &    4.60 &                    2.8 & $26.68855 \\pm 11.84988$ &   $4.82411 \\pm 1.70053$ &                \\nodata &   $ 2.50353 \\pm 1.11158$\n",
        " HESSJ1026-582 & 8.4000e+01 &   90.00 &           2.3$\\pm 0.3$ &             $<9.37416 $ &   $3.73537 \\pm 2.18879$ &                \\nodata &               $<0.59333$\n",
        " HESSJ1119-614 & 2.3000e+02 &    1.60 &           8.4$\\pm 0.4$ &   $9.09525 \\pm 5.16586$ &   $2.31880 \\pm 1.15666$ &                \\nodata &   $ 7.67864 \\pm 4.42215$\n",
        " HESSJ1303-631 & 1.7000e+02 &   11.00 &    6.7$^{+1.1}_{-1.2}$ & $15.62663 \\pm 11.16170$ &  $26.70000 \\pm 1.00000$ &  $0.16000 \\pm 0.03000$ &   $ 8.26836 \\pm 6.61695$\n",
        " HESSJ1356-645 & 3.1000e+02 &    7.30 &    2.5$^{+0.4}_{-0.5}$ &  $16.36471 \\pm 9.60730$ &   $6.66231 \\pm 3.71138$ &  $0.06040 \\pm 0.01200$ &   $ 1.22377 \\pm 0.88622$\n",
        " HESSJ1418-609 & 4.9000e+02 &    1.03 &           1.6$\\pm 0.7$ &            $<24.71138 $ &   $3.41000 \\pm 1.82000$ &  $3.11000 \\pm 0.14700$ &               $<0.75692$\n",
        " HESSJ1420-607 & 1.0000e+03 &   13.00 &           5.6$\\pm 0.9$ &  $22.98043 \\pm 9.32910$ &  $14.50000 \\pm 3.30000$ &  $1.30000 \\pm 0.26000$ &   $ 8.62274 \\pm 4.48405$\n",
        "\n"
       ]
      }
     ],
     "prompt_number": 1
    },
    {
     "cell_type": "markdown",
     "metadata": {},
     "source": [
      "Note the file format ($<9.4$ for upper limits, \\pm for error bars)."
     ]
    },
    {
     "cell_type": "code",
     "collapsed": false,
     "input": [
      "# read data into pandas\n",
      "from pandas import read_csv\n",
      "df = read_csv(csvfile, index_col=0, delimiter='\\s+&\\s+', delim_whitespace=True)"
     ],
     "language": "python",
     "metadata": {},
     "outputs": [],
     "prompt_number": 2
    },
    {
     "cell_type": "markdown",
     "metadata": {},
     "source": [
      "Here is the raw data"
     ]
    },
    {
     "cell_type": "code",
     "collapsed": false,
     "input": [
      "df.ix[:5]"
     ],
     "language": "python",
     "metadata": {},
     "outputs": [
      {
       "html": [
        "<div style=\"max-height:1000px;max-width:1500px;overflow:auto;\">\n",
        "<table border=\"1\" class=\"dataframe\">\n",
        "  <thead>\n",
        "    <tr style=\"text-align: right;\">\n",
        "      <th></th>\n",
        "      <th>Edot</th>\n",
        "      <th>age</th>\n",
        "      <th>Distance</th>\n",
        "      <th>F_GeV</th>\n",
        "      <th>F_TeV</th>\n",
        "      <th>F_Xray</th>\n",
        "      <th>L_GeV</th>\n",
        "    </tr>\n",
        "    <tr>\n",
        "      <th>Source</th>\n",
        "      <th></th>\n",
        "      <th></th>\n",
        "      <th></th>\n",
        "      <th></th>\n",
        "      <th></th>\n",
        "      <th></th>\n",
        "      <th></th>\n",
        "    </tr>\n",
        "  </thead>\n",
        "  <tbody>\n",
        "    <tr>\n",
        "      <th>Crab</th>\n",
        "      <td>   4.60e+38</td>\n",
        "      <td>  1.20</td>\n",
        "      <td> 2.0$\\pm 0.5$</td>\n",
        "      <td>       $485.7 \\pm 187.6$</td>\n",
        "      <td>       $80.0 \\pm 16.5$</td>\n",
        "      <td> $21000.00 \\pm 4200.00$</td>\n",
        "      <td>       $23.24\\pm 14.68$</td>\n",
        "    </tr>\n",
        "    <tr>\n",
        "      <th>HESSJ1018-589</th>\n",
        "      <td> 2.5680e+02</td>\n",
        "      <td> 21.00</td>\n",
        "      <td>            3</td>\n",
        "      <td>   $6.77458 \\pm 6.29718$</td>\n",
        "      <td> $0.90000 \\pm 0.40000$</td>\n",
        "      <td>                \\nodata</td>\n",
        "      <td> $ 0.68169 \\pm 0.98354$</td>\n",
        "    </tr>\n",
        "    <tr>\n",
        "      <th>HESSJ1023-577</th>\n",
        "      <td> 1.1000e+03</td>\n",
        "      <td>  4.60</td>\n",
        "      <td>          2.8</td>\n",
        "      <td> $26.68855 \\pm 11.84988$</td>\n",
        "      <td> $4.82411 \\pm 1.70053$</td>\n",
        "      <td>                \\nodata</td>\n",
        "      <td> $ 2.50353 \\pm 1.11158$</td>\n",
        "    </tr>\n",
        "    <tr>\n",
        "      <th>HESSJ1026-582</th>\n",
        "      <td> 8.4000e+01</td>\n",
        "      <td> 90.00</td>\n",
        "      <td> 2.3$\\pm 0.3$</td>\n",
        "      <td>             $&lt;9.37416 $</td>\n",
        "      <td> $3.73537 \\pm 2.18879$</td>\n",
        "      <td>                \\nodata</td>\n",
        "      <td>             $&lt;0.59333$</td>\n",
        "    </tr>\n",
        "    <tr>\n",
        "      <th>HESSJ1119-614</th>\n",
        "      <td> 2.3000e+02</td>\n",
        "      <td>  1.60</td>\n",
        "      <td> 8.4$\\pm 0.4$</td>\n",
        "      <td>   $9.09525 \\pm 5.16586$</td>\n",
        "      <td> $2.31880 \\pm 1.15666$</td>\n",
        "      <td>                \\nodata</td>\n",
        "      <td> $ 7.67864 \\pm 4.42215$</td>\n",
        "    </tr>\n",
        "  </tbody>\n",
        "</table>\n",
        "</div>"
       ],
       "output_type": "pyout",
       "prompt_number": 3,
       "text": [
        "                     Edot    age      Distance                    F_GeV  \\\n",
        "Source                                                                    \n",
        "Crab             4.60e+38   1.20  2.0$\\pm 0.5$        $485.7 \\pm 187.6$   \n",
        "HESSJ1018-589  2.5680e+02  21.00             3    $6.77458 \\pm 6.29718$   \n",
        "HESSJ1023-577  1.1000e+03   4.60           2.8  $26.68855 \\pm 11.84988$   \n",
        "HESSJ1026-582  8.4000e+01  90.00  2.3$\\pm 0.3$              $<9.37416 $   \n",
        "HESSJ1119-614  2.3000e+02   1.60  8.4$\\pm 0.4$    $9.09525 \\pm 5.16586$   \n",
        "\n",
        "                               F_TeV                  F_Xray  \\\n",
        "Source                                                         \n",
        "Crab                 $80.0 \\pm 16.5$  $21000.00 \\pm 4200.00$   \n",
        "HESSJ1018-589  $0.90000 \\pm 0.40000$                 \\nodata   \n",
        "HESSJ1023-577  $4.82411 \\pm 1.70053$                 \\nodata   \n",
        "HESSJ1026-582  $3.73537 \\pm 2.18879$                 \\nodata   \n",
        "HESSJ1119-614  $2.31880 \\pm 1.15666$                 \\nodata   \n",
        "\n",
        "                                L_GeV  \n",
        "Source                                 \n",
        "Crab                 $23.24\\pm 14.68$  \n",
        "HESSJ1018-589  $ 0.68169 \\pm 0.98354$  \n",
        "HESSJ1023-577  $ 2.50353 \\pm 1.11158$  \n",
        "HESSJ1026-582              $<0.59333$  \n",
        "HESSJ1119-614  $ 7.67864 \\pm 4.42215$  "
       ]
      }
     ],
     "prompt_number": 3
    },
    {
     "cell_type": "markdown",
     "metadata": {},
     "source": [
      "Now, lets clean the data up"
     ]
    },
    {
     "cell_type": "code",
     "collapsed": false,
     "input": [
      "# First, replace \\nodata with missing data\n",
      "import numpy as np\n",
      "df = df.applymap(lambda x: x if x.strip() != r'\\nodata' else np.nan)\n",
      "\n",
      "# Next, convert nubmers to DataPoints:\n",
      "df['Edot'] = df['Edot'].astype(float)\n",
      "df['age'] = df['age'].astype(float)\n",
      "# Not sure what to do with assymetric errors in Distance, yet..."
     ],
     "language": "python",
     "metadata": {},
     "outputs": [
      {
       "output_type": "stream",
       "stream": "stderr",
       "text": [
        "/u/gl/lande/lib/python2.7/site-packages/pandas-0.10.1-py2.7-linux-x86_64.egg/pandas/core/frame.py:3576: FutureWarning: rename with inplace=True  will return None from pandas 0.11 onward\n",
        "  \" from pandas 0.11 onward\", FutureWarning)\n"
       ]
      }
     ],
     "prompt_number": 4
    },
    {
     "cell_type": "markdown",
     "metadata": {},
     "source": [
      "Next, convert numbers w/ errors and limits"
     ]
    },
    {
     "cell_type": "code",
     "collapsed": false,
     "input": [
      "from lande.datapoints import DataPoint, Detection, UpperLimit\n",
      "for i in ['F_GeV','F_TeV','F_Xray','L_GeV']:\n",
      "    df[i] = df[i].map(lambda x: DataPoint.from_string(x), na_action='ignore')"
     ],
     "language": "python",
     "metadata": {},
     "outputs": [],
     "prompt_number": 5
    },
    {
     "cell_type": "code",
     "collapsed": false,
     "input": [
      "df['L_GeV']*=10.**34"
     ],
     "language": "python",
     "metadata": {},
     "outputs": [],
     "prompt_number": 7
    },
    {
     "cell_type": "markdown",
     "metadata": {},
     "source": [
      "Now, the final data is in the right format"
     ]
    },
    {
     "cell_type": "code",
     "collapsed": false,
     "input": [
      "type(df['Flux_Xray']['Crab'])"
     ],
     "language": "python",
     "metadata": {},
     "outputs": []
    },
    {
     "cell_type": "code",
     "collapsed": false,
     "input": [
      "df.ix['HESS~J1640$-$465']"
     ],
     "language": "python",
     "metadata": {},
     "outputs": []
    },
    {
     "cell_type": "code",
     "collapsed": false,
     "input": [],
     "language": "python",
     "metadata": {},
     "outputs": []
    },
    {
     "cell_type": "markdown",
     "metadata": {},
     "source": [
      "Add computed the ohter things we need to plot"
     ]
    },
    {
     "cell_type": "code",
     "collapsed": false,
     "input": [
      "df['L_GeV/TeV'] = df['F_GeV']/df['F_TeV']\n",
      "df['L_GeV/Xray'] = df['F_GeV']/df['F_Xray']"
     ],
     "language": "python",
     "metadata": {},
     "outputs": []
    },
    {
     "cell_type": "markdown",
     "metadata": {},
     "source": [
      "The final data frame"
     ]
    },
    {
     "cell_type": "code",
     "collapsed": false,
     "input": [
      "df.ix[:5]"
     ],
     "language": "python",
     "metadata": {},
     "outputs": []
    },
    {
     "cell_type": "code",
     "collapsed": false,
     "input": [
      "df.ix['HESS~J1708$-$443']"
     ],
     "language": "python",
     "metadata": {},
     "outputs": []
    },
    {
     "cell_type": "markdown",
     "metadata": {},
     "source": [
      "# Make plot of Luminosity vs Edot"
     ]
    },
    {
     "cell_type": "markdown",
     "metadata": {},
     "source": [
      "First, lets make a table of the quantities we want, with missing values dropped from the plot"
     ]
    },
    {
     "cell_type": "code",
     "collapsed": false,
     "input": [
      "l=df[['Edot','L_GeV']].dropna()\n",
      "\n",
      "#l.drop(r'HESS~J1718$-$385')\n",
      "\n",
      "l.ix[10:15]"
     ],
     "language": "python",
     "metadata": {},
     "outputs": []
    },
    {
     "cell_type": "markdown",
     "metadata": {},
     "source": [
      "Make a plot of Edot vs GeV Luminosity"
     ]
    },
    {
     "cell_type": "code",
     "collapsed": false,
     "input": [
      "from lande.utilities.pubplot import set_latex_defaults\n",
      "set_latex_defaults()"
     ],
     "language": "python",
     "metadata": {},
     "outputs": []
    },
    {
     "cell_type": "code",
     "collapsed": false,
     "input": [
      "Edot=l['Edot'].values\n",
      "luim=l['L_GeV'].values\n",
      "names = l.index.values\n",
      "\n",
      "\n",
      "fig=figure(None, (6,6))\n",
      "axes=fig.add_subplot(111)\n",
      "xlim(1e34,1e39)\n",
      "axes.set_xscale('log')\n",
      "axes.set_yscale('log')\n",
      "axes.set_ylabel(r'$L_\\mathrm{GeV}$')\n",
      "axes.set_xlabel('$\\dot E$')\n",
      "   \n",
      "from lande.datapoints import plot\n",
      "def myplot(cut, **mykwargs):\n",
      "    kwargs=dict(marker='.', color='black', markersize=10)\n",
      "    kwargs.update(mykwargs)\n",
      "    plot(Edot[cut],luim[cut], axes=axes, **kwargs)\n",
      "\n",
      "myplot(cut=np.ones_like(names).astype(bool), color='black')\n",
      "myplot(cut=(names=='Vela$-$X'), color='blue')\n",
      "myplot(cut=(names=='Crab'), color='blue')\n",
      "myplot(cut=(names=='HESS~J1708$-$443'), color='red')\n",
      "\n",
      "def myplot(factor, **mykwargs):\n",
      "    kwargs=dict(color='black')\n",
      "    kwargs.update(mykwargs)\n",
      "    pylab.plot([10**34,10**39],[10**34/factor,10**39/factor], **kwargs)\n",
      "\n",
      "myplot(1, linestyle='-')\n",
      "myplot(10, linestyle='--')\n",
      "myplot(100, linestyle='-.')\n",
      "\n",
      "xlim(10.**34,10.**39)\n",
      "ylim(10.**32,10.**36)\n",
      "savefig('pwn_luminosity_vs_edot.pdf')"
     ],
     "language": "python",
     "metadata": {},
     "outputs": []
    },
    {
     "cell_type": "markdown",
     "metadata": {},
     "source": [
      "# Plot GeV vs TeV luminosity ratio"
     ]
    },
    {
     "cell_type": "code",
     "collapsed": false,
     "input": [
      "l=df[['F_GeV','F_TeV','Luminosity_GeV','Luminosity_GeV/TeV','Edot','age']].dropna()\n",
      "\n",
      "#l.ix['Vela~X']\n",
      "#l.ix['Vela$-$X']\n",
      "df.ix['HESS~J1708$-$443']"
     ],
     "language": "python",
     "metadata": {},
     "outputs": []
    },
    {
     "cell_type": "code",
     "collapsed": false,
     "input": [
      "age=l['age'].values\n",
      "Edot=l['Edot'].values\n",
      "ratio=l['Luminosity_GeV/TeV'].values\n",
      "l_gev=l['Luminosity_GeV'].values\n",
      "names = l.index.values\n",
      "\n",
      "\n",
      "from mpl_toolkits.axes_grid1 import Grid\n",
      "\n",
      "from lande.datapoints import plot\n",
      "\n",
      "fig = plt.figure(None, (8., 8.))\n",
      "grid = Grid(fig, 111, # similar to subplot(111)\n",
      "            nrows_ncols = (2, 2), # creates 2x2 grid of axes\n",
      "            axes_pad=0.1, # pad between axes in inch.\n",
      "            share_all=False,\n",
      "           )\n",
      "\n",
      "\n",
      "for ax in grid:\n",
      "    ax.set_xscale('log')\n",
      "    ax.set_yscale('log')\n",
      "\n",
      "def myplot(x,y,axes):\n",
      "    plot(x,y, axes=axes, marker='.', color='black', markersize=10)\n",
      "\n",
      "    \n",
      "myplot(age, l_gev, axes=grid[0])\n",
      "myplot(Edot, l_gev, axes=grid[1])\n",
      "myplot(age, ratio, axes=grid[2])\n",
      "myplot(Edot, ratio, axes=grid[3])\n",
      "\n",
      "grid[0].set_ylabel('LGeV')\n",
      "grid[2].set_ylabel('LGeV/LTeV')\n",
      "\n",
      "grid[2].set_xlabel('age')\n",
      "grid[3].set_xlabel('Edot')\n",
      "\n",
      "#plot(Edot[names=='Crab'], ratio[names=='Crab'], axes=grid[0], marker='.', color='blue', markersize=10)\n",
      "#plot(Edot[names=='Vela$-$X'], ratio[names=='Vela$-$X'], axes=grid[0], marker='.', color='blue', markersize=10)\n",
      "#plot(Edot[names=='HESS~J1708$-$443'], ratio[names=='HESS~J1708$-$443'], axes=grid[0], marker='.', color='red', markersize=10)\n",
      "\n",
      "\n",
      "\n",
      "#axes.axhline(, color='black', linestyle='--')"
     ],
     "language": "python",
     "metadata": {},
     "outputs": []
    },
    {
     "cell_type": "code",
     "collapsed": false,
     "input": [],
     "language": "python",
     "metadata": {},
     "outputs": []
    }
   ],
   "metadata": {}
  }
 ]
}