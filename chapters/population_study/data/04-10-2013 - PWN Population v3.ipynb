{
 "metadata": {
  "name": "04-10-2013 - PWN Population v3"
 },
 "nbformat": 3,
 "nbformat_minor": 0,
 "worksheets": [
  {
   "cells": [
    {
     "cell_type": "markdown",
     "metadata": {},
     "source": [
      "# Load in multiwavelenth TeVCat data"
     ]
    },
    {
     "cell_type": "markdown",
     "metadata": {},
     "source": [
      "The multiwavelenth data from the paper is stored in a csv file:"
     ]
    },
    {
     "cell_type": "code",
     "collapsed": false,
     "input": [
      "from os.path import expandvars\n",
      "\n",
      "csvfile=expandvars(\"$thesis/chapters/population_study/data/tevcat_multiwavelenth_v3.csv\")\n",
      "\n",
      "print '\\n'.join(open(csvfile).readlines()[:4])"
     ],
     "language": "python",
     "metadata": {},
     "outputs": [
      {
       "output_type": "stream",
       "stream": "stdout",
       "text": [
        "\\tablehead{ \\colhead{Source} & \\colhead{$\\dot{E}$} & \\colhead{age} & \\colhead{distance} & \\colhead{$\\text{G}_{10\\,\\text{GeV}}^{316\\,\\text{GeV}}$} & \\colhead{$\\text{G}_{1\\,\\text{TeV}}^{30\\,\\text{TeV}}$} & \\colhead{$\\text{G}_{1\\,\\text{keV}}^{10\\,\\text{keV}}$} & \\colhead{$\\text{L}_{10\\,\\text{GeV}}^{316\\,\\text{GeV}}$} & \\colhead{Lx} & \\colhead{Reference}}\n",
        "\n",
        "\\startdata\n",
        "\n",
        "Crab & 4.6000e+04 &1.2000e+00 &2.0000e+00_{-5.0000e-01}^{+5.0000e-01} &$485.66557 \\pm 187.55718$ &$80.00000 \\pm 16.49242$ &$21000.00000 \\pm 4200.00000$ &$ 23.24386 \\pm 14.68489 $ &$ 1.00506e+37^{+5.41239e+36}_{-5.41239e+36}$ & \\\\\n",
        "\n",
        "HESSJ1018-589 & 2.5680e+02 &2.1000e+01 &2.9000e+00_{-1.6000e+00}^{+6.0000e-02} &$6.77458 \\pm 6.29718$ &$0.90000 \\pm 0.40000$ & - &$ 0.68169 \\pm 0.98354 $ & - & \\\\\n",
        "\n"
       ]
      }
     ],
     "prompt_number": 1
    },
    {
     "cell_type": "markdown",
     "metadata": {},
     "source": [
      "We can load in the latex table using astropy"
     ]
    },
    {
     "cell_type": "code",
     "collapsed": false,
     "input": [
      "from astropy.table import Table\n",
      "from astropy.io.ascii.latex import AASTex\n",
      "\n",
      "from astropy.io.ascii import read\n",
      "x=read(csvfile,  Reader=AASTex, guess=False)"
     ],
     "language": "python",
     "metadata": {},
     "outputs": [],
     "prompt_number": 2
    },
    {
     "cell_type": "markdown",
     "metadata": {},
     "source": [
      "Next, we can conver the (lame) astropy table to the (awesome) pandas table"
     ]
    },
    {
     "cell_type": "code",
     "collapsed": false,
     "input": [
      "from pandas import DataFrame\n",
      "\n",
      "df=DataFrame({i:x[i] for i in x.keys()}, columns=reversed(x.keys()))\n",
      "df=df.set_index('Source')"
     ],
     "language": "python",
     "metadata": {},
     "outputs": [],
     "prompt_number": 3
    },
    {
     "cell_type": "markdown",
     "metadata": {},
     "source": [
      "Here is the raw data"
     ]
    },
    {
     "cell_type": "code",
     "collapsed": false,
     "input": [
      "df.ix[:5]"
     ],
     "language": "python",
     "metadata": {},
     "outputs": [
      {
       "html": [
        "<div style=\"max-height:1000px;max-width:1500px;overflow:auto;\">\n",
        "<table border=\"1\" class=\"dataframe\">\n",
        "  <thead>\n",
        "    <tr style=\"text-align: right;\">\n",
        "      <th></th>\n",
        "      <th>Reference</th>\n",
        "      <th>Lx</th>\n",
        "      <th>$\\text{L}_{10\\,\\text{GeV}}^{316\\,\\text{GeV}}$</th>\n",
        "      <th>$\\text{G}_{1\\,\\text{keV}}^{10\\,\\text{keV}}$</th>\n",
        "      <th>$\\text{G}_{1\\,\\text{TeV}}^{30\\,\\text{TeV}}$</th>\n",
        "      <th>$\\text{G}_{10\\,\\text{GeV}}^{316\\,\\text{GeV}}$</th>\n",
        "      <th>distance</th>\n",
        "      <th>age</th>\n",
        "      <th>$\\dot{E}$</th>\n",
        "    </tr>\n",
        "    <tr>\n",
        "      <th>Source</th>\n",
        "      <th></th>\n",
        "      <th></th>\n",
        "      <th></th>\n",
        "      <th></th>\n",
        "      <th></th>\n",
        "      <th></th>\n",
        "      <th></th>\n",
        "      <th></th>\n",
        "      <th></th>\n",
        "    </tr>\n",
        "  </thead>\n",
        "  <tbody>\n",
        "    <tr>\n",
        "      <th>Crab</th>\n",
        "      <td> </td>\n",
        "      <td> $ 1.00506e+37^{+5.41239e+36}_{-5.41239e+36}$</td>\n",
        "      <td> $ 23.24386 \\pm 14.68489 $</td>\n",
        "      <td> $21000.00000 \\pm 4200.00000$</td>\n",
        "      <td> $80.00000 \\pm 16.49242$</td>\n",
        "      <td> $485.66557 \\pm 187.55718$</td>\n",
        "      <td> 2.0000e+00_{-5.0000e-01}^{+5.0000e-01}</td>\n",
        "      <td> 1.2000e+00</td>\n",
        "      <td> 4.6000e+04</td>\n",
        "    </tr>\n",
        "    <tr>\n",
        "      <th>HESSJ1018-589</th>\n",
        "      <td> </td>\n",
        "      <td>                                            -</td>\n",
        "      <td>   $ 0.68169 \\pm 0.98354 $</td>\n",
        "      <td>                            -</td>\n",
        "      <td>   $0.90000 \\pm 0.40000$</td>\n",
        "      <td>     $6.77458 \\pm 6.29718$</td>\n",
        "      <td> 2.9000e+00_{-1.6000e+00}^{+6.0000e-02}</td>\n",
        "      <td> 2.1000e+01</td>\n",
        "      <td> 2.5680e+02</td>\n",
        "    </tr>\n",
        "    <tr>\n",
        "      <th>HESSJ1023-577</th>\n",
        "      <td> </td>\n",
        "      <td>                                            -</td>\n",
        "      <td>   $ 2.50353 \\pm 1.11158 $</td>\n",
        "      <td>                            -</td>\n",
        "      <td>   $4.82411 \\pm 1.70053$</td>\n",
        "      <td>   $26.68855 \\pm 11.84988$</td>\n",
        "      <td> 2.8000e+00_{-0.0000e+00}^{+0.0000e+00}</td>\n",
        "      <td> 4.6000e+00</td>\n",
        "      <td> 1.1000e+03</td>\n",
        "    </tr>\n",
        "    <tr>\n",
        "      <th>HESSJ1026-582</th>\n",
        "      <td> </td>\n",
        "      <td>                                            -</td>\n",
        "      <td>              $&lt;\\,0.59333$</td>\n",
        "      <td>                            -</td>\n",
        "      <td>   $3.73537 \\pm 2.18879$</td>\n",
        "      <td>             $&lt;\\,9.37416 $</td>\n",
        "      <td> 2.3000e+00_{-3.0000e-01}^{+3.0000e-01}</td>\n",
        "      <td> 9.0000e+01</td>\n",
        "      <td> 8.4000e+01</td>\n",
        "    </tr>\n",
        "    <tr>\n",
        "      <th>HESSJ1119-614</th>\n",
        "      <td> </td>\n",
        "      <td>                                            -</td>\n",
        "      <td>   $ 7.67864 \\pm 4.42215 $</td>\n",
        "      <td>                            -</td>\n",
        "      <td>   $2.31880 \\pm 1.15666$</td>\n",
        "      <td>     $9.09525 \\pm 5.16586$</td>\n",
        "      <td> 8.4000e+00_{-4.0000e-01}^{+4.0000e-01}</td>\n",
        "      <td> 1.6000e+00</td>\n",
        "      <td> 2.3000e+02</td>\n",
        "    </tr>\n",
        "  </tbody>\n",
        "</table>\n",
        "</div>"
       ],
       "output_type": "pyout",
       "prompt_number": 4,
       "text": [
        "              Reference                                            Lx  \\\n",
        "Source                                                                  \n",
        "Crab                     $ 1.00506e+37^{+5.41239e+36}_{-5.41239e+36}$   \n",
        "HESSJ1018-589                                                       -   \n",
        "HESSJ1023-577                                                       -   \n",
        "HESSJ1026-582                                                       -   \n",
        "HESSJ1119-614                                                       -   \n",
        "\n",
        "              $\\text{L}_{10\\,\\text{GeV}}^{316\\,\\text{GeV}}$  \\\n",
        "Source                                                        \n",
        "Crab                              $ 23.24386 \\pm 14.68489 $   \n",
        "HESSJ1018-589                       $ 0.68169 \\pm 0.98354 $   \n",
        "HESSJ1023-577                       $ 2.50353 \\pm 1.11158 $   \n",
        "HESSJ1026-582                                  $<\\,0.59333$   \n",
        "HESSJ1119-614                       $ 7.67864 \\pm 4.42215 $   \n",
        "\n",
        "              $\\text{G}_{1\\,\\text{keV}}^{10\\,\\text{keV}}$  \\\n",
        "Source                                                      \n",
        "Crab                         $21000.00000 \\pm 4200.00000$   \n",
        "HESSJ1018-589                                           -   \n",
        "HESSJ1023-577                                           -   \n",
        "HESSJ1026-582                                           -   \n",
        "HESSJ1119-614                                           -   \n",
        "\n",
        "              $\\text{G}_{1\\,\\text{TeV}}^{30\\,\\text{TeV}}$  \\\n",
        "Source                                                      \n",
        "Crab                              $80.00000 \\pm 16.49242$   \n",
        "HESSJ1018-589                       $0.90000 \\pm 0.40000$   \n",
        "HESSJ1023-577                       $4.82411 \\pm 1.70053$   \n",
        "HESSJ1026-582                       $3.73537 \\pm 2.18879$   \n",
        "HESSJ1119-614                       $2.31880 \\pm 1.15666$   \n",
        "\n",
        "              $\\text{G}_{10\\,\\text{GeV}}^{316\\,\\text{GeV}}$  \\\n",
        "Source                                                        \n",
        "Crab                              $485.66557 \\pm 187.55718$   \n",
        "HESSJ1018-589                         $6.77458 \\pm 6.29718$   \n",
        "HESSJ1023-577                       $26.68855 \\pm 11.84988$   \n",
        "HESSJ1026-582                                 $<\\,9.37416 $   \n",
        "HESSJ1119-614                         $9.09525 \\pm 5.16586$   \n",
        "\n",
        "                                             distance         age   $\\dot{E}$  \n",
        "Source                                                                         \n",
        "Crab           2.0000e+00_{-5.0000e-01}^{+5.0000e-01}  1.2000e+00  4.6000e+04  \n",
        "HESSJ1018-589  2.9000e+00_{-1.6000e+00}^{+6.0000e-02}  2.1000e+01  2.5680e+02  \n",
        "HESSJ1023-577  2.8000e+00_{-0.0000e+00}^{+0.0000e+00}  4.6000e+00  1.1000e+03  \n",
        "HESSJ1026-582  2.3000e+00_{-3.0000e-01}^{+3.0000e-01}  9.0000e+01  8.4000e+01  \n",
        "HESSJ1119-614  8.4000e+00_{-4.0000e-01}^{+4.0000e-01}  1.6000e+00  2.3000e+02  "
       ]
      }
     ],
     "prompt_number": 4
    },
    {
     "cell_type": "markdown",
     "metadata": {},
     "source": [
      "Now, lets clean the data up"
     ]
    },
    {
     "cell_type": "code",
     "collapsed": false,
     "input": [
      "df=df.rename(columns={\n",
      "    r'$\\text{G}_{1\\,\\text{keV}}^{10\\,\\text{keV}}$':'F_Xray', \n",
      "    'Lx':'L_Xray',\n",
      "    r'$\\text{G}_{1\\,\\text{TeV}}^{30\\,\\text{TeV}}$':'F_TeV',\n",
      "    r'$\\text{G}_{10\\,\\text{GeV}}^{316\\,\\text{GeV}}$':'F_GeV',\n",
      "    r'$\\dot{E}$':'Edot',\n",
      "    r'$\\text{L}_{10\\,\\text{GeV}}^{316\\,\\text{GeV}}$':'L_GeV'})"
     ],
     "language": "python",
     "metadata": {},
     "outputs": [],
     "prompt_number": 5
    },
    {
     "cell_type": "code",
     "collapsed": false,
     "input": [
      "# First, replace \\nodata with missing data\n",
      "import numpy as np\n",
      "df = df.applymap(lambda x: np.nan if x=='-' else x)\n",
      "\n",
      "# Next, convert nubmers to DataPoints:\n",
      "df['Edot'] = df['Edot'].astype(float)\n",
      "df['age'] = df['age'].astype(float)\n",
      "# Not sure what to do with assymetric errors in Distance, yet..."
     ],
     "language": "python",
     "metadata": {},
     "outputs": [
      {
       "output_type": "stream",
       "stream": "stdout",
       "text": [
        "\u001b[0;33mWARNING\u001b[0m: FutureWarning: rename with inplace=True  will return None from pandas 0.11 onward [pandas.core.frame]\n"
       ]
      }
     ],
     "prompt_number": 6
    },
    {
     "cell_type": "markdown",
     "metadata": {},
     "source": [
      "Next, convert numbers w/ errors and limits"
     ]
    },
    {
     "cell_type": "code",
     "collapsed": false,
     "input": [
      "from lande.datapoints import DataPoint"
     ],
     "language": "python",
     "metadata": {},
     "outputs": [],
     "prompt_number": 7
    },
    {
     "cell_type": "code",
     "collapsed": false,
     "input": [
      "for i in ['F_GeV','F_TeV','F_Xray','L_GeV','L_Xray','distance']:\n",
      "    df[i] = df[i].map(lambda x: DataPoint.from_string(x), na_action='ignore')"
     ],
     "language": "python",
     "metadata": {},
     "outputs": [],
     "prompt_number": 8
    },
    {
     "cell_type": "markdown",
     "metadata": {},
     "source": [
      "Since HESSJ1708-443 is classified as 'PSR', lets represent the emission as PWN:"
     ]
    },
    {
     "cell_type": "code",
     "collapsed": false,
     "input": [
      "df['L_GeV']['HESSJ1708-443'],df['F_GeV']['HESSJ1708-443']"
     ],
     "language": "python",
     "metadata": {},
     "outputs": [
      {
       "output_type": "pyout",
       "prompt_number": 9,
       "text": [
        "(1.80099 +/- 0.94926, 28.45405 +/- 13.03169)"
       ]
      }
     ],
     "prompt_number": 9
    },
    {
     "cell_type": "code",
     "collapsed": false,
     "input": [
      "from lande.datapoints import UpperLimit\n",
      "for val in ['L_GeV','F_GeV']:\n",
      "    detection = df[val]['HESSJ1708-443']\n",
      "    df[val]['HESSJ1708-443'] = UpperLimit(detection.value + detection.error)"
     ],
     "language": "python",
     "metadata": {},
     "outputs": [],
     "prompt_number": 10
    },
    {
     "cell_type": "markdown",
     "metadata": {},
     "source": [
      "Now it is an upper limit"
     ]
    },
    {
     "cell_type": "code",
     "collapsed": false,
     "input": [
      "df['L_GeV']['HESSJ1708-443'],df['F_GeV']['HESSJ1708-443'],"
     ],
     "language": "python",
     "metadata": {},
     "outputs": [
      {
       "output_type": "pyout",
       "prompt_number": 11,
       "text": [
        "(<2.75025, <41.48574)"
       ]
      }
     ],
     "prompt_number": 11
    },
    {
     "cell_type": "markdown",
     "metadata": {},
     "source": [
      "Next we have to scale luminosity and Edot"
     ]
    },
    {
     "cell_type": "code",
     "collapsed": false,
     "input": [
      "df['L_GeV']*=10.**34\n",
      "df['Edot']*=10.**34\n",
      "df['age']*=1e3"
     ],
     "language": "python",
     "metadata": {},
     "outputs": [],
     "prompt_number": 12
    },
    {
     "cell_type": "markdown",
     "metadata": {},
     "source": [
      "And define a column for significance"
     ]
    },
    {
     "cell_type": "code",
     "collapsed": false,
     "input": [
      "df['GeV_significant'] = df['F_GeV'].map(lambda x: x.significant())"
     ],
     "language": "python",
     "metadata": {},
     "outputs": [],
     "prompt_number": 13
    },
    {
     "cell_type": "markdown",
     "metadata": {},
     "source": [
      "Now, the final data is in the right format"
     ]
    },
    {
     "cell_type": "code",
     "collapsed": false,
     "input": [
      "type(df['F_Xray']['Crab'])"
     ],
     "language": "python",
     "metadata": {},
     "outputs": [
      {
       "output_type": "pyout",
       "prompt_number": 14,
       "text": [
        "lande.datapoints.Detection"
       ]
      }
     ],
     "prompt_number": 14
    },
    {
     "cell_type": "markdown",
     "metadata": {},
     "source": [
      "Add computed the ohter things we need to plot"
     ]
    },
    {
     "cell_type": "code",
     "collapsed": false,
     "input": [
      "df['L_GeV/TeV'] = df['F_GeV']/df['F_TeV']\n",
      "df['L_GeV/Xray'] = df['F_GeV']/df['F_Xray']"
     ],
     "language": "python",
     "metadata": {},
     "outputs": [],
     "prompt_number": 15
    },
    {
     "cell_type": "markdown",
     "metadata": {},
     "source": [
      "# The final data frame"
     ]
    },
    {
     "cell_type": "code",
     "collapsed": false,
     "input": [
      "df.ix[:5]"
     ],
     "language": "python",
     "metadata": {},
     "outputs": [
      {
       "html": [
        "<div style=\"max-height:1000px;max-width:1500px;overflow:auto;\">\n",
        "<table border=\"1\" class=\"dataframe\">\n",
        "  <thead>\n",
        "    <tr style=\"text-align: right;\">\n",
        "      <th></th>\n",
        "      <th>Reference</th>\n",
        "      <th>L_Xray</th>\n",
        "      <th>L_GeV</th>\n",
        "      <th>F_Xray</th>\n",
        "      <th>F_TeV</th>\n",
        "      <th>F_GeV</th>\n",
        "      <th>distance</th>\n",
        "      <th>age</th>\n",
        "      <th>Edot</th>\n",
        "      <th>GeV_significant</th>\n",
        "      <th>L_GeV/TeV</th>\n",
        "      <th>L_GeV/Xray</th>\n",
        "    </tr>\n",
        "    <tr>\n",
        "      <th>Source</th>\n",
        "      <th></th>\n",
        "      <th></th>\n",
        "      <th></th>\n",
        "      <th></th>\n",
        "      <th></th>\n",
        "      <th></th>\n",
        "      <th></th>\n",
        "      <th></th>\n",
        "      <th></th>\n",
        "      <th></th>\n",
        "      <th></th>\n",
        "      <th></th>\n",
        "    </tr>\n",
        "  </thead>\n",
        "  <tbody>\n",
        "    <tr>\n",
        "      <th>Crab</th>\n",
        "      <td> </td>\n",
        "      <td> 1.00506e+37 +5.41239e+36 -5.41239e+36</td>\n",
        "      <td> 2.324386e+35 +/- 1.468489e+35</td>\n",
        "      <td> 21000.0 +/- 4200.0</td>\n",
        "      <td>   80.0 +/- 16.49242</td>\n",
        "      <td> 485.66557 +/- 187.55718</td>\n",
        "      <td>  2.0 +0.5 -0.5</td>\n",
        "      <td>  1200</td>\n",
        "      <td> 4.600000e+38</td>\n",
        "      <td>  True</td>\n",
        "      <td>   6.070819625 +/- 2.65760148494</td>\n",
        "      <td> 0.0231269319048 +/- 0.0100579429702</td>\n",
        "    </tr>\n",
        "    <tr>\n",
        "      <th>HESSJ1018-589</th>\n",
        "      <td> </td>\n",
        "      <td>                                   NaN</td>\n",
        "      <td>     6.8169e+33 +/- 9.8354e+33</td>\n",
        "      <td>                NaN</td>\n",
        "      <td>         0.9 +/- 0.4</td>\n",
        "      <td>     6.77458 +/- 6.29718</td>\n",
        "      <td> 2.9 +1.6 -0.06</td>\n",
        "      <td> 21000</td>\n",
        "      <td> 2.568000e+36</td>\n",
        "      <td>  True</td>\n",
        "      <td> 7.52731111111 +/- 7.75553501769</td>\n",
        "      <td>                                 NaN</td>\n",
        "    </tr>\n",
        "    <tr>\n",
        "      <th>HESSJ1023-577</th>\n",
        "      <td> </td>\n",
        "      <td>                                   NaN</td>\n",
        "      <td>   2.50353e+34 +/- 1.11158e+34</td>\n",
        "      <td>                NaN</td>\n",
        "      <td> 4.82411 +/- 1.70053</td>\n",
        "      <td>   26.68855 +/- 11.84988</td>\n",
        "      <td>  2.8 +0.0 -0.0</td>\n",
        "      <td>  4600</td>\n",
        "      <td> 1.100000e+37</td>\n",
        "      <td>  True</td>\n",
        "      <td> 5.53232617001 +/- 3.13640575714</td>\n",
        "      <td>                                 NaN</td>\n",
        "    </tr>\n",
        "    <tr>\n",
        "      <th>HESSJ1026-582</th>\n",
        "      <td> </td>\n",
        "      <td>                                   NaN</td>\n",
        "      <td>                   &lt;5.9333e+33</td>\n",
        "      <td>                NaN</td>\n",
        "      <td> 3.73537 +/- 2.18879</td>\n",
        "      <td>                &lt;9.37416</td>\n",
        "      <td>  2.3 +0.3 -0.3</td>\n",
        "      <td> 90000</td>\n",
        "      <td> 8.400000e+35</td>\n",
        "      <td> False</td>\n",
        "      <td>                  &lt;6.06121894761</td>\n",
        "      <td>                                 NaN</td>\n",
        "    </tr>\n",
        "    <tr>\n",
        "      <th>HESSJ1119-614</th>\n",
        "      <td> </td>\n",
        "      <td>                                   NaN</td>\n",
        "      <td>   7.67864e+34 +/- 4.42215e+34</td>\n",
        "      <td>                NaN</td>\n",
        "      <td>  2.3188 +/- 1.15666</td>\n",
        "      <td>     9.09525 +/- 5.16586</td>\n",
        "      <td>  8.4 +0.4 -0.4</td>\n",
        "      <td>  1600</td>\n",
        "      <td> 2.300000e+36</td>\n",
        "      <td>  True</td>\n",
        "      <td> 3.92239520442 +/- 2.96501303683</td>\n",
        "      <td>                                 NaN</td>\n",
        "    </tr>\n",
        "  </tbody>\n",
        "</table>\n",
        "</div>"
       ],
       "output_type": "pyout",
       "prompt_number": 16,
       "text": [
        "              Reference                                 L_Xray  \\\n",
        "Source                                                           \n",
        "Crab                     1.00506e+37 +5.41239e+36 -5.41239e+36   \n",
        "HESSJ1018-589                                              NaN   \n",
        "HESSJ1023-577                                              NaN   \n",
        "HESSJ1026-582                                              NaN   \n",
        "HESSJ1119-614                                              NaN   \n",
        "\n",
        "                                       L_GeV              F_Xray  \\\n",
        "Source                                                             \n",
        "Crab           2.324386e+35 +/- 1.468489e+35  21000.0 +/- 4200.0   \n",
        "HESSJ1018-589      6.8169e+33 +/- 9.8354e+33                 NaN   \n",
        "HESSJ1023-577    2.50353e+34 +/- 1.11158e+34                 NaN   \n",
        "HESSJ1026-582                    <5.9333e+33                 NaN   \n",
        "HESSJ1119-614    7.67864e+34 +/- 4.42215e+34                 NaN   \n",
        "\n",
        "                             F_TeV                    F_GeV        distance    age  \\\n",
        "Source                                                                               \n",
        "Crab             80.0 +/- 16.49242  485.66557 +/- 187.55718   2.0 +0.5 -0.5   1200   \n",
        "HESSJ1018-589          0.9 +/- 0.4      6.77458 +/- 6.29718  2.9 +1.6 -0.06  21000   \n",
        "HESSJ1023-577  4.82411 +/- 1.70053    26.68855 +/- 11.84988   2.8 +0.0 -0.0   4600   \n",
        "HESSJ1026-582  3.73537 +/- 2.18879                 <9.37416   2.3 +0.3 -0.3  90000   \n",
        "HESSJ1119-614   2.3188 +/- 1.15666      9.09525 +/- 5.16586   8.4 +0.4 -0.4   1600   \n",
        "\n",
        "                       Edot GeV_significant                        L_GeV/TeV  \\\n",
        "Source                                                                         \n",
        "Crab           4.600000e+38            True    6.070819625 +/- 2.65760148494   \n",
        "HESSJ1018-589  2.568000e+36            True  7.52731111111 +/- 7.75553501769   \n",
        "HESSJ1023-577  1.100000e+37            True  5.53232617001 +/- 3.13640575714   \n",
        "HESSJ1026-582  8.400000e+35           False                   <6.06121894761   \n",
        "HESSJ1119-614  2.300000e+36            True  3.92239520442 +/- 2.96501303683   \n",
        "\n",
        "                                        L_GeV/Xray  \n",
        "Source                                              \n",
        "Crab           0.0231269319048 +/- 0.0100579429702  \n",
        "HESSJ1018-589                                  NaN  \n",
        "HESSJ1023-577                                  NaN  \n",
        "HESSJ1026-582                                  NaN  \n",
        "HESSJ1119-614                                  NaN  "
       ]
      }
     ],
     "prompt_number": 16
    },
    {
     "cell_type": "code",
     "collapsed": false,
     "input": [
      "df.ix['HESSJ1708-443']"
     ],
     "language": "python",
     "metadata": {},
     "outputs": [
      {
       "output_type": "pyout",
       "prompt_number": 17,
       "text": [
        "Reference                                               \n",
        "L_Xray             4.55721e+32 +1.20805e+32 -1.20805e+32\n",
        "L_GeV                                       <2.75025e+34\n",
        "F_Xray                                   0.72 +/- 0.0339\n",
        "F_TeV                                     22.88 +/- 6.96\n",
        "F_GeV                                          <41.48574\n",
        "distance                                   2.3 +0.3 -0.3\n",
        "age                                                17500\n",
        "Edot                                             3.4e+36\n",
        "GeV_significant                                    False\n",
        "L_GeV/TeV                                 <2.60588819095\n",
        "L_GeV/Xray                                <60.4660253607\n",
        "Name: HESSJ1708-443"
       ]
      }
     ],
     "prompt_number": 17
    },
    {
     "cell_type": "markdown",
     "metadata": {},
     "source": [
      "# Make plot of Luminosity vs Edot"
     ]
    },
    {
     "cell_type": "markdown",
     "metadata": {},
     "source": [
      "Before making any plots, lets tweak matplotlib"
     ]
    },
    {
     "cell_type": "code",
     "collapsed": false,
     "input": [
      "from lande.utilities.pubplot import set_latex_defaults\n",
      "set_latex_defaults()\n",
      "\n",
      "params = {'backend': 'ps',\n",
      "          'axes.labelsize': 14,\n",
      "          'text.fontsize': 14,\n",
      "          'xtick.labelsize': 12,\n",
      "          'ytick.labelsize': 12}\n",
      "pylab.rcParams.update(params)"
     ],
     "language": "python",
     "metadata": {},
     "outputs": [],
     "prompt_number": 18
    },
    {
     "cell_type": "markdown",
     "metadata": {},
     "source": [
      "Make a plot of Edot vs GeV Luminosity"
     ]
    },
    {
     "cell_type": "code",
     "collapsed": false,
     "input": [
      "# First, lets make a table of the quantities we want, with missing values dropped from the plot\n",
      "\n",
      "l=df[['Edot','L_GeV','GeV_significant']].dropna()\n",
      "Edot=l['Edot'].values\n",
      "luim=l['L_GeV'].values\n",
      "significant=l['GeV_significant'].values\n",
      "names = l.index.values\n",
      "\n",
      "fig=figure(None, (4,4))\n",
      "axes=fig.add_subplot(111)\n",
      "xlim(1e34,1e39)\n",
      "axes.set_xscale('log')\n",
      "axes.set_yscale('log')\n",
      "axes.set_ylabel(r'$L_\\mathrm{GeV}$')\n",
      "axes.set_xlabel('$\\dot E$')\n",
      "   \n",
      "\n",
      "def myplot(cut, **mykwargs):\n",
      "    kwargs=dict(marker='.', color='black', markersize=6)\n",
      "    kwargs.update(mykwargs)\n",
      "    from lande.datapoints import plot\n",
      "    plot(Edot[cut],luim[cut], axes=axes, log_clipping=True, **kwargs)\n",
      "\n",
      "myplot(cut=(significant==False), color='gray')\n",
      "myplot(cut=(significant==True), color='black')\n",
      "#myplot(cut=(names=='Vela-X'), color='blue')\n",
      "#myplot(cut=(names=='Crab'), color='blue')\n",
      "#myplot(cut=(names=='HESSJ1708-443'), color='red')\n",
      "\n",
      "\n",
      "def myplot(factor, **mykwargs):\n",
      "    kwargs=dict(color='black')\n",
      "    kwargs.update(mykwargs)\n",
      "    axes.plot([10**34,10**39],[10**34/factor,10**39/factor], **kwargs)\n",
      "\n",
      "myplot(1, linestyle='-')\n",
      "myplot(10, linestyle='--')\n",
      "myplot(100, linestyle='-.')\n",
      "\n",
      "axes.set_xlim(10.**34,10.**39)\n",
      "axes.set_ylim(10.**32,10.**36)\n",
      "fig.tight_layout()\n",
      "savefig('pwn_luminosity_vs_edot.pdf')"
     ],
     "language": "python",
     "metadata": {},
     "outputs": [
      {
       "output_type": "display_data",
       "png": "[encoded data removed]"
      }
     ],
     "prompt_number": 19
    },
    {
     "cell_type": "markdown",
     "metadata": {},
     "source": [
      "# Plot GeV vs TeV luminosity ratio"
     ]
    },
    {
     "cell_type": "code",
     "collapsed": false,
     "input": [
      "\n",
      "from mpl_toolkits.axes_grid1 import Grid\n",
      "fig = plt.figure(None, (6., 6.))\n",
      "grid = Grid(fig, 111, # similar to subplot(111)\n",
      "            nrows_ncols = (2, 2), # creates 2x2 grid of axes\n",
      "            axes_pad=0.1, # pad between axes in inch.\n",
      "            share_all=False,\n",
      "           )\n",
      "\n",
      "for ax in grid:\n",
      "    ax.set_xscale('log')\n",
      "    ax.set_yscale('log')\n",
      "\n",
      "mykwargs = dict(marker='.',markersize=6, log_clipping=True)\n",
      "\n",
      "for i,_x in enumerate(['age','Edot']):\n",
      "    l=df[['F_GeV','F_TeV','L_GeV','L_GeV/TeV',_x,'GeV_significant']].dropna()\n",
      "    x=l[_x].values\n",
      "    ratio=l['L_GeV/TeV'].values\n",
      "    l_gev=l['L_GeV'].values\n",
      "    significant=l['GeV_significant'].values\n",
      "    names = l.index.values\n",
      "    from lande.datapoints import plot\n",
      "    plot(x[significant==False],l_gev[significant==False], axes=grid[0+i], color='gray', **mykwargs)\n",
      "    plot(x[significant==True],l_gev[significant==True], axes=grid[0+i], color='black', **mykwargs)\n",
      "\n",
      "    plot(x[significant==False],ratio[significant==False], axes=grid[2+i], color='gray', **mykwargs)\n",
      "    plot(x[significant==True],ratio[significant==True], axes=grid[2+i], color='black', **mykwargs)\n",
      "\n",
      "\n",
      "grid[0].set_ylabel(r'$L_\\mathrm{GeV}$ (erg s$^{-1})$')\n",
      "grid[2].set_ylabel(r'$L_\\mathrm{GeV}/L_\\mathrm{TeV}$')\n",
      "\n",
      "grid[2].set_xlabel('Age (yr)')\n",
      "grid[3].set_xlabel(r'$\\dot{E}$ (erg s$^{-1}$)')\n",
      "\n",
      "grid[0].set_xlim(0.5e3, 300e3)\n",
      "grid[1].set_xlim(1e35, 1e39)\n",
      "\n",
      "grid[0].set_ylim(1e33,1e36)\n",
      "grid[2].set_ylim(3e-1,1e2)\n",
      "\n",
      "grid[2].axhline(2.7, color='black', linestyle='--')\n",
      "grid[3].axhline(2.7, color='black', linestyle='--')\n",
      "\n",
      "fig.tight_layout()\n",
      "savefig('pwn_age_edot_vs_l_gev.pdf')"
     ],
     "language": "python",
     "metadata": {},
     "outputs": [
      {
       "output_type": "display_data",
       "png": "[encoded data removed]"
      }
     ],
     "prompt_number": 25
    },
    {
     "cell_type": "markdown",
     "metadata": {},
     "source": [
      "# Plot GeV vs X-ray luminosity ratio"
     ]
    },
    {
     "cell_type": "code",
     "collapsed": false,
     "input": [
      "\n",
      "from mpl_toolkits.axes_grid1 import Grid\n",
      "fig = plt.figure(None, (6., 6.))\n",
      "grid = Grid(fig, 111, # similar to subplot(111)\n",
      "            nrows_ncols = (2, 2), # creates 2x2 grid of axes\n",
      "            axes_pad=0.1, # pad between axes in inch.\n",
      "            share_all=False,\n",
      "           )\n",
      "\n",
      "for ax in grid:\n",
      "    ax.set_xscale('log')\n",
      "    ax.set_yscale('log')\n",
      "\n",
      "    for i,_x in enumerate(['age','Edot']):\n",
      "        l=df[['F_GeV','F_Xray','L_Xray','L_GeV/Xray',_x,'GeV_significant']].dropna()\n",
      "\n",
      "        x=l[_x].values\n",
      "        ratio=l['L_GeV/Xray'].values\n",
      "        l_xray=l['L_Xray'].values\n",
      "        significant=l['GeV_significant'].values\n",
      "        names = l.index.values\n",
      "\n",
      "        mykwargs = dict(marker='.',markersize=6, log_clipping=True)\n",
      "    \n",
      "        from lande.datapoints import plot\n",
      "        plot(x[significant==False],l_xray[significant==False], axes=grid[0+i], color='gray', **mykwargs)\n",
      "        plot(x[significant==True],l_xray[significant==True], axes=grid[0+i], color='black', **mykwargs)\n",
      "\n",
      "        plot(x[significant==False],ratio[significant==False], axes=grid[2+i], color='gray', **mykwargs)\n",
      "        plot(x[significant==True],ratio[significant==True], axes=grid[2+i], color='black', **mykwargs)\n",
      "\n",
      "grid[0].set_ylabel(r'$L_\\mathrm{X}$ (erg s$^{-1}$)')\n",
      "grid[2].set_ylabel(r'$L_\\mathrm{GeV}/L_\\mathrm{X}$')\n",
      "\n",
      "grid[2].set_xlabel('Age (yr)')\n",
      "grid[3].set_xlabel(r'$\\dot{E}$ (erg s$^{-1}$)')\n",
      "\n",
      "grid[0].set_xlim(0.5e3, 300e3)\n",
      "grid[1].set_xlim(1e35, 1e39)\n",
      "\n",
      "grid[0].set_ylim(1e31,1e37)\n",
      "grid[2].set_ylim(1e-2,1e4)\n",
      "fig.tight_layout()\n",
      "\n",
      "def fraction(Edot):\n",
      "        # This is Mattana et al 2009 eqn 3 scaled by average(R) from tevcat\n",
      "    return 2.7*10.**(0.47 - 1.87*np.log10(Edot/1e37))\n",
      "Edot = np.logspace(np.log10(grid[3].get_xlim()[0]),np.log10(grid[3].get_xlim()[1]),100)\n",
      "grid[3].plot(Edot,fraction(Edot),  color='black', linestyle='--')\n",
      "\n",
      "def fraction(age):\n",
      "    # This is Mattana et al 2009 eqn 5 scaled by average(R) from tevcat\n",
      "    return 2.7*10.**(0.7  + 2.21 *np.log10(age/1e4))\n",
      "age = np.logspace(np.log10(grid[2].get_xlim()[0]), np.log10(grid[2].get_xlim()[1]), 100)\n",
      "grid[2].plot(age, fraction(age), color='black', linestyle='--')\n",
      "    \n",
      "savefig('pwn_age_edot_vs_l_xray.pdf')"
     ],
     "language": "python",
     "metadata": {},
     "outputs": [
      {
       "output_type": "display_data",
       "png": "[encoded data removed]"
      }
     ],
     "prompt_number": 35
    },
    {
     "cell_type": "code",
     "collapsed": false,
     "input": [],
     "language": "python",
     "metadata": {},
     "outputs": []
    }
   ],
   "metadata": {}
  }
 ]
}