{
 "metadata": {
  "name": "04-10-2013 - PWN Population v2"
 },
 "nbformat": 3,
 "nbformat_minor": 0,
 "worksheets": [
  {
   "cells": [
    {
     "cell_type": "markdown",
     "metadata": {},
     "source": [
      "# Load in multiwavelenth TeVCat data"
     ]
    },
    {
     "cell_type": "markdown",
     "metadata": {},
     "source": [
      "The multiwavelenth data from the paper is stored in a csv file:"
     ]
    },
    {
     "cell_type": "code",
     "collapsed": false,
     "input": [
      "from os.path import expandvars\n",
      "\n",
      "csvfile=expandvars(\"$thesis/chapters/population_study/data/tevcat_multiwavelenth_v2.csv\")\n",
      "\n",
      "print ''.join(open(csvfile).readlines()[:10])"
     ],
     "language": "python",
     "metadata": {},
     "outputs": [
      {
       "output_type": "stream",
       "stream": "stdout",
       "text": [
        "        Source &       Edot &     age &         Distance &          Distance_ORIG &                   F_GeV &                   F_TeV &                 F_Xray &                    L_GeV\n",
        "          Crab &   4.60e+04 &    1.20 &     $2.0\\pm 0.5$ &           2.0$\\pm 0.5$ &       $485.7 \\pm 187.6$ &         $80.0 \\pm 16.5$ & $21000.00 \\pm 4200.00$ &         $23.24\\pm 14.68$\n",
        " HESSJ1018-589 & 2.5680e+02 &   21.00 &                3 &                      3 &   $6.77458 \\pm 6.29718$ &   $0.90000 \\pm 0.40000$ &                \\nodata &   $ 0.68169 \\pm 0.98354$\n",
        " HESSJ1023-577 & 1.1000e+03 &    4.60 &              2.8 &                    2.8 & $26.68855 \\pm 11.84988$ &   $4.82411 \\pm 1.70053$ &                \\nodata &   $ 2.50353 \\pm 1.11158$\n",
        " HESSJ1026-582 & 8.4000e+01 &   90.00 &     $2.3\\pm 0.3$ &           2.3$\\pm 0.3$ &             $<9.37416 $ &   $3.73537 \\pm 2.18879$ &                \\nodata &               $<0.59333$\n",
        " HESSJ1119-614 & 2.3000e+02 &    1.60 &     $8.4\\pm 0.4$ &           8.4$\\pm 0.4$ &   $9.09525 \\pm 5.16586$ &   $2.31880 \\pm 1.15666$ &                \\nodata &   $ 7.67864 \\pm 4.42215$\n",
        " HESSJ1303-631 & 1.7000e+02 &   11.00 &   $6.7 \\pm 1.15$ &    6.7$^{+1.1}_{-1.2}$ & $15.62663 \\pm 11.16170$ &  $26.70000 \\pm 1.00000$ &  $0.16000 \\pm 0.03000$ &   $ 8.26836 \\pm 6.61695$\n",
        " HESSJ1356-645 & 3.1000e+02 &    7.30 &   $2.5 \\pm 0.45$ &    2.5$^{+0.4}_{-0.5}$ &  $16.36471 \\pm 9.60730$ &   $6.66231 \\pm 3.71138$ &  $0.06040 \\pm 0.01200$ &   $ 1.22377 \\pm 0.88622$\n",
        " HESSJ1418-609 & 4.9000e+02 &    1.03 &     $1.6\\pm 0.7$ &           1.6$\\pm 0.7$ &            $<24.71138 $ &   $3.41000 \\pm 1.82000$ &  $3.11000 \\pm 0.14700$ &               $<0.75692$\n",
        " HESSJ1420-607 & 1.0000e+03 &   13.00 &     $5.6\\pm 0.9$ &           5.6$\\pm 0.9$ &  $22.98043 \\pm 9.32910$ &  $14.50000 \\pm 3.30000$ &  $1.30000 \\pm 0.26000$ &   $ 8.62274 \\pm 4.48405$\n",
        "\n"
       ]
      }
     ],
     "prompt_number": 1
    },
    {
     "cell_type": "markdown",
     "metadata": {},
     "source": [
      "Note the file format ($<9.4$ for upper limits, \\pm for error bars)."
     ]
    },
    {
     "cell_type": "code",
     "collapsed": false,
     "input": [
      "# read data into pandas\n",
      "from pandas import read_csv\n",
      "df = read_csv(csvfile, index_col=0, delimiter='\\s+&\\s+', delim_whitespace=True)"
     ],
     "language": "python",
     "metadata": {},
     "outputs": [],
     "prompt_number": 2
    },
    {
     "cell_type": "markdown",
     "metadata": {},
     "source": [
      "Here is the raw data"
     ]
    },
    {
     "cell_type": "code",
     "collapsed": false,
     "input": [
      "df.ix[:5]"
     ],
     "language": "python",
     "metadata": {},
     "outputs": [
      {
       "html": [
        "<div style=\"max-height:1000px;max-width:1500px;overflow:auto;\">\n",
        "<table border=\"1\" class=\"dataframe\">\n",
        "  <thead>\n",
        "    <tr style=\"text-align: right;\">\n",
        "      <th></th>\n",
        "      <th>Edot</th>\n",
        "      <th>age</th>\n",
        "      <th>Distance</th>\n",
        "      <th>Distance_ORIG</th>\n",
        "      <th>F_GeV</th>\n",
        "      <th>F_TeV</th>\n",
        "      <th>F_Xray</th>\n",
        "      <th>L_GeV</th>\n",
        "    </tr>\n",
        "    <tr>\n",
        "      <th>Source</th>\n",
        "      <th></th>\n",
        "      <th></th>\n",
        "      <th></th>\n",
        "      <th></th>\n",
        "      <th></th>\n",
        "      <th></th>\n",
        "      <th></th>\n",
        "      <th></th>\n",
        "    </tr>\n",
        "  </thead>\n",
        "  <tbody>\n",
        "    <tr>\n",
        "      <th>Crab</th>\n",
        "      <td>   4.60e+04</td>\n",
        "      <td>  1.20</td>\n",
        "      <td> $2.0\\pm 0.5$</td>\n",
        "      <td> 2.0$\\pm 0.5$</td>\n",
        "      <td>       $485.7 \\pm 187.6$</td>\n",
        "      <td>       $80.0 \\pm 16.5$</td>\n",
        "      <td> $21000.00 \\pm 4200.00$</td>\n",
        "      <td>       $23.24\\pm 14.68$</td>\n",
        "    </tr>\n",
        "    <tr>\n",
        "      <th>HESSJ1018-589</th>\n",
        "      <td> 2.5680e+02</td>\n",
        "      <td> 21.00</td>\n",
        "      <td>            3</td>\n",
        "      <td>            3</td>\n",
        "      <td>   $6.77458 \\pm 6.29718$</td>\n",
        "      <td> $0.90000 \\pm 0.40000$</td>\n",
        "      <td>                \\nodata</td>\n",
        "      <td> $ 0.68169 \\pm 0.98354$</td>\n",
        "    </tr>\n",
        "    <tr>\n",
        "      <th>HESSJ1023-577</th>\n",
        "      <td> 1.1000e+03</td>\n",
        "      <td>  4.60</td>\n",
        "      <td>          2.8</td>\n",
        "      <td>          2.8</td>\n",
        "      <td> $26.68855 \\pm 11.84988$</td>\n",
        "      <td> $4.82411 \\pm 1.70053$</td>\n",
        "      <td>                \\nodata</td>\n",
        "      <td> $ 2.50353 \\pm 1.11158$</td>\n",
        "    </tr>\n",
        "    <tr>\n",
        "      <th>HESSJ1026-582</th>\n",
        "      <td> 8.4000e+01</td>\n",
        "      <td> 90.00</td>\n",
        "      <td> $2.3\\pm 0.3$</td>\n",
        "      <td> 2.3$\\pm 0.3$</td>\n",
        "      <td>             $&lt;9.37416 $</td>\n",
        "      <td> $3.73537 \\pm 2.18879$</td>\n",
        "      <td>                \\nodata</td>\n",
        "      <td>             $&lt;0.59333$</td>\n",
        "    </tr>\n",
        "    <tr>\n",
        "      <th>HESSJ1119-614</th>\n",
        "      <td> 2.3000e+02</td>\n",
        "      <td>  1.60</td>\n",
        "      <td> $8.4\\pm 0.4$</td>\n",
        "      <td> 8.4$\\pm 0.4$</td>\n",
        "      <td>   $9.09525 \\pm 5.16586$</td>\n",
        "      <td> $2.31880 \\pm 1.15666$</td>\n",
        "      <td>                \\nodata</td>\n",
        "      <td> $ 7.67864 \\pm 4.42215$</td>\n",
        "    </tr>\n",
        "  </tbody>\n",
        "</table>\n",
        "</div>"
       ],
       "output_type": "pyout",
       "prompt_number": 3,
       "text": [
        "                     Edot    age      Distance Distance_ORIG  \\\n",
        "Source                                                         \n",
        "Crab             4.60e+04   1.20  $2.0\\pm 0.5$  2.0$\\pm 0.5$   \n",
        "HESSJ1018-589  2.5680e+02  21.00             3             3   \n",
        "HESSJ1023-577  1.1000e+03   4.60           2.8           2.8   \n",
        "HESSJ1026-582  8.4000e+01  90.00  $2.3\\pm 0.3$  2.3$\\pm 0.3$   \n",
        "HESSJ1119-614  2.3000e+02   1.60  $8.4\\pm 0.4$  8.4$\\pm 0.4$   \n",
        "\n",
        "                                 F_GeV                  F_TeV  \\\n",
        "Source                                                          \n",
        "Crab                 $485.7 \\pm 187.6$        $80.0 \\pm 16.5$   \n",
        "HESSJ1018-589    $6.77458 \\pm 6.29718$  $0.90000 \\pm 0.40000$   \n",
        "HESSJ1023-577  $26.68855 \\pm 11.84988$  $4.82411 \\pm 1.70053$   \n",
        "HESSJ1026-582              $<9.37416 $  $3.73537 \\pm 2.18879$   \n",
        "HESSJ1119-614    $9.09525 \\pm 5.16586$  $2.31880 \\pm 1.15666$   \n",
        "\n",
        "                               F_Xray                   L_GeV  \n",
        "Source                                                         \n",
        "Crab           $21000.00 \\pm 4200.00$        $23.24\\pm 14.68$  \n",
        "HESSJ1018-589                 \\nodata  $ 0.68169 \\pm 0.98354$  \n",
        "HESSJ1023-577                 \\nodata  $ 2.50353 \\pm 1.11158$  \n",
        "HESSJ1026-582                 \\nodata              $<0.59333$  \n",
        "HESSJ1119-614                 \\nodata  $ 7.67864 \\pm 4.42215$  "
       ]
      }
     ],
     "prompt_number": 3
    },
    {
     "cell_type": "markdown",
     "metadata": {},
     "source": [
      "Now, lets clean the data up"
     ]
    },
    {
     "cell_type": "code",
     "collapsed": false,
     "input": [
      "# First, replace \\nodata with missing data\n",
      "import numpy as np\n",
      "df = df.applymap(lambda x: x if x.strip() != r'\\nodata' else np.nan)\n",
      "\n",
      "# Next, convert nubmers to DataPoints:\n",
      "df['Edot'] = df['Edot'].astype(float)\n",
      "df['age'] = df['age'].astype(float)\n",
      "# Not sure what to do with assymetric errors in Distance, yet..."
     ],
     "language": "python",
     "metadata": {},
     "outputs": [
      {
       "output_type": "stream",
       "stream": "stderr",
       "text": [
        "/u/gl/lande/lib/python2.7/site-packages/pandas-0.10.1-py2.7-linux-x86_64.egg/pandas/core/frame.py:3576: FutureWarning: rename with inplace=True  will return None from pandas 0.11 onward\n",
        "  \" from pandas 0.11 onward\", FutureWarning)\n"
       ]
      }
     ],
     "prompt_number": 4
    },
    {
     "cell_type": "markdown",
     "metadata": {},
     "source": [
      "Next, convert numbers w/ errors and limits"
     ]
    },
    {
     "cell_type": "code",
     "collapsed": false,
     "input": [
      "from lande.datapoints import DataPoint, Detection, UpperLimit"
     ],
     "language": "python",
     "metadata": {},
     "outputs": [],
     "prompt_number": 5
    },
    {
     "cell_type": "code",
     "collapsed": false,
     "input": [
      "for i in ['F_GeV','F_TeV','F_Xray','L_GeV','Distance']:\n",
      "    df[i] = df[i].map(lambda x: DataPoint.from_string(x), na_action='ignore')"
     ],
     "language": "python",
     "metadata": {},
     "outputs": [],
     "prompt_number": 6
    },
    {
     "cell_type": "code",
     "collapsed": false,
     "input": [
      "df['L_GeV']*=10.**34\n",
      "df['Edot']*=10.**34"
     ],
     "language": "python",
     "metadata": {},
     "outputs": [],
     "prompt_number": 7
    },
    {
     "cell_type": "markdown",
     "metadata": {},
     "source": [
      "Now, the final data is in the right format"
     ]
    },
    {
     "cell_type": "code",
     "collapsed": false,
     "input": [
      "type(df['F_Xray']['Crab'])"
     ],
     "language": "python",
     "metadata": {},
     "outputs": [
      {
       "output_type": "pyout",
       "prompt_number": 8,
       "text": [
        "lande.datapoints.Detection"
       ]
      }
     ],
     "prompt_number": 8
    },
    {
     "cell_type": "markdown",
     "metadata": {},
     "source": [
      "Add computed the ohter things we need to plot"
     ]
    },
    {
     "cell_type": "code",
     "collapsed": false,
     "input": [
      "df['L_GeV/TeV'] = df['F_GeV']/df['F_TeV']\n",
      "df['L_GeV/Xray'] = df['F_GeV']/df['F_Xray']"
     ],
     "language": "python",
     "metadata": {},
     "outputs": [],
     "prompt_number": 9
    },
    {
     "cell_type": "markdown",
     "metadata": {},
     "source": [
      "# Compute Luminosities"
     ]
    },
    {
     "cell_type": "markdown",
     "metadata": {},
     "source": [
      "First, we write a function to compute luminosity errors"
     ]
    },
    {
     "cell_type": "code",
     "collapsed": false,
     "input": [
      "from astropy import units as u\n",
      "from uncertainties import ufloat\n",
      "def get_luminosity(flux, dist):\n",
      "    if type(dist) == float:\n",
      "        dist = Detection(dist, 0.2*dist)\n",
      "\n",
      "    L = flux*4*math.pi*dist**2\n",
      "    \n",
      "    convert = lambda x: (x*(1e-12*u.erg/u.cm**2/u.s)*(u.kpc)**2).to(u.erg/u.s)\n",
      "    x,y= convert(L.value), convert(L.error)\n",
      "    return Detection(x.value,y.value)"
     ],
     "language": "python",
     "metadata": {},
     "outputs": [],
     "prompt_number": 24
    },
    {
     "cell_type": "markdown",
     "metadata": {},
     "source": [
      "Next, we demonstrate that it works"
     ]
    },
    {
     "cell_type": "code",
     "collapsed": false,
     "input": [
      "# For Crab, tevcat_v9 says L = 23 +/- 15 (in units 1e34 erg/s)\n",
      "\n",
      "get_luminosity(Detection(486,188), Detection(2, 0.5))"
     ],
     "language": "python",
     "metadata": {},
     "outputs": [
      {
       "html": [
        "$2.32598663545e+35 \\pm 1.47041810112e+35 $"
       ],
       "output_type": "pyout",
       "prompt_number": 26,
       "text": [
        "2.32598663545e+35 +/- 1.47041810112e+35"
       ]
      }
     ],
     "prompt_number": 26
    },
    {
     "cell_type": "code",
     "collapsed": false,
     "input": [
      "# For HESS J1018\u2212589, tevcat_v9 says L=0.7 \u00b1 0.7 (in units 1e34 erg/s)\n",
      "get_luminosity(Detection(6.8,6.3), 3)"
     ],
     "language": "python",
     "metadata": {},
     "outputs": [
      {
       "html": [
        "$7.32255051901e+33 \\pm 6.78412768673e+33 $"
       ],
       "output_type": "pyout",
       "prompt_number": 27,
       "text": [
        "7.32255051901e+33 +/- 6.78412768673e+33"
       ]
      }
     ],
     "prompt_number": 27
    },
    {
     "cell_type": "markdown",
     "metadata": {},
     "source": [
      "Now, we compute the luminosity using my method"
     ]
    },
    {
     "cell_type": "code",
     "collapsed": false,
     "input": [
      "df['my_L_GeV'] = df['L_GeV']\n",
      "df['my_L_GeV'][:] = 0\n",
      "for i in df.index:\n",
      "    print i, df['F_GeV'], df['Distance'], get_luminosity( df['F_GeV'], df['Distance'])\n",
      "    #df['my_L_GeV'] = "
     ],
     "language": "python",
     "metadata": {},
     "outputs": [
      {
       "ename": "TypeError",
       "evalue": "'NotImplementedType' object is not callable",
       "output_type": "pyerr",
       "traceback": [
        "\u001b[1;31m---------------------------------------------------------------------------\u001b[0m\n\u001b[1;31mTypeError\u001b[0m                                 Traceback (most recent call last)",
        "\u001b[1;32m<ipython-input-34-c687b89c9bc6>\u001b[0m in \u001b[0;36m<module>\u001b[1;34m()\u001b[0m\n\u001b[0;32m      2\u001b[0m \u001b[0mdf\u001b[0m\u001b[1;33m[\u001b[0m\u001b[1;34m'my_L_GeV'\u001b[0m\u001b[1;33m]\u001b[0m\u001b[1;33m[\u001b[0m\u001b[1;33m:\u001b[0m\u001b[1;33m]\u001b[0m \u001b[1;33m=\u001b[0m \u001b[1;36m0\u001b[0m\u001b[1;33m\u001b[0m\u001b[0m\n\u001b[0;32m      3\u001b[0m \u001b[1;32mfor\u001b[0m \u001b[0mi\u001b[0m \u001b[1;32min\u001b[0m \u001b[0mdf\u001b[0m\u001b[1;33m.\u001b[0m\u001b[0mindex\u001b[0m\u001b[1;33m:\u001b[0m\u001b[1;33m\u001b[0m\u001b[0m\n\u001b[1;32m----> 4\u001b[1;33m     \u001b[1;32mprint\u001b[0m \u001b[0mi\u001b[0m\u001b[1;33m,\u001b[0m \u001b[0mdf\u001b[0m\u001b[1;33m[\u001b[0m\u001b[1;34m'F_GeV'\u001b[0m\u001b[1;33m]\u001b[0m\u001b[1;33m,\u001b[0m \u001b[0mdf\u001b[0m\u001b[1;33m[\u001b[0m\u001b[1;34m'Distance'\u001b[0m\u001b[1;33m]\u001b[0m\u001b[1;33m,\u001b[0m \u001b[0mget_luminosity\u001b[0m\u001b[1;33m(\u001b[0m \u001b[0mdf\u001b[0m\u001b[1;33m[\u001b[0m\u001b[1;34m'F_GeV'\u001b[0m\u001b[1;33m]\u001b[0m\u001b[1;33m,\u001b[0m \u001b[0mdf\u001b[0m\u001b[1;33m[\u001b[0m\u001b[1;34m'Distance'\u001b[0m\u001b[1;33m]\u001b[0m\u001b[1;33m)\u001b[0m\u001b[1;33m\u001b[0m\u001b[0m\n\u001b[0m\u001b[0;32m      5\u001b[0m     \u001b[1;31m#df['my_L_GeV'] =\u001b[0m\u001b[1;33m\u001b[0m\u001b[1;33m\u001b[0m\u001b[0m\n",
        "\u001b[1;32m<ipython-input-24-1fd056d3a145>\u001b[0m in \u001b[0;36mget_luminosity\u001b[1;34m(flux, dist)\u001b[0m\n\u001b[0;32m      5\u001b[0m         \u001b[0mdist\u001b[0m \u001b[1;33m=\u001b[0m \u001b[0mDetection\u001b[0m\u001b[1;33m(\u001b[0m\u001b[0mdist\u001b[0m\u001b[1;33m,\u001b[0m \u001b[1;36m0.2\u001b[0m\u001b[1;33m*\u001b[0m\u001b[0mdist\u001b[0m\u001b[1;33m)\u001b[0m\u001b[1;33m\u001b[0m\u001b[0m\n\u001b[0;32m      6\u001b[0m \u001b[1;33m\u001b[0m\u001b[0m\n\u001b[1;32m----> 7\u001b[1;33m     \u001b[0mL\u001b[0m \u001b[1;33m=\u001b[0m \u001b[0mflux\u001b[0m\u001b[1;33m*\u001b[0m\u001b[1;36m4\u001b[0m\u001b[1;33m*\u001b[0m\u001b[0mmath\u001b[0m\u001b[1;33m.\u001b[0m\u001b[0mpi\u001b[0m\u001b[1;33m*\u001b[0m\u001b[0mdist\u001b[0m\u001b[1;33m**\u001b[0m\u001b[1;36m2\u001b[0m\u001b[1;33m\u001b[0m\u001b[0m\n\u001b[0m\u001b[0;32m      8\u001b[0m \u001b[1;33m\u001b[0m\u001b[0m\n\u001b[0;32m      9\u001b[0m     \u001b[0mconvert\u001b[0m \u001b[1;33m=\u001b[0m \u001b[1;32mlambda\u001b[0m \u001b[0mx\u001b[0m\u001b[1;33m:\u001b[0m \u001b[1;33m(\u001b[0m\u001b[0mx\u001b[0m\u001b[1;33m*\u001b[0m\u001b[1;33m(\u001b[0m\u001b[1;36m1e-12\u001b[0m\u001b[1;33m*\u001b[0m\u001b[0mu\u001b[0m\u001b[1;33m.\u001b[0m\u001b[0merg\u001b[0m\u001b[1;33m/\u001b[0m\u001b[0mu\u001b[0m\u001b[1;33m.\u001b[0m\u001b[0mcm\u001b[0m\u001b[1;33m**\u001b[0m\u001b[1;36m2\u001b[0m\u001b[1;33m/\u001b[0m\u001b[0mu\u001b[0m\u001b[1;33m.\u001b[0m\u001b[0ms\u001b[0m\u001b[1;33m)\u001b[0m\u001b[1;33m*\u001b[0m\u001b[1;33m(\u001b[0m\u001b[0mu\u001b[0m\u001b[1;33m.\u001b[0m\u001b[0mkpc\u001b[0m\u001b[1;33m)\u001b[0m\u001b[1;33m**\u001b[0m\u001b[1;36m2\u001b[0m\u001b[1;33m)\u001b[0m\u001b[1;33m.\u001b[0m\u001b[0mto\u001b[0m\u001b[1;33m(\u001b[0m\u001b[0mu\u001b[0m\u001b[1;33m.\u001b[0m\u001b[0merg\u001b[0m\u001b[1;33m/\u001b[0m\u001b[0mu\u001b[0m\u001b[1;33m.\u001b[0m\u001b[0ms\u001b[0m\u001b[1;33m)\u001b[0m\u001b[1;33m\u001b[0m\u001b[0m\n",
        "\u001b[1;32m/u/gl/lande/lib/python2.7/site-packages/pandas-0.10.1-py2.7-linux-x86_64.egg/pandas/core/series.pyc\u001b[0m in \u001b[0;36mwrapper\u001b[1;34m(self, other)\u001b[0m\n\u001b[0;32m     91\u001b[0m             \u001b[1;32mif\u001b[0m \u001b[0mself\u001b[0m\u001b[1;33m.\u001b[0m\u001b[0mindex\u001b[0m\u001b[1;33m.\u001b[0m\u001b[0mequals\u001b[0m\u001b[1;33m(\u001b[0m\u001b[0mother\u001b[0m\u001b[1;33m.\u001b[0m\u001b[0mindex\u001b[0m\u001b[1;33m)\u001b[0m\u001b[1;33m:\u001b[0m\u001b[1;33m\u001b[0m\u001b[0m\n\u001b[0;32m     92\u001b[0m                 \u001b[0mname\u001b[0m \u001b[1;33m=\u001b[0m \u001b[0m_maybe_match_name\u001b[0m\u001b[1;33m(\u001b[0m\u001b[0mself\u001b[0m\u001b[1;33m,\u001b[0m \u001b[0mother\u001b[0m\u001b[1;33m)\u001b[0m\u001b[1;33m\u001b[0m\u001b[0m\n\u001b[1;32m---> 93\u001b[1;33m                 return Series(wrap_results(na_op(lvalues, rvalues)),\n\u001b[0m\u001b[0;32m     94\u001b[0m                               index=self.index, name=name)\n\u001b[0;32m     95\u001b[0m \u001b[1;33m\u001b[0m\u001b[0m\n",
        "\u001b[1;32m/u/gl/lande/lib/python2.7/site-packages/pandas-0.10.1-py2.7-linux-x86_64.egg/pandas/core/series.pyc\u001b[0m in \u001b[0;36mna_op\u001b[1;34m(x, y)\u001b[0m\n\u001b[0;32m     63\u001b[0m             \u001b[1;32mif\u001b[0m \u001b[0misinstance\u001b[0m\u001b[1;33m(\u001b[0m\u001b[0my\u001b[0m\u001b[1;33m,\u001b[0m \u001b[0mnp\u001b[0m\u001b[1;33m.\u001b[0m\u001b[0mndarray\u001b[0m\u001b[1;33m)\u001b[0m\u001b[1;33m:\u001b[0m\u001b[1;33m\u001b[0m\u001b[0m\n\u001b[0;32m     64\u001b[0m                 \u001b[0mmask\u001b[0m \u001b[1;33m=\u001b[0m \u001b[0mnotnull\u001b[0m\u001b[1;33m(\u001b[0m\u001b[0mx\u001b[0m\u001b[1;33m)\u001b[0m \u001b[1;33m&\u001b[0m \u001b[0mnotnull\u001b[0m\u001b[1;33m(\u001b[0m\u001b[0my\u001b[0m\u001b[1;33m)\u001b[0m\u001b[1;33m\u001b[0m\u001b[0m\n\u001b[1;32m---> 65\u001b[1;33m                 \u001b[0mresult\u001b[0m\u001b[1;33m[\u001b[0m\u001b[0mmask\u001b[0m\u001b[1;33m]\u001b[0m \u001b[1;33m=\u001b[0m \u001b[0mop\u001b[0m\u001b[1;33m(\u001b[0m\u001b[0mx\u001b[0m\u001b[1;33m[\u001b[0m\u001b[0mmask\u001b[0m\u001b[1;33m]\u001b[0m\u001b[1;33m,\u001b[0m \u001b[0my\u001b[0m\u001b[1;33m[\u001b[0m\u001b[0mmask\u001b[0m\u001b[1;33m]\u001b[0m\u001b[1;33m)\u001b[0m\u001b[1;33m\u001b[0m\u001b[0m\n\u001b[0m\u001b[0;32m     66\u001b[0m             \u001b[1;32melse\u001b[0m\u001b[1;33m:\u001b[0m\u001b[1;33m\u001b[0m\u001b[0m\n\u001b[0;32m     67\u001b[0m                 \u001b[0mmask\u001b[0m \u001b[1;33m=\u001b[0m \u001b[0mnotnull\u001b[0m\u001b[1;33m(\u001b[0m\u001b[0mx\u001b[0m\u001b[1;33m)\u001b[0m\u001b[1;33m\u001b[0m\u001b[0m\n",
        "\u001b[1;32m/u/gl/lande/svn/lande/trunk/code/lande/datapoints/__init__.py\u001b[0m in \u001b[0;36m__mul__\u001b[1;34m(self, other)\u001b[0m\n\u001b[0;32m    132\u001b[0m                 \u001b[1;32mreturn\u001b[0m \u001b[0mUpperLimit\u001b[0m\u001b[1;33m(\u001b[0m\u001b[0mself\u001b[0m\u001b[1;33m.\u001b[0m\u001b[0mupper_limit\u001b[0m\u001b[1;33m*\u001b[0m\u001b[0mother\u001b[0m\u001b[1;33m)\u001b[0m\u001b[1;33m\u001b[0m\u001b[0m\n\u001b[0;32m    133\u001b[0m         \u001b[1;32melse\u001b[0m\u001b[1;33m:\u001b[0m\u001b[1;33m\u001b[0m\u001b[0m\n\u001b[1;32m--> 134\u001b[1;33m             \u001b[1;32mraise\u001b[0m \u001b[0mNotImplemented\u001b[0m\u001b[1;33m(\u001b[0m\u001b[1;33m)\u001b[0m\u001b[1;33m\u001b[0m\u001b[0m\n\u001b[0m\u001b[0;32m    135\u001b[0m \u001b[1;33m\u001b[0m\u001b[0m\n\u001b[0;32m    136\u001b[0m     \u001b[1;32mdef\u001b[0m \u001b[0m__repr__\u001b[0m\u001b[1;33m(\u001b[0m\u001b[0mself\u001b[0m\u001b[1;33m)\u001b[0m\u001b[1;33m:\u001b[0m\u001b[1;33m\u001b[0m\u001b[0m\n",
        "\u001b[1;31mTypeError\u001b[0m: 'NotImplementedType' object is not callable"
       ]
      },
      {
       "output_type": "stream",
       "stream": "stdout",
       "text": [
        "Crab Source\n",
        "Crab                    485.7 +/- 187.6\n",
        "HESSJ1018-589       6.77458 +/- 6.29718\n",
        "HESSJ1023-577     26.68855 +/- 11.84988\n",
        "HESSJ1026-582                  <9.37416\n",
        "HESSJ1119-614       9.09525 +/- 5.16586\n",
        "HESSJ1303-631      15.62663 +/- 11.1617\n",
        "HESSJ1356-645       16.36471 +/- 9.6073\n",
        "HESSJ1418-609                 <24.71138\n",
        "HESSJ1420-607       22.98043 +/- 9.3291\n",
        "HESSJ1458-608                 <14.62661\n",
        "HESSJ1514-591      45.8928 +/- 12.69314\n",
        "HESSJ1554-550                  <2.80616\n",
        "HESSJ1616-508     46.06933 +/- 14.00093\n",
        "HESSJ1632-478     78.84318 +/- 19.08355\n",
        "HESSJ1640-465     29.83811 +/- 11.21209\n",
        "HESSJ1646-458B                <24.34214\n",
        "HESSJ1702-420                 <25.68782\n",
        "HESSJ1708-443     28.45405 +/- 13.03169\n",
        "HESSJ1718-385                 <12.04744\n",
        "HESSJ1804-216     73.79575 +/- 20.66964\n",
        "HESSJ1809-193                 <47.52481\n",
        "HESSJ1813-178                     <14.0\n",
        "HESSJ1818-154                  <8.86591\n",
        "HESSJ1825-137     59.33028 +/- 77.28056\n",
        "HESSJ1831-098                 <11.28011\n",
        "HESSJ1833-105                 <11.94215\n",
        "HESSJ1837-069     69.59796 +/- 22.63735\n",
        "HESSJ1841-055     89.07005 +/- 19.59332\n",
        "HESSJ1846-029                     <11.4\n",
        "HESSJ1848-018     30.04318 +/- 16.55967\n",
        "HESSJ1849-000                  <7.27354\n",
        "HESSJ1857+026     58.29851 +/- 10.07528\n",
        "HESSJ1912+101                 <26.51214\n",
        "MGROJ0631+105                  <5.95656\n",
        "MGROJ0632+17                   <29.0502\n",
        "MGROJ1908+06                  <31.78092\n",
        "MGROJ2019+37                  <26.74876\n",
        "MGROJ2228+611                 <11.58221\n",
        "VERJ0006+727                   <6.89932\n",
        "VERJ1930+188                   <5.52035\n",
        "VERJ1959+208                   <1.90154\n",
        "Vela-X                   134.2 +/- 11.1\n",
        "Name: F_GeV Source\n",
        "Crab                2.0 +/- 0.5\n",
        "HESSJ1018-589                 3\n",
        "HESSJ1023-577               2.8\n",
        "HESSJ1026-582       2.3 +/- 0.3\n",
        "HESSJ1119-614       8.4 +/- 0.4\n",
        "HESSJ1303-631      6.7 +/- 1.15\n",
        "HESSJ1356-645      2.5 +/- 0.45\n",
        "HESSJ1418-609       1.6 +/- 0.7\n",
        "HESSJ1420-607       5.6 +/- 0.9\n",
        "HESSJ1458-608                 4\n",
        "HESSJ1514-591       4.2 +/- 0.6\n",
        "HESSJ1554-550      7.75 +/- 1.3\n",
        "HESSJ1616-508       6.5 +/- 0.7\n",
        "HESSJ1632-478                 3\n",
        "HESSJ1640-465               NaN\n",
        "HESSJ1646-458B      5.0 +/- 0.7\n",
        "HESSJ1702-420      4.8 +/- 0.55\n",
        "HESSJ1708-443       2.3 +/- 0.3\n",
        "HESSJ1718-385       3.6 +/- 0.4\n",
        "HESSJ1804-216      3.8 +/- 0.45\n",
        "HESSJ1809-193       3.7 +/- 0.5\n",
        "HESSJ1813-178               4.7\n",
        "HESSJ1818-154      10.0 +/- 3.0\n",
        "HESSJ1825-137       3.9 +/- 0.4\n",
        "HESSJ1831-098              4.33\n",
        "HESSJ1833-105      4.7 +/- 0.45\n",
        "HESSJ1837-069               6.6\n",
        "HESSJ1841-055               1.3\n",
        "HESSJ1846-029               5.1\n",
        "HESSJ1848-018               4.7\n",
        "HESSJ1849-000                 7\n",
        "HESSJ1857+026                 9\n",
        "HESSJ1912+101              4.48\n",
        "MGROJ0631+105       1.0 +/- 0.2\n",
        "MGROJ0632+17      0.2 +/- 0.015\n",
        "MGROJ1908+06        3.2 +/- 0.3\n",
        "MGROJ2019+37       10.0 +/- 3.0\n",
        "MGROJ2228+611       0.8 +/- 0.2\n",
        "VERJ0006+727        1.4 +/- 0.3\n",
        "VERJ1930+188                  5\n",
        "VERJ1959+208        2.5 +/- 1.0\n",
        "Vela-X             0.3 +/- 0.02\n",
        "Name: Distance\u001b[0;31mERROR\u001b[0m: TypeError: 'NotImplementedType' object is not callable [lande.datapoints]\n"
       ]
      }
     ],
     "prompt_number": 34
    },
    {
     "cell_type": "markdown",
     "metadata": {},
     "source": [
      "# The final data frame"
     ]
    },
    {
     "cell_type": "code",
     "collapsed": false,
     "input": [
      "df.ix[:5]"
     ],
     "language": "python",
     "metadata": {},
     "outputs": []
    },
    {
     "cell_type": "code",
     "collapsed": false,
     "input": [
      "df.ix['HESSJ1708-443']"
     ],
     "language": "python",
     "metadata": {},
     "outputs": []
    },
    {
     "cell_type": "markdown",
     "metadata": {},
     "source": [
      "# Make plot of Luminosity vs Edot"
     ]
    },
    {
     "cell_type": "markdown",
     "metadata": {},
     "source": [
      "First, lets make a table of the quantities we want, with missing values dropped from the plot"
     ]
    },
    {
     "cell_type": "code",
     "collapsed": false,
     "input": [
      "l=df[['Edot','L_GeV']].dropna()\n",
      "\n",
      "#l.drop(r'HESS~J1718$-$385')\n",
      "\n",
      "l.ix[10:15]"
     ],
     "language": "python",
     "metadata": {},
     "outputs": []
    },
    {
     "cell_type": "markdown",
     "metadata": {},
     "source": [
      "Make a plot of Edot vs GeV Luminosity"
     ]
    },
    {
     "cell_type": "code",
     "collapsed": false,
     "input": [
      "from lande.utilities.pubplot import set_latex_defaults\n",
      "set_latex_defaults()"
     ],
     "language": "python",
     "metadata": {},
     "outputs": []
    },
    {
     "cell_type": "code",
     "collapsed": false,
     "input": [
      "Edot=l['Edot'].values\n",
      "luim=l['L_GeV'].values\n",
      "names = l.index.values"
     ],
     "language": "python",
     "metadata": {},
     "outputs": []
    },
    {
     "cell_type": "code",
     "collapsed": false,
     "input": [
      "\n",
      "Edot[names == 'HESSJ1818-154']\n",
      "luim[names == 'HESSJ1818-154']"
     ],
     "language": "python",
     "metadata": {},
     "outputs": []
    },
    {
     "cell_type": "code",
     "collapsed": false,
     "input": [
      "\n",
      "\n",
      "fig=figure(None, (6,6))\n",
      "axes=fig.add_subplot(111)\n",
      "xlim(1e34,1e39)\n",
      "axes.set_xscale('log')\n",
      "axes.set_yscale('log')\n",
      "axes.set_ylabel(r'$L_\\mathrm{GeV}$')\n",
      "axes.set_xlabel('$\\dot E$')\n",
      "   \n",
      "from lande.datapoints import plot\n",
      "def myplot(cut, **mykwargs):\n",
      "    kwargs=dict(marker='.', color='black', markersize=10)\n",
      "    kwargs.update(mykwargs)\n",
      "    plot(Edot[cut],luim[cut], axes=axes, **kwargs)\n",
      "\n",
      "myplot(cut=np.ones_like(names).astype(bool), color='black')\n",
      "myplot(cut=(names=='Vela-X'), color='blue')\n",
      "myplot(cut=(names=='Crab'), color='blue')\n",
      "myplot(cut=(names=='HESSJ1708-443'), color='red')\n",
      "\n",
      "def myplot(factor, **mykwargs):\n",
      "    kwargs=dict(color='black')\n",
      "    kwargs.update(mykwargs)\n",
      "    axes.plot([10**34,10**39],[10**34/factor,10**39/factor], **kwargs)\n",
      "\n",
      "myplot(1, linestyle='-')\n",
      "myplot(10, linestyle='--')\n",
      "myplot(100, linestyle='-.')\n",
      "\n",
      "axes.set_xlim(10.**34,10.**39)\n",
      "axes.set_ylim(10.**32,10.**36)\n",
      "savefig('pwn_luminosity_vs_edot.pdf')"
     ],
     "language": "python",
     "metadata": {},
     "outputs": []
    },
    {
     "cell_type": "markdown",
     "metadata": {},
     "source": [
      "# Plot GeV vs TeV luminosity ratio"
     ]
    },
    {
     "cell_type": "code",
     "collapsed": false,
     "input": [
      "l=df[['F_GeV','F_TeV','L_GeV','L_GeV/TeV','Edot','age','F_Xray']].dropna()\n",
      "\n",
      "#l.ix['Vela-X']\n",
      "df.ix['HESSJ1708-443']"
     ],
     "language": "python",
     "metadata": {},
     "outputs": []
    },
    {
     "cell_type": "code",
     "collapsed": false,
     "input": [
      "age=l['age'].values\n",
      "Edot=l['Edot'].values\n",
      "ratio=l['L_GeV/TeV'].values\n",
      "l_gev=l['L_GeV'].values\n",
      "names = l.index.values\n",
      "\n",
      "\n",
      "from mpl_toolkits.axes_grid1 import Grid\n",
      "\n",
      "from lande.datapoints import plot\n",
      "\n",
      "fig = plt.figure(None, (8., 8.))\n",
      "grid = Grid(fig, 111, # similar to subplot(111)\n",
      "            nrows_ncols = (2, 2), # creates 2x2 grid of axes\n",
      "            axes_pad=0.1, # pad between axes in inch.\n",
      "            share_all=False,\n",
      "           )\n",
      "\n",
      "\n",
      "for ax in grid:\n",
      "    ax.set_xscale('log')\n",
      "    ax.set_yscale('log')\n",
      "\n",
      "def myplot(x,y,axes):\n",
      "    plot(x,y, axes=axes, marker='.', color='black', markersize=10)\n",
      "    plot(x[(names=='Crab')|(names=='Vela-X')],y[(names=='Crab')|(names=='Vela-X')], axes=axes, marker='.', color='blue', markersize=10)\n",
      "    plot(x[names=='HESSJ1708-443'],y[names=='HESSJ1708-443'], axes=axes, marker='.', color='red', markersize=10)\n",
      "        \n",
      "myplot(age, l_gev, axes=grid[0])\n",
      "myplot(Edot, l_gev, axes=grid[1])\n",
      "myplot(age, ratio, axes=grid[2])\n",
      "myplot(Edot, ratio, axes=grid[3])\n",
      "\n",
      "grid[0].set_ylabel('LGeV')\n",
      "grid[2].set_ylabel('LGeV/LTeV')\n",
      "\n",
      "grid[2].set_xlabel('age')\n",
      "grid[3].set_xlabel('Edot')\n",
      "\n",
      "grid[0].set_xlim(0.5, 300)\n",
      "grid[1].set_xlim(1e35, 1e39)\n",
      "#axes.axhline(, color='black', linestyle='--')\n",
      "savefig('pwn_age_edot_vs_luminosity.pdf')\n"
     ],
     "language": "python",
     "metadata": {},
     "outputs": []
    },
    {
     "cell_type": "code",
     "collapsed": false,
     "input": [
      "f_xray=l['F_Xray']"
     ],
     "language": "python",
     "metadata": {},
     "outputs": []
    },
    {
     "cell_type": "markdown",
     "metadata": {},
     "source": [
      "# Testing/Temp stuff below"
     ]
    },
    {
     "cell_type": "code",
     "collapsed": false,
     "input": [
      "from pandas import Series"
     ],
     "language": "python",
     "metadata": {},
     "outputs": []
    },
    {
     "cell_type": "code",
     "collapsed": false,
     "input": [
      "f=Series([1,2,3])"
     ],
     "language": "python",
     "metadata": {},
     "outputs": []
    },
    {
     "cell_type": "code",
     "collapsed": false,
     "input": [
      "f.apply(lambda x: x**2)"
     ],
     "language": "python",
     "metadata": {},
     "outputs": []
    },
    {
     "cell_type": "code",
     "collapsed": false,
     "input": [],
     "language": "python",
     "metadata": {},
     "outputs": []
    }
   ],
   "metadata": {}
  }
 ]
}