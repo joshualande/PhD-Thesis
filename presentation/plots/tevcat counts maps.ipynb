{
 "metadata": {
  "name": "tevcat counts maps"
 },
 "nbformat": 3,
 "nbformat_minor": 0,
 "worksheets": [
  {
   "cells": [
    {
     "cell_type": "code",
     "collapsed": false,
     "input": [
      "from lande.utilities.pubplot import set_latex_defaults\n",
      "set_latex_defaults()"
     ],
     "language": "python",
     "metadata": {},
     "outputs": []
    },
    {
     "cell_type": "code",
     "collapsed": false,
     "input": [
      "from uw.like.roi_save import load\n",
      "import pyfits"
     ],
     "language": "python",
     "metadata": {},
     "outputs": []
    },
    {
     "cell_type": "code",
     "collapsed": false,
     "input": [
      "def nice_plot(roi, which, size=2):\n",
      "    smooth = roi.plot_sources(which=which, size=size, overlay_psf=False, \n",
      "        overlay_kwargs=dict(show_extensions=False, show_sources=True),\n",
      "        title='',\n",
      "        figsize=(4,4),\n",
      "        pixelsize_fraction=20,\n",
      "        kernel_rad=0.125,\n",
      "        interpolation='bilinear',\n",
      "    )\n",
      "    return smooth"
     ],
     "language": "python",
     "metadata": {},
     "outputs": []
    },
    {
     "cell_type": "markdown",
     "metadata": {},
     "source": [
      "# HESS J1303"
     ]
    },
    {
     "cell_type": "code",
     "collapsed": false,
     "input": [
      "roi_J1303=load(\"/afs/slac/g/glast/users/rousseau/TeV_sources/runs/13_11_Debug/HESS_J1303-631/roi_at_tev_HESS_J1303-631.dat\")"
     ],
     "language": "python",
     "metadata": {},
     "outputs": []
    },
    {
     "cell_type": "code",
     "collapsed": false,
     "input": [
      "smooth_J1303 = nice_plot(roi_J1303, which=\"HESS_J1303-631\")"
     ],
     "language": "python",
     "metadata": {},
     "outputs": []
    },
    {
     "cell_type": "code",
     "collapsed": false,
     "input": [
      "axes = smooth_J1303.axes\n",
      "\n",
      "# Note, j1303_excess.fits from HESS auxiliary information:\n",
      "#  http://www.mpi-hd.mpg.de/hfm/HESS/pages/publications/auxiliary/j1303darkpwn/hess/j1303_excess.fits\n",
      "\n",
      "f = pyfits.open('files/j1303_excess.fits')\n",
      "h, d = f[0].header, f[0].data\n",
      "\n",
      "axes[h].contour(d, np.linspace(50, 400, 5), colors='lightblue')\n",
      "\n",
      "axes.locator_params(axis=\"x\", nbins=2)\n",
      "axes.locator_params(axis=\"y\", nbins=2)\n",
      "\n",
      "fig = axes.get_figure()\n",
      "\n",
      "fig.subplots_adjust(left=0.1,right=0.85)\n",
      "axes.get_figure()\n",
      "\n",
      "fig"
     ],
     "language": "python",
     "metadata": {},
     "outputs": []
    },
    {
     "cell_type": "code",
     "collapsed": false,
     "input": [
      "smooth_J1303.cbar.solids.set_edgecolor(\"face\")"
     ],
     "language": "python",
     "metadata": {},
     "outputs": []
    },
    {
     "cell_type": "code",
     "collapsed": false,
     "input": [
      "fig.savefig('HESS_J1303-631.pdf')"
     ],
     "language": "python",
     "metadata": {},
     "outputs": []
    },
    {
     "cell_type": "markdown",
     "metadata": {},
     "source": [
      "# HESS J1356-645"
     ]
    },
    {
     "cell_type": "code",
     "collapsed": false,
     "input": [
      "roi_J1356 = load(\"/afs/slac/g/glast/users/rousseau/TeV_sources/runs/13_11_Debug/HESS_J1356-645/roi_at_tev_HESS_J1356-645.dat\")"
     ],
     "language": "python",
     "metadata": {},
     "outputs": []
    },
    {
     "cell_type": "code",
     "collapsed": false,
     "input": [
      "roi_J1356 = nice_plot(roi_J1356, which=\"HESS_J1356-645\")"
     ],
     "language": "python",
     "metadata": {},
     "outputs": []
    },
    {
     "cell_type": "markdown",
     "metadata": {},
     "source": [
      "Auxiliary fits file hess_hessj1356-645_fig1.fits \n",
      "\n",
      "* from http://www.mpi-hd.mpg.de/hfm/HESS/pages/publications/auxiliary/AA533_A103.html \n",
      "* for the publication http://adsabs.harvard.edu/abs/2011arXiv1108.2855H"
     ]
    },
    {
     "cell_type": "code",
     "collapsed": false,
     "input": [
      "axes = roi_J1356.axes\n",
      "\n",
      "f = pyfits.open('files/hess_hessj1356-645_fig1.fits')\n",
      "h, d = f[0].header, f[0].data\n",
      "\n",
      "axes[h].contour(d, np.linspace(20, 85, 4), colors='lightblue')\n",
      "\n",
      "axes.locator_params(axis=\"x\", nbins=2)\n",
      "axes.locator_params(axis=\"y\", nbins=2)\n",
      "\n",
      "fig = axes.get_figure()\n",
      "\n",
      "fig.subplots_adjust(left=0.1,right=0.85)\n",
      "axes.get_figure()\n",
      "\n",
      "fig"
     ],
     "language": "python",
     "metadata": {},
     "outputs": []
    },
    {
     "cell_type": "code",
     "collapsed": false,
     "input": [
      "fig.savefig('HESS_J1356-645.pdf')"
     ],
     "language": "python",
     "metadata": {},
     "outputs": []
    },
    {
     "cell_type": "markdown",
     "metadata": {},
     "source": [
      "# HESS J1119-614"
     ]
    },
    {
     "cell_type": "markdown",
     "metadata": {},
     "source": [
      "Note, HESS J1119-614 is the same as G292.2-00.5 (http://tevcat.uchicago.edu/?mode=1&showsrc=205)\n"
     ]
    },
    {
     "cell_type": "code",
     "collapsed": false,
     "input": [
      "roi_J1119 = load(\"/afs/slac/g/glast/users/rousseau/TeV_sources/runs/13_11_Debug/G292.2-0.5/roi_at_tev_G292.2-0.5.dat\")"
     ],
     "language": "python",
     "metadata": {},
     "outputs": []
    },
    {
     "cell_type": "code",
     "collapsed": false,
     "input": [
      "roi_J1119.print_summary(maxdist=1)"
     ],
     "language": "python",
     "metadata": {},
     "outputs": []
    },
    {
     "cell_type": "code",
     "collapsed": false,
     "input": [
      "smooth_J1119 = nice_plot(roi_J1119, which=\"G292.2-0.5\")"
     ],
     "language": "python",
     "metadata": {},
     "outputs": []
    },
    {
     "cell_type": "code",
     "collapsed": false,
     "input": [
      "axes = smooth_J1119.axes\n",
      "\n",
      "axes.locator_params(axis=\"x\", nbins=2)\n",
      "axes.locator_params(axis=\"y\", nbins=2)\n",
      "\n",
      "fig = axes.get_figure()\n",
      "\n",
      "fig.subplots_adjust(left=0.1,right=0.85)\n",
      "axes.get_figure()\n",
      "\n",
      "fig"
     ],
     "language": "python",
     "metadata": {},
     "outputs": []
    },
    {
     "cell_type": "code",
     "collapsed": false,
     "input": [
      "savefig('HESS_J1119-614.pdf')"
     ],
     "language": "python",
     "metadata": {},
     "outputs": []
    },
    {
     "cell_type": "markdown",
     "metadata": {},
     "source": [
      "# HESS J1420-607"
     ]
    },
    {
     "cell_type": "markdown",
     "metadata": {},
     "source": [
      "Note, HESS J1420-607 is the same as Kookaburra (http://tevcat.uchicago.edu/?mode=1&showsrc=124)"
     ]
    },
    {
     "cell_type": "code",
     "collapsed": false,
     "input": [
      "roi_J1420 = load(\"/afs/slac/g/glast/users/rousseau/TeV_sources/runs/13_11_Debug/Kookaburra/roi_at_tev_Kookaburra.dat\")"
     ],
     "language": "python",
     "metadata": {},
     "outputs": []
    },
    {
     "cell_type": "code",
     "collapsed": false,
     "input": [
      "smooth_J1420 = nice_plot(roi_J1420, which=\"Kookaburra\", size=1.5)"
     ],
     "language": "python",
     "metadata": {},
     "outputs": []
    },
    {
     "cell_type": "markdown",
     "metadata": {},
     "source": [
      "Auxiliary file HessKooka.fits\n",
      "\n",
      "* from http://www.mpi-hd.mpg.de/hfm/HESS/pages/publications/auxiliary/kookaburra_auxinfo.html\n",
      "* http://www.mpi-hd.mpg.de/hfm/HESS/pages/publications/auxiliary/HessKooka.fits\n",
      "\n",
      "\n",
      "    "
     ]
    },
    {
     "cell_type": "code",
     "collapsed": false,
     "input": [
      "axes = smooth_J1420.axes\n",
      "\n",
      "# Note, j1303_excess.fits from HESS auxiliary information:\n",
      "#  http://www.mpi-hd.mpg.de/hfm/HESS/pages/publications/auxiliary/j1303darkpwn/hess/j1303_excess.fits\n",
      "\n",
      "f = pyfits.open('files/HessKooka.fits')\n",
      "h, d = f[1].header, f[1].data\n",
      "\n",
      "h['CTYPE1'] = 'RA---MER'\n",
      "h['CTYPE2'] = 'DEC--MER'\n",
      "h['CUNIT1'] = 'deg'\n",
      "h['CUNIT2'] = 'deg'\n",
      "    \n",
      "axes[h].contour(d, np.linspace(15, 70, 4), colors='lightblue')\n",
      "\n",
      "axes.locator_params(axis=\"x\", nbins=2)\n",
      "axes.locator_params(axis=\"y\", nbins=2)\n",
      "\n",
      "fig = axes.get_figure()\n",
      "\n",
      "fig.subplots_adjust(left=0.1,right=0.85)\n",
      "axes.get_figure()\n",
      "\n",
      "fig"
     ],
     "language": "python",
     "metadata": {},
     "outputs": []
    },
    {
     "cell_type": "code",
     "collapsed": false,
     "input": [
      "savefig('HESS_J1420-607.pdf')"
     ],
     "language": "python",
     "metadata": {},
     "outputs": []
    },
    {
     "cell_type": "markdown",
     "metadata": {},
     "source": [
      "# HESS J1841-055"
     ]
    },
    {
     "cell_type": "code",
     "collapsed": false,
     "input": [
      "roi_J1841 = load(\"/afs/slac/g/glast/users/rousseau/TeV_sources/runs/13_11_Debug/HESS_J1841-055/roi_at_tev_HESS_J1841-055.dat\")"
     ],
     "language": "python",
     "metadata": {},
     "outputs": []
    },
    {
     "cell_type": "code",
     "collapsed": false,
     "input": [
      "smooth_J1841 = nice_plot(roi_J1841, which=\"HESS_J1841-055\", size=3)"
     ],
     "language": "python",
     "metadata": {},
     "outputs": []
    },
    {
     "cell_type": "code",
     "collapsed": false,
     "input": [
      "axes = smooth_J1841.axes\n",
      "\n",
      "axes.locator_params(axis=\"x\", nbins=3)\n",
      "axes.locator_params(axis=\"y\", nbins=3)\n",
      "\n",
      "fig = axes.get_figure()\n",
      "\n",
      "fig.subplots_adjust(left=0.1,right=0.85)\n",
      "axes.get_figure()\n",
      "\n",
      "fig"
     ],
     "language": "python",
     "metadata": {},
     "outputs": []
    },
    {
     "cell_type": "code",
     "collapsed": false,
     "input": [
      "savefig('HESS_J1841-055.pdf')"
     ],
     "language": "python",
     "metadata": {},
     "outputs": []
    },
    {
     "cell_type": "markdown",
     "metadata": {},
     "source": [
      "# TEMP"
     ]
    },
    {
     "cell_type": "markdown",
     "metadata": {},
     "source": [
      "..."
     ]
    }
   ],
   "metadata": {}
  }
 ]
}