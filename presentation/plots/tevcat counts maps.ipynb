{
 "metadata": {
  "name": "tevcat counts maps"
 },
 "nbformat": 3,
 "nbformat_minor": 0,
 "worksheets": [
  {
   "cells": [
    {
     "cell_type": "code",
     "collapsed": false,
     "input": [
      "from lande.utilities.pubplot import set_latex_defaults\n",
      "set_latex_defaults()"
     ],
     "language": "python",
     "metadata": {},
     "outputs": [],
     "prompt_number": 1
    },
    {
     "cell_type": "code",
     "collapsed": false,
     "input": [
      "from uw.like.roi_save import load\n",
      "import pyfits"
     ],
     "language": "python",
     "metadata": {},
     "outputs": [],
     "prompt_number": 2
    },
    {
     "cell_type": "code",
     "collapsed": false,
     "input": [
      "def nice_plot(roi, which, size=2):\n",
      "    smooth = roi.plot_sources(which=which, size=size, overlay_psf=False, \n",
      "        overlay_kwargs=dict(show_extensions=False, show_sources=True),\n",
      "        title='',\n",
      "        figsize=(4,4),\n",
      "        pixelsize_fraction=20,\n",
      "        kernel_rad=0.125,\n",
      "        interpolation='bilinear',\n",
      "    )\n",
      "    return smooth"
     ],
     "language": "python",
     "metadata": {},
     "outputs": [],
     "prompt_number": 3
    },
    {
     "cell_type": "markdown",
     "metadata": {},
     "source": [
      "# HESS J1303"
     ]
    },
    {
     "cell_type": "code",
     "collapsed": false,
     "input": [
      "roi_J1303=load(\"/afs/slac/g/glast/users/rousseau/TeV_sources/runs/13_11_Debug/HESS_J1303-631/roi_at_tev_HESS_J1303-631.dat\")"
     ],
     "language": "python",
     "metadata": {},
     "outputs": [
      {
       "output_type": "stream",
       "stream": "stdout",
       "text": [
        "Using gti from /afs/slac/g/glast/users/rousseau/TeV_sources/ltcubes_clean/ltcube_HESS_J1303-631.fits\n",
        "loaded LivetimeCube /afs/slac/g/glast/users/rousseau/TeV_sources/ltcubes_clean/ltcube_HESS_J1303-631.fits "
       ]
      },
      {
       "output_type": "stream",
       "stream": "stdout",
       "text": [
        "\n",
        ".....loading binfile /afs/slac/g/glast/users/rousseau/TeV_sources/bexpmap_clean/bexpmap_HESS_J1303-631.fits ... "
       ]
      },
      {
       "output_type": "stream",
       "stream": "stdout",
       "text": [
        "found 64 bands, energies 100-1000000 MeV\n",
        ".....setting up point sources (9 in ROI)..."
       ]
      },
      {
       "output_type": "stream",
       "stream": "stdout",
       "text": [
        " done!\n",
        ".....setting up diffuse/extended backgrounds for 24 bands...\n",
        ".......... Galactic Diffuse (ring_2year_P76_v0.fits)"
       ]
      },
      {
       "output_type": "stream",
       "stream": "stdout",
       "text": [
        " ...convolving band  1/24"
       ]
      },
      {
       "output_type": "stream",
       "stream": "stdout",
       "text": [
        " \b\b\b\b\b\b\b\b\b\b\b\b\b\b\b\b\b\b\b\b\b\b\b\b\b\b"
       ]
      },
      {
       "output_type": "stream",
       "stream": "stdout",
       "text": [
        " ...convolving band  2/24"
       ]
      },
      {
       "output_type": "stream",
       "stream": "stdout",
       "text": [
        " \b\b\b\b\b\b\b\b\b\b\b\b\b\b\b\b\b\b\b\b\b\b\b\b\b\b"
       ]
      },
      {
       "output_type": "stream",
       "stream": "stdout",
       "text": [
        " ...convolving band  3/24"
       ]
      },
      {
       "output_type": "stream",
       "stream": "stdout",
       "text": [
        " \b\b\b\b\b\b\b\b\b\b\b\b\b\b\b\b\b\b\b\b\b\b\b\b\b\b"
       ]
      },
      {
       "output_type": "stream",
       "stream": "stdout",
       "text": [
        " ...convolving band  4/24"
       ]
      },
      {
       "output_type": "stream",
       "stream": "stdout",
       "text": [
        " \b\b\b\b\b\b\b\b\b\b\b\b\b\b\b\b\b\b\b\b\b\b\b\b\b\b"
       ]
      },
      {
       "output_type": "stream",
       "stream": "stdout",
       "text": [
        " ...convolving band  5/24"
       ]
      },
      {
       "output_type": "stream",
       "stream": "stdout",
       "text": [
        " \b\b\b\b\b\b\b\b\b\b\b\b\b\b\b\b\b\b\b\b\b\b\b\b\b\b"
       ]
      },
      {
       "output_type": "stream",
       "stream": "stdout",
       "text": [
        " ...convolving band  6/24"
       ]
      },
      {
       "output_type": "stream",
       "stream": "stdout",
       "text": [
        " \b\b\b\b\b\b\b\b\b\b\b\b\b\b\b\b\b\b\b\b\b\b\b\b\b\b"
       ]
      },
      {
       "output_type": "stream",
       "stream": "stdout",
       "text": [
        " ...convolving band  7/24"
       ]
      },
      {
       "output_type": "stream",
       "stream": "stdout",
       "text": [
        " \b\b\b\b\b\b\b\b\b\b\b\b\b\b\b\b\b\b\b\b\b\b\b\b\b\b"
       ]
      },
      {
       "output_type": "stream",
       "stream": "stdout",
       "text": [
        " ...convolving band  8/24"
       ]
      },
      {
       "output_type": "stream",
       "stream": "stdout",
       "text": [
        " \b\b\b\b\b\b\b\b\b\b\b\b\b\b\b\b\b\b\b\b\b\b\b\b\b\b"
       ]
      },
      {
       "output_type": "stream",
       "stream": "stdout",
       "text": [
        " ...convolving band  9/24"
       ]
      },
      {
       "output_type": "stream",
       "stream": "stdout",
       "text": [
        " \b\b\b\b\b\b\b\b\b\b\b\b\b\b\b\b\b\b\b\b\b\b\b\b\b\b"
       ]
      },
      {
       "output_type": "stream",
       "stream": "stdout",
       "text": [
        " ...convolving band 10/24"
       ]
      },
      {
       "output_type": "stream",
       "stream": "stdout",
       "text": [
        " \b\b\b\b\b\b\b\b\b\b\b\b\b\b\b\b\b\b\b\b\b\b\b\b\b\b"
       ]
      },
      {
       "output_type": "stream",
       "stream": "stdout",
       "text": [
        " ...convolving band 11/24"
       ]
      },
      {
       "output_type": "stream",
       "stream": "stdout",
       "text": [
        " \b\b\b\b\b\b\b\b\b\b\b\b\b\b\b\b\b\b\b\b\b\b\b\b\b\b"
       ]
      },
      {
       "output_type": "stream",
       "stream": "stdout",
       "text": [
        " ...convolving band 12/24"
       ]
      },
      {
       "output_type": "stream",
       "stream": "stdout",
       "text": [
        " \b\b\b\b\b\b\b\b\b\b\b\b\b\b\b\b\b\b\b\b\b\b\b\b\b\b"
       ]
      },
      {
       "output_type": "stream",
       "stream": "stdout",
       "text": [
        " ...convolving band 13/24"
       ]
      },
      {
       "output_type": "stream",
       "stream": "stdout",
       "text": [
        " \b\b\b\b\b\b\b\b\b\b\b\b\b\b\b\b\b\b\b\b\b\b\b\b\b\b"
       ]
      },
      {
       "output_type": "stream",
       "stream": "stdout",
       "text": [
        " ...convolving band 14/24"
       ]
      },
      {
       "output_type": "stream",
       "stream": "stdout",
       "text": [
        " \b\b\b\b\b\b\b\b\b\b\b\b\b\b\b\b\b\b\b\b\b\b\b\b\b\b"
       ]
      },
      {
       "output_type": "stream",
       "stream": "stdout",
       "text": [
        " ...convolving band 15/24"
       ]
      },
      {
       "output_type": "stream",
       "stream": "stdout",
       "text": [
        " \b\b\b\b\b\b\b\b\b\b\b\b\b\b\b\b\b\b\b\b\b\b\b\b\b\b"
       ]
      },
      {
       "output_type": "stream",
       "stream": "stdout",
       "text": [
        " ...convolving band 16/24"
       ]
      },
      {
       "output_type": "stream",
       "stream": "stdout",
       "text": [
        " \b\b\b\b\b\b\b\b\b\b\b\b\b\b\b\b\b\b\b\b\b\b\b\b\b\b"
       ]
      },
      {
       "output_type": "stream",
       "stream": "stdout",
       "text": [
        " ...convolving band 17/24"
       ]
      },
      {
       "output_type": "stream",
       "stream": "stdout",
       "text": [
        " \b\b\b\b\b\b\b\b\b\b\b\b\b\b\b\b\b\b\b\b\b\b\b\b\b\b"
       ]
      },
      {
       "output_type": "stream",
       "stream": "stdout",
       "text": [
        " ...convolving band 18/24"
       ]
      },
      {
       "output_type": "stream",
       "stream": "stdout",
       "text": [
        " \b\b\b\b\b\b\b\b\b\b\b\b\b\b\b\b\b\b\b\b\b\b\b\b\b\b"
       ]
      },
      {
       "output_type": "stream",
       "stream": "stdout",
       "text": [
        " ...convolving band 19/24"
       ]
      },
      {
       "output_type": "stream",
       "stream": "stdout",
       "text": [
        " \b\b\b\b\b\b\b\b\b\b\b\b\b\b\b\b\b\b\b\b\b\b\b\b\b\b"
       ]
      },
      {
       "output_type": "stream",
       "stream": "stdout",
       "text": [
        " ...convolving band 20/24"
       ]
      },
      {
       "output_type": "stream",
       "stream": "stdout",
       "text": [
        " \b\b\b\b\b\b\b\b\b\b\b\b\b\b\b\b\b\b\b\b\b\b\b\b\b\b"
       ]
      },
      {
       "output_type": "stream",
       "stream": "stdout",
       "text": [
        " ...convolving band 21/24"
       ]
      },
      {
       "output_type": "stream",
       "stream": "stdout",
       "text": [
        " \b\b\b\b\b\b\b\b\b\b\b\b\b\b\b\b\b\b\b\b\b\b\b\b\b\b"
       ]
      },
      {
       "output_type": "stream",
       "stream": "stdout",
       "text": [
        " ...convolving band 22/24"
       ]
      },
      {
       "output_type": "stream",
       "stream": "stdout",
       "text": [
        " \b\b\b\b\b\b\b\b\b\b\b\b\b\b\b\b\b\b\b\b\b\b\b\b\b\b"
       ]
      },
      {
       "output_type": "stream",
       "stream": "stdout",
       "text": [
        " ...convolving band 23/24"
       ]
      },
      {
       "output_type": "stream",
       "stream": "stdout",
       "text": [
        " \b\b\b\b\b\b\b\b\b\b\b\b\b\b\b\b\b\b\b\b\b\b\b\b\b\b"
       ]
      },
      {
       "output_type": "stream",
       "stream": "stdout",
       "text": [
        " ...convolving band 24/24"
       ]
      },
      {
       "output_type": "stream",
       "stream": "stdout",
       "text": [
        " \b\b\b\b\b\b\b\b\b\b\b\b\b\b\b\b\b\b\b\b\b\b\b\b\b\b"
       ]
      },
      {
       "output_type": "stream",
       "stream": "stdout",
       "text": [
        "\n",
        ".......... Isotropic Diffuse (isotrop_2year_P76_clean_v0.txt)"
       ]
      },
      {
       "output_type": "stream",
       "stream": "stdout",
       "text": [
        " ...convolving band  1/24"
       ]
      },
      {
       "output_type": "stream",
       "stream": "stdout",
       "text": [
        " \b\b\b\b\b\b\b\b\b\b\b\b\b\b\b\b\b\b\b\b\b\b\b\b\b\b"
       ]
      },
      {
       "output_type": "stream",
       "stream": "stdout",
       "text": [
        " ...convolving band  2/24"
       ]
      },
      {
       "output_type": "stream",
       "stream": "stdout",
       "text": [
        " \b\b\b\b\b\b\b\b\b\b\b\b\b\b\b\b\b\b\b\b\b\b\b\b\b\b"
       ]
      },
      {
       "output_type": "stream",
       "stream": "stdout",
       "text": [
        " ...convolving band  3/24"
       ]
      },
      {
       "output_type": "stream",
       "stream": "stdout",
       "text": [
        " \b\b\b\b\b\b\b\b\b\b\b\b\b\b\b\b\b\b\b\b\b\b\b\b\b\b"
       ]
      },
      {
       "output_type": "stream",
       "stream": "stdout",
       "text": [
        " ...convolving band  4/24"
       ]
      },
      {
       "output_type": "stream",
       "stream": "stdout",
       "text": [
        " \b\b\b\b\b\b\b\b\b\b\b\b\b\b\b\b\b\b\b\b\b\b\b\b\b\b"
       ]
      },
      {
       "output_type": "stream",
       "stream": "stdout",
       "text": [
        " ...convolving band  5/24"
       ]
      },
      {
       "output_type": "stream",
       "stream": "stdout",
       "text": [
        " \b\b\b\b\b\b\b\b\b\b\b\b\b\b\b\b\b\b\b\b\b\b\b\b\b\b"
       ]
      },
      {
       "output_type": "stream",
       "stream": "stdout",
       "text": [
        " ...convolving band  6/24"
       ]
      },
      {
       "output_type": "stream",
       "stream": "stdout",
       "text": [
        " \b\b\b\b\b\b\b\b\b\b\b\b\b\b\b\b\b\b\b\b\b\b\b\b\b\b"
       ]
      },
      {
       "output_type": "stream",
       "stream": "stdout",
       "text": [
        " ...convolving band  7/24"
       ]
      },
      {
       "output_type": "stream",
       "stream": "stdout",
       "text": [
        " \b\b\b\b\b\b\b\b\b\b\b\b\b\b\b\b\b\b\b\b\b\b\b\b\b\b"
       ]
      },
      {
       "output_type": "stream",
       "stream": "stdout",
       "text": [
        " ...convolving band  8/24"
       ]
      },
      {
       "output_type": "stream",
       "stream": "stdout",
       "text": [
        " \b\b\b\b\b\b\b\b\b\b\b\b\b\b\b\b\b\b\b\b\b\b\b\b\b\b"
       ]
      },
      {
       "output_type": "stream",
       "stream": "stdout",
       "text": [
        " ...convolving band  9/24"
       ]
      },
      {
       "output_type": "stream",
       "stream": "stdout",
       "text": [
        " \b\b\b\b\b\b\b\b\b\b\b\b\b\b\b\b\b\b\b\b\b\b\b\b\b\b"
       ]
      },
      {
       "output_type": "stream",
       "stream": "stdout",
       "text": [
        " ...convolving band 10/24"
       ]
      },
      {
       "output_type": "stream",
       "stream": "stdout",
       "text": [
        " \b\b\b\b\b\b\b\b\b\b\b\b\b\b\b\b\b\b\b\b\b\b\b\b\b\b"
       ]
      },
      {
       "output_type": "stream",
       "stream": "stdout",
       "text": [
        " ...convolving band 11/24"
       ]
      },
      {
       "output_type": "stream",
       "stream": "stdout",
       "text": [
        " \b\b\b\b\b\b\b\b\b\b\b\b\b\b\b\b\b\b\b\b\b\b\b\b\b\b"
       ]
      },
      {
       "output_type": "stream",
       "stream": "stdout",
       "text": [
        " ...convolving band 12/24"
       ]
      },
      {
       "output_type": "stream",
       "stream": "stdout",
       "text": [
        " \b\b\b\b\b\b\b\b\b\b\b\b\b\b\b\b\b\b\b\b\b\b\b\b\b\b"
       ]
      },
      {
       "output_type": "stream",
       "stream": "stdout",
       "text": [
        " ...convolving band 13/24"
       ]
      },
      {
       "output_type": "stream",
       "stream": "stdout",
       "text": [
        " \b\b\b\b\b\b\b\b\b\b\b\b\b\b\b\b\b\b\b\b\b\b\b\b\b\b"
       ]
      },
      {
       "output_type": "stream",
       "stream": "stdout",
       "text": [
        " ...convolving band 14/24"
       ]
      },
      {
       "output_type": "stream",
       "stream": "stdout",
       "text": [
        " \b\b\b\b\b\b\b\b\b\b\b\b\b\b\b\b\b\b\b\b\b\b\b\b\b\b"
       ]
      },
      {
       "output_type": "stream",
       "stream": "stdout",
       "text": [
        " ...convolving band 15/24"
       ]
      },
      {
       "output_type": "stream",
       "stream": "stdout",
       "text": [
        " \b\b\b\b\b\b\b\b\b\b\b\b\b\b\b\b\b\b\b\b\b\b\b\b\b\b"
       ]
      },
      {
       "output_type": "stream",
       "stream": "stdout",
       "text": [
        " ...convolving band 16/24"
       ]
      },
      {
       "output_type": "stream",
       "stream": "stdout",
       "text": [
        " \b\b\b\b\b\b\b\b\b\b\b\b\b\b\b\b\b\b\b\b\b\b\b\b\b\b"
       ]
      },
      {
       "output_type": "stream",
       "stream": "stdout",
       "text": [
        " ...convolving band 17/24"
       ]
      },
      {
       "output_type": "stream",
       "stream": "stdout",
       "text": [
        " \b\b\b\b\b\b\b\b\b\b\b\b\b\b\b\b\b\b\b\b\b\b\b\b\b\b"
       ]
      },
      {
       "output_type": "stream",
       "stream": "stdout",
       "text": [
        " ...convolving band 18/24"
       ]
      },
      {
       "output_type": "stream",
       "stream": "stdout",
       "text": [
        " \b\b\b\b\b\b\b\b\b\b\b\b\b\b\b\b\b\b\b\b\b\b\b\b\b\b"
       ]
      },
      {
       "output_type": "stream",
       "stream": "stdout",
       "text": [
        " ...convolving band 19/24"
       ]
      },
      {
       "output_type": "stream",
       "stream": "stdout",
       "text": [
        " \b\b\b\b\b\b\b\b\b\b\b\b\b\b\b\b\b\b\b\b\b\b\b\b\b\b"
       ]
      },
      {
       "output_type": "stream",
       "stream": "stdout",
       "text": [
        " ...convolving band 20/24"
       ]
      },
      {
       "output_type": "stream",
       "stream": "stdout",
       "text": [
        " \b\b\b\b\b\b\b\b\b\b\b\b\b\b\b\b\b\b\b\b\b\b\b\b\b\b"
       ]
      },
      {
       "output_type": "stream",
       "stream": "stdout",
       "text": [
        " ...convolving band 21/24"
       ]
      },
      {
       "output_type": "stream",
       "stream": "stdout",
       "text": [
        " \b\b\b\b\b\b\b\b\b\b\b\b\b\b\b\b\b\b\b\b\b\b\b\b\b\b"
       ]
      },
      {
       "output_type": "stream",
       "stream": "stdout",
       "text": [
        " ...convolving band 22/24"
       ]
      },
      {
       "output_type": "stream",
       "stream": "stdout",
       "text": [
        " \b\b\b\b\b\b\b\b\b\b\b\b\b\b\b\b\b\b\b\b\b\b\b\b\b\b"
       ]
      },
      {
       "output_type": "stream",
       "stream": "stdout",
       "text": [
        " ...convolving band 23/24"
       ]
      },
      {
       "output_type": "stream",
       "stream": "stdout",
       "text": [
        " \b\b\b\b\b\b\b\b\b\b\b\b\b\b\b\b\b\b\b\b\b\b\b\b\b\b"
       ]
      },
      {
       "output_type": "stream",
       "stream": "stdout",
       "text": [
        " ...convolving band 24/24"
       ]
      },
      {
       "output_type": "stream",
       "stream": "stdout",
       "text": [
        " \b\b\b\b\b\b\b\b\b\b\b\b\b\b\b\b\b\b\b\b\b\b\b\b\b\b"
       ]
      },
      {
       "output_type": "stream",
       "stream": "stdout",
       "text": [
        "\n",
        ".......... HESS_J1303-631"
       ]
      },
      {
       "output_type": "stream",
       "stream": "stdout",
       "text": [
        " ...convolving band  1/24"
       ]
      },
      {
       "output_type": "stream",
       "stream": "stdout",
       "text": [
        " \b\b\b\b\b\b\b\b\b\b\b\b\b\b\b\b\b\b\b\b\b\b\b\b\b\b"
       ]
      },
      {
       "output_type": "stream",
       "stream": "stdout",
       "text": [
        " ...convolving band  2/24"
       ]
      },
      {
       "output_type": "stream",
       "stream": "stdout",
       "text": [
        " \b\b\b\b\b\b\b\b\b\b\b\b\b\b\b\b\b\b\b\b\b\b\b\b\b\b"
       ]
      },
      {
       "output_type": "stream",
       "stream": "stdout",
       "text": [
        " ...convolving band  3/24"
       ]
      },
      {
       "output_type": "stream",
       "stream": "stdout",
       "text": [
        " \b\b\b\b\b\b\b\b\b\b\b\b\b\b\b\b\b\b\b\b\b\b\b\b\b\b"
       ]
      },
      {
       "output_type": "stream",
       "stream": "stdout",
       "text": [
        " ...convolving band  4/24"
       ]
      },
      {
       "output_type": "stream",
       "stream": "stdout",
       "text": [
        " \b\b\b\b\b\b\b\b\b\b\b\b\b\b\b\b\b\b\b\b\b\b\b\b\b\b"
       ]
      },
      {
       "output_type": "stream",
       "stream": "stdout",
       "text": [
        " ...convolving band  5/24"
       ]
      },
      {
       "output_type": "stream",
       "stream": "stdout",
       "text": [
        " \b\b\b\b\b\b\b\b\b\b\b\b\b\b\b\b\b\b\b\b\b\b\b\b\b\b"
       ]
      },
      {
       "output_type": "stream",
       "stream": "stdout",
       "text": [
        " ...convolving band  6/24"
       ]
      },
      {
       "output_type": "stream",
       "stream": "stdout",
       "text": [
        " \b\b\b\b\b\b\b\b\b\b\b\b\b\b\b\b\b\b\b\b\b\b\b\b\b\b"
       ]
      },
      {
       "output_type": "stream",
       "stream": "stdout",
       "text": [
        " ...convolving band  7/24"
       ]
      },
      {
       "output_type": "stream",
       "stream": "stdout",
       "text": [
        " \b\b\b\b\b\b\b\b\b\b\b\b\b\b\b\b\b\b\b\b\b\b\b\b\b\b"
       ]
      },
      {
       "output_type": "stream",
       "stream": "stdout",
       "text": [
        " ...convolving band  8/24"
       ]
      },
      {
       "output_type": "stream",
       "stream": "stdout",
       "text": [
        " \b\b\b\b\b\b\b\b\b\b\b\b\b\b\b\b\b\b\b\b\b\b\b\b\b\b"
       ]
      },
      {
       "output_type": "stream",
       "stream": "stdout",
       "text": [
        " ...convolving band  9/24"
       ]
      },
      {
       "output_type": "stream",
       "stream": "stdout",
       "text": [
        " \b\b\b\b\b\b\b\b\b\b\b\b\b\b\b\b\b\b\b\b\b\b\b\b\b\b"
       ]
      },
      {
       "output_type": "stream",
       "stream": "stdout",
       "text": [
        " ...convolving band 10/24"
       ]
      },
      {
       "output_type": "stream",
       "stream": "stdout",
       "text": [
        " \b\b\b\b\b\b\b\b\b\b\b\b\b\b\b\b\b\b\b\b\b\b\b\b\b\b"
       ]
      },
      {
       "output_type": "stream",
       "stream": "stdout",
       "text": [
        " ...convolving band 11/24"
       ]
      },
      {
       "output_type": "stream",
       "stream": "stdout",
       "text": [
        " \b\b\b\b\b\b\b\b\b\b\b\b\b\b\b\b\b\b\b\b\b\b\b\b\b\b"
       ]
      },
      {
       "output_type": "stream",
       "stream": "stdout",
       "text": [
        " ...convolving band 12/24"
       ]
      },
      {
       "output_type": "stream",
       "stream": "stdout",
       "text": [
        " \b\b\b\b\b\b\b\b\b\b\b\b\b\b\b\b\b\b\b\b\b\b\b\b\b\b"
       ]
      },
      {
       "output_type": "stream",
       "stream": "stdout",
       "text": [
        " ...convolving band 13/24"
       ]
      },
      {
       "output_type": "stream",
       "stream": "stdout",
       "text": [
        " \b\b\b\b\b\b\b\b\b\b\b\b\b\b\b\b\b\b\b\b\b\b\b\b\b\b"
       ]
      },
      {
       "output_type": "stream",
       "stream": "stdout",
       "text": [
        " ...convolving band 14/24"
       ]
      },
      {
       "output_type": "stream",
       "stream": "stdout",
       "text": [
        " \b\b\b\b\b\b\b\b\b\b\b\b\b\b\b\b\b\b\b\b\b\b\b\b\b\b"
       ]
      },
      {
       "output_type": "stream",
       "stream": "stdout",
       "text": [
        " ...convolving band 15/24"
       ]
      },
      {
       "output_type": "stream",
       "stream": "stdout",
       "text": [
        " \b\b\b\b\b\b\b\b\b\b\b\b\b\b\b\b\b\b\b\b\b\b\b\b\b\b"
       ]
      },
      {
       "output_type": "stream",
       "stream": "stdout",
       "text": [
        " ...convolving band 16/24"
       ]
      },
      {
       "output_type": "stream",
       "stream": "stdout",
       "text": [
        " \b\b\b\b\b\b\b\b\b\b\b\b\b\b\b\b\b\b\b\b\b\b\b\b\b\b"
       ]
      },
      {
       "output_type": "stream",
       "stream": "stdout",
       "text": [
        " ...convolving band 17/24"
       ]
      },
      {
       "output_type": "stream",
       "stream": "stdout",
       "text": [
        " \b\b\b\b\b\b\b\b\b\b\b\b\b\b\b\b\b\b\b\b\b\b\b\b\b\b"
       ]
      },
      {
       "output_type": "stream",
       "stream": "stdout",
       "text": [
        " ...convolving band 18/24"
       ]
      },
      {
       "output_type": "stream",
       "stream": "stdout",
       "text": [
        " \b\b\b\b\b\b\b\b\b\b\b\b\b\b\b\b\b\b\b\b\b\b\b\b\b\b"
       ]
      },
      {
       "output_type": "stream",
       "stream": "stdout",
       "text": [
        " ...convolving band 19/24"
       ]
      },
      {
       "output_type": "stream",
       "stream": "stdout",
       "text": [
        " \b\b\b\b\b\b\b\b\b\b\b\b\b\b\b\b\b\b\b\b\b\b\b\b\b\b"
       ]
      },
      {
       "output_type": "stream",
       "stream": "stdout",
       "text": [
        " ...convolving band 20/24"
       ]
      },
      {
       "output_type": "stream",
       "stream": "stdout",
       "text": [
        " \b\b\b\b\b\b\b\b\b\b\b\b\b\b\b\b\b\b\b\b\b\b\b\b\b\b"
       ]
      },
      {
       "output_type": "stream",
       "stream": "stdout",
       "text": [
        " ...convolving band 21/24"
       ]
      },
      {
       "output_type": "stream",
       "stream": "stdout",
       "text": [
        " \b\b\b\b\b\b\b\b\b\b\b\b\b\b\b\b\b\b\b\b\b\b\b\b\b\b"
       ]
      },
      {
       "output_type": "stream",
       "stream": "stdout",
       "text": [
        " ...convolving band 22/24"
       ]
      },
      {
       "output_type": "stream",
       "stream": "stdout",
       "text": [
        " \b\b\b\b\b\b\b\b\b\b\b\b\b\b\b\b\b\b\b\b\b\b\b\b\b\b"
       ]
      },
      {
       "output_type": "stream",
       "stream": "stdout",
       "text": [
        " ...convolving band 23/24"
       ]
      },
      {
       "output_type": "stream",
       "stream": "stdout",
       "text": [
        " \b\b\b\b\b\b\b\b\b\b\b\b\b\b\b\b\b\b\b\b\b\b\b\b\b\b"
       ]
      },
      {
       "output_type": "stream",
       "stream": "stdout",
       "text": [
        " ...convolving band 24/24"
       ]
      },
      {
       "output_type": "stream",
       "stream": "stdout",
       "text": [
        " \b\b\b\b\b\b\b\b\b\b\b\b\b\b\b\b\b\b\b\b\b\b\b\b\b\b"
       ]
      },
      {
       "output_type": "stream",
       "stream": "stdout",
       "text": [
        "\n"
       ]
      }
     ],
     "prompt_number": 4
    },
    {
     "cell_type": "code",
     "collapsed": false,
     "input": [
      "smooth_J1303 = nice_plot(roi_J1303, which=\"HESS_J1303-631\")"
     ],
     "language": "python",
     "metadata": {},
     "outputs": [
      {
       "output_type": "display_data",
       "png": "[encoded data removed]"
      }
     ],
     "prompt_number": 5
    },
    {
     "cell_type": "code",
     "collapsed": false,
     "input": [
      "axes = smooth_J1303.axes\n",
      "\n",
      "# Note, j1303_excess.fits from HESS auxiliary information:\n",
      "#  http://www.mpi-hd.mpg.de/hfm/HESS/pages/publications/auxiliary/j1303darkpwn/hess/j1303_excess.fits\n",
      "\n",
      "f = pyfits.open('files/j1303_excess.fits')\n",
      "h, d = f[0].header, f[0].data\n",
      "\n",
      "axes[h].contour(d, np.linspace(50, 400, 5), colors='lightblue')\n",
      "\n",
      "axes.locator_params(axis=\"x\", nbins=2)\n",
      "axes.locator_params(axis=\"y\", nbins=2)\n",
      "\n",
      "fig = axes.get_figure()\n",
      "\n",
      "fig.subplots_adjust(left=0.1,right=0.85)\n",
      "axes.get_figure()\n",
      "\n",
      "fig"
     ],
     "language": "python",
     "metadata": {},
     "outputs": [
      {
       "output_type": "pyout",
       "png": "[encoded data removed]",
       "prompt_number": 6,
       "text": [
        "<matplotlib.figure.Figure at 0x4ea24d0>"
       ]
      }
     ],
     "prompt_number": 6
    },
    {
     "cell_type": "code",
     "collapsed": false,
     "input": [
      "smooth_J1303.cbar.solids.set_edgecolor(\"face\")"
     ],
     "language": "python",
     "metadata": {},
     "outputs": [],
     "prompt_number": 7
    },
    {
     "cell_type": "code",
     "collapsed": false,
     "input": [
      "fig.savefig('HESS_J1303-631.pdf')"
     ],
     "language": "python",
     "metadata": {},
     "outputs": [],
     "prompt_number": 8
    },
    {
     "cell_type": "markdown",
     "metadata": {},
     "source": [
      "# HESS J1356-645"
     ]
    },
    {
     "cell_type": "code",
     "collapsed": false,
     "input": [
      "roi_J1356 = load(\"/afs/slac/g/glast/users/rousseau/TeV_sources/runs/13_11_Debug/HESS_J1356-645/roi_at_tev_HESS_J1356-645.dat\")"
     ],
     "language": "python",
     "metadata": {},
     "outputs": [
      {
       "output_type": "stream",
       "stream": "stdout",
       "text": [
        "Using gti from /afs/slac/g/glast/users/rousseau/TeV_sources/ltcubes_clean/ltcube_HESS_J1356-645.fits\n",
        "loaded LivetimeCube /afs/slac/g/glast/users/rousseau/TeV_sources/ltcubes_clean/ltcube_HESS_J1356-645.fits "
       ]
      },
      {
       "output_type": "stream",
       "stream": "stdout",
       "text": [
        "\n",
        ".....loading binfile /afs/slac/g/glast/users/rousseau/TeV_sources/bexpmap_clean/bexpmap_HESS_J1356-645.fits ... "
       ]
      },
      {
       "output_type": "stream",
       "stream": "stdout",
       "text": [
        "found 64 bands, energies 100-1000000 MeV\n",
        ".....setting up point sources (8 in ROI)..."
       ]
      },
      {
       "output_type": "stream",
       "stream": "stdout",
       "text": [
        " done!\n",
        ".....setting up diffuse/extended backgrounds for 24 bands...\n",
        ".......... HESS_J1356-645"
       ]
      },
      {
       "output_type": "stream",
       "stream": "stdout",
       "text": [
        " ...convolving band  1/24"
       ]
      },
      {
       "output_type": "stream",
       "stream": "stdout",
       "text": [
        " \b\b\b\b\b\b\b\b\b\b\b\b\b\b\b\b\b\b\b\b\b\b\b\b\b\b"
       ]
      },
      {
       "output_type": "stream",
       "stream": "stdout",
       "text": [
        " ...convolving band  2/24"
       ]
      },
      {
       "output_type": "stream",
       "stream": "stdout",
       "text": [
        " \b\b\b\b\b\b\b\b\b\b\b\b\b\b\b\b\b\b\b\b\b\b\b\b\b\b"
       ]
      },
      {
       "output_type": "stream",
       "stream": "stdout",
       "text": [
        " ...convolving band  3/24"
       ]
      },
      {
       "output_type": "stream",
       "stream": "stdout",
       "text": [
        " \b\b\b\b\b\b\b\b\b\b\b\b\b\b\b\b\b\b\b\b\b\b\b\b\b\b"
       ]
      },
      {
       "output_type": "stream",
       "stream": "stdout",
       "text": [
        " ...convolving band  4/24"
       ]
      },
      {
       "output_type": "stream",
       "stream": "stdout",
       "text": [
        " \b\b\b\b\b\b\b\b\b\b\b\b\b\b\b\b\b\b\b\b\b\b\b\b\b\b"
       ]
      },
      {
       "output_type": "stream",
       "stream": "stdout",
       "text": [
        " ...convolving band  5/24"
       ]
      },
      {
       "output_type": "stream",
       "stream": "stdout",
       "text": [
        " \b\b\b\b\b\b\b\b\b\b\b\b\b\b\b\b\b\b\b\b\b\b\b\b\b\b"
       ]
      },
      {
       "output_type": "stream",
       "stream": "stdout",
       "text": [
        " ...convolving band  6/24"
       ]
      },
      {
       "output_type": "stream",
       "stream": "stdout",
       "text": [
        " \b\b\b\b\b\b\b\b\b\b\b\b\b\b\b\b\b\b\b\b\b\b\b\b\b\b"
       ]
      },
      {
       "output_type": "stream",
       "stream": "stdout",
       "text": [
        " ...convolving band  7/24"
       ]
      },
      {
       "output_type": "stream",
       "stream": "stdout",
       "text": [
        " \b\b\b\b\b\b\b\b\b\b\b\b\b\b\b\b\b\b\b\b\b\b\b\b\b\b"
       ]
      },
      {
       "output_type": "stream",
       "stream": "stdout",
       "text": [
        " ...convolving band  8/24"
       ]
      },
      {
       "output_type": "stream",
       "stream": "stdout",
       "text": [
        " \b\b\b\b\b\b\b\b\b\b\b\b\b\b\b\b\b\b\b\b\b\b\b\b\b\b"
       ]
      },
      {
       "output_type": "stream",
       "stream": "stdout",
       "text": [
        " ...convolving band  9/24"
       ]
      },
      {
       "output_type": "stream",
       "stream": "stdout",
       "text": [
        " \b\b\b\b\b\b\b\b\b\b\b\b\b\b\b\b\b\b\b\b\b\b\b\b\b\b"
       ]
      },
      {
       "output_type": "stream",
       "stream": "stdout",
       "text": [
        " ...convolving band 10/24"
       ]
      },
      {
       "output_type": "stream",
       "stream": "stdout",
       "text": [
        " \b\b\b\b\b\b\b\b\b\b\b\b\b\b\b\b\b\b\b\b\b\b\b\b\b\b"
       ]
      },
      {
       "output_type": "stream",
       "stream": "stdout",
       "text": [
        " ...convolving band 11/24"
       ]
      },
      {
       "output_type": "stream",
       "stream": "stdout",
       "text": [
        " \b\b\b\b\b\b\b\b\b\b\b\b\b\b\b\b\b\b\b\b\b\b\b\b\b\b"
       ]
      },
      {
       "output_type": "stream",
       "stream": "stdout",
       "text": [
        " ...convolving band 12/24"
       ]
      },
      {
       "output_type": "stream",
       "stream": "stdout",
       "text": [
        " \b\b\b\b\b\b\b\b\b\b\b\b\b\b\b\b\b\b\b\b\b\b\b\b\b\b"
       ]
      },
      {
       "output_type": "stream",
       "stream": "stdout",
       "text": [
        " ...convolving band 13/24"
       ]
      },
      {
       "output_type": "stream",
       "stream": "stdout",
       "text": [
        " \b\b\b\b\b\b\b\b\b\b\b\b\b\b\b\b\b\b\b\b\b\b\b\b\b\b"
       ]
      },
      {
       "output_type": "stream",
       "stream": "stdout",
       "text": [
        " ...convolving band 14/24"
       ]
      },
      {
       "output_type": "stream",
       "stream": "stdout",
       "text": [
        " \b\b\b\b\b\b\b\b\b\b\b\b\b\b\b\b\b\b\b\b\b\b\b\b\b\b"
       ]
      },
      {
       "output_type": "stream",
       "stream": "stdout",
       "text": [
        " ...convolving band 15/24"
       ]
      },
      {
       "output_type": "stream",
       "stream": "stdout",
       "text": [
        " \b\b\b\b\b\b\b\b\b\b\b\b\b\b\b\b\b\b\b\b\b\b\b\b\b\b"
       ]
      },
      {
       "output_type": "stream",
       "stream": "stdout",
       "text": [
        " ...convolving band 16/24"
       ]
      },
      {
       "output_type": "stream",
       "stream": "stdout",
       "text": [
        " \b\b\b\b\b\b\b\b\b\b\b\b\b\b\b\b\b\b\b\b\b\b\b\b\b\b"
       ]
      },
      {
       "output_type": "stream",
       "stream": "stdout",
       "text": [
        " ...convolving band 17/24"
       ]
      },
      {
       "output_type": "stream",
       "stream": "stdout",
       "text": [
        " \b\b\b\b\b\b\b\b\b\b\b\b\b\b\b\b\b\b\b\b\b\b\b\b\b\b"
       ]
      },
      {
       "output_type": "stream",
       "stream": "stdout",
       "text": [
        " ...convolving band 18/24"
       ]
      },
      {
       "output_type": "stream",
       "stream": "stdout",
       "text": [
        " \b\b\b\b\b\b\b\b\b\b\b\b\b\b\b\b\b\b\b\b\b\b\b\b\b\b"
       ]
      },
      {
       "output_type": "stream",
       "stream": "stdout",
       "text": [
        " ...convolving band 19/24"
       ]
      },
      {
       "output_type": "stream",
       "stream": "stdout",
       "text": [
        " \b\b\b\b\b\b\b\b\b\b\b\b\b\b\b\b\b\b\b\b\b\b\b\b\b\b"
       ]
      },
      {
       "output_type": "stream",
       "stream": "stdout",
       "text": [
        " ...convolving band 20/24"
       ]
      },
      {
       "output_type": "stream",
       "stream": "stdout",
       "text": [
        " \b\b\b\b\b\b\b\b\b\b\b\b\b\b\b\b\b\b\b\b\b\b\b\b\b\b"
       ]
      },
      {
       "output_type": "stream",
       "stream": "stdout",
       "text": [
        " ...convolving band 21/24"
       ]
      },
      {
       "output_type": "stream",
       "stream": "stdout",
       "text": [
        " \b\b\b\b\b\b\b\b\b\b\b\b\b\b\b\b\b\b\b\b\b\b\b\b\b\b"
       ]
      },
      {
       "output_type": "stream",
       "stream": "stdout",
       "text": [
        " ...convolving band 22/24"
       ]
      },
      {
       "output_type": "stream",
       "stream": "stdout",
       "text": [
        " \b\b\b\b\b\b\b\b\b\b\b\b\b\b\b\b\b\b\b\b\b\b\b\b\b\b"
       ]
      },
      {
       "output_type": "stream",
       "stream": "stdout",
       "text": [
        " ...convolving band 23/24"
       ]
      },
      {
       "output_type": "stream",
       "stream": "stdout",
       "text": [
        " \b\b\b\b\b\b\b\b\b\b\b\b\b\b\b\b\b\b\b\b\b\b\b\b\b\b"
       ]
      },
      {
       "output_type": "stream",
       "stream": "stdout",
       "text": [
        " ...convolving band 24/24"
       ]
      },
      {
       "output_type": "stream",
       "stream": "stdout",
       "text": [
        " \b\b\b\b\b\b\b\b\b\b\b\b\b\b\b\b\b\b\b\b\b\b\b\b\b\b"
       ]
      },
      {
       "output_type": "stream",
       "stream": "stdout",
       "text": [
        "\n",
        ".......... Galactic Diffuse (ring_2year_P76_v0.fits)"
       ]
      },
      {
       "output_type": "stream",
       "stream": "stdout",
       "text": [
        " ...convolving band  1/24"
       ]
      },
      {
       "output_type": "stream",
       "stream": "stdout",
       "text": [
        " \b\b\b\b\b\b\b\b\b\b\b\b\b\b\b\b\b\b\b\b\b\b\b\b\b\b"
       ]
      },
      {
       "output_type": "stream",
       "stream": "stdout",
       "text": [
        " ...convolving band  2/24"
       ]
      },
      {
       "output_type": "stream",
       "stream": "stdout",
       "text": [
        " \b\b\b\b\b\b\b\b\b\b\b\b\b\b\b\b\b\b\b\b\b\b\b\b\b\b"
       ]
      },
      {
       "output_type": "stream",
       "stream": "stdout",
       "text": [
        " ...convolving band  3/24"
       ]
      },
      {
       "output_type": "stream",
       "stream": "stdout",
       "text": [
        " \b\b\b\b\b\b\b\b\b\b\b\b\b\b\b\b\b\b\b\b\b\b\b\b\b\b"
       ]
      },
      {
       "output_type": "stream",
       "stream": "stdout",
       "text": [
        " ...convolving band  4/24"
       ]
      },
      {
       "output_type": "stream",
       "stream": "stdout",
       "text": [
        " \b\b\b\b\b\b\b\b\b\b\b\b\b\b\b\b\b\b\b\b\b\b\b\b\b\b"
       ]
      },
      {
       "output_type": "stream",
       "stream": "stdout",
       "text": [
        " ...convolving band  5/24"
       ]
      },
      {
       "output_type": "stream",
       "stream": "stdout",
       "text": [
        " \b\b\b\b\b\b\b\b\b\b\b\b\b\b\b\b\b\b\b\b\b\b\b\b\b\b"
       ]
      },
      {
       "output_type": "stream",
       "stream": "stdout",
       "text": [
        " ...convolving band  6/24"
       ]
      },
      {
       "output_type": "stream",
       "stream": "stdout",
       "text": [
        " \b\b\b\b\b\b\b\b\b\b\b\b\b\b\b\b\b\b\b\b\b\b\b\b\b\b"
       ]
      },
      {
       "output_type": "stream",
       "stream": "stdout",
       "text": [
        " ...convolving band  7/24"
       ]
      },
      {
       "output_type": "stream",
       "stream": "stdout",
       "text": [
        " \b\b\b\b\b\b\b\b\b\b\b\b\b\b\b\b\b\b\b\b\b\b\b\b\b\b"
       ]
      },
      {
       "output_type": "stream",
       "stream": "stdout",
       "text": [
        " ...convolving band  8/24"
       ]
      },
      {
       "output_type": "stream",
       "stream": "stdout",
       "text": [
        " \b\b\b\b\b\b\b\b\b\b\b\b\b\b\b\b\b\b\b\b\b\b\b\b\b\b"
       ]
      },
      {
       "output_type": "stream",
       "stream": "stdout",
       "text": [
        " ...convolving band  9/24"
       ]
      },
      {
       "output_type": "stream",
       "stream": "stdout",
       "text": [
        " \b\b\b\b\b\b\b\b\b\b\b\b\b\b\b\b\b\b\b\b\b\b\b\b\b\b"
       ]
      },
      {
       "output_type": "stream",
       "stream": "stdout",
       "text": [
        " ...convolving band 10/24"
       ]
      },
      {
       "output_type": "stream",
       "stream": "stdout",
       "text": [
        " \b\b\b\b\b\b\b\b\b\b\b\b\b\b\b\b\b\b\b\b\b\b\b\b\b\b"
       ]
      },
      {
       "output_type": "stream",
       "stream": "stdout",
       "text": [
        " ...convolving band 11/24"
       ]
      },
      {
       "output_type": "stream",
       "stream": "stdout",
       "text": [
        " \b\b\b\b\b\b\b\b\b\b\b\b\b\b\b\b\b\b\b\b\b\b\b\b\b\b"
       ]
      },
      {
       "output_type": "stream",
       "stream": "stdout",
       "text": [
        " ...convolving band 12/24"
       ]
      },
      {
       "output_type": "stream",
       "stream": "stdout",
       "text": [
        " \b\b\b\b\b\b\b\b\b\b\b\b\b\b\b\b\b\b\b\b\b\b\b\b\b\b"
       ]
      },
      {
       "output_type": "stream",
       "stream": "stdout",
       "text": [
        " ...convolving band 13/24"
       ]
      },
      {
       "output_type": "stream",
       "stream": "stdout",
       "text": [
        " \b\b\b\b\b\b\b\b\b\b\b\b\b\b\b\b\b\b\b\b\b\b\b\b\b\b"
       ]
      },
      {
       "output_type": "stream",
       "stream": "stdout",
       "text": [
        " ...convolving band 14/24"
       ]
      },
      {
       "output_type": "stream",
       "stream": "stdout",
       "text": [
        " \b\b\b\b\b\b\b\b\b\b\b\b\b\b\b\b\b\b\b\b\b\b\b\b\b\b"
       ]
      },
      {
       "output_type": "stream",
       "stream": "stdout",
       "text": [
        " ...convolving band 15/24"
       ]
      },
      {
       "output_type": "stream",
       "stream": "stdout",
       "text": [
        " \b\b\b\b\b\b\b\b\b\b\b\b\b\b\b\b\b\b\b\b\b\b\b\b\b\b"
       ]
      },
      {
       "output_type": "stream",
       "stream": "stdout",
       "text": [
        " ...convolving band 16/24"
       ]
      },
      {
       "output_type": "stream",
       "stream": "stdout",
       "text": [
        " \b\b\b\b\b\b\b\b\b\b\b\b\b\b\b\b\b\b\b\b\b\b\b\b\b\b"
       ]
      },
      {
       "output_type": "stream",
       "stream": "stdout",
       "text": [
        " ...convolving band 17/24"
       ]
      },
      {
       "output_type": "stream",
       "stream": "stdout",
       "text": [
        " \b\b\b\b\b\b\b\b\b\b\b\b\b\b\b\b\b\b\b\b\b\b\b\b\b\b"
       ]
      },
      {
       "output_type": "stream",
       "stream": "stdout",
       "text": [
        " ...convolving band 18/24"
       ]
      },
      {
       "output_type": "stream",
       "stream": "stdout",
       "text": [
        " \b\b\b\b\b\b\b\b\b\b\b\b\b\b\b\b\b\b\b\b\b\b\b\b\b\b"
       ]
      },
      {
       "output_type": "stream",
       "stream": "stdout",
       "text": [
        " ...convolving band 19/24"
       ]
      },
      {
       "output_type": "stream",
       "stream": "stdout",
       "text": [
        " \b\b\b\b\b\b\b\b\b\b\b\b\b\b\b\b\b\b\b\b\b\b\b\b\b\b"
       ]
      },
      {
       "output_type": "stream",
       "stream": "stdout",
       "text": [
        " ...convolving band 20/24"
       ]
      },
      {
       "output_type": "stream",
       "stream": "stdout",
       "text": [
        " \b\b\b\b\b\b\b\b\b\b\b\b\b\b\b\b\b\b\b\b\b\b\b\b\b\b"
       ]
      },
      {
       "output_type": "stream",
       "stream": "stdout",
       "text": [
        " ...convolving band 21/24"
       ]
      },
      {
       "output_type": "stream",
       "stream": "stdout",
       "text": [
        " \b\b\b\b\b\b\b\b\b\b\b\b\b\b\b\b\b\b\b\b\b\b\b\b\b\b"
       ]
      },
      {
       "output_type": "stream",
       "stream": "stdout",
       "text": [
        " ...convolving band 22/24"
       ]
      },
      {
       "output_type": "stream",
       "stream": "stdout",
       "text": [
        " \b\b\b\b\b\b\b\b\b\b\b\b\b\b\b\b\b\b\b\b\b\b\b\b\b\b"
       ]
      },
      {
       "output_type": "stream",
       "stream": "stdout",
       "text": [
        " ...convolving band 23/24"
       ]
      },
      {
       "output_type": "stream",
       "stream": "stdout",
       "text": [
        " \b\b\b\b\b\b\b\b\b\b\b\b\b\b\b\b\b\b\b\b\b\b\b\b\b\b"
       ]
      },
      {
       "output_type": "stream",
       "stream": "stdout",
       "text": [
        " ...convolving band 24/24"
       ]
      },
      {
       "output_type": "stream",
       "stream": "stdout",
       "text": [
        " \b\b\b\b\b\b\b\b\b\b\b\b\b\b\b\b\b\b\b\b\b\b\b\b\b\b"
       ]
      },
      {
       "output_type": "stream",
       "stream": "stdout",
       "text": [
        "\n",
        ".......... Isotropic Diffuse (isotrop_2year_P76_clean_v0.txt)"
       ]
      },
      {
       "output_type": "stream",
       "stream": "stdout",
       "text": [
        " ...convolving band  1/24"
       ]
      },
      {
       "output_type": "stream",
       "stream": "stdout",
       "text": [
        " \b\b\b\b\b\b\b\b\b\b\b\b\b\b\b\b\b\b\b\b\b\b\b\b\b\b"
       ]
      },
      {
       "output_type": "stream",
       "stream": "stdout",
       "text": [
        " ...convolving band  2/24"
       ]
      },
      {
       "output_type": "stream",
       "stream": "stdout",
       "text": [
        " \b\b\b\b\b\b\b\b\b\b\b\b\b\b\b\b\b\b\b\b\b\b\b\b\b\b"
       ]
      },
      {
       "output_type": "stream",
       "stream": "stdout",
       "text": [
        " ...convolving band  3/24"
       ]
      },
      {
       "output_type": "stream",
       "stream": "stdout",
       "text": [
        " \b\b\b\b\b\b\b\b\b\b\b\b\b\b\b\b\b\b\b\b\b\b\b\b\b\b"
       ]
      },
      {
       "output_type": "stream",
       "stream": "stdout",
       "text": [
        " ...convolving band  4/24"
       ]
      },
      {
       "output_type": "stream",
       "stream": "stdout",
       "text": [
        " \b\b\b\b\b\b\b\b\b\b\b\b\b\b\b\b\b\b\b\b\b\b\b\b\b\b"
       ]
      },
      {
       "output_type": "stream",
       "stream": "stdout",
       "text": [
        " ...convolving band  5/24"
       ]
      },
      {
       "output_type": "stream",
       "stream": "stdout",
       "text": [
        " \b\b\b\b\b\b\b\b\b\b\b\b\b\b\b\b\b\b\b\b\b\b\b\b\b\b"
       ]
      },
      {
       "output_type": "stream",
       "stream": "stdout",
       "text": [
        " ...convolving band  6/24"
       ]
      },
      {
       "output_type": "stream",
       "stream": "stdout",
       "text": [
        " \b\b\b\b\b\b\b\b\b\b\b\b\b\b\b\b\b\b\b\b\b\b\b\b\b\b"
       ]
      },
      {
       "output_type": "stream",
       "stream": "stdout",
       "text": [
        " ...convolving band  7/24"
       ]
      },
      {
       "output_type": "stream",
       "stream": "stdout",
       "text": [
        " \b\b\b\b\b\b\b\b\b\b\b\b\b\b\b\b\b\b\b\b\b\b\b\b\b\b"
       ]
      },
      {
       "output_type": "stream",
       "stream": "stdout",
       "text": [
        " ...convolving band  8/24"
       ]
      },
      {
       "output_type": "stream",
       "stream": "stdout",
       "text": [
        " \b\b\b\b\b\b\b\b\b\b\b\b\b\b\b\b\b\b\b\b\b\b\b\b\b\b"
       ]
      },
      {
       "output_type": "stream",
       "stream": "stdout",
       "text": [
        " ...convolving band  9/24"
       ]
      },
      {
       "output_type": "stream",
       "stream": "stdout",
       "text": [
        " \b\b\b\b\b\b\b\b\b\b\b\b\b\b\b\b\b\b\b\b\b\b\b\b\b\b"
       ]
      },
      {
       "output_type": "stream",
       "stream": "stdout",
       "text": [
        " ...convolving band 10/24"
       ]
      },
      {
       "output_type": "stream",
       "stream": "stdout",
       "text": [
        " \b\b\b\b\b\b\b\b\b\b\b\b\b\b\b\b\b\b\b\b\b\b\b\b\b\b"
       ]
      },
      {
       "output_type": "stream",
       "stream": "stdout",
       "text": [
        " ...convolving band 11/24"
       ]
      },
      {
       "output_type": "stream",
       "stream": "stdout",
       "text": [
        " \b\b\b\b\b\b\b\b\b\b\b\b\b\b\b\b\b\b\b\b\b\b\b\b\b\b"
       ]
      },
      {
       "output_type": "stream",
       "stream": "stdout",
       "text": [
        " ...convolving band 12/24"
       ]
      },
      {
       "output_type": "stream",
       "stream": "stdout",
       "text": [
        " \b\b\b\b\b\b\b\b\b\b\b\b\b\b\b\b\b\b\b\b\b\b\b\b\b\b"
       ]
      },
      {
       "output_type": "stream",
       "stream": "stdout",
       "text": [
        " ...convolving band 13/24"
       ]
      },
      {
       "output_type": "stream",
       "stream": "stdout",
       "text": [
        " \b\b\b\b\b\b\b\b\b\b\b\b\b\b\b\b\b\b\b\b\b\b\b\b\b\b"
       ]
      },
      {
       "output_type": "stream",
       "stream": "stdout",
       "text": [
        " ...convolving band 14/24"
       ]
      },
      {
       "output_type": "stream",
       "stream": "stdout",
       "text": [
        " \b\b\b\b\b\b\b\b\b\b\b\b\b\b\b\b\b\b\b\b\b\b\b\b\b\b"
       ]
      },
      {
       "output_type": "stream",
       "stream": "stdout",
       "text": [
        " ...convolving band 15/24"
       ]
      },
      {
       "output_type": "stream",
       "stream": "stdout",
       "text": [
        " \b\b\b\b\b\b\b\b\b\b\b\b\b\b\b\b\b\b\b\b\b\b\b\b\b\b"
       ]
      },
      {
       "output_type": "stream",
       "stream": "stdout",
       "text": [
        " ...convolving band 16/24"
       ]
      },
      {
       "output_type": "stream",
       "stream": "stdout",
       "text": [
        " \b\b\b\b\b\b\b\b\b\b\b\b\b\b\b\b\b\b\b\b\b\b\b\b\b\b"
       ]
      },
      {
       "output_type": "stream",
       "stream": "stdout",
       "text": [
        " ...convolving band 17/24"
       ]
      },
      {
       "output_type": "stream",
       "stream": "stdout",
       "text": [
        " \b\b\b\b\b\b\b\b\b\b\b\b\b\b\b\b\b\b\b\b\b\b\b\b\b\b"
       ]
      },
      {
       "output_type": "stream",
       "stream": "stdout",
       "text": [
        " ...convolving band 18/24"
       ]
      },
      {
       "output_type": "stream",
       "stream": "stdout",
       "text": [
        " \b\b\b\b\b\b\b\b\b\b\b\b\b\b\b\b\b\b\b\b\b\b\b\b\b\b"
       ]
      },
      {
       "output_type": "stream",
       "stream": "stdout",
       "text": [
        " ...convolving band 19/24"
       ]
      },
      {
       "output_type": "stream",
       "stream": "stdout",
       "text": [
        " \b\b\b\b\b\b\b\b\b\b\b\b\b\b\b\b\b\b\b\b\b\b\b\b\b\b"
       ]
      },
      {
       "output_type": "stream",
       "stream": "stdout",
       "text": [
        " ...convolving band 20/24"
       ]
      },
      {
       "output_type": "stream",
       "stream": "stdout",
       "text": [
        " \b\b\b\b\b\b\b\b\b\b\b\b\b\b\b\b\b\b\b\b\b\b\b\b\b\b"
       ]
      },
      {
       "output_type": "stream",
       "stream": "stdout",
       "text": [
        " ...convolving band 21/24"
       ]
      },
      {
       "output_type": "stream",
       "stream": "stdout",
       "text": [
        " \b\b\b\b\b\b\b\b\b\b\b\b\b\b\b\b\b\b\b\b\b\b\b\b\b\b"
       ]
      },
      {
       "output_type": "stream",
       "stream": "stdout",
       "text": [
        " ...convolving band 22/24"
       ]
      },
      {
       "output_type": "stream",
       "stream": "stdout",
       "text": [
        " \b\b\b\b\b\b\b\b\b\b\b\b\b\b\b\b\b\b\b\b\b\b\b\b\b\b"
       ]
      },
      {
       "output_type": "stream",
       "stream": "stdout",
       "text": [
        " ...convolving band 23/24"
       ]
      },
      {
       "output_type": "stream",
       "stream": "stdout",
       "text": [
        " \b\b\b\b\b\b\b\b\b\b\b\b\b\b\b\b\b\b\b\b\b\b\b\b\b\b"
       ]
      },
      {
       "output_type": "stream",
       "stream": "stdout",
       "text": [
        " ...convolving band 24/24"
       ]
      },
      {
       "output_type": "stream",
       "stream": "stdout",
       "text": [
        " \b\b\b\b\b\b\b\b\b\b\b\b\b\b\b\b\b\b\b\b\b\b\b\b\b\b"
       ]
      },
      {
       "output_type": "stream",
       "stream": "stdout",
       "text": [
        "\n"
       ]
      }
     ],
     "prompt_number": 9
    },
    {
     "cell_type": "code",
     "collapsed": false,
     "input": [
      "roi_J1356 = nice_plot(roi_J1356, which=\"HESS_J1356-645\")"
     ],
     "language": "python",
     "metadata": {},
     "outputs": [
      {
       "output_type": "display_data",
       "png": "[encoded data removed]"
      }
     ],
     "prompt_number": 10
    },
    {
     "cell_type": "markdown",
     "metadata": {},
     "source": [
      "Auxiliary fits file hess_hessj1356-645_fig1.fits \n",
      "\n",
      "* from http://www.mpi-hd.mpg.de/hfm/HESS/pages/publications/auxiliary/AA533_A103.html \n",
      "* for the publication http://adsabs.harvard.edu/abs/2011arXiv1108.2855H"
     ]
    },
    {
     "cell_type": "code",
     "collapsed": false,
     "input": [
      "axes = roi_J1356.axes\n",
      "\n",
      "f = pyfits.open('files/hess_hessj1356-645_fig1.fits')\n",
      "h, d = f[0].header, f[0].data\n",
      "\n",
      "axes[h].contour(d, np.linspace(20, 85, 4), colors='lightblue')\n",
      "\n",
      "axes.locator_params(axis=\"x\", nbins=2)\n",
      "axes.locator_params(axis=\"y\", nbins=2)\n",
      "\n",
      "fig = axes.get_figure()\n",
      "\n",
      "fig.subplots_adjust(left=0.1,right=0.85)\n",
      "axes.get_figure()\n",
      "\n",
      "fig"
     ],
     "language": "python",
     "metadata": {},
     "outputs": [
      {
       "output_type": "pyout",
       "png": "[encoded data removed]",
       "prompt_number": 11,
       "text": [
        "<matplotlib.figure.Figure at 0x7a533d0>"
       ]
      }
     ],
     "prompt_number": 11
    },
    {
     "cell_type": "code",
     "collapsed": false,
     "input": [
      "fig.savefig('HESS_J1356-645.pdf')"
     ],
     "language": "python",
     "metadata": {},
     "outputs": [],
     "prompt_number": 12
    },
    {
     "cell_type": "markdown",
     "metadata": {},
     "source": [
      "# HESS J1119-614"
     ]
    },
    {
     "cell_type": "markdown",
     "metadata": {},
     "source": [
      "Note, HESS J1119-614 is the same as G292.2-00.5 (http://tevcat.uchicago.edu/?mode=1&showsrc=205)\n"
     ]
    },
    {
     "cell_type": "code",
     "collapsed": false,
     "input": [
      "roi_J1119 = load(\"/afs/slac/g/glast/users/rousseau/TeV_sources/runs/13_11_Debug/G292.2-0.5/roi_at_tev_G292.2-0.5.dat\")"
     ],
     "language": "python",
     "metadata": {},
     "outputs": [
      {
       "output_type": "stream",
       "stream": "stdout",
       "text": [
        "Using gti from /afs/slac/g/glast/users/rousseau/TeV_sources/ltcubes_clean/ltcube_G292.2-0.5.fits\n",
        "loaded LivetimeCube /afs/slac/g/glast/users/rousseau/TeV_sources/ltcubes_clean/ltcube_G292.2-0.5.fits "
       ]
      },
      {
       "output_type": "stream",
       "stream": "stdout",
       "text": [
        "\n",
        ".....loading binfile /afs/slac/g/glast/users/rousseau/TeV_sources/bexpmap_clean/bexpmap_G292.2-0.5.fits ... "
       ]
      },
      {
       "output_type": "stream",
       "stream": "stdout",
       "text": [
        "found 64 bands, energies 100-1000000 MeV\n",
        ".....setting up point sources (8 in ROI)..."
       ]
      },
      {
       "output_type": "stream",
       "stream": "stdout",
       "text": [
        " done!\n",
        ".....setting up diffuse/extended backgrounds for 24 bands...\n",
        ".......... Galactic Diffuse (ring_2year_P76_v0.fits)"
       ]
      },
      {
       "output_type": "stream",
       "stream": "stdout",
       "text": [
        " ...convolving band  1/24"
       ]
      },
      {
       "output_type": "stream",
       "stream": "stdout",
       "text": [
        " \b\b\b\b\b\b\b\b\b\b\b\b\b\b\b\b\b\b\b\b\b\b\b\b\b\b"
       ]
      },
      {
       "output_type": "stream",
       "stream": "stdout",
       "text": [
        " ...convolving band  2/24"
       ]
      },
      {
       "output_type": "stream",
       "stream": "stdout",
       "text": [
        " \b\b\b\b\b\b\b\b\b\b\b\b\b\b\b\b\b\b\b\b\b\b\b\b\b\b"
       ]
      },
      {
       "output_type": "stream",
       "stream": "stdout",
       "text": [
        " ...convolving band  3/24"
       ]
      },
      {
       "output_type": "stream",
       "stream": "stdout",
       "text": [
        " \b\b\b\b\b\b\b\b\b\b\b\b\b\b\b\b\b\b\b\b\b\b\b\b\b\b"
       ]
      },
      {
       "output_type": "stream",
       "stream": "stdout",
       "text": [
        " ...convolving band  4/24"
       ]
      },
      {
       "output_type": "stream",
       "stream": "stdout",
       "text": [
        " \b\b\b\b\b\b\b\b\b\b\b\b\b\b\b\b\b\b\b\b\b\b\b\b\b\b"
       ]
      },
      {
       "output_type": "stream",
       "stream": "stdout",
       "text": [
        " ...convolving band  5/24"
       ]
      },
      {
       "output_type": "stream",
       "stream": "stdout",
       "text": [
        " \b\b\b\b\b\b\b\b\b\b\b\b\b\b\b\b\b\b\b\b\b\b\b\b\b\b"
       ]
      },
      {
       "output_type": "stream",
       "stream": "stdout",
       "text": [
        " ...convolving band  6/24"
       ]
      },
      {
       "output_type": "stream",
       "stream": "stdout",
       "text": [
        " \b\b\b\b\b\b\b\b\b\b\b\b\b\b\b\b\b\b\b\b\b\b\b\b\b\b"
       ]
      },
      {
       "output_type": "stream",
       "stream": "stdout",
       "text": [
        " ...convolving band  7/24"
       ]
      },
      {
       "output_type": "stream",
       "stream": "stdout",
       "text": [
        " \b\b\b\b\b\b\b\b\b\b\b\b\b\b\b\b\b\b\b\b\b\b\b\b\b\b"
       ]
      },
      {
       "output_type": "stream",
       "stream": "stdout",
       "text": [
        " ...convolving band  8/24"
       ]
      },
      {
       "output_type": "stream",
       "stream": "stdout",
       "text": [
        " \b\b\b\b\b\b\b\b\b\b\b\b\b\b\b\b\b\b\b\b\b\b\b\b\b\b"
       ]
      },
      {
       "output_type": "stream",
       "stream": "stdout",
       "text": [
        " ...convolving band  9/24"
       ]
      },
      {
       "output_type": "stream",
       "stream": "stdout",
       "text": [
        " \b\b\b\b\b\b\b\b\b\b\b\b\b\b\b\b\b\b\b\b\b\b\b\b\b\b"
       ]
      },
      {
       "output_type": "stream",
       "stream": "stdout",
       "text": [
        " ...convolving band 10/24"
       ]
      },
      {
       "output_type": "stream",
       "stream": "stdout",
       "text": [
        " \b\b\b\b\b\b\b\b\b\b\b\b\b\b\b\b\b\b\b\b\b\b\b\b\b\b"
       ]
      },
      {
       "output_type": "stream",
       "stream": "stdout",
       "text": [
        " ...convolving band 11/24"
       ]
      },
      {
       "output_type": "stream",
       "stream": "stdout",
       "text": [
        " \b\b\b\b\b\b\b\b\b\b\b\b\b\b\b\b\b\b\b\b\b\b\b\b\b\b"
       ]
      },
      {
       "output_type": "stream",
       "stream": "stdout",
       "text": [
        " ...convolving band 12/24"
       ]
      },
      {
       "output_type": "stream",
       "stream": "stdout",
       "text": [
        " \b\b\b\b\b\b\b\b\b\b\b\b\b\b\b\b\b\b\b\b\b\b\b\b\b\b"
       ]
      },
      {
       "output_type": "stream",
       "stream": "stdout",
       "text": [
        " ...convolving band 13/24"
       ]
      },
      {
       "output_type": "stream",
       "stream": "stdout",
       "text": [
        " \b\b\b\b\b\b\b\b\b\b\b\b\b\b\b\b\b\b\b\b\b\b\b\b\b\b"
       ]
      },
      {
       "output_type": "stream",
       "stream": "stdout",
       "text": [
        " ...convolving band 14/24"
       ]
      },
      {
       "output_type": "stream",
       "stream": "stdout",
       "text": [
        " \b\b\b\b\b\b\b\b\b\b\b\b\b\b\b\b\b\b\b\b\b\b\b\b\b\b"
       ]
      },
      {
       "output_type": "stream",
       "stream": "stdout",
       "text": [
        " ...convolving band 15/24"
       ]
      },
      {
       "output_type": "stream",
       "stream": "stdout",
       "text": [
        " \b\b\b\b\b\b\b\b\b\b\b\b\b\b\b\b\b\b\b\b\b\b\b\b\b\b"
       ]
      },
      {
       "output_type": "stream",
       "stream": "stdout",
       "text": [
        " ...convolving band 16/24"
       ]
      },
      {
       "output_type": "stream",
       "stream": "stdout",
       "text": [
        " \b\b\b\b\b\b\b\b\b\b\b\b\b\b\b\b\b\b\b\b\b\b\b\b\b\b"
       ]
      },
      {
       "output_type": "stream",
       "stream": "stdout",
       "text": [
        " ...convolving band 17/24"
       ]
      },
      {
       "output_type": "stream",
       "stream": "stdout",
       "text": [
        " \b\b\b\b\b\b\b\b\b\b\b\b\b\b\b\b\b\b\b\b\b\b\b\b\b\b"
       ]
      },
      {
       "output_type": "stream",
       "stream": "stdout",
       "text": [
        " ...convolving band 18/24"
       ]
      },
      {
       "output_type": "stream",
       "stream": "stdout",
       "text": [
        " \b\b\b\b\b\b\b\b\b\b\b\b\b\b\b\b\b\b\b\b\b\b\b\b\b\b"
       ]
      },
      {
       "output_type": "stream",
       "stream": "stdout",
       "text": [
        " ...convolving band 19/24"
       ]
      },
      {
       "output_type": "stream",
       "stream": "stdout",
       "text": [
        " \b\b\b\b\b\b\b\b\b\b\b\b\b\b\b\b\b\b\b\b\b\b\b\b\b\b"
       ]
      },
      {
       "output_type": "stream",
       "stream": "stdout",
       "text": [
        " ...convolving band 20/24"
       ]
      },
      {
       "output_type": "stream",
       "stream": "stdout",
       "text": [
        " \b\b\b\b\b\b\b\b\b\b\b\b\b\b\b\b\b\b\b\b\b\b\b\b\b\b"
       ]
      },
      {
       "output_type": "stream",
       "stream": "stdout",
       "text": [
        " ...convolving band 21/24"
       ]
      },
      {
       "output_type": "stream",
       "stream": "stdout",
       "text": [
        " \b\b\b\b\b\b\b\b\b\b\b\b\b\b\b\b\b\b\b\b\b\b\b\b\b\b"
       ]
      },
      {
       "output_type": "stream",
       "stream": "stdout",
       "text": [
        " ...convolving band 22/24"
       ]
      },
      {
       "output_type": "stream",
       "stream": "stdout",
       "text": [
        " \b\b\b\b\b\b\b\b\b\b\b\b\b\b\b\b\b\b\b\b\b\b\b\b\b\b"
       ]
      },
      {
       "output_type": "stream",
       "stream": "stdout",
       "text": [
        " ...convolving band 23/24"
       ]
      },
      {
       "output_type": "stream",
       "stream": "stdout",
       "text": [
        " \b\b\b\b\b\b\b\b\b\b\b\b\b\b\b\b\b\b\b\b\b\b\b\b\b\b"
       ]
      },
      {
       "output_type": "stream",
       "stream": "stdout",
       "text": [
        " ...convolving band 24/24"
       ]
      },
      {
       "output_type": "stream",
       "stream": "stdout",
       "text": [
        " \b\b\b\b\b\b\b\b\b\b\b\b\b\b\b\b\b\b\b\b\b\b\b\b\b\b"
       ]
      },
      {
       "output_type": "stream",
       "stream": "stdout",
       "text": [
        "\n",
        ".......... Isotropic Diffuse (isotrop_2year_P76_clean_v0.txt)"
       ]
      },
      {
       "output_type": "stream",
       "stream": "stdout",
       "text": [
        " ...convolving band  1/24"
       ]
      },
      {
       "output_type": "stream",
       "stream": "stdout",
       "text": [
        " \b\b\b\b\b\b\b\b\b\b\b\b\b\b\b\b\b\b\b\b\b\b\b\b\b\b"
       ]
      },
      {
       "output_type": "stream",
       "stream": "stdout",
       "text": [
        " ...convolving band  2/24"
       ]
      },
      {
       "output_type": "stream",
       "stream": "stdout",
       "text": [
        " \b\b\b\b\b\b\b\b\b\b\b\b\b\b\b\b\b\b\b\b\b\b\b\b\b\b"
       ]
      },
      {
       "output_type": "stream",
       "stream": "stdout",
       "text": [
        " ...convolving band  3/24"
       ]
      },
      {
       "output_type": "stream",
       "stream": "stdout",
       "text": [
        " \b\b\b\b\b\b\b\b\b\b\b\b\b\b\b\b\b\b\b\b\b\b\b\b\b\b"
       ]
      },
      {
       "output_type": "stream",
       "stream": "stdout",
       "text": [
        " ...convolving band  4/24"
       ]
      },
      {
       "output_type": "stream",
       "stream": "stdout",
       "text": [
        " \b\b\b\b\b\b\b\b\b\b\b\b\b\b\b\b\b\b\b\b\b\b\b\b\b\b"
       ]
      },
      {
       "output_type": "stream",
       "stream": "stdout",
       "text": [
        " ...convolving band  5/24"
       ]
      },
      {
       "output_type": "stream",
       "stream": "stdout",
       "text": [
        " \b\b\b\b\b\b\b\b\b\b\b\b\b\b\b\b\b\b\b\b\b\b\b\b\b\b"
       ]
      },
      {
       "output_type": "stream",
       "stream": "stdout",
       "text": [
        " ...convolving band  6/24"
       ]
      },
      {
       "output_type": "stream",
       "stream": "stdout",
       "text": [
        " \b\b\b\b\b\b\b\b\b\b\b\b\b\b\b\b\b\b\b\b\b\b\b\b\b\b"
       ]
      },
      {
       "output_type": "stream",
       "stream": "stdout",
       "text": [
        " ...convolving band  7/24"
       ]
      },
      {
       "output_type": "stream",
       "stream": "stdout",
       "text": [
        " \b\b\b\b\b\b\b\b\b\b\b\b\b\b\b\b\b\b\b\b\b\b\b\b\b\b"
       ]
      },
      {
       "output_type": "stream",
       "stream": "stdout",
       "text": [
        " ...convolving band  8/24"
       ]
      },
      {
       "output_type": "stream",
       "stream": "stdout",
       "text": [
        " \b\b\b\b\b\b\b\b\b\b\b\b\b\b\b\b\b\b\b\b\b\b\b\b\b\b"
       ]
      },
      {
       "output_type": "stream",
       "stream": "stdout",
       "text": [
        " ...convolving band  9/24"
       ]
      },
      {
       "output_type": "stream",
       "stream": "stdout",
       "text": [
        " \b\b\b\b\b\b\b\b\b\b\b\b\b\b\b\b\b\b\b\b\b\b\b\b\b\b"
       ]
      },
      {
       "output_type": "stream",
       "stream": "stdout",
       "text": [
        " ...convolving band 10/24"
       ]
      },
      {
       "output_type": "stream",
       "stream": "stdout",
       "text": [
        " \b\b\b\b\b\b\b\b\b\b\b\b\b\b\b\b\b\b\b\b\b\b\b\b\b\b"
       ]
      },
      {
       "output_type": "stream",
       "stream": "stdout",
       "text": [
        " ...convolving band 11/24"
       ]
      },
      {
       "output_type": "stream",
       "stream": "stdout",
       "text": [
        " \b\b\b\b\b\b\b\b\b\b\b\b\b\b\b\b\b\b\b\b\b\b\b\b\b\b"
       ]
      },
      {
       "output_type": "stream",
       "stream": "stdout",
       "text": [
        " ...convolving band 12/24"
       ]
      },
      {
       "output_type": "stream",
       "stream": "stdout",
       "text": [
        " \b\b\b\b\b\b\b\b\b\b\b\b\b\b\b\b\b\b\b\b\b\b\b\b\b\b"
       ]
      },
      {
       "output_type": "stream",
       "stream": "stdout",
       "text": [
        " ...convolving band 13/24"
       ]
      },
      {
       "output_type": "stream",
       "stream": "stdout",
       "text": [
        " \b\b\b\b\b\b\b\b\b\b\b\b\b\b\b\b\b\b\b\b\b\b\b\b\b\b"
       ]
      },
      {
       "output_type": "stream",
       "stream": "stdout",
       "text": [
        " ...convolving band 14/24"
       ]
      },
      {
       "output_type": "stream",
       "stream": "stdout",
       "text": [
        " \b\b\b\b\b\b\b\b\b\b\b\b\b\b\b\b\b\b\b\b\b\b\b\b\b\b"
       ]
      },
      {
       "output_type": "stream",
       "stream": "stdout",
       "text": [
        " ...convolving band 15/24"
       ]
      },
      {
       "output_type": "stream",
       "stream": "stdout",
       "text": [
        " \b\b\b\b\b\b\b\b\b\b\b\b\b\b\b\b\b\b\b\b\b\b\b\b\b\b"
       ]
      },
      {
       "output_type": "stream",
       "stream": "stdout",
       "text": [
        " ...convolving band 16/24"
       ]
      },
      {
       "output_type": "stream",
       "stream": "stdout",
       "text": [
        " \b\b\b\b\b\b\b\b\b\b\b\b\b\b\b\b\b\b\b\b\b\b\b\b\b\b"
       ]
      },
      {
       "output_type": "stream",
       "stream": "stdout",
       "text": [
        " ...convolving band 17/24"
       ]
      },
      {
       "output_type": "stream",
       "stream": "stdout",
       "text": [
        " \b\b\b\b\b\b\b\b\b\b\b\b\b\b\b\b\b\b\b\b\b\b\b\b\b\b"
       ]
      },
      {
       "output_type": "stream",
       "stream": "stdout",
       "text": [
        " ...convolving band 18/24"
       ]
      },
      {
       "output_type": "stream",
       "stream": "stdout",
       "text": [
        " \b\b\b\b\b\b\b\b\b\b\b\b\b\b\b\b\b\b\b\b\b\b\b\b\b\b"
       ]
      },
      {
       "output_type": "stream",
       "stream": "stdout",
       "text": [
        " ...convolving band 19/24"
       ]
      },
      {
       "output_type": "stream",
       "stream": "stdout",
       "text": [
        " \b\b\b\b\b\b\b\b\b\b\b\b\b\b\b\b\b\b\b\b\b\b\b\b\b\b"
       ]
      },
      {
       "output_type": "stream",
       "stream": "stdout",
       "text": [
        " ...convolving band 20/24"
       ]
      },
      {
       "output_type": "stream",
       "stream": "stdout",
       "text": [
        " \b\b\b\b\b\b\b\b\b\b\b\b\b\b\b\b\b\b\b\b\b\b\b\b\b\b"
       ]
      },
      {
       "output_type": "stream",
       "stream": "stdout",
       "text": [
        " ...convolving band 21/24"
       ]
      },
      {
       "output_type": "stream",
       "stream": "stdout",
       "text": [
        " \b\b\b\b\b\b\b\b\b\b\b\b\b\b\b\b\b\b\b\b\b\b\b\b\b\b"
       ]
      },
      {
       "output_type": "stream",
       "stream": "stdout",
       "text": [
        " ...convolving band 22/24"
       ]
      },
      {
       "output_type": "stream",
       "stream": "stdout",
       "text": [
        " \b\b\b\b\b\b\b\b\b\b\b\b\b\b\b\b\b\b\b\b\b\b\b\b\b\b"
       ]
      },
      {
       "output_type": "stream",
       "stream": "stdout",
       "text": [
        " ...convolving band 23/24"
       ]
      },
      {
       "output_type": "stream",
       "stream": "stdout",
       "text": [
        " \b\b\b\b\b\b\b\b\b\b\b\b\b\b\b\b\b\b\b\b\b\b\b\b\b\b"
       ]
      },
      {
       "output_type": "stream",
       "stream": "stdout",
       "text": [
        " ...convolving band 24/24"
       ]
      },
      {
       "output_type": "stream",
       "stream": "stdout",
       "text": [
        " \b\b\b\b\b\b\b\b\b\b\b\b\b\b\b\b\b\b\b\b\b\b\b\b\b\b"
       ]
      },
      {
       "output_type": "stream",
       "stream": "stdout",
       "text": [
        "\n",
        ".......... G292.2-0.5"
       ]
      },
      {
       "output_type": "stream",
       "stream": "stdout",
       "text": [
        " ...convolving band  1/24"
       ]
      },
      {
       "output_type": "stream",
       "stream": "stdout",
       "text": [
        " \b\b\b\b\b\b\b\b\b\b\b\b\b\b\b\b\b\b\b\b\b\b\b\b\b\b"
       ]
      },
      {
       "output_type": "stream",
       "stream": "stdout",
       "text": [
        " ...convolving band  2/24"
       ]
      },
      {
       "output_type": "stream",
       "stream": "stdout",
       "text": [
        " \b\b\b\b\b\b\b\b\b\b\b\b\b\b\b\b\b\b\b\b\b\b\b\b\b\b"
       ]
      },
      {
       "output_type": "stream",
       "stream": "stdout",
       "text": [
        " ...convolving band  3/24"
       ]
      },
      {
       "output_type": "stream",
       "stream": "stdout",
       "text": [
        " \b\b\b\b\b\b\b\b\b\b\b\b\b\b\b\b\b\b\b\b\b\b\b\b\b\b"
       ]
      },
      {
       "output_type": "stream",
       "stream": "stdout",
       "text": [
        " ...convolving band  4/24"
       ]
      },
      {
       "output_type": "stream",
       "stream": "stdout",
       "text": [
        " \b\b\b\b\b\b\b\b\b\b\b\b\b\b\b\b\b\b\b\b\b\b\b\b\b\b"
       ]
      },
      {
       "output_type": "stream",
       "stream": "stdout",
       "text": [
        " ...convolving band  5/24"
       ]
      },
      {
       "output_type": "stream",
       "stream": "stdout",
       "text": [
        " \b\b\b\b\b\b\b\b\b\b\b\b\b\b\b\b\b\b\b\b\b\b\b\b\b\b"
       ]
      },
      {
       "output_type": "stream",
       "stream": "stdout",
       "text": [
        " ...convolving band  6/24"
       ]
      },
      {
       "output_type": "stream",
       "stream": "stdout",
       "text": [
        " \b\b\b\b\b\b\b\b\b\b\b\b\b\b\b\b\b\b\b\b\b\b\b\b\b\b"
       ]
      },
      {
       "output_type": "stream",
       "stream": "stdout",
       "text": [
        " ...convolving band  7/24"
       ]
      },
      {
       "output_type": "stream",
       "stream": "stdout",
       "text": [
        " \b\b\b\b\b\b\b\b\b\b\b\b\b\b\b\b\b\b\b\b\b\b\b\b\b\b"
       ]
      },
      {
       "output_type": "stream",
       "stream": "stdout",
       "text": [
        " ...convolving band  8/24"
       ]
      },
      {
       "output_type": "stream",
       "stream": "stdout",
       "text": [
        " \b\b\b\b\b\b\b\b\b\b\b\b\b\b\b\b\b\b\b\b\b\b\b\b\b\b"
       ]
      },
      {
       "output_type": "stream",
       "stream": "stdout",
       "text": [
        " ...convolving band  9/24"
       ]
      },
      {
       "output_type": "stream",
       "stream": "stdout",
       "text": [
        " \b\b\b\b\b\b\b\b\b\b\b\b\b\b\b\b\b\b\b\b\b\b\b\b\b\b"
       ]
      },
      {
       "output_type": "stream",
       "stream": "stdout",
       "text": [
        " ...convolving band 10/24"
       ]
      },
      {
       "output_type": "stream",
       "stream": "stdout",
       "text": [
        " \b\b\b\b\b\b\b\b\b\b\b\b\b\b\b\b\b\b\b\b\b\b\b\b\b\b"
       ]
      },
      {
       "output_type": "stream",
       "stream": "stdout",
       "text": [
        " ...convolving band 11/24"
       ]
      },
      {
       "output_type": "stream",
       "stream": "stdout",
       "text": [
        " \b\b\b\b\b\b\b\b\b\b\b\b\b\b\b\b\b\b\b\b\b\b\b\b\b\b"
       ]
      },
      {
       "output_type": "stream",
       "stream": "stdout",
       "text": [
        " ...convolving band 12/24"
       ]
      },
      {
       "output_type": "stream",
       "stream": "stdout",
       "text": [
        " \b\b\b\b\b\b\b\b\b\b\b\b\b\b\b\b\b\b\b\b\b\b\b\b\b\b"
       ]
      },
      {
       "output_type": "stream",
       "stream": "stdout",
       "text": [
        " ...convolving band 13/24"
       ]
      },
      {
       "output_type": "stream",
       "stream": "stdout",
       "text": [
        " \b\b\b\b\b\b\b\b\b\b\b\b\b\b\b\b\b\b\b\b\b\b\b\b\b\b"
       ]
      },
      {
       "output_type": "stream",
       "stream": "stdout",
       "text": [
        " ...convolving band 14/24"
       ]
      },
      {
       "output_type": "stream",
       "stream": "stdout",
       "text": [
        " \b\b\b\b\b\b\b\b\b\b\b\b\b\b\b\b\b\b\b\b\b\b\b\b\b\b"
       ]
      },
      {
       "output_type": "stream",
       "stream": "stdout",
       "text": [
        " ...convolving band 15/24"
       ]
      },
      {
       "output_type": "stream",
       "stream": "stdout",
       "text": [
        " \b\b\b\b\b\b\b\b\b\b\b\b\b\b\b\b\b\b\b\b\b\b\b\b\b\b"
       ]
      },
      {
       "output_type": "stream",
       "stream": "stdout",
       "text": [
        " ...convolving band 16/24"
       ]
      },
      {
       "output_type": "stream",
       "stream": "stdout",
       "text": [
        " \b\b\b\b\b\b\b\b\b\b\b\b\b\b\b\b\b\b\b\b\b\b\b\b\b\b"
       ]
      },
      {
       "output_type": "stream",
       "stream": "stdout",
       "text": [
        " ...convolving band 17/24"
       ]
      },
      {
       "output_type": "stream",
       "stream": "stdout",
       "text": [
        " \b\b\b\b\b\b\b\b\b\b\b\b\b\b\b\b\b\b\b\b\b\b\b\b\b\b"
       ]
      },
      {
       "output_type": "stream",
       "stream": "stdout",
       "text": [
        " ...convolving band 18/24"
       ]
      },
      {
       "output_type": "stream",
       "stream": "stdout",
       "text": [
        " \b\b\b\b\b\b\b\b\b\b\b\b\b\b\b\b\b\b\b\b\b\b\b\b\b\b"
       ]
      },
      {
       "output_type": "stream",
       "stream": "stdout",
       "text": [
        " ...convolving band 19/24"
       ]
      },
      {
       "output_type": "stream",
       "stream": "stdout",
       "text": [
        " \b\b\b\b\b\b\b\b\b\b\b\b\b\b\b\b\b\b\b\b\b\b\b\b\b\b"
       ]
      },
      {
       "output_type": "stream",
       "stream": "stdout",
       "text": [
        " ...convolving band 20/24"
       ]
      },
      {
       "output_type": "stream",
       "stream": "stdout",
       "text": [
        " \b\b\b\b\b\b\b\b\b\b\b\b\b\b\b\b\b\b\b\b\b\b\b\b\b\b"
       ]
      },
      {
       "output_type": "stream",
       "stream": "stdout",
       "text": [
        " ...convolving band 21/24"
       ]
      },
      {
       "output_type": "stream",
       "stream": "stdout",
       "text": [
        " \b\b\b\b\b\b\b\b\b\b\b\b\b\b\b\b\b\b\b\b\b\b\b\b\b\b"
       ]
      },
      {
       "output_type": "stream",
       "stream": "stdout",
       "text": [
        " ...convolving band 22/24"
       ]
      },
      {
       "output_type": "stream",
       "stream": "stdout",
       "text": [
        " \b\b\b\b\b\b\b\b\b\b\b\b\b\b\b\b\b\b\b\b\b\b\b\b\b\b"
       ]
      },
      {
       "output_type": "stream",
       "stream": "stdout",
       "text": [
        " ...convolving band 23/24"
       ]
      },
      {
       "output_type": "stream",
       "stream": "stdout",
       "text": [
        " \b\b\b\b\b\b\b\b\b\b\b\b\b\b\b\b\b\b\b\b\b\b\b\b\b\b"
       ]
      },
      {
       "output_type": "stream",
       "stream": "stdout",
       "text": [
        " ...convolving band 24/24"
       ]
      },
      {
       "output_type": "stream",
       "stream": "stdout",
       "text": [
        " \b\b\b\b\b\b\b\b\b\b\b\b\b\b\b\b\b\b\b\b\b\b\b\b\b\b"
       ]
      },
      {
       "output_type": "stream",
       "stream": "stdout",
       "text": [
        "\n"
       ]
      }
     ],
     "prompt_number": 13
    },
    {
     "cell_type": "code",
     "collapsed": false,
     "input": [
      "roi_J1119.print_summary(maxdist=1)"
     ],
     "language": "python",
     "metadata": {},
     "outputs": [
      {
       "output_type": "stream",
       "stream": "stdout",
       "text": [
        " ------------------------------------------------------------------------------------------ \n",
        "\t Nearby sources within 1.0 degrees \n",
        " name               dist        ra       dec        TS     flux8     index      beta    cutoff\n"
       ]
      },
      {
       "output_type": "stream",
       "stream": "stdout",
       "text": [
        " G292.2-0.5          0.0   169.742   -61.402        28      4.82*     2.20*\n"
       ]
      },
      {
       "output_type": "stream",
       "stream": "stdout",
       "text": [
        " P72Y1655            0.7   168.401   -61.079        31     10.40*     2.35*\n",
        " ------------------------------------------------------------------------------------------\n",
        " \tDiffuse sources\n",
        " ------------------------------------------------------------------------------------------\n",
        " Galactic Diffuse (ring_2year_P76_v0.fits)      1.07!\n",
        " Isotropic Diffuse (isotrop_2year_P76_clean_v0.txt)      1.00 \n",
        " ------------------------------------------------------------------------------------------\n",
        " logLikelihood =  -18455.0522397\n",
        " ------------------------------------------------------------------------------------------\n"
       ]
      }
     ],
     "prompt_number": 14
    },
    {
     "cell_type": "code",
     "collapsed": false,
     "input": [
      "smooth_J1119 = nice_plot(roi_J1119, which=\"G292.2-0.5\")"
     ],
     "language": "python",
     "metadata": {},
     "outputs": [
      {
       "output_type": "display_data",
       "png": "[encoded data removed]"
      }
     ],
     "prompt_number": 15
    },
    {
     "cell_type": "code",
     "collapsed": false,
     "input": [
      "axes = smooth_J1119.axes\n",
      "\n",
      "axes.locator_params(axis=\"x\", nbins=2)\n",
      "axes.locator_params(axis=\"y\", nbins=2)\n",
      "\n",
      "fig = axes.get_figure()\n",
      "\n",
      "fig.subplots_adjust(left=0.1,right=0.85)\n",
      "axes.get_figure()\n",
      "\n",
      "fig"
     ],
     "language": "python",
     "metadata": {},
     "outputs": [
      {
       "output_type": "pyout",
       "png": "[encoded data removed]",
       "prompt_number": 29,
       "text": [
        "<matplotlib.figure.Figure at 0x6ada910>"
       ]
      }
     ],
     "prompt_number": 29
    },
    {
     "cell_type": "code",
     "collapsed": false,
     "input": [
      "fig.savefig('HESS_J1119-614.pdf')"
     ],
     "language": "python",
     "metadata": {},
     "outputs": [],
     "prompt_number": 30
    },
    {
     "cell_type": "markdown",
     "metadata": {},
     "source": [
      "# HESS J1420-607"
     ]
    },
    {
     "cell_type": "markdown",
     "metadata": {},
     "source": [
      "Note, HESS J1420-607 is the same as Kookaburra (http://tevcat.uchicago.edu/?mode=1&showsrc=124)"
     ]
    },
    {
     "cell_type": "code",
     "collapsed": false,
     "input": [
      "roi_J1420 = load(\"/afs/slac/g/glast/users/rousseau/TeV_sources/runs/13_11_Debug/Kookaburra/roi_at_tev_Kookaburra.dat\")"
     ],
     "language": "python",
     "metadata": {},
     "outputs": [
      {
       "output_type": "stream",
       "stream": "stdout",
       "text": [
        "Using gti from /afs/slac/g/glast/users/rousseau/TeV_sources/ltcubes_clean/ltcube_Kookaburra.fits\n",
        "loaded LivetimeCube /afs/slac/g/glast/users/rousseau/TeV_sources/ltcubes_clean/ltcube_Kookaburra.fits "
       ]
      },
      {
       "output_type": "stream",
       "stream": "stdout",
       "text": [
        "\n",
        ".....loading binfile /afs/slac/g/glast/users/rousseau/TeV_sources/bexpmap_clean/bexpmap_Kookaburra.fits ... "
       ]
      },
      {
       "output_type": "stream",
       "stream": "stdout",
       "text": [
        "found 64 bands, energies 100-1000000 MeV\n",
        ".....setting up point sources (6 in ROI)..."
       ]
      },
      {
       "output_type": "stream",
       "stream": "stdout",
       "text": [
        " done!\n",
        ".....setting up diffuse/extended backgrounds for 24 bands...\n",
        ".......... Galactic Diffuse (ring_2year_P76_v0.fits)"
       ]
      },
      {
       "output_type": "stream",
       "stream": "stdout",
       "text": [
        " ...convolving band  1/24"
       ]
      },
      {
       "output_type": "stream",
       "stream": "stdout",
       "text": [
        " \b\b\b\b\b\b\b\b\b\b\b\b\b\b\b\b\b\b\b\b\b\b\b\b\b\b"
       ]
      },
      {
       "output_type": "stream",
       "stream": "stdout",
       "text": [
        " ...convolving band  2/24"
       ]
      },
      {
       "output_type": "stream",
       "stream": "stdout",
       "text": [
        " \b\b\b\b\b\b\b\b\b\b\b\b\b\b\b\b\b\b\b\b\b\b\b\b\b\b"
       ]
      },
      {
       "output_type": "stream",
       "stream": "stdout",
       "text": [
        " ...convolving band  3/24"
       ]
      },
      {
       "output_type": "stream",
       "stream": "stdout",
       "text": [
        " \b\b\b\b\b\b\b\b\b\b\b\b\b\b\b\b\b\b\b\b\b\b\b\b\b\b"
       ]
      },
      {
       "output_type": "stream",
       "stream": "stdout",
       "text": [
        " ...convolving band  4/24"
       ]
      },
      {
       "output_type": "stream",
       "stream": "stdout",
       "text": [
        " \b\b\b\b\b\b\b\b\b\b\b\b\b\b\b\b\b\b\b\b\b\b\b\b\b\b"
       ]
      },
      {
       "output_type": "stream",
       "stream": "stdout",
       "text": [
        " ...convolving band  5/24"
       ]
      },
      {
       "output_type": "stream",
       "stream": "stdout",
       "text": [
        " \b\b\b\b\b\b\b\b\b\b\b\b\b\b\b\b\b\b\b\b\b\b\b\b\b\b"
       ]
      },
      {
       "output_type": "stream",
       "stream": "stdout",
       "text": [
        " ...convolving band  6/24"
       ]
      },
      {
       "output_type": "stream",
       "stream": "stdout",
       "text": [
        " \b\b\b\b\b\b\b\b\b\b\b\b\b\b\b\b\b\b\b\b\b\b\b\b\b\b"
       ]
      },
      {
       "output_type": "stream",
       "stream": "stdout",
       "text": [
        " ...convolving band  7/24"
       ]
      },
      {
       "output_type": "stream",
       "stream": "stdout",
       "text": [
        " \b\b\b\b\b\b\b\b\b\b\b\b\b\b\b\b\b\b\b\b\b\b\b\b\b\b"
       ]
      },
      {
       "output_type": "stream",
       "stream": "stdout",
       "text": [
        " ...convolving band  8/24"
       ]
      },
      {
       "output_type": "stream",
       "stream": "stdout",
       "text": [
        " \b\b\b\b\b\b\b\b\b\b\b\b\b\b\b\b\b\b\b\b\b\b\b\b\b\b"
       ]
      },
      {
       "output_type": "stream",
       "stream": "stdout",
       "text": [
        " ...convolving band  9/24"
       ]
      },
      {
       "output_type": "stream",
       "stream": "stdout",
       "text": [
        " \b\b\b\b\b\b\b\b\b\b\b\b\b\b\b\b\b\b\b\b\b\b\b\b\b\b"
       ]
      },
      {
       "output_type": "stream",
       "stream": "stdout",
       "text": [
        " ...convolving band 10/24"
       ]
      },
      {
       "output_type": "stream",
       "stream": "stdout",
       "text": [
        " \b\b\b\b\b\b\b\b\b\b\b\b\b\b\b\b\b\b\b\b\b\b\b\b\b\b"
       ]
      },
      {
       "output_type": "stream",
       "stream": "stdout",
       "text": [
        " ...convolving band 11/24"
       ]
      },
      {
       "output_type": "stream",
       "stream": "stdout",
       "text": [
        " \b\b\b\b\b\b\b\b\b\b\b\b\b\b\b\b\b\b\b\b\b\b\b\b\b\b"
       ]
      },
      {
       "output_type": "stream",
       "stream": "stdout",
       "text": [
        " ...convolving band 12/24"
       ]
      },
      {
       "output_type": "stream",
       "stream": "stdout",
       "text": [
        " \b\b\b\b\b\b\b\b\b\b\b\b\b\b\b\b\b\b\b\b\b\b\b\b\b\b"
       ]
      },
      {
       "output_type": "stream",
       "stream": "stdout",
       "text": [
        " ...convolving band 13/24"
       ]
      },
      {
       "output_type": "stream",
       "stream": "stdout",
       "text": [
        " \b\b\b\b\b\b\b\b\b\b\b\b\b\b\b\b\b\b\b\b\b\b\b\b\b\b"
       ]
      },
      {
       "output_type": "stream",
       "stream": "stdout",
       "text": [
        " ...convolving band 14/24"
       ]
      },
      {
       "output_type": "stream",
       "stream": "stdout",
       "text": [
        " \b\b\b\b\b\b\b\b\b\b\b\b\b\b\b\b\b\b\b\b\b\b\b\b\b\b"
       ]
      },
      {
       "output_type": "stream",
       "stream": "stdout",
       "text": [
        " ...convolving band 15/24"
       ]
      },
      {
       "output_type": "stream",
       "stream": "stdout",
       "text": [
        " \b\b\b\b\b\b\b\b\b\b\b\b\b\b\b\b\b\b\b\b\b\b\b\b\b\b"
       ]
      },
      {
       "output_type": "stream",
       "stream": "stdout",
       "text": [
        " ...convolving band 16/24"
       ]
      },
      {
       "output_type": "stream",
       "stream": "stdout",
       "text": [
        " \b\b\b\b\b\b\b\b\b\b\b\b\b\b\b\b\b\b\b\b\b\b\b\b\b\b"
       ]
      },
      {
       "output_type": "stream",
       "stream": "stdout",
       "text": [
        " ...convolving band 17/24"
       ]
      },
      {
       "output_type": "stream",
       "stream": "stdout",
       "text": [
        " \b\b\b\b\b\b\b\b\b\b\b\b\b\b\b\b\b\b\b\b\b\b\b\b\b\b"
       ]
      },
      {
       "output_type": "stream",
       "stream": "stdout",
       "text": [
        " ...convolving band 18/24"
       ]
      },
      {
       "output_type": "stream",
       "stream": "stdout",
       "text": [
        " \b\b\b\b\b\b\b\b\b\b\b\b\b\b\b\b\b\b\b\b\b\b\b\b\b\b"
       ]
      },
      {
       "output_type": "stream",
       "stream": "stdout",
       "text": [
        " ...convolving band 19/24"
       ]
      },
      {
       "output_type": "stream",
       "stream": "stdout",
       "text": [
        " \b\b\b\b\b\b\b\b\b\b\b\b\b\b\b\b\b\b\b\b\b\b\b\b\b\b"
       ]
      },
      {
       "output_type": "stream",
       "stream": "stdout",
       "text": [
        " ...convolving band 20/24"
       ]
      },
      {
       "output_type": "stream",
       "stream": "stdout",
       "text": [
        " \b\b\b\b\b\b\b\b\b\b\b\b\b\b\b\b\b\b\b\b\b\b\b\b\b\b"
       ]
      },
      {
       "output_type": "stream",
       "stream": "stdout",
       "text": [
        " ...convolving band 21/24"
       ]
      },
      {
       "output_type": "stream",
       "stream": "stdout",
       "text": [
        " \b\b\b\b\b\b\b\b\b\b\b\b\b\b\b\b\b\b\b\b\b\b\b\b\b\b"
       ]
      },
      {
       "output_type": "stream",
       "stream": "stdout",
       "text": [
        " ...convolving band 22/24"
       ]
      },
      {
       "output_type": "stream",
       "stream": "stdout",
       "text": [
        " \b\b\b\b\b\b\b\b\b\b\b\b\b\b\b\b\b\b\b\b\b\b\b\b\b\b"
       ]
      },
      {
       "output_type": "stream",
       "stream": "stdout",
       "text": [
        " ...convolving band 23/24"
       ]
      },
      {
       "output_type": "stream",
       "stream": "stdout",
       "text": [
        " \b\b\b\b\b\b\b\b\b\b\b\b\b\b\b\b\b\b\b\b\b\b\b\b\b\b"
       ]
      },
      {
       "output_type": "stream",
       "stream": "stdout",
       "text": [
        " ...convolving band 24/24"
       ]
      },
      {
       "output_type": "stream",
       "stream": "stdout",
       "text": [
        " \b\b\b\b\b\b\b\b\b\b\b\b\b\b\b\b\b\b\b\b\b\b\b\b\b\b"
       ]
      },
      {
       "output_type": "stream",
       "stream": "stdout",
       "text": [
        "\n",
        ".......... Isotropic Diffuse (isotrop_2year_P76_clean_v0.txt)"
       ]
      },
      {
       "output_type": "stream",
       "stream": "stdout",
       "text": [
        " ...convolving band  1/24"
       ]
      },
      {
       "output_type": "stream",
       "stream": "stdout",
       "text": [
        " \b\b\b\b\b\b\b\b\b\b\b\b\b\b\b\b\b\b\b\b\b\b\b\b\b\b"
       ]
      },
      {
       "output_type": "stream",
       "stream": "stdout",
       "text": [
        " ...convolving band  2/24"
       ]
      },
      {
       "output_type": "stream",
       "stream": "stdout",
       "text": [
        " \b\b\b\b\b\b\b\b\b\b\b\b\b\b\b\b\b\b\b\b\b\b\b\b\b\b"
       ]
      },
      {
       "output_type": "stream",
       "stream": "stdout",
       "text": [
        " ...convolving band  3/24"
       ]
      },
      {
       "output_type": "stream",
       "stream": "stdout",
       "text": [
        " \b\b\b\b\b\b\b\b\b\b\b\b\b\b\b\b\b\b\b\b\b\b\b\b\b\b"
       ]
      },
      {
       "output_type": "stream",
       "stream": "stdout",
       "text": [
        " ...convolving band  4/24"
       ]
      },
      {
       "output_type": "stream",
       "stream": "stdout",
       "text": [
        " \b\b\b\b\b\b\b\b\b\b\b\b\b\b\b\b\b\b\b\b\b\b\b\b\b\b"
       ]
      },
      {
       "output_type": "stream",
       "stream": "stdout",
       "text": [
        " ...convolving band  5/24"
       ]
      },
      {
       "output_type": "stream",
       "stream": "stdout",
       "text": [
        " \b\b\b\b\b\b\b\b\b\b\b\b\b\b\b\b\b\b\b\b\b\b\b\b\b\b"
       ]
      },
      {
       "output_type": "stream",
       "stream": "stdout",
       "text": [
        " ...convolving band  6/24"
       ]
      },
      {
       "output_type": "stream",
       "stream": "stdout",
       "text": [
        " \b\b\b\b\b\b\b\b\b\b\b\b\b\b\b\b\b\b\b\b\b\b\b\b\b\b"
       ]
      },
      {
       "output_type": "stream",
       "stream": "stdout",
       "text": [
        " ...convolving band  7/24"
       ]
      },
      {
       "output_type": "stream",
       "stream": "stdout",
       "text": [
        " \b\b\b\b\b\b\b\b\b\b\b\b\b\b\b\b\b\b\b\b\b\b\b\b\b\b"
       ]
      },
      {
       "output_type": "stream",
       "stream": "stdout",
       "text": [
        " ...convolving band  8/24"
       ]
      },
      {
       "output_type": "stream",
       "stream": "stdout",
       "text": [
        " \b\b\b\b\b\b\b\b\b\b\b\b\b\b\b\b\b\b\b\b\b\b\b\b\b\b"
       ]
      },
      {
       "output_type": "stream",
       "stream": "stdout",
       "text": [
        " ...convolving band  9/24"
       ]
      },
      {
       "output_type": "stream",
       "stream": "stdout",
       "text": [
        " \b\b\b\b\b\b\b\b\b\b\b\b\b\b\b\b\b\b\b\b\b\b\b\b\b\b"
       ]
      },
      {
       "output_type": "stream",
       "stream": "stdout",
       "text": [
        " ...convolving band 10/24"
       ]
      },
      {
       "output_type": "stream",
       "stream": "stdout",
       "text": [
        " \b\b\b\b\b\b\b\b\b\b\b\b\b\b\b\b\b\b\b\b\b\b\b\b\b\b"
       ]
      },
      {
       "output_type": "stream",
       "stream": "stdout",
       "text": [
        " ...convolving band 11/24"
       ]
      },
      {
       "output_type": "stream",
       "stream": "stdout",
       "text": [
        " \b\b\b\b\b\b\b\b\b\b\b\b\b\b\b\b\b\b\b\b\b\b\b\b\b\b"
       ]
      },
      {
       "output_type": "stream",
       "stream": "stdout",
       "text": [
        " ...convolving band 12/24"
       ]
      },
      {
       "output_type": "stream",
       "stream": "stdout",
       "text": [
        " \b\b\b\b\b\b\b\b\b\b\b\b\b\b\b\b\b\b\b\b\b\b\b\b\b\b"
       ]
      },
      {
       "output_type": "stream",
       "stream": "stdout",
       "text": [
        " ...convolving band 13/24"
       ]
      },
      {
       "output_type": "stream",
       "stream": "stdout",
       "text": [
        " \b\b\b\b\b\b\b\b\b\b\b\b\b\b\b\b\b\b\b\b\b\b\b\b\b\b"
       ]
      },
      {
       "output_type": "stream",
       "stream": "stdout",
       "text": [
        " ...convolving band 14/24"
       ]
      },
      {
       "output_type": "stream",
       "stream": "stdout",
       "text": [
        " \b\b\b\b\b\b\b\b\b\b\b\b\b\b\b\b\b\b\b\b\b\b\b\b\b\b"
       ]
      },
      {
       "output_type": "stream",
       "stream": "stdout",
       "text": [
        " ...convolving band 15/24"
       ]
      },
      {
       "output_type": "stream",
       "stream": "stdout",
       "text": [
        " \b\b\b\b\b\b\b\b\b\b\b\b\b\b\b\b\b\b\b\b\b\b\b\b\b\b"
       ]
      },
      {
       "output_type": "stream",
       "stream": "stdout",
       "text": [
        " ...convolving band 16/24"
       ]
      },
      {
       "output_type": "stream",
       "stream": "stdout",
       "text": [
        " \b\b\b\b\b\b\b\b\b\b\b\b\b\b\b\b\b\b\b\b\b\b\b\b\b\b"
       ]
      },
      {
       "output_type": "stream",
       "stream": "stdout",
       "text": [
        " ...convolving band 17/24"
       ]
      },
      {
       "output_type": "stream",
       "stream": "stdout",
       "text": [
        " \b\b\b\b\b\b\b\b\b\b\b\b\b\b\b\b\b\b\b\b\b\b\b\b\b\b"
       ]
      },
      {
       "output_type": "stream",
       "stream": "stdout",
       "text": [
        " ...convolving band 18/24"
       ]
      },
      {
       "output_type": "stream",
       "stream": "stdout",
       "text": [
        " \b\b\b\b\b\b\b\b\b\b\b\b\b\b\b\b\b\b\b\b\b\b\b\b\b\b"
       ]
      },
      {
       "output_type": "stream",
       "stream": "stdout",
       "text": [
        " ...convolving band 19/24"
       ]
      },
      {
       "output_type": "stream",
       "stream": "stdout",
       "text": [
        " \b\b\b\b\b\b\b\b\b\b\b\b\b\b\b\b\b\b\b\b\b\b\b\b\b\b"
       ]
      },
      {
       "output_type": "stream",
       "stream": "stdout",
       "text": [
        " ...convolving band 20/24"
       ]
      },
      {
       "output_type": "stream",
       "stream": "stdout",
       "text": [
        " \b\b\b\b\b\b\b\b\b\b\b\b\b\b\b\b\b\b\b\b\b\b\b\b\b\b"
       ]
      },
      {
       "output_type": "stream",
       "stream": "stdout",
       "text": [
        " ...convolving band 21/24"
       ]
      },
      {
       "output_type": "stream",
       "stream": "stdout",
       "text": [
        " \b\b\b\b\b\b\b\b\b\b\b\b\b\b\b\b\b\b\b\b\b\b\b\b\b\b"
       ]
      },
      {
       "output_type": "stream",
       "stream": "stdout",
       "text": [
        " ...convolving band 22/24"
       ]
      },
      {
       "output_type": "stream",
       "stream": "stdout",
       "text": [
        " \b\b\b\b\b\b\b\b\b\b\b\b\b\b\b\b\b\b\b\b\b\b\b\b\b\b"
       ]
      },
      {
       "output_type": "stream",
       "stream": "stdout",
       "text": [
        " ...convolving band 23/24"
       ]
      },
      {
       "output_type": "stream",
       "stream": "stdout",
       "text": [
        " \b\b\b\b\b\b\b\b\b\b\b\b\b\b\b\b\b\b\b\b\b\b\b\b\b\b"
       ]
      },
      {
       "output_type": "stream",
       "stream": "stdout",
       "text": [
        " ...convolving band 24/24"
       ]
      },
      {
       "output_type": "stream",
       "stream": "stdout",
       "text": [
        " \b\b\b\b\b\b\b\b\b\b\b\b\b\b\b\b\b\b\b\b\b\b\b\b\b\b"
       ]
      },
      {
       "output_type": "stream",
       "stream": "stdout",
       "text": [
        "\n",
        ".......... MSH15-52"
       ]
      },
      {
       "output_type": "stream",
       "stream": "stdout",
       "text": [
        " ...convolving band  1/24"
       ]
      },
      {
       "output_type": "stream",
       "stream": "stdout",
       "text": [
        " \b\b\b\b\b\b\b\b\b\b\b\b\b\b\b\b\b\b\b\b\b\b\b\b\b\b"
       ]
      },
      {
       "output_type": "stream",
       "stream": "stdout",
       "text": [
        " ...convolving band  2/24"
       ]
      },
      {
       "output_type": "stream",
       "stream": "stdout",
       "text": [
        " \b\b\b\b\b\b\b\b\b\b\b\b\b\b\b\b\b\b\b\b\b\b\b\b\b\b"
       ]
      },
      {
       "output_type": "stream",
       "stream": "stdout",
       "text": [
        " ...convolving band  3/24"
       ]
      },
      {
       "output_type": "stream",
       "stream": "stdout",
       "text": [
        " \b\b\b\b\b\b\b\b\b\b\b\b\b\b\b\b\b\b\b\b\b\b\b\b\b\b"
       ]
      },
      {
       "output_type": "stream",
       "stream": "stdout",
       "text": [
        " ...convolving band  4/24"
       ]
      },
      {
       "output_type": "stream",
       "stream": "stdout",
       "text": [
        " \b\b\b\b\b\b\b\b\b\b\b\b\b\b\b\b\b\b\b\b\b\b\b\b\b\b"
       ]
      },
      {
       "output_type": "stream",
       "stream": "stdout",
       "text": [
        " ...convolving band  5/24"
       ]
      },
      {
       "output_type": "stream",
       "stream": "stdout",
       "text": [
        " \b\b\b\b\b\b\b\b\b\b\b\b\b\b\b\b\b\b\b\b\b\b\b\b\b\b"
       ]
      },
      {
       "output_type": "stream",
       "stream": "stdout",
       "text": [
        " ...convolving band  6/24"
       ]
      },
      {
       "output_type": "stream",
       "stream": "stdout",
       "text": [
        " \b\b\b\b\b\b\b\b\b\b\b\b\b\b\b\b\b\b\b\b\b\b\b\b\b\b"
       ]
      },
      {
       "output_type": "stream",
       "stream": "stdout",
       "text": [
        " ...convolving band  7/24"
       ]
      },
      {
       "output_type": "stream",
       "stream": "stdout",
       "text": [
        " \b\b\b\b\b\b\b\b\b\b\b\b\b\b\b\b\b\b\b\b\b\b\b\b\b\b"
       ]
      },
      {
       "output_type": "stream",
       "stream": "stdout",
       "text": [
        " ...convolving band  8/24"
       ]
      },
      {
       "output_type": "stream",
       "stream": "stdout",
       "text": [
        " \b\b\b\b\b\b\b\b\b\b\b\b\b\b\b\b\b\b\b\b\b\b\b\b\b\b"
       ]
      },
      {
       "output_type": "stream",
       "stream": "stdout",
       "text": [
        " ...convolving band  9/24"
       ]
      },
      {
       "output_type": "stream",
       "stream": "stdout",
       "text": [
        " \b\b\b\b\b\b\b\b\b\b\b\b\b\b\b\b\b\b\b\b\b\b\b\b\b\b"
       ]
      },
      {
       "output_type": "stream",
       "stream": "stdout",
       "text": [
        " ...convolving band 10/24"
       ]
      },
      {
       "output_type": "stream",
       "stream": "stdout",
       "text": [
        " \b\b\b\b\b\b\b\b\b\b\b\b\b\b\b\b\b\b\b\b\b\b\b\b\b\b"
       ]
      },
      {
       "output_type": "stream",
       "stream": "stdout",
       "text": [
        " ...convolving band 11/24"
       ]
      },
      {
       "output_type": "stream",
       "stream": "stdout",
       "text": [
        " \b\b\b\b\b\b\b\b\b\b\b\b\b\b\b\b\b\b\b\b\b\b\b\b\b\b"
       ]
      },
      {
       "output_type": "stream",
       "stream": "stdout",
       "text": [
        " ...convolving band 12/24"
       ]
      },
      {
       "output_type": "stream",
       "stream": "stdout",
       "text": [
        " \b\b\b\b\b\b\b\b\b\b\b\b\b\b\b\b\b\b\b\b\b\b\b\b\b\b"
       ]
      },
      {
       "output_type": "stream",
       "stream": "stdout",
       "text": [
        " ...convolving band 13/24"
       ]
      },
      {
       "output_type": "stream",
       "stream": "stdout",
       "text": [
        " \b\b\b\b\b\b\b\b\b\b\b\b\b\b\b\b\b\b\b\b\b\b\b\b\b\b"
       ]
      },
      {
       "output_type": "stream",
       "stream": "stdout",
       "text": [
        " ...convolving band 14/24"
       ]
      },
      {
       "output_type": "stream",
       "stream": "stdout",
       "text": [
        " \b\b\b\b\b\b\b\b\b\b\b\b\b\b\b\b\b\b\b\b\b\b\b\b\b\b"
       ]
      },
      {
       "output_type": "stream",
       "stream": "stdout",
       "text": [
        " ...convolving band 15/24"
       ]
      },
      {
       "output_type": "stream",
       "stream": "stdout",
       "text": [
        " \b\b\b\b\b\b\b\b\b\b\b\b\b\b\b\b\b\b\b\b\b\b\b\b\b\b"
       ]
      },
      {
       "output_type": "stream",
       "stream": "stdout",
       "text": [
        " ...convolving band 16/24"
       ]
      },
      {
       "output_type": "stream",
       "stream": "stdout",
       "text": [
        " \b\b\b\b\b\b\b\b\b\b\b\b\b\b\b\b\b\b\b\b\b\b\b\b\b\b"
       ]
      },
      {
       "output_type": "stream",
       "stream": "stdout",
       "text": [
        " ...convolving band 17/24"
       ]
      },
      {
       "output_type": "stream",
       "stream": "stdout",
       "text": [
        " \b\b\b\b\b\b\b\b\b\b\b\b\b\b\b\b\b\b\b\b\b\b\b\b\b\b"
       ]
      },
      {
       "output_type": "stream",
       "stream": "stdout",
       "text": [
        " ...convolving band 18/24"
       ]
      },
      {
       "output_type": "stream",
       "stream": "stdout",
       "text": [
        " \b\b\b\b\b\b\b\b\b\b\b\b\b\b\b\b\b\b\b\b\b\b\b\b\b\b"
       ]
      },
      {
       "output_type": "stream",
       "stream": "stdout",
       "text": [
        " ...convolving band 19/24"
       ]
      },
      {
       "output_type": "stream",
       "stream": "stdout",
       "text": [
        " \b\b\b\b\b\b\b\b\b\b\b\b\b\b\b\b\b\b\b\b\b\b\b\b\b\b"
       ]
      },
      {
       "output_type": "stream",
       "stream": "stdout",
       "text": [
        " ...convolving band 20/24"
       ]
      },
      {
       "output_type": "stream",
       "stream": "stdout",
       "text": [
        " \b\b\b\b\b\b\b\b\b\b\b\b\b\b\b\b\b\b\b\b\b\b\b\b\b\b"
       ]
      },
      {
       "output_type": "stream",
       "stream": "stdout",
       "text": [
        " ...convolving band 21/24"
       ]
      },
      {
       "output_type": "stream",
       "stream": "stdout",
       "text": [
        " \b\b\b\b\b\b\b\b\b\b\b\b\b\b\b\b\b\b\b\b\b\b\b\b\b\b"
       ]
      },
      {
       "output_type": "stream",
       "stream": "stdout",
       "text": [
        " ...convolving band 22/24"
       ]
      },
      {
       "output_type": "stream",
       "stream": "stdout",
       "text": [
        " \b\b\b\b\b\b\b\b\b\b\b\b\b\b\b\b\b\b\b\b\b\b\b\b\b\b"
       ]
      },
      {
       "output_type": "stream",
       "stream": "stdout",
       "text": [
        " ...convolving band 23/24"
       ]
      },
      {
       "output_type": "stream",
       "stream": "stdout",
       "text": [
        " \b\b\b\b\b\b\b\b\b\b\b\b\b\b\b\b\b\b\b\b\b\b\b\b\b\b"
       ]
      },
      {
       "output_type": "stream",
       "stream": "stdout",
       "text": [
        " ...convolving band 24/24"
       ]
      },
      {
       "output_type": "stream",
       "stream": "stdout",
       "text": [
        " \b\b\b\b\b\b\b\b\b\b\b\b\b\b\b\b\b\b\b\b\b\b\b\b\b\b"
       ]
      },
      {
       "output_type": "stream",
       "stream": "stdout",
       "text": [
        "\n",
        ".......... Kookaburra"
       ]
      },
      {
       "output_type": "stream",
       "stream": "stdout",
       "text": [
        " ...convolving band  1/24"
       ]
      },
      {
       "output_type": "stream",
       "stream": "stdout",
       "text": [
        " \b\b\b\b\b\b\b\b\b\b\b\b\b\b\b\b\b\b\b\b\b\b\b\b\b\b"
       ]
      },
      {
       "output_type": "stream",
       "stream": "stdout",
       "text": [
        " ...convolving band  2/24"
       ]
      },
      {
       "output_type": "stream",
       "stream": "stdout",
       "text": [
        " \b\b\b\b\b\b\b\b\b\b\b\b\b\b\b\b\b\b\b\b\b\b\b\b\b\b"
       ]
      },
      {
       "output_type": "stream",
       "stream": "stdout",
       "text": [
        " ...convolving band  3/24"
       ]
      },
      {
       "output_type": "stream",
       "stream": "stdout",
       "text": [
        " \b\b\b\b\b\b\b\b\b\b\b\b\b\b\b\b\b\b\b\b\b\b\b\b\b\b"
       ]
      },
      {
       "output_type": "stream",
       "stream": "stdout",
       "text": [
        " ...convolving band  4/24"
       ]
      },
      {
       "output_type": "stream",
       "stream": "stdout",
       "text": [
        " \b\b\b\b\b\b\b\b\b\b\b\b\b\b\b\b\b\b\b\b\b\b\b\b\b\b"
       ]
      },
      {
       "output_type": "stream",
       "stream": "stdout",
       "text": [
        " ...convolving band  5/24"
       ]
      },
      {
       "output_type": "stream",
       "stream": "stdout",
       "text": [
        " \b\b\b\b\b\b\b\b\b\b\b\b\b\b\b\b\b\b\b\b\b\b\b\b\b\b"
       ]
      },
      {
       "output_type": "stream",
       "stream": "stdout",
       "text": [
        " ...convolving band  6/24"
       ]
      },
      {
       "output_type": "stream",
       "stream": "stdout",
       "text": [
        " \b\b\b\b\b\b\b\b\b\b\b\b\b\b\b\b\b\b\b\b\b\b\b\b\b\b"
       ]
      },
      {
       "output_type": "stream",
       "stream": "stdout",
       "text": [
        " ...convolving band  7/24"
       ]
      },
      {
       "output_type": "stream",
       "stream": "stdout",
       "text": [
        " \b\b\b\b\b\b\b\b\b\b\b\b\b\b\b\b\b\b\b\b\b\b\b\b\b\b"
       ]
      },
      {
       "output_type": "stream",
       "stream": "stdout",
       "text": [
        " ...convolving band  8/24"
       ]
      },
      {
       "output_type": "stream",
       "stream": "stdout",
       "text": [
        " \b\b\b\b\b\b\b\b\b\b\b\b\b\b\b\b\b\b\b\b\b\b\b\b\b\b"
       ]
      },
      {
       "output_type": "stream",
       "stream": "stdout",
       "text": [
        " ...convolving band  9/24"
       ]
      },
      {
       "output_type": "stream",
       "stream": "stdout",
       "text": [
        " \b\b\b\b\b\b\b\b\b\b\b\b\b\b\b\b\b\b\b\b\b\b\b\b\b\b"
       ]
      },
      {
       "output_type": "stream",
       "stream": "stdout",
       "text": [
        " ...convolving band 10/24"
       ]
      },
      {
       "output_type": "stream",
       "stream": "stdout",
       "text": [
        " \b\b\b\b\b\b\b\b\b\b\b\b\b\b\b\b\b\b\b\b\b\b\b\b\b\b"
       ]
      },
      {
       "output_type": "stream",
       "stream": "stdout",
       "text": [
        " ...convolving band 11/24"
       ]
      },
      {
       "output_type": "stream",
       "stream": "stdout",
       "text": [
        " \b\b\b\b\b\b\b\b\b\b\b\b\b\b\b\b\b\b\b\b\b\b\b\b\b\b"
       ]
      },
      {
       "output_type": "stream",
       "stream": "stdout",
       "text": [
        " ...convolving band 12/24"
       ]
      },
      {
       "output_type": "stream",
       "stream": "stdout",
       "text": [
        " \b\b\b\b\b\b\b\b\b\b\b\b\b\b\b\b\b\b\b\b\b\b\b\b\b\b"
       ]
      },
      {
       "output_type": "stream",
       "stream": "stdout",
       "text": [
        " ...convolving band 13/24"
       ]
      },
      {
       "output_type": "stream",
       "stream": "stdout",
       "text": [
        " \b\b\b\b\b\b\b\b\b\b\b\b\b\b\b\b\b\b\b\b\b\b\b\b\b\b"
       ]
      },
      {
       "output_type": "stream",
       "stream": "stdout",
       "text": [
        " ...convolving band 14/24"
       ]
      },
      {
       "output_type": "stream",
       "stream": "stdout",
       "text": [
        " \b\b\b\b\b\b\b\b\b\b\b\b\b\b\b\b\b\b\b\b\b\b\b\b\b\b"
       ]
      },
      {
       "output_type": "stream",
       "stream": "stdout",
       "text": [
        " ...convolving band 15/24"
       ]
      },
      {
       "output_type": "stream",
       "stream": "stdout",
       "text": [
        " \b\b\b\b\b\b\b\b\b\b\b\b\b\b\b\b\b\b\b\b\b\b\b\b\b\b"
       ]
      },
      {
       "output_type": "stream",
       "stream": "stdout",
       "text": [
        " ...convolving band 16/24"
       ]
      },
      {
       "output_type": "stream",
       "stream": "stdout",
       "text": [
        " \b\b\b\b\b\b\b\b\b\b\b\b\b\b\b\b\b\b\b\b\b\b\b\b\b\b"
       ]
      },
      {
       "output_type": "stream",
       "stream": "stdout",
       "text": [
        " ...convolving band 17/24"
       ]
      },
      {
       "output_type": "stream",
       "stream": "stdout",
       "text": [
        " \b\b\b\b\b\b\b\b\b\b\b\b\b\b\b\b\b\b\b\b\b\b\b\b\b\b"
       ]
      },
      {
       "output_type": "stream",
       "stream": "stdout",
       "text": [
        " ...convolving band 18/24"
       ]
      },
      {
       "output_type": "stream",
       "stream": "stdout",
       "text": [
        " \b\b\b\b\b\b\b\b\b\b\b\b\b\b\b\b\b\b\b\b\b\b\b\b\b\b"
       ]
      },
      {
       "output_type": "stream",
       "stream": "stdout",
       "text": [
        " ...convolving band 19/24"
       ]
      },
      {
       "output_type": "stream",
       "stream": "stdout",
       "text": [
        " \b\b\b\b\b\b\b\b\b\b\b\b\b\b\b\b\b\b\b\b\b\b\b\b\b\b"
       ]
      },
      {
       "output_type": "stream",
       "stream": "stdout",
       "text": [
        " ...convolving band 20/24"
       ]
      },
      {
       "output_type": "stream",
       "stream": "stdout",
       "text": [
        " \b\b\b\b\b\b\b\b\b\b\b\b\b\b\b\b\b\b\b\b\b\b\b\b\b\b"
       ]
      },
      {
       "output_type": "stream",
       "stream": "stdout",
       "text": [
        " ...convolving band 21/24"
       ]
      },
      {
       "output_type": "stream",
       "stream": "stdout",
       "text": [
        " \b\b\b\b\b\b\b\b\b\b\b\b\b\b\b\b\b\b\b\b\b\b\b\b\b\b"
       ]
      },
      {
       "output_type": "stream",
       "stream": "stdout",
       "text": [
        " ...convolving band 22/24"
       ]
      },
      {
       "output_type": "stream",
       "stream": "stdout",
       "text": [
        " \b\b\b\b\b\b\b\b\b\b\b\b\b\b\b\b\b\b\b\b\b\b\b\b\b\b"
       ]
      },
      {
       "output_type": "stream",
       "stream": "stdout",
       "text": [
        " ...convolving band 23/24"
       ]
      },
      {
       "output_type": "stream",
       "stream": "stdout",
       "text": [
        " \b\b\b\b\b\b\b\b\b\b\b\b\b\b\b\b\b\b\b\b\b\b\b\b\b\b"
       ]
      },
      {
       "output_type": "stream",
       "stream": "stdout",
       "text": [
        " ...convolving band 24/24"
       ]
      },
      {
       "output_type": "stream",
       "stream": "stdout",
       "text": [
        " \b\b\b\b\b\b\b\b\b\b\b\b\b\b\b\b\b\b\b\b\b\b\b\b\b\b"
       ]
      },
      {
       "output_type": "stream",
       "stream": "stdout",
       "text": [
        "\n",
        ".......... Kookaburra_Rabbit"
       ]
      },
      {
       "output_type": "stream",
       "stream": "stdout",
       "text": [
        " ...convolving band  1/24"
       ]
      },
      {
       "output_type": "stream",
       "stream": "stdout",
       "text": [
        " \b\b\b\b\b\b\b\b\b\b\b\b\b\b\b\b\b\b\b\b\b\b\b\b\b\b"
       ]
      },
      {
       "output_type": "stream",
       "stream": "stdout",
       "text": [
        " ...convolving band  2/24"
       ]
      },
      {
       "output_type": "stream",
       "stream": "stdout",
       "text": [
        " \b\b\b\b\b\b\b\b\b\b\b\b\b\b\b\b\b\b\b\b\b\b\b\b\b\b"
       ]
      },
      {
       "output_type": "stream",
       "stream": "stdout",
       "text": [
        " ...convolving band  3/24"
       ]
      },
      {
       "output_type": "stream",
       "stream": "stdout",
       "text": [
        " \b\b\b\b\b\b\b\b\b\b\b\b\b\b\b\b\b\b\b\b\b\b\b\b\b\b"
       ]
      },
      {
       "output_type": "stream",
       "stream": "stdout",
       "text": [
        " ...convolving band  4/24"
       ]
      },
      {
       "output_type": "stream",
       "stream": "stdout",
       "text": [
        " \b\b\b\b\b\b\b\b\b\b\b\b\b\b\b\b\b\b\b\b\b\b\b\b\b\b"
       ]
      },
      {
       "output_type": "stream",
       "stream": "stdout",
       "text": [
        " ...convolving band  5/24"
       ]
      },
      {
       "output_type": "stream",
       "stream": "stdout",
       "text": [
        " \b\b\b\b\b\b\b\b\b\b\b\b\b\b\b\b\b\b\b\b\b\b\b\b\b\b"
       ]
      },
      {
       "output_type": "stream",
       "stream": "stdout",
       "text": [
        " ...convolving band  6/24"
       ]
      },
      {
       "output_type": "stream",
       "stream": "stdout",
       "text": [
        " \b\b\b\b\b\b\b\b\b\b\b\b\b\b\b\b\b\b\b\b\b\b\b\b\b\b"
       ]
      },
      {
       "output_type": "stream",
       "stream": "stdout",
       "text": [
        " ...convolving band  7/24"
       ]
      },
      {
       "output_type": "stream",
       "stream": "stdout",
       "text": [
        " \b\b\b\b\b\b\b\b\b\b\b\b\b\b\b\b\b\b\b\b\b\b\b\b\b\b"
       ]
      },
      {
       "output_type": "stream",
       "stream": "stdout",
       "text": [
        " ...convolving band  8/24"
       ]
      },
      {
       "output_type": "stream",
       "stream": "stdout",
       "text": [
        " \b\b\b\b\b\b\b\b\b\b\b\b\b\b\b\b\b\b\b\b\b\b\b\b\b\b"
       ]
      },
      {
       "output_type": "stream",
       "stream": "stdout",
       "text": [
        " ...convolving band  9/24"
       ]
      },
      {
       "output_type": "stream",
       "stream": "stdout",
       "text": [
        " \b\b\b\b\b\b\b\b\b\b\b\b\b\b\b\b\b\b\b\b\b\b\b\b\b\b"
       ]
      },
      {
       "output_type": "stream",
       "stream": "stdout",
       "text": [
        " ...convolving band 10/24"
       ]
      },
      {
       "output_type": "stream",
       "stream": "stdout",
       "text": [
        " \b\b\b\b\b\b\b\b\b\b\b\b\b\b\b\b\b\b\b\b\b\b\b\b\b\b"
       ]
      },
      {
       "output_type": "stream",
       "stream": "stdout",
       "text": [
        " ...convolving band 11/24"
       ]
      },
      {
       "output_type": "stream",
       "stream": "stdout",
       "text": [
        " \b\b\b\b\b\b\b\b\b\b\b\b\b\b\b\b\b\b\b\b\b\b\b\b\b\b"
       ]
      },
      {
       "output_type": "stream",
       "stream": "stdout",
       "text": [
        " ...convolving band 12/24"
       ]
      },
      {
       "output_type": "stream",
       "stream": "stdout",
       "text": [
        " \b\b\b\b\b\b\b\b\b\b\b\b\b\b\b\b\b\b\b\b\b\b\b\b\b\b"
       ]
      },
      {
       "output_type": "stream",
       "stream": "stdout",
       "text": [
        " ...convolving band 13/24"
       ]
      },
      {
       "output_type": "stream",
       "stream": "stdout",
       "text": [
        " \b\b\b\b\b\b\b\b\b\b\b\b\b\b\b\b\b\b\b\b\b\b\b\b\b\b"
       ]
      },
      {
       "output_type": "stream",
       "stream": "stdout",
       "text": [
        " ...convolving band 14/24"
       ]
      },
      {
       "output_type": "stream",
       "stream": "stdout",
       "text": [
        " \b\b\b\b\b\b\b\b\b\b\b\b\b\b\b\b\b\b\b\b\b\b\b\b\b\b"
       ]
      },
      {
       "output_type": "stream",
       "stream": "stdout",
       "text": [
        " ...convolving band 15/24"
       ]
      },
      {
       "output_type": "stream",
       "stream": "stdout",
       "text": [
        " \b\b\b\b\b\b\b\b\b\b\b\b\b\b\b\b\b\b\b\b\b\b\b\b\b\b"
       ]
      },
      {
       "output_type": "stream",
       "stream": "stdout",
       "text": [
        " ...convolving band 16/24"
       ]
      },
      {
       "output_type": "stream",
       "stream": "stdout",
       "text": [
        " \b\b\b\b\b\b\b\b\b\b\b\b\b\b\b\b\b\b\b\b\b\b\b\b\b\b"
       ]
      },
      {
       "output_type": "stream",
       "stream": "stdout",
       "text": [
        " ...convolving band 17/24"
       ]
      },
      {
       "output_type": "stream",
       "stream": "stdout",
       "text": [
        " \b\b\b\b\b\b\b\b\b\b\b\b\b\b\b\b\b\b\b\b\b\b\b\b\b\b"
       ]
      },
      {
       "output_type": "stream",
       "stream": "stdout",
       "text": [
        " ...convolving band 18/24"
       ]
      },
      {
       "output_type": "stream",
       "stream": "stdout",
       "text": [
        " \b\b\b\b\b\b\b\b\b\b\b\b\b\b\b\b\b\b\b\b\b\b\b\b\b\b"
       ]
      },
      {
       "output_type": "stream",
       "stream": "stdout",
       "text": [
        " ...convolving band 19/24"
       ]
      },
      {
       "output_type": "stream",
       "stream": "stdout",
       "text": [
        " \b\b\b\b\b\b\b\b\b\b\b\b\b\b\b\b\b\b\b\b\b\b\b\b\b\b"
       ]
      },
      {
       "output_type": "stream",
       "stream": "stdout",
       "text": [
        " ...convolving band 20/24"
       ]
      },
      {
       "output_type": "stream",
       "stream": "stdout",
       "text": [
        " \b\b\b\b\b\b\b\b\b\b\b\b\b\b\b\b\b\b\b\b\b\b\b\b\b\b"
       ]
      },
      {
       "output_type": "stream",
       "stream": "stdout",
       "text": [
        " ...convolving band 21/24"
       ]
      },
      {
       "output_type": "stream",
       "stream": "stdout",
       "text": [
        " \b\b\b\b\b\b\b\b\b\b\b\b\b\b\b\b\b\b\b\b\b\b\b\b\b\b"
       ]
      },
      {
       "output_type": "stream",
       "stream": "stdout",
       "text": [
        " ...convolving band 22/24"
       ]
      },
      {
       "output_type": "stream",
       "stream": "stdout",
       "text": [
        " \b\b\b\b\b\b\b\b\b\b\b\b\b\b\b\b\b\b\b\b\b\b\b\b\b\b"
       ]
      },
      {
       "output_type": "stream",
       "stream": "stdout",
       "text": [
        " ...convolving band 23/24"
       ]
      },
      {
       "output_type": "stream",
       "stream": "stdout",
       "text": [
        " \b\b\b\b\b\b\b\b\b\b\b\b\b\b\b\b\b\b\b\b\b\b\b\b\b\b"
       ]
      },
      {
       "output_type": "stream",
       "stream": "stdout",
       "text": [
        " ...convolving band 24/24"
       ]
      },
      {
       "output_type": "stream",
       "stream": "stdout",
       "text": [
        " \b\b\b\b\b\b\b\b\b\b\b\b\b\b\b\b\b\b\b\b\b\b\b\b\b\b"
       ]
      },
      {
       "output_type": "stream",
       "stream": "stdout",
       "text": [
        "\n"
       ]
      }
     ],
     "prompt_number": 18
    },
    {
     "cell_type": "code",
     "collapsed": false,
     "input": [
      "smooth_J1420 = nice_plot(roi_J1420, which=\"Kookaburra\", size=1.5)"
     ],
     "language": "python",
     "metadata": {},
     "outputs": [
      {
       "output_type": "display_data",
       "png": "[encoded data removed]"
      }
     ],
     "prompt_number": 19
    },
    {
     "cell_type": "markdown",
     "metadata": {},
     "source": [
      "Auxiliary file HessKooka.fits\n",
      "\n",
      "* from http://www.mpi-hd.mpg.de/hfm/HESS/pages/publications/auxiliary/kookaburra_auxinfo.html\n",
      "* http://www.mpi-hd.mpg.de/hfm/HESS/pages/publications/auxiliary/HessKooka.fits\n",
      "\n",
      "\n",
      "    "
     ]
    },
    {
     "cell_type": "code",
     "collapsed": false,
     "input": [
      "axes = smooth_J1420.axes\n",
      "\n",
      "# Note, j1303_excess.fits from HESS auxiliary information:\n",
      "#  http://www.mpi-hd.mpg.de/hfm/HESS/pages/publications/auxiliary/j1303darkpwn/hess/j1303_excess.fits\n",
      "\n",
      "f = pyfits.open('files/HessKooka.fits')\n",
      "h, d = f[1].header, f[1].data\n",
      "\n",
      "h['CTYPE1'] = 'RA---MER'\n",
      "h['CTYPE2'] = 'DEC--MER'\n",
      "h['CUNIT1'] = 'deg'\n",
      "h['CUNIT2'] = 'deg'\n",
      "    \n",
      "axes[h].contour(d, np.linspace(15, 70, 4), colors='lightblue')\n",
      "\n",
      "axes.locator_params(axis=\"x\", nbins=2)\n",
      "axes.locator_params(axis=\"y\", nbins=2)\n",
      "\n",
      "fig = axes.get_figure()\n",
      "\n",
      "fig.subplots_adjust(left=0.1,right=0.85)\n",
      "axes.get_figure()\n",
      "\n",
      "fig"
     ],
     "language": "python",
     "metadata": {},
     "outputs": [
      {
       "output_type": "pyout",
       "png": "[encoded data removed]",
       "prompt_number": 27,
       "text": [
        "<matplotlib.figure.Figure at 0x6bf6410>"
       ]
      }
     ],
     "prompt_number": 27
    },
    {
     "cell_type": "code",
     "collapsed": false,
     "input": [
      "fig.savefig('HESS_J1420-607.pdf')"
     ],
     "language": "python",
     "metadata": {},
     "outputs": [],
     "prompt_number": 28
    },
    {
     "cell_type": "markdown",
     "metadata": {},
     "source": [
      "# HESS J1841-055"
     ]
    },
    {
     "cell_type": "code",
     "collapsed": false,
     "input": [
      "roi_J1841 = load(\"/afs/slac/g/glast/users/rousseau/TeV_sources/runs/13_11_Debug/HESS_J1841-055/roi_at_tev_HESS_J1841-055.dat\")"
     ],
     "language": "python",
     "metadata": {},
     "outputs": [
      {
       "output_type": "stream",
       "stream": "stdout",
       "text": [
        "Using gti from /afs/slac/g/glast/users/rousseau/TeV_sources/ltcubes_clean/ltcube_HESS_J1841-055.fits\n",
        "loaded LivetimeCube /afs/slac/g/glast/users/rousseau/TeV_sources/ltcubes_clean/ltcube_HESS_J1841-055.fits "
       ]
      },
      {
       "output_type": "stream",
       "stream": "stdout",
       "text": [
        "\n",
        ".....loading binfile /afs/slac/g/glast/users/rousseau/TeV_sources/bexpmap_clean/bexpmap_HESS_J1841-055.fits ... "
       ]
      },
      {
       "output_type": "stream",
       "stream": "stdout",
       "text": [
        "found 64 bands, energies 100-1000000 MeV\n",
        ".....setting up point sources (8 in ROI)..."
       ]
      },
      {
       "output_type": "stream",
       "stream": "stdout",
       "text": [
        " done!\n",
        ".....setting up diffuse/extended backgrounds for 24 bands...\n",
        ".......... Galactic Diffuse (ring_2year_P76_v0.fits)"
       ]
      },
      {
       "output_type": "stream",
       "stream": "stdout",
       "text": [
        " ...convolving band  1/24"
       ]
      },
      {
       "output_type": "stream",
       "stream": "stdout",
       "text": [
        " \b\b\b\b\b\b\b\b\b\b\b\b\b\b\b\b\b\b\b\b\b\b\b\b\b\b"
       ]
      },
      {
       "output_type": "stream",
       "stream": "stdout",
       "text": [
        " ...convolving band  2/24"
       ]
      },
      {
       "output_type": "stream",
       "stream": "stdout",
       "text": [
        " \b\b\b\b\b\b\b\b\b\b\b\b\b\b\b\b\b\b\b\b\b\b\b\b\b\b"
       ]
      },
      {
       "output_type": "stream",
       "stream": "stdout",
       "text": [
        " ...convolving band  3/24"
       ]
      },
      {
       "output_type": "stream",
       "stream": "stdout",
       "text": [
        " \b\b\b\b\b\b\b\b\b\b\b\b\b\b\b\b\b\b\b\b\b\b\b\b\b\b"
       ]
      },
      {
       "output_type": "stream",
       "stream": "stdout",
       "text": [
        " ...convolving band  4/24"
       ]
      },
      {
       "output_type": "stream",
       "stream": "stdout",
       "text": [
        " \b\b\b\b\b\b\b\b\b\b\b\b\b\b\b\b\b\b\b\b\b\b\b\b\b\b"
       ]
      },
      {
       "output_type": "stream",
       "stream": "stdout",
       "text": [
        " ...convolving band  5/24"
       ]
      },
      {
       "output_type": "stream",
       "stream": "stdout",
       "text": [
        " \b\b\b\b\b\b\b\b\b\b\b\b\b\b\b\b\b\b\b\b\b\b\b\b\b\b"
       ]
      },
      {
       "output_type": "stream",
       "stream": "stdout",
       "text": [
        " ...convolving band  6/24"
       ]
      },
      {
       "output_type": "stream",
       "stream": "stdout",
       "text": [
        " \b\b\b\b\b\b\b\b\b\b\b\b\b\b\b\b\b\b\b\b\b\b\b\b\b\b"
       ]
      },
      {
       "output_type": "stream",
       "stream": "stdout",
       "text": [
        " ...convolving band  7/24"
       ]
      },
      {
       "output_type": "stream",
       "stream": "stdout",
       "text": [
        " \b\b\b\b\b\b\b\b\b\b\b\b\b\b\b\b\b\b\b\b\b\b\b\b\b\b"
       ]
      },
      {
       "output_type": "stream",
       "stream": "stdout",
       "text": [
        " ...convolving band  8/24"
       ]
      },
      {
       "output_type": "stream",
       "stream": "stdout",
       "text": [
        " \b\b\b\b\b\b\b\b\b\b\b\b\b\b\b\b\b\b\b\b\b\b\b\b\b\b"
       ]
      },
      {
       "output_type": "stream",
       "stream": "stdout",
       "text": [
        " ...convolving band  9/24"
       ]
      },
      {
       "output_type": "stream",
       "stream": "stdout",
       "text": [
        " \b\b\b\b\b\b\b\b\b\b\b\b\b\b\b\b\b\b\b\b\b\b\b\b\b\b"
       ]
      },
      {
       "output_type": "stream",
       "stream": "stdout",
       "text": [
        " ...convolving band 10/24"
       ]
      },
      {
       "output_type": "stream",
       "stream": "stdout",
       "text": [
        " \b\b\b\b\b\b\b\b\b\b\b\b\b\b\b\b\b\b\b\b\b\b\b\b\b\b"
       ]
      },
      {
       "output_type": "stream",
       "stream": "stdout",
       "text": [
        " ...convolving band 11/24"
       ]
      },
      {
       "output_type": "stream",
       "stream": "stdout",
       "text": [
        " \b\b\b\b\b\b\b\b\b\b\b\b\b\b\b\b\b\b\b\b\b\b\b\b\b\b"
       ]
      },
      {
       "output_type": "stream",
       "stream": "stdout",
       "text": [
        " ...convolving band 12/24"
       ]
      },
      {
       "output_type": "stream",
       "stream": "stdout",
       "text": [
        " \b\b\b\b\b\b\b\b\b\b\b\b\b\b\b\b\b\b\b\b\b\b\b\b\b\b"
       ]
      },
      {
       "output_type": "stream",
       "stream": "stdout",
       "text": [
        " ...convolving band 13/24"
       ]
      },
      {
       "output_type": "stream",
       "stream": "stdout",
       "text": [
        " \b\b\b\b\b\b\b\b\b\b\b\b\b\b\b\b\b\b\b\b\b\b\b\b\b\b"
       ]
      },
      {
       "output_type": "stream",
       "stream": "stdout",
       "text": [
        " ...convolving band 14/24"
       ]
      },
      {
       "output_type": "stream",
       "stream": "stdout",
       "text": [
        " \b\b\b\b\b\b\b\b\b\b\b\b\b\b\b\b\b\b\b\b\b\b\b\b\b\b"
       ]
      },
      {
       "output_type": "stream",
       "stream": "stdout",
       "text": [
        " ...convolving band 15/24"
       ]
      },
      {
       "output_type": "stream",
       "stream": "stdout",
       "text": [
        " \b\b\b\b\b\b\b\b\b\b\b\b\b\b\b\b\b\b\b\b\b\b\b\b\b\b"
       ]
      },
      {
       "output_type": "stream",
       "stream": "stdout",
       "text": [
        " ...convolving band 16/24"
       ]
      },
      {
       "output_type": "stream",
       "stream": "stdout",
       "text": [
        " \b\b\b\b\b\b\b\b\b\b\b\b\b\b\b\b\b\b\b\b\b\b\b\b\b\b"
       ]
      },
      {
       "output_type": "stream",
       "stream": "stdout",
       "text": [
        " ...convolving band 17/24"
       ]
      },
      {
       "output_type": "stream",
       "stream": "stdout",
       "text": [
        " \b\b\b\b\b\b\b\b\b\b\b\b\b\b\b\b\b\b\b\b\b\b\b\b\b\b"
       ]
      },
      {
       "output_type": "stream",
       "stream": "stdout",
       "text": [
        " ...convolving band 18/24"
       ]
      },
      {
       "output_type": "stream",
       "stream": "stdout",
       "text": [
        " \b\b\b\b\b\b\b\b\b\b\b\b\b\b\b\b\b\b\b\b\b\b\b\b\b\b"
       ]
      },
      {
       "output_type": "stream",
       "stream": "stdout",
       "text": [
        " ...convolving band 19/24"
       ]
      },
      {
       "output_type": "stream",
       "stream": "stdout",
       "text": [
        " \b\b\b\b\b\b\b\b\b\b\b\b\b\b\b\b\b\b\b\b\b\b\b\b\b\b"
       ]
      },
      {
       "output_type": "stream",
       "stream": "stdout",
       "text": [
        " ...convolving band 20/24"
       ]
      },
      {
       "output_type": "stream",
       "stream": "stdout",
       "text": [
        " \b\b\b\b\b\b\b\b\b\b\b\b\b\b\b\b\b\b\b\b\b\b\b\b\b\b"
       ]
      },
      {
       "output_type": "stream",
       "stream": "stdout",
       "text": [
        " ...convolving band 21/24"
       ]
      },
      {
       "output_type": "stream",
       "stream": "stdout",
       "text": [
        " \b\b\b\b\b\b\b\b\b\b\b\b\b\b\b\b\b\b\b\b\b\b\b\b\b\b"
       ]
      },
      {
       "output_type": "stream",
       "stream": "stdout",
       "text": [
        " ...convolving band 22/24"
       ]
      },
      {
       "output_type": "stream",
       "stream": "stdout",
       "text": [
        " \b\b\b\b\b\b\b\b\b\b\b\b\b\b\b\b\b\b\b\b\b\b\b\b\b\b"
       ]
      },
      {
       "output_type": "stream",
       "stream": "stdout",
       "text": [
        " ...convolving band 23/24"
       ]
      },
      {
       "output_type": "stream",
       "stream": "stdout",
       "text": [
        " \b\b\b\b\b\b\b\b\b\b\b\b\b\b\b\b\b\b\b\b\b\b\b\b\b\b"
       ]
      },
      {
       "output_type": "stream",
       "stream": "stdout",
       "text": [
        " ...convolving band 24/24"
       ]
      },
      {
       "output_type": "stream",
       "stream": "stdout",
       "text": [
        " \b\b\b\b\b\b\b\b\b\b\b\b\b\b\b\b\b\b\b\b\b\b\b\b\b\b"
       ]
      },
      {
       "output_type": "stream",
       "stream": "stdout",
       "text": [
        "\n",
        ".......... Isotropic Diffuse (isotrop_2year_P76_clean_v0.txt)"
       ]
      },
      {
       "output_type": "stream",
       "stream": "stdout",
       "text": [
        " ...convolving band  1/24"
       ]
      },
      {
       "output_type": "stream",
       "stream": "stdout",
       "text": [
        " \b\b\b\b\b\b\b\b\b\b\b\b\b\b\b\b\b\b\b\b\b\b\b\b\b\b"
       ]
      },
      {
       "output_type": "stream",
       "stream": "stdout",
       "text": [
        " ...convolving band  2/24"
       ]
      },
      {
       "output_type": "stream",
       "stream": "stdout",
       "text": [
        " \b\b\b\b\b\b\b\b\b\b\b\b\b\b\b\b\b\b\b\b\b\b\b\b\b\b"
       ]
      },
      {
       "output_type": "stream",
       "stream": "stdout",
       "text": [
        " ...convolving band  3/24"
       ]
      },
      {
       "output_type": "stream",
       "stream": "stdout",
       "text": [
        " \b\b\b\b\b\b\b\b\b\b\b\b\b\b\b\b\b\b\b\b\b\b\b\b\b\b"
       ]
      },
      {
       "output_type": "stream",
       "stream": "stdout",
       "text": [
        " ...convolving band  4/24"
       ]
      },
      {
       "output_type": "stream",
       "stream": "stdout",
       "text": [
        " \b\b\b\b\b\b\b\b\b\b\b\b\b\b\b\b\b\b\b\b\b\b\b\b\b\b"
       ]
      },
      {
       "output_type": "stream",
       "stream": "stdout",
       "text": [
        " ...convolving band  5/24"
       ]
      },
      {
       "output_type": "stream",
       "stream": "stdout",
       "text": [
        " \b\b\b\b\b\b\b\b\b\b\b\b\b\b\b\b\b\b\b\b\b\b\b\b\b\b"
       ]
      },
      {
       "output_type": "stream",
       "stream": "stdout",
       "text": [
        " ...convolving band  6/24"
       ]
      },
      {
       "output_type": "stream",
       "stream": "stdout",
       "text": [
        " \b\b\b\b\b\b\b\b\b\b\b\b\b\b\b\b\b\b\b\b\b\b\b\b\b\b"
       ]
      },
      {
       "output_type": "stream",
       "stream": "stdout",
       "text": [
        " ...convolving band  7/24"
       ]
      },
      {
       "output_type": "stream",
       "stream": "stdout",
       "text": [
        " \b\b\b\b\b\b\b\b\b\b\b\b\b\b\b\b\b\b\b\b\b\b\b\b\b\b"
       ]
      },
      {
       "output_type": "stream",
       "stream": "stdout",
       "text": [
        " ...convolving band  8/24"
       ]
      },
      {
       "output_type": "stream",
       "stream": "stdout",
       "text": [
        " \b\b\b\b\b\b\b\b\b\b\b\b\b\b\b\b\b\b\b\b\b\b\b\b\b\b"
       ]
      },
      {
       "output_type": "stream",
       "stream": "stdout",
       "text": [
        " ...convolving band  9/24"
       ]
      },
      {
       "output_type": "stream",
       "stream": "stdout",
       "text": [
        " \b\b\b\b\b\b\b\b\b\b\b\b\b\b\b\b\b\b\b\b\b\b\b\b\b\b"
       ]
      },
      {
       "output_type": "stream",
       "stream": "stdout",
       "text": [
        " ...convolving band 10/24"
       ]
      },
      {
       "output_type": "stream",
       "stream": "stdout",
       "text": [
        " \b\b\b\b\b\b\b\b\b\b\b\b\b\b\b\b\b\b\b\b\b\b\b\b\b\b"
       ]
      },
      {
       "output_type": "stream",
       "stream": "stdout",
       "text": [
        " ...convolving band 11/24"
       ]
      },
      {
       "output_type": "stream",
       "stream": "stdout",
       "text": [
        " \b\b\b\b\b\b\b\b\b\b\b\b\b\b\b\b\b\b\b\b\b\b\b\b\b\b"
       ]
      },
      {
       "output_type": "stream",
       "stream": "stdout",
       "text": [
        " ...convolving band 12/24"
       ]
      },
      {
       "output_type": "stream",
       "stream": "stdout",
       "text": [
        " \b\b\b\b\b\b\b\b\b\b\b\b\b\b\b\b\b\b\b\b\b\b\b\b\b\b"
       ]
      },
      {
       "output_type": "stream",
       "stream": "stdout",
       "text": [
        " ...convolving band 13/24"
       ]
      },
      {
       "output_type": "stream",
       "stream": "stdout",
       "text": [
        " \b\b\b\b\b\b\b\b\b\b\b\b\b\b\b\b\b\b\b\b\b\b\b\b\b\b"
       ]
      },
      {
       "output_type": "stream",
       "stream": "stdout",
       "text": [
        " ...convolving band 14/24"
       ]
      },
      {
       "output_type": "stream",
       "stream": "stdout",
       "text": [
        " \b\b\b\b\b\b\b\b\b\b\b\b\b\b\b\b\b\b\b\b\b\b\b\b\b\b"
       ]
      },
      {
       "output_type": "stream",
       "stream": "stdout",
       "text": [
        " ...convolving band 15/24"
       ]
      },
      {
       "output_type": "stream",
       "stream": "stdout",
       "text": [
        " \b\b\b\b\b\b\b\b\b\b\b\b\b\b\b\b\b\b\b\b\b\b\b\b\b\b"
       ]
      },
      {
       "output_type": "stream",
       "stream": "stdout",
       "text": [
        " ...convolving band 16/24"
       ]
      },
      {
       "output_type": "stream",
       "stream": "stdout",
       "text": [
        " \b\b\b\b\b\b\b\b\b\b\b\b\b\b\b\b\b\b\b\b\b\b\b\b\b\b"
       ]
      },
      {
       "output_type": "stream",
       "stream": "stdout",
       "text": [
        " ...convolving band 17/24"
       ]
      },
      {
       "output_type": "stream",
       "stream": "stdout",
       "text": [
        " \b\b\b\b\b\b\b\b\b\b\b\b\b\b\b\b\b\b\b\b\b\b\b\b\b\b"
       ]
      },
      {
       "output_type": "stream",
       "stream": "stdout",
       "text": [
        " ...convolving band 18/24"
       ]
      },
      {
       "output_type": "stream",
       "stream": "stdout",
       "text": [
        " \b\b\b\b\b\b\b\b\b\b\b\b\b\b\b\b\b\b\b\b\b\b\b\b\b\b"
       ]
      },
      {
       "output_type": "stream",
       "stream": "stdout",
       "text": [
        " ...convolving band 19/24"
       ]
      },
      {
       "output_type": "stream",
       "stream": "stdout",
       "text": [
        " \b\b\b\b\b\b\b\b\b\b\b\b\b\b\b\b\b\b\b\b\b\b\b\b\b\b"
       ]
      },
      {
       "output_type": "stream",
       "stream": "stdout",
       "text": [
        " ...convolving band 20/24"
       ]
      },
      {
       "output_type": "stream",
       "stream": "stdout",
       "text": [
        " \b\b\b\b\b\b\b\b\b\b\b\b\b\b\b\b\b\b\b\b\b\b\b\b\b\b"
       ]
      },
      {
       "output_type": "stream",
       "stream": "stdout",
       "text": [
        " ...convolving band 21/24"
       ]
      },
      {
       "output_type": "stream",
       "stream": "stdout",
       "text": [
        " \b\b\b\b\b\b\b\b\b\b\b\b\b\b\b\b\b\b\b\b\b\b\b\b\b\b"
       ]
      },
      {
       "output_type": "stream",
       "stream": "stdout",
       "text": [
        " ...convolving band 22/24"
       ]
      },
      {
       "output_type": "stream",
       "stream": "stdout",
       "text": [
        " \b\b\b\b\b\b\b\b\b\b\b\b\b\b\b\b\b\b\b\b\b\b\b\b\b\b"
       ]
      },
      {
       "output_type": "stream",
       "stream": "stdout",
       "text": [
        " ...convolving band 23/24"
       ]
      },
      {
       "output_type": "stream",
       "stream": "stdout",
       "text": [
        " \b\b\b\b\b\b\b\b\b\b\b\b\b\b\b\b\b\b\b\b\b\b\b\b\b\b"
       ]
      },
      {
       "output_type": "stream",
       "stream": "stdout",
       "text": [
        " ...convolving band 24/24"
       ]
      },
      {
       "output_type": "stream",
       "stream": "stdout",
       "text": [
        " \b\b\b\b\b\b\b\b\b\b\b\b\b\b\b\b\b\b\b\b\b\b\b\b\b\b"
       ]
      },
      {
       "output_type": "stream",
       "stream": "stdout",
       "text": [
        "\n",
        ".......... W44"
       ]
      },
      {
       "output_type": "stream",
       "stream": "stdout",
       "text": [
        " ...convolving band  1/24"
       ]
      },
      {
       "output_type": "stream",
       "stream": "stdout",
       "text": [
        " \b\b\b\b\b\b\b\b\b\b\b\b\b\b\b\b\b\b\b\b\b\b\b\b\b\b"
       ]
      },
      {
       "output_type": "stream",
       "stream": "stdout",
       "text": [
        " ...convolving band  2/24"
       ]
      },
      {
       "output_type": "stream",
       "stream": "stdout",
       "text": [
        " \b\b\b\b\b\b\b\b\b\b\b\b\b\b\b\b\b\b\b\b\b\b\b\b\b\b"
       ]
      },
      {
       "output_type": "stream",
       "stream": "stdout",
       "text": [
        " ...convolving band  3/24"
       ]
      },
      {
       "output_type": "stream",
       "stream": "stdout",
       "text": [
        " \b\b\b\b\b\b\b\b\b\b\b\b\b\b\b\b\b\b\b\b\b\b\b\b\b\b"
       ]
      },
      {
       "output_type": "stream",
       "stream": "stdout",
       "text": [
        " ...convolving band  4/24"
       ]
      },
      {
       "output_type": "stream",
       "stream": "stdout",
       "text": [
        " \b\b\b\b\b\b\b\b\b\b\b\b\b\b\b\b\b\b\b\b\b\b\b\b\b\b"
       ]
      },
      {
       "output_type": "stream",
       "stream": "stdout",
       "text": [
        " ...convolving band  5/24"
       ]
      },
      {
       "output_type": "stream",
       "stream": "stdout",
       "text": [
        " \b\b\b\b\b\b\b\b\b\b\b\b\b\b\b\b\b\b\b\b\b\b\b\b\b\b"
       ]
      },
      {
       "output_type": "stream",
       "stream": "stdout",
       "text": [
        " ...convolving band  6/24"
       ]
      },
      {
       "output_type": "stream",
       "stream": "stdout",
       "text": [
        " \b\b\b\b\b\b\b\b\b\b\b\b\b\b\b\b\b\b\b\b\b\b\b\b\b\b"
       ]
      },
      {
       "output_type": "stream",
       "stream": "stdout",
       "text": [
        " ...convolving band  7/24"
       ]
      },
      {
       "output_type": "stream",
       "stream": "stdout",
       "text": [
        " \b\b\b\b\b\b\b\b\b\b\b\b\b\b\b\b\b\b\b\b\b\b\b\b\b\b"
       ]
      },
      {
       "output_type": "stream",
       "stream": "stdout",
       "text": [
        " ...convolving band  8/24"
       ]
      },
      {
       "output_type": "stream",
       "stream": "stdout",
       "text": [
        " \b\b\b\b\b\b\b\b\b\b\b\b\b\b\b\b\b\b\b\b\b\b\b\b\b\b"
       ]
      },
      {
       "output_type": "stream",
       "stream": "stdout",
       "text": [
        " ...convolving band  9/24"
       ]
      },
      {
       "output_type": "stream",
       "stream": "stdout",
       "text": [
        " \b\b\b\b\b\b\b\b\b\b\b\b\b\b\b\b\b\b\b\b\b\b\b\b\b\b"
       ]
      },
      {
       "output_type": "stream",
       "stream": "stdout",
       "text": [
        " ...convolving band 10/24"
       ]
      },
      {
       "output_type": "stream",
       "stream": "stdout",
       "text": [
        " \b\b\b\b\b\b\b\b\b\b\b\b\b\b\b\b\b\b\b\b\b\b\b\b\b\b"
       ]
      },
      {
       "output_type": "stream",
       "stream": "stdout",
       "text": [
        " ...convolving band 11/24"
       ]
      },
      {
       "output_type": "stream",
       "stream": "stdout",
       "text": [
        " \b\b\b\b\b\b\b\b\b\b\b\b\b\b\b\b\b\b\b\b\b\b\b\b\b\b"
       ]
      },
      {
       "output_type": "stream",
       "stream": "stdout",
       "text": [
        " ...convolving band 12/24"
       ]
      },
      {
       "output_type": "stream",
       "stream": "stdout",
       "text": [
        " \b\b\b\b\b\b\b\b\b\b\b\b\b\b\b\b\b\b\b\b\b\b\b\b\b\b"
       ]
      },
      {
       "output_type": "stream",
       "stream": "stdout",
       "text": [
        " ...convolving band 13/24"
       ]
      },
      {
       "output_type": "stream",
       "stream": "stdout",
       "text": [
        " \b\b\b\b\b\b\b\b\b\b\b\b\b\b\b\b\b\b\b\b\b\b\b\b\b\b"
       ]
      },
      {
       "output_type": "stream",
       "stream": "stdout",
       "text": [
        " ...convolving band 14/24"
       ]
      },
      {
       "output_type": "stream",
       "stream": "stdout",
       "text": [
        " \b\b\b\b\b\b\b\b\b\b\b\b\b\b\b\b\b\b\b\b\b\b\b\b\b\b"
       ]
      },
      {
       "output_type": "stream",
       "stream": "stdout",
       "text": [
        " ...convolving band 15/24"
       ]
      },
      {
       "output_type": "stream",
       "stream": "stdout",
       "text": [
        " \b\b\b\b\b\b\b\b\b\b\b\b\b\b\b\b\b\b\b\b\b\b\b\b\b\b"
       ]
      },
      {
       "output_type": "stream",
       "stream": "stdout",
       "text": [
        " ...convolving band 16/24"
       ]
      },
      {
       "output_type": "stream",
       "stream": "stdout",
       "text": [
        " \b\b\b\b\b\b\b\b\b\b\b\b\b\b\b\b\b\b\b\b\b\b\b\b\b\b"
       ]
      },
      {
       "output_type": "stream",
       "stream": "stdout",
       "text": [
        " ...convolving band 17/24"
       ]
      },
      {
       "output_type": "stream",
       "stream": "stdout",
       "text": [
        " \b\b\b\b\b\b\b\b\b\b\b\b\b\b\b\b\b\b\b\b\b\b\b\b\b\b"
       ]
      },
      {
       "output_type": "stream",
       "stream": "stdout",
       "text": [
        " ...convolving band 18/24"
       ]
      },
      {
       "output_type": "stream",
       "stream": "stdout",
       "text": [
        " \b\b\b\b\b\b\b\b\b\b\b\b\b\b\b\b\b\b\b\b\b\b\b\b\b\b"
       ]
      },
      {
       "output_type": "stream",
       "stream": "stdout",
       "text": [
        " ...convolving band 19/24"
       ]
      },
      {
       "output_type": "stream",
       "stream": "stdout",
       "text": [
        " \b\b\b\b\b\b\b\b\b\b\b\b\b\b\b\b\b\b\b\b\b\b\b\b\b\b"
       ]
      },
      {
       "output_type": "stream",
       "stream": "stdout",
       "text": [
        " ...convolving band 20/24"
       ]
      },
      {
       "output_type": "stream",
       "stream": "stdout",
       "text": [
        " \b\b\b\b\b\b\b\b\b\b\b\b\b\b\b\b\b\b\b\b\b\b\b\b\b\b"
       ]
      },
      {
       "output_type": "stream",
       "stream": "stdout",
       "text": [
        " ...convolving band 21/24"
       ]
      },
      {
       "output_type": "stream",
       "stream": "stdout",
       "text": [
        " \b\b\b\b\b\b\b\b\b\b\b\b\b\b\b\b\b\b\b\b\b\b\b\b\b\b"
       ]
      },
      {
       "output_type": "stream",
       "stream": "stdout",
       "text": [
        " ...convolving band 22/24"
       ]
      },
      {
       "output_type": "stream",
       "stream": "stdout",
       "text": [
        " \b\b\b\b\b\b\b\b\b\b\b\b\b\b\b\b\b\b\b\b\b\b\b\b\b\b"
       ]
      },
      {
       "output_type": "stream",
       "stream": "stdout",
       "text": [
        " ...convolving band 23/24"
       ]
      },
      {
       "output_type": "stream",
       "stream": "stdout",
       "text": [
        " \b\b\b\b\b\b\b\b\b\b\b\b\b\b\b\b\b\b\b\b\b\b\b\b\b\b"
       ]
      },
      {
       "output_type": "stream",
       "stream": "stdout",
       "text": [
        " ...convolving band 24/24"
       ]
      },
      {
       "output_type": "stream",
       "stream": "stdout",
       "text": [
        " \b\b\b\b\b\b\b\b\b\b\b\b\b\b\b\b\b\b\b\b\b\b\b\b\b\b"
       ]
      },
      {
       "output_type": "stream",
       "stream": "stdout",
       "text": [
        "\n",
        ".......... HESSJ1825-137"
       ]
      },
      {
       "output_type": "stream",
       "stream": "stdout",
       "text": [
        " ...convolving band  1/24"
       ]
      },
      {
       "output_type": "stream",
       "stream": "stdout",
       "text": [
        " \b\b\b\b\b\b\b\b\b\b\b\b\b\b\b\b\b\b\b\b\b\b\b\b\b\b"
       ]
      },
      {
       "output_type": "stream",
       "stream": "stdout",
       "text": [
        " ...convolving band  2/24"
       ]
      },
      {
       "output_type": "stream",
       "stream": "stdout",
       "text": [
        " \b\b\b\b\b\b\b\b\b\b\b\b\b\b\b\b\b\b\b\b\b\b\b\b\b\b"
       ]
      },
      {
       "output_type": "stream",
       "stream": "stdout",
       "text": [
        " ...convolving band  3/24"
       ]
      },
      {
       "output_type": "stream",
       "stream": "stdout",
       "text": [
        " \b\b\b\b\b\b\b\b\b\b\b\b\b\b\b\b\b\b\b\b\b\b\b\b\b\b"
       ]
      },
      {
       "output_type": "stream",
       "stream": "stdout",
       "text": [
        " ...convolving band  4/24"
       ]
      },
      {
       "output_type": "stream",
       "stream": "stdout",
       "text": [
        " \b\b\b\b\b\b\b\b\b\b\b\b\b\b\b\b\b\b\b\b\b\b\b\b\b\b"
       ]
      },
      {
       "output_type": "stream",
       "stream": "stdout",
       "text": [
        " ...convolving band  5/24"
       ]
      },
      {
       "output_type": "stream",
       "stream": "stdout",
       "text": [
        " \b\b\b\b\b\b\b\b\b\b\b\b\b\b\b\b\b\b\b\b\b\b\b\b\b\b"
       ]
      },
      {
       "output_type": "stream",
       "stream": "stdout",
       "text": [
        " ...convolving band  6/24"
       ]
      },
      {
       "output_type": "stream",
       "stream": "stdout",
       "text": [
        " \b\b\b\b\b\b\b\b\b\b\b\b\b\b\b\b\b\b\b\b\b\b\b\b\b\b"
       ]
      },
      {
       "output_type": "stream",
       "stream": "stdout",
       "text": [
        " ...convolving band  7/24"
       ]
      },
      {
       "output_type": "stream",
       "stream": "stdout",
       "text": [
        " \b\b\b\b\b\b\b\b\b\b\b\b\b\b\b\b\b\b\b\b\b\b\b\b\b\b"
       ]
      },
      {
       "output_type": "stream",
       "stream": "stdout",
       "text": [
        " ...convolving band  8/24"
       ]
      },
      {
       "output_type": "stream",
       "stream": "stdout",
       "text": [
        " \b\b\b\b\b\b\b\b\b\b\b\b\b\b\b\b\b\b\b\b\b\b\b\b\b\b"
       ]
      },
      {
       "output_type": "stream",
       "stream": "stdout",
       "text": [
        " ...convolving band  9/24"
       ]
      },
      {
       "output_type": "stream",
       "stream": "stdout",
       "text": [
        " \b\b\b\b\b\b\b\b\b\b\b\b\b\b\b\b\b\b\b\b\b\b\b\b\b\b"
       ]
      },
      {
       "output_type": "stream",
       "stream": "stdout",
       "text": [
        " ...convolving band 10/24"
       ]
      },
      {
       "output_type": "stream",
       "stream": "stdout",
       "text": [
        " \b\b\b\b\b\b\b\b\b\b\b\b\b\b\b\b\b\b\b\b\b\b\b\b\b\b"
       ]
      },
      {
       "output_type": "stream",
       "stream": "stdout",
       "text": [
        " ...convolving band 11/24"
       ]
      },
      {
       "output_type": "stream",
       "stream": "stdout",
       "text": [
        " \b\b\b\b\b\b\b\b\b\b\b\b\b\b\b\b\b\b\b\b\b\b\b\b\b\b"
       ]
      },
      {
       "output_type": "stream",
       "stream": "stdout",
       "text": [
        " ...convolving band 12/24"
       ]
      },
      {
       "output_type": "stream",
       "stream": "stdout",
       "text": [
        " \b\b\b\b\b\b\b\b\b\b\b\b\b\b\b\b\b\b\b\b\b\b\b\b\b\b"
       ]
      },
      {
       "output_type": "stream",
       "stream": "stdout",
       "text": [
        " ...convolving band 13/24"
       ]
      },
      {
       "output_type": "stream",
       "stream": "stdout",
       "text": [
        " \b\b\b\b\b\b\b\b\b\b\b\b\b\b\b\b\b\b\b\b\b\b\b\b\b\b"
       ]
      },
      {
       "output_type": "stream",
       "stream": "stdout",
       "text": [
        " ...convolving band 14/24"
       ]
      },
      {
       "output_type": "stream",
       "stream": "stdout",
       "text": [
        " \b\b\b\b\b\b\b\b\b\b\b\b\b\b\b\b\b\b\b\b\b\b\b\b\b\b"
       ]
      },
      {
       "output_type": "stream",
       "stream": "stdout",
       "text": [
        " ...convolving band 15/24"
       ]
      },
      {
       "output_type": "stream",
       "stream": "stdout",
       "text": [
        " \b\b\b\b\b\b\b\b\b\b\b\b\b\b\b\b\b\b\b\b\b\b\b\b\b\b"
       ]
      },
      {
       "output_type": "stream",
       "stream": "stdout",
       "text": [
        " ...convolving band 16/24"
       ]
      },
      {
       "output_type": "stream",
       "stream": "stdout",
       "text": [
        " \b\b\b\b\b\b\b\b\b\b\b\b\b\b\b\b\b\b\b\b\b\b\b\b\b\b"
       ]
      },
      {
       "output_type": "stream",
       "stream": "stdout",
       "text": [
        " ...convolving band 17/24"
       ]
      },
      {
       "output_type": "stream",
       "stream": "stdout",
       "text": [
        " \b\b\b\b\b\b\b\b\b\b\b\b\b\b\b\b\b\b\b\b\b\b\b\b\b\b"
       ]
      },
      {
       "output_type": "stream",
       "stream": "stdout",
       "text": [
        " ...convolving band 18/24"
       ]
      },
      {
       "output_type": "stream",
       "stream": "stdout",
       "text": [
        " \b\b\b\b\b\b\b\b\b\b\b\b\b\b\b\b\b\b\b\b\b\b\b\b\b\b"
       ]
      },
      {
       "output_type": "stream",
       "stream": "stdout",
       "text": [
        " ...convolving band 19/24"
       ]
      },
      {
       "output_type": "stream",
       "stream": "stdout",
       "text": [
        " \b\b\b\b\b\b\b\b\b\b\b\b\b\b\b\b\b\b\b\b\b\b\b\b\b\b"
       ]
      },
      {
       "output_type": "stream",
       "stream": "stdout",
       "text": [
        " ...convolving band 20/24"
       ]
      },
      {
       "output_type": "stream",
       "stream": "stdout",
       "text": [
        " \b\b\b\b\b\b\b\b\b\b\b\b\b\b\b\b\b\b\b\b\b\b\b\b\b\b"
       ]
      },
      {
       "output_type": "stream",
       "stream": "stdout",
       "text": [
        " ...convolving band 21/24"
       ]
      },
      {
       "output_type": "stream",
       "stream": "stdout",
       "text": [
        " \b\b\b\b\b\b\b\b\b\b\b\b\b\b\b\b\b\b\b\b\b\b\b\b\b\b"
       ]
      },
      {
       "output_type": "stream",
       "stream": "stdout",
       "text": [
        " ...convolving band 22/24"
       ]
      },
      {
       "output_type": "stream",
       "stream": "stdout",
       "text": [
        " \b\b\b\b\b\b\b\b\b\b\b\b\b\b\b\b\b\b\b\b\b\b\b\b\b\b"
       ]
      },
      {
       "output_type": "stream",
       "stream": "stdout",
       "text": [
        " ...convolving band 23/24"
       ]
      },
      {
       "output_type": "stream",
       "stream": "stdout",
       "text": [
        " \b\b\b\b\b\b\b\b\b\b\b\b\b\b\b\b\b\b\b\b\b\b\b\b\b\b"
       ]
      },
      {
       "output_type": "stream",
       "stream": "stdout",
       "text": [
        " ...convolving band 24/24"
       ]
      },
      {
       "output_type": "stream",
       "stream": "stdout",
       "text": [
        " \b\b\b\b\b\b\b\b\b\b\b\b\b\b\b\b\b\b\b\b\b\b\b\b\b\b"
       ]
      },
      {
       "output_type": "stream",
       "stream": "stdout",
       "text": [
        "\n",
        ".......... HESS_J1841-055"
       ]
      },
      {
       "output_type": "stream",
       "stream": "stdout",
       "text": [
        " ...convolving band  1/24"
       ]
      },
      {
       "output_type": "stream",
       "stream": "stdout",
       "text": [
        " \b\b\b\b\b\b\b\b\b\b\b\b\b\b\b\b\b\b\b\b\b\b\b\b\b\b"
       ]
      },
      {
       "output_type": "stream",
       "stream": "stdout",
       "text": [
        " ...convolving band  2/24"
       ]
      },
      {
       "output_type": "stream",
       "stream": "stdout",
       "text": [
        " \b\b\b\b\b\b\b\b\b\b\b\b\b\b\b\b\b\b\b\b\b\b\b\b\b\b"
       ]
      },
      {
       "output_type": "stream",
       "stream": "stdout",
       "text": [
        " ...convolving band  3/24"
       ]
      },
      {
       "output_type": "stream",
       "stream": "stdout",
       "text": [
        " \b\b\b\b\b\b\b\b\b\b\b\b\b\b\b\b\b\b\b\b\b\b\b\b\b\b"
       ]
      },
      {
       "output_type": "stream",
       "stream": "stdout",
       "text": [
        " ...convolving band  4/24"
       ]
      },
      {
       "output_type": "stream",
       "stream": "stdout",
       "text": [
        " \b\b\b\b\b\b\b\b\b\b\b\b\b\b\b\b\b\b\b\b\b\b\b\b\b\b"
       ]
      },
      {
       "output_type": "stream",
       "stream": "stdout",
       "text": [
        " ...convolving band  5/24"
       ]
      },
      {
       "output_type": "stream",
       "stream": "stdout",
       "text": [
        " \b\b\b\b\b\b\b\b\b\b\b\b\b\b\b\b\b\b\b\b\b\b\b\b\b\b"
       ]
      },
      {
       "output_type": "stream",
       "stream": "stdout",
       "text": [
        " ...convolving band  6/24"
       ]
      },
      {
       "output_type": "stream",
       "stream": "stdout",
       "text": [
        " \b\b\b\b\b\b\b\b\b\b\b\b\b\b\b\b\b\b\b\b\b\b\b\b\b\b"
       ]
      },
      {
       "output_type": "stream",
       "stream": "stdout",
       "text": [
        " ...convolving band  7/24"
       ]
      },
      {
       "output_type": "stream",
       "stream": "stdout",
       "text": [
        " \b\b\b\b\b\b\b\b\b\b\b\b\b\b\b\b\b\b\b\b\b\b\b\b\b\b"
       ]
      },
      {
       "output_type": "stream",
       "stream": "stdout",
       "text": [
        " ...convolving band  8/24"
       ]
      },
      {
       "output_type": "stream",
       "stream": "stdout",
       "text": [
        " \b\b\b\b\b\b\b\b\b\b\b\b\b\b\b\b\b\b\b\b\b\b\b\b\b\b"
       ]
      },
      {
       "output_type": "stream",
       "stream": "stdout",
       "text": [
        " ...convolving band  9/24"
       ]
      },
      {
       "output_type": "stream",
       "stream": "stdout",
       "text": [
        " \b\b\b\b\b\b\b\b\b\b\b\b\b\b\b\b\b\b\b\b\b\b\b\b\b\b"
       ]
      },
      {
       "output_type": "stream",
       "stream": "stdout",
       "text": [
        " ...convolving band 10/24"
       ]
      },
      {
       "output_type": "stream",
       "stream": "stdout",
       "text": [
        " \b\b\b\b\b\b\b\b\b\b\b\b\b\b\b\b\b\b\b\b\b\b\b\b\b\b"
       ]
      },
      {
       "output_type": "stream",
       "stream": "stdout",
       "text": [
        " ...convolving band 11/24"
       ]
      },
      {
       "output_type": "stream",
       "stream": "stdout",
       "text": [
        " \b\b\b\b\b\b\b\b\b\b\b\b\b\b\b\b\b\b\b\b\b\b\b\b\b\b"
       ]
      },
      {
       "output_type": "stream",
       "stream": "stdout",
       "text": [
        " ...convolving band 12/24"
       ]
      },
      {
       "output_type": "stream",
       "stream": "stdout",
       "text": [
        " \b\b\b\b\b\b\b\b\b\b\b\b\b\b\b\b\b\b\b\b\b\b\b\b\b\b"
       ]
      },
      {
       "output_type": "stream",
       "stream": "stdout",
       "text": [
        " ...convolving band 13/24"
       ]
      },
      {
       "output_type": "stream",
       "stream": "stdout",
       "text": [
        " \b\b\b\b\b\b\b\b\b\b\b\b\b\b\b\b\b\b\b\b\b\b\b\b\b\b"
       ]
      },
      {
       "output_type": "stream",
       "stream": "stdout",
       "text": [
        " ...convolving band 14/24"
       ]
      },
      {
       "output_type": "stream",
       "stream": "stdout",
       "text": [
        " \b\b\b\b\b\b\b\b\b\b\b\b\b\b\b\b\b\b\b\b\b\b\b\b\b\b"
       ]
      },
      {
       "output_type": "stream",
       "stream": "stdout",
       "text": [
        " ...convolving band 15/24"
       ]
      },
      {
       "output_type": "stream",
       "stream": "stdout",
       "text": [
        " \b\b\b\b\b\b\b\b\b\b\b\b\b\b\b\b\b\b\b\b\b\b\b\b\b\b"
       ]
      },
      {
       "output_type": "stream",
       "stream": "stdout",
       "text": [
        " ...convolving band 16/24"
       ]
      },
      {
       "output_type": "stream",
       "stream": "stdout",
       "text": [
        " \b\b\b\b\b\b\b\b\b\b\b\b\b\b\b\b\b\b\b\b\b\b\b\b\b\b"
       ]
      },
      {
       "output_type": "stream",
       "stream": "stdout",
       "text": [
        " ...convolving band 17/24"
       ]
      },
      {
       "output_type": "stream",
       "stream": "stdout",
       "text": [
        " \b\b\b\b\b\b\b\b\b\b\b\b\b\b\b\b\b\b\b\b\b\b\b\b\b\b"
       ]
      },
      {
       "output_type": "stream",
       "stream": "stdout",
       "text": [
        " ...convolving band 18/24"
       ]
      },
      {
       "output_type": "stream",
       "stream": "stdout",
       "text": [
        " \b\b\b\b\b\b\b\b\b\b\b\b\b\b\b\b\b\b\b\b\b\b\b\b\b\b"
       ]
      },
      {
       "output_type": "stream",
       "stream": "stdout",
       "text": [
        " ...convolving band 19/24"
       ]
      },
      {
       "output_type": "stream",
       "stream": "stdout",
       "text": [
        " \b\b\b\b\b\b\b\b\b\b\b\b\b\b\b\b\b\b\b\b\b\b\b\b\b\b"
       ]
      },
      {
       "output_type": "stream",
       "stream": "stdout",
       "text": [
        " ...convolving band 20/24"
       ]
      },
      {
       "output_type": "stream",
       "stream": "stdout",
       "text": [
        " \b\b\b\b\b\b\b\b\b\b\b\b\b\b\b\b\b\b\b\b\b\b\b\b\b\b"
       ]
      },
      {
       "output_type": "stream",
       "stream": "stdout",
       "text": [
        " ...convolving band 21/24"
       ]
      },
      {
       "output_type": "stream",
       "stream": "stdout",
       "text": [
        " \b\b\b\b\b\b\b\b\b\b\b\b\b\b\b\b\b\b\b\b\b\b\b\b\b\b"
       ]
      },
      {
       "output_type": "stream",
       "stream": "stdout",
       "text": [
        " ...convolving band 22/24"
       ]
      },
      {
       "output_type": "stream",
       "stream": "stdout",
       "text": [
        " \b\b\b\b\b\b\b\b\b\b\b\b\b\b\b\b\b\b\b\b\b\b\b\b\b\b"
       ]
      },
      {
       "output_type": "stream",
       "stream": "stdout",
       "text": [
        " ...convolving band 23/24"
       ]
      },
      {
       "output_type": "stream",
       "stream": "stdout",
       "text": [
        " \b\b\b\b\b\b\b\b\b\b\b\b\b\b\b\b\b\b\b\b\b\b\b\b\b\b"
       ]
      },
      {
       "output_type": "stream",
       "stream": "stdout",
       "text": [
        " ...convolving band 24/24"
       ]
      },
      {
       "output_type": "stream",
       "stream": "stdout",
       "text": [
        " \b\b\b\b\b\b\b\b\b\b\b\b\b\b\b\b\b\b\b\b\b\b\b\b\b\b"
       ]
      },
      {
       "output_type": "stream",
       "stream": "stdout",
       "text": [
        "\n",
        ".......... HESS_J1837-069"
       ]
      },
      {
       "output_type": "stream",
       "stream": "stdout",
       "text": [
        " ...convolving band  1/24"
       ]
      },
      {
       "output_type": "stream",
       "stream": "stdout",
       "text": [
        " \b\b\b\b\b\b\b\b\b\b\b\b\b\b\b\b\b\b\b\b\b\b\b\b\b\b"
       ]
      },
      {
       "output_type": "stream",
       "stream": "stdout",
       "text": [
        " ...convolving band  2/24"
       ]
      },
      {
       "output_type": "stream",
       "stream": "stdout",
       "text": [
        " \b\b\b\b\b\b\b\b\b\b\b\b\b\b\b\b\b\b\b\b\b\b\b\b\b\b"
       ]
      },
      {
       "output_type": "stream",
       "stream": "stdout",
       "text": [
        " ...convolving band  3/24"
       ]
      },
      {
       "output_type": "stream",
       "stream": "stdout",
       "text": [
        " \b\b\b\b\b\b\b\b\b\b\b\b\b\b\b\b\b\b\b\b\b\b\b\b\b\b"
       ]
      },
      {
       "output_type": "stream",
       "stream": "stdout",
       "text": [
        " ...convolving band  4/24"
       ]
      },
      {
       "output_type": "stream",
       "stream": "stdout",
       "text": [
        " \b\b\b\b\b\b\b\b\b\b\b\b\b\b\b\b\b\b\b\b\b\b\b\b\b\b"
       ]
      },
      {
       "output_type": "stream",
       "stream": "stdout",
       "text": [
        " ...convolving band  5/24"
       ]
      },
      {
       "output_type": "stream",
       "stream": "stdout",
       "text": [
        " \b\b\b\b\b\b\b\b\b\b\b\b\b\b\b\b\b\b\b\b\b\b\b\b\b\b"
       ]
      },
      {
       "output_type": "stream",
       "stream": "stdout",
       "text": [
        " ...convolving band  6/24"
       ]
      },
      {
       "output_type": "stream",
       "stream": "stdout",
       "text": [
        " \b\b\b\b\b\b\b\b\b\b\b\b\b\b\b\b\b\b\b\b\b\b\b\b\b\b"
       ]
      },
      {
       "output_type": "stream",
       "stream": "stdout",
       "text": [
        " ...convolving band  7/24"
       ]
      },
      {
       "output_type": "stream",
       "stream": "stdout",
       "text": [
        " \b\b\b\b\b\b\b\b\b\b\b\b\b\b\b\b\b\b\b\b\b\b\b\b\b\b"
       ]
      },
      {
       "output_type": "stream",
       "stream": "stdout",
       "text": [
        " ...convolving band  8/24"
       ]
      },
      {
       "output_type": "stream",
       "stream": "stdout",
       "text": [
        " \b\b\b\b\b\b\b\b\b\b\b\b\b\b\b\b\b\b\b\b\b\b\b\b\b\b"
       ]
      },
      {
       "output_type": "stream",
       "stream": "stdout",
       "text": [
        " ...convolving band  9/24"
       ]
      },
      {
       "output_type": "stream",
       "stream": "stdout",
       "text": [
        " \b\b\b\b\b\b\b\b\b\b\b\b\b\b\b\b\b\b\b\b\b\b\b\b\b\b"
       ]
      },
      {
       "output_type": "stream",
       "stream": "stdout",
       "text": [
        " ...convolving band 10/24"
       ]
      },
      {
       "output_type": "stream",
       "stream": "stdout",
       "text": [
        " \b\b\b\b\b\b\b\b\b\b\b\b\b\b\b\b\b\b\b\b\b\b\b\b\b\b"
       ]
      },
      {
       "output_type": "stream",
       "stream": "stdout",
       "text": [
        " ...convolving band 11/24"
       ]
      },
      {
       "output_type": "stream",
       "stream": "stdout",
       "text": [
        " \b\b\b\b\b\b\b\b\b\b\b\b\b\b\b\b\b\b\b\b\b\b\b\b\b\b"
       ]
      },
      {
       "output_type": "stream",
       "stream": "stdout",
       "text": [
        " ...convolving band 12/24"
       ]
      },
      {
       "output_type": "stream",
       "stream": "stdout",
       "text": [
        " \b\b\b\b\b\b\b\b\b\b\b\b\b\b\b\b\b\b\b\b\b\b\b\b\b\b"
       ]
      },
      {
       "output_type": "stream",
       "stream": "stdout",
       "text": [
        " ...convolving band 13/24"
       ]
      },
      {
       "output_type": "stream",
       "stream": "stdout",
       "text": [
        " \b\b\b\b\b\b\b\b\b\b\b\b\b\b\b\b\b\b\b\b\b\b\b\b\b\b"
       ]
      },
      {
       "output_type": "stream",
       "stream": "stdout",
       "text": [
        " ...convolving band 14/24"
       ]
      },
      {
       "output_type": "stream",
       "stream": "stdout",
       "text": [
        " \b\b\b\b\b\b\b\b\b\b\b\b\b\b\b\b\b\b\b\b\b\b\b\b\b\b"
       ]
      },
      {
       "output_type": "stream",
       "stream": "stdout",
       "text": [
        " ...convolving band 15/24"
       ]
      },
      {
       "output_type": "stream",
       "stream": "stdout",
       "text": [
        " \b\b\b\b\b\b\b\b\b\b\b\b\b\b\b\b\b\b\b\b\b\b\b\b\b\b"
       ]
      },
      {
       "output_type": "stream",
       "stream": "stdout",
       "text": [
        " ...convolving band 16/24"
       ]
      },
      {
       "output_type": "stream",
       "stream": "stdout",
       "text": [
        " \b\b\b\b\b\b\b\b\b\b\b\b\b\b\b\b\b\b\b\b\b\b\b\b\b\b"
       ]
      },
      {
       "output_type": "stream",
       "stream": "stdout",
       "text": [
        " ...convolving band 17/24"
       ]
      },
      {
       "output_type": "stream",
       "stream": "stdout",
       "text": [
        " \b\b\b\b\b\b\b\b\b\b\b\b\b\b\b\b\b\b\b\b\b\b\b\b\b\b"
       ]
      },
      {
       "output_type": "stream",
       "stream": "stdout",
       "text": [
        " ...convolving band 18/24"
       ]
      },
      {
       "output_type": "stream",
       "stream": "stdout",
       "text": [
        " \b\b\b\b\b\b\b\b\b\b\b\b\b\b\b\b\b\b\b\b\b\b\b\b\b\b"
       ]
      },
      {
       "output_type": "stream",
       "stream": "stdout",
       "text": [
        " ...convolving band 19/24"
       ]
      },
      {
       "output_type": "stream",
       "stream": "stdout",
       "text": [
        " \b\b\b\b\b\b\b\b\b\b\b\b\b\b\b\b\b\b\b\b\b\b\b\b\b\b"
       ]
      },
      {
       "output_type": "stream",
       "stream": "stdout",
       "text": [
        " ...convolving band 20/24"
       ]
      },
      {
       "output_type": "stream",
       "stream": "stdout",
       "text": [
        " \b\b\b\b\b\b\b\b\b\b\b\b\b\b\b\b\b\b\b\b\b\b\b\b\b\b"
       ]
      },
      {
       "output_type": "stream",
       "stream": "stdout",
       "text": [
        " ...convolving band 21/24"
       ]
      },
      {
       "output_type": "stream",
       "stream": "stdout",
       "text": [
        " \b\b\b\b\b\b\b\b\b\b\b\b\b\b\b\b\b\b\b\b\b\b\b\b\b\b"
       ]
      },
      {
       "output_type": "stream",
       "stream": "stdout",
       "text": [
        " ...convolving band 22/24"
       ]
      },
      {
       "output_type": "stream",
       "stream": "stdout",
       "text": [
        " \b\b\b\b\b\b\b\b\b\b\b\b\b\b\b\b\b\b\b\b\b\b\b\b\b\b"
       ]
      },
      {
       "output_type": "stream",
       "stream": "stdout",
       "text": [
        " ...convolving band 23/24"
       ]
      },
      {
       "output_type": "stream",
       "stream": "stdout",
       "text": [
        " \b\b\b\b\b\b\b\b\b\b\b\b\b\b\b\b\b\b\b\b\b\b\b\b\b\b"
       ]
      },
      {
       "output_type": "stream",
       "stream": "stdout",
       "text": [
        " ...convolving band 24/24"
       ]
      },
      {
       "output_type": "stream",
       "stream": "stdout",
       "text": [
        " \b\b\b\b\b\b\b\b\b\b\b\b\b\b\b\b\b\b\b\b\b\b\b\b\b\b"
       ]
      },
      {
       "output_type": "stream",
       "stream": "stdout",
       "text": [
        "\n"
       ]
      }
     ],
     "prompt_number": 22
    },
    {
     "cell_type": "code",
     "collapsed": false,
     "input": [
      "smooth_J1841 = nice_plot(roi_J1841, which=\"HESS_J1841-055\", size=3)"
     ],
     "language": "python",
     "metadata": {},
     "outputs": [
      {
       "output_type": "display_data",
       "png": "[encoded data removed]"
      }
     ],
     "prompt_number": 23
    },
    {
     "cell_type": "code",
     "collapsed": false,
     "input": [
      "axes = smooth_J1841.axes\n",
      "\n",
      "axes.locator_params(axis=\"x\", nbins=3)\n",
      "axes.locator_params(axis=\"y\", nbins=3)\n",
      "\n",
      "fig = axes.get_figure()\n",
      "\n",
      "fig.subplots_adjust(left=0.1,right=0.85)\n",
      "axes.get_figure()\n",
      "\n",
      "fig"
     ],
     "language": "python",
     "metadata": {},
     "outputs": [
      {
       "output_type": "pyout",
       "png": "[encoded data removed]",
       "prompt_number": 24,
       "text": [
        "<matplotlib.figure.Figure at 0xce4b290>"
       ]
      }
     ],
     "prompt_number": 24
    },
    {
     "cell_type": "code",
     "collapsed": false,
     "input": [
      "fig.savefig('HESS_J1841-055.pdf')"
     ],
     "language": "python",
     "metadata": {},
     "outputs": [],
     "prompt_number": 26
    },
    {
     "cell_type": "markdown",
     "metadata": {},
     "source": [
      "# TEMP"
     ]
    },
    {
     "cell_type": "markdown",
     "metadata": {},
     "source": [
      "..."
     ]
    }
   ],
   "metadata": {}
  }
 ]
}