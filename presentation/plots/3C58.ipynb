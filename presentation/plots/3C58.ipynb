{
 "metadata": {
  "name": "3C58"
 },
 "nbformat": 3,
 "nbformat_minor": 0,
 "worksheets": [
  {
   "cells": [
    {
     "cell_type": "code",
     "collapsed": false,
     "input": [
      "from uw.like.roi_save import load"
     ],
     "language": "python",
     "metadata": {},
     "outputs": []
    },
    {
     "cell_type": "code",
     "collapsed": false,
     "input": [
      "from lande.fermi.pipeline.pwncat2.analysis.setup import load_pwn\n",
      "\n",
      "roi = load_pwn(\"/nfs/slac/g/ki/ki03/lande/fermi/pwn/pwncat2/pipeline/v37/analysis/PSRJ0205+6449/roi_point_PSRJ0205+6449.dat\")\n"
     ],
     "language": "python",
     "metadata": {},
     "outputs": []
    },
    {
     "cell_type": "code",
     "collapsed": false,
     "input": [
      "smooth = roi.plot_sources(which='PSRJ0205+6449', size=1.5, overlay_psf=False, \n",
      "    overlay_kwargs=dict(show_extensions=False, show_sources=True),\n",
      "    title='',\n",
      "    figsize=(4,4),\n",
      "    pixelsize_fraction=20,\n",
      "    kernel_rad=0.125,\n",
      "    interpolation='bilinear',\n",
      ")"
     ],
     "language": "python",
     "metadata": {},
     "outputs": []
    },
    {
     "cell_type": "code",
     "collapsed": false,
     "input": [
      "axes = smooth.axes\n",
      "axes.locator_params(axis=\"x\", nbins=2)\n",
      "axes.locator_params(axis=\"y\", nbins=2)\n",
      "fig = axes.get_figure()\n",
      "fig"
     ],
     "language": "python",
     "metadata": {},
     "outputs": []
    },
    {
     "cell_type": "code",
     "collapsed": false,
     "input": [
      "savefig('3C58.pdf')"
     ],
     "language": "python",
     "metadata": {},
     "outputs": []
    }
   ],
   "metadata": {}
  }
 ]
}