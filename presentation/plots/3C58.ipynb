{
 "metadata": {
  "name": "3C58"
 },
 "nbformat": 3,
 "nbformat_minor": 0,
 "worksheets": [
  {
   "cells": [
    {
     "cell_type": "markdown",
     "metadata": {},
     "source": [
      "# 3C58\n",
      "\n",
      "Make a counts map of 3C 58 from the 2PC analysis"
     ]
    },
    {
     "cell_type": "code",
     "collapsed": false,
     "input": [
      "from uw.like.roi_save import load"
     ],
     "language": "python",
     "metadata": {},
     "outputs": [],
     "prompt_number": 1
    },
    {
     "cell_type": "code",
     "collapsed": false,
     "input": [
      "from lande.fermi.pipeline.pwncat2.analysis.setup import load_pwn\n",
      "roi = load_pwn(\"/nfs/slac/g/ki/ki03/lande/fermi/pwn/pwncat2/pipeline/v37/analysis/PSRJ0205+6449/roi_point_PSRJ0205+6449.dat\", fit_emin=1e4)"
     ],
     "language": "python",
     "metadata": {},
     "outputs": [
      {
       "output_type": "stream",
       "stream": "stdout",
       "text": [
        "new savedir is /scratch/Sh6Drl\n",
        "Selecting 712580 / 2040968 photons (duty cycle = 0.35)"
       ]
      },
      {
       "output_type": "stream",
       "stream": "stdout",
       "text": [
        "\n",
        "Using gti from /scratch/Sh6Drl/phased_ltcube.fits"
       ]
      },
      {
       "output_type": "stream",
       "stream": "stdout",
       "text": [
        "\n",
        "loaded LivetimeCube /scratch/Sh6Drl/phased_ltcube.fits "
       ]
      },
      {
       "output_type": "stream",
       "stream": "stdout",
       "text": [
        "\n",
        ".....set Data theta cut at 66.4 deg"
       ]
      },
      {
       "output_type": "stream",
       "stream": "stdout",
       "text": [
        "\n",
        "loading 1 FT1 file(s) /scratch/Sh6Drl/ft1_phased.fits.../scratch/Sh6Drl/ft1_phased.fits"
       ]
      },
      {
       "output_type": "stream",
       "stream": "stdout",
       "text": [
        "\n",
        "selecting event_class 0\n",
        ".....saving binfile /scratch/Sh6Drl/binned_phased.fits for subsequent use"
       ]
      },
      {
       "output_type": "stream",
       "stream": "stdout",
       "text": [
        "\n",
        ".....loading binfile /scratch/Sh6Drl/binned_phased.fits ..."
       ]
      },
      {
       "output_type": "stream",
       "stream": "stdout",
       "text": [
        " found 34 bands, energies 0-1000000 MeV\n",
        ".....setting up point sources (49 in ROI)..."
       ]
      },
      {
       "output_type": "stream",
       "stream": "stdout",
       "text": [
        " done!\n",
        ".....setting up diffuse/extended backgrounds for 12 bands...\n",
        ".......... Galactic Diffuse (ring_2year_P76_v0.fits)"
       ]
      },
      {
       "output_type": "stream",
       "stream": "stdout",
       "text": [
        " ...convolving band  1/12"
       ]
      },
      {
       "output_type": "stream",
       "stream": "stdout",
       "text": [
        " \b\b\b\b\b\b\b\b\b\b\b\b\b\b\b\b\b\b\b\b\b\b\b\b\b\b"
       ]
      },
      {
       "output_type": "stream",
       "stream": "stdout",
       "text": [
        " ...convolving band  2/12"
       ]
      },
      {
       "output_type": "stream",
       "stream": "stdout",
       "text": [
        " \b\b\b\b\b\b\b\b\b\b\b\b\b\b\b\b\b\b\b\b\b\b\b\b\b\b"
       ]
      },
      {
       "output_type": "stream",
       "stream": "stdout",
       "text": [
        " ...convolving band  3/12"
       ]
      },
      {
       "output_type": "stream",
       "stream": "stdout",
       "text": [
        " \b\b\b\b\b\b\b\b\b\b\b\b\b\b\b\b\b\b\b\b\b\b\b\b\b\b"
       ]
      },
      {
       "output_type": "stream",
       "stream": "stdout",
       "text": [
        " ...convolving band  4/12"
       ]
      },
      {
       "output_type": "stream",
       "stream": "stdout",
       "text": [
        " \b\b\b\b\b\b\b\b\b\b\b\b\b\b\b\b\b\b\b\b\b\b\b\b\b\b"
       ]
      },
      {
       "output_type": "stream",
       "stream": "stdout",
       "text": [
        " ...convolving band  5/12"
       ]
      },
      {
       "output_type": "stream",
       "stream": "stdout",
       "text": [
        " \b\b\b\b\b\b\b\b\b\b\b\b\b\b\b\b\b\b\b\b\b\b\b\b\b\b"
       ]
      },
      {
       "output_type": "stream",
       "stream": "stdout",
       "text": [
        " ...convolving band  6/12"
       ]
      },
      {
       "output_type": "stream",
       "stream": "stdout",
       "text": [
        " \b\b\b\b\b\b\b\b\b\b\b\b\b\b\b\b\b\b\b\b\b\b\b\b\b\b"
       ]
      },
      {
       "output_type": "stream",
       "stream": "stdout",
       "text": [
        " ...convolving band  7/12"
       ]
      },
      {
       "output_type": "stream",
       "stream": "stdout",
       "text": [
        " \b\b\b\b\b\b\b\b\b\b\b\b\b\b\b\b\b\b\b\b\b\b\b\b\b\b"
       ]
      },
      {
       "output_type": "stream",
       "stream": "stdout",
       "text": [
        " ...convolving band  8/12"
       ]
      },
      {
       "output_type": "stream",
       "stream": "stdout",
       "text": [
        " \b\b\b\b\b\b\b\b\b\b\b\b\b\b\b\b\b\b\b\b\b\b\b\b\b\b"
       ]
      },
      {
       "output_type": "stream",
       "stream": "stdout",
       "text": [
        " ...convolving band  9/12"
       ]
      },
      {
       "output_type": "stream",
       "stream": "stdout",
       "text": [
        " \b\b\b\b\b\b\b\b\b\b\b\b\b\b\b\b\b\b\b\b\b\b\b\b\b\b"
       ]
      },
      {
       "output_type": "stream",
       "stream": "stdout",
       "text": [
        " ...convolving band 10/12"
       ]
      },
      {
       "output_type": "stream",
       "stream": "stdout",
       "text": [
        " \b\b\b\b\b\b\b\b\b\b\b\b\b\b\b\b\b\b\b\b\b\b\b\b\b\b"
       ]
      },
      {
       "output_type": "stream",
       "stream": "stdout",
       "text": [
        " ...convolving band 11/12"
       ]
      },
      {
       "output_type": "stream",
       "stream": "stdout",
       "text": [
        " \b\b\b\b\b\b\b\b\b\b\b\b\b\b\b\b\b\b\b\b\b\b\b\b\b\b"
       ]
      },
      {
       "output_type": "stream",
       "stream": "stdout",
       "text": [
        " ...convolving band 12/12"
       ]
      },
      {
       "output_type": "stream",
       "stream": "stdout",
       "text": [
        " \b\b\b\b\b\b\b\b\b\b\b\b\b\b\b\b\b\b\b\b\b\b\b\b\b\b"
       ]
      },
      {
       "output_type": "stream",
       "stream": "stdout",
       "text": [
        "\n",
        ".......... Isotropic Diffuse (isotrop_2year_P76_source_v0.txt)"
       ]
      },
      {
       "output_type": "stream",
       "stream": "stdout",
       "text": [
        " ...convolving band  1/12"
       ]
      },
      {
       "output_type": "stream",
       "stream": "stdout",
       "text": [
        " \b\b\b\b\b\b\b\b\b\b\b\b\b\b\b\b\b\b\b\b\b\b\b\b\b\b"
       ]
      },
      {
       "output_type": "stream",
       "stream": "stdout",
       "text": [
        " ...convolving band  2/12"
       ]
      },
      {
       "output_type": "stream",
       "stream": "stdout",
       "text": [
        " \b\b\b\b\b\b\b\b\b\b\b\b\b\b\b\b\b\b\b\b\b\b\b\b\b\b"
       ]
      },
      {
       "output_type": "stream",
       "stream": "stdout",
       "text": [
        " ...convolving band  3/12"
       ]
      },
      {
       "output_type": "stream",
       "stream": "stdout",
       "text": [
        " \b\b\b\b\b\b\b\b\b\b\b\b\b\b\b\b\b\b\b\b\b\b\b\b\b\b"
       ]
      },
      {
       "output_type": "stream",
       "stream": "stdout",
       "text": [
        " ...convolving band  4/12"
       ]
      },
      {
       "output_type": "stream",
       "stream": "stdout",
       "text": [
        " \b\b\b\b\b\b\b\b\b\b\b\b\b\b\b\b\b\b\b\b\b\b\b\b\b\b"
       ]
      },
      {
       "output_type": "stream",
       "stream": "stdout",
       "text": [
        " ...convolving band  5/12"
       ]
      },
      {
       "output_type": "stream",
       "stream": "stdout",
       "text": [
        " \b\b\b\b\b\b\b\b\b\b\b\b\b\b\b\b\b\b\b\b\b\b\b\b\b\b"
       ]
      },
      {
       "output_type": "stream",
       "stream": "stdout",
       "text": [
        " ...convolving band  6/12"
       ]
      },
      {
       "output_type": "stream",
       "stream": "stdout",
       "text": [
        " \b\b\b\b\b\b\b\b\b\b\b\b\b\b\b\b\b\b\b\b\b\b\b\b\b\b"
       ]
      },
      {
       "output_type": "stream",
       "stream": "stdout",
       "text": [
        " ...convolving band  7/12"
       ]
      },
      {
       "output_type": "stream",
       "stream": "stdout",
       "text": [
        " \b\b\b\b\b\b\b\b\b\b\b\b\b\b\b\b\b\b\b\b\b\b\b\b\b\b"
       ]
      },
      {
       "output_type": "stream",
       "stream": "stdout",
       "text": [
        " ...convolving band  8/12"
       ]
      },
      {
       "output_type": "stream",
       "stream": "stdout",
       "text": [
        " \b\b\b\b\b\b\b\b\b\b\b\b\b\b\b\b\b\b\b\b\b\b\b\b\b\b"
       ]
      },
      {
       "output_type": "stream",
       "stream": "stdout",
       "text": [
        " ...convolving band  9/12"
       ]
      },
      {
       "output_type": "stream",
       "stream": "stdout",
       "text": [
        " \b\b\b\b\b\b\b\b\b\b\b\b\b\b\b\b\b\b\b\b\b\b\b\b\b\b"
       ]
      },
      {
       "output_type": "stream",
       "stream": "stdout",
       "text": [
        " ...convolving band 10/12"
       ]
      },
      {
       "output_type": "stream",
       "stream": "stdout",
       "text": [
        " \b\b\b\b\b\b\b\b\b\b\b\b\b\b\b\b\b\b\b\b\b\b\b\b\b\b"
       ]
      },
      {
       "output_type": "stream",
       "stream": "stdout",
       "text": [
        " ...convolving band 11/12"
       ]
      },
      {
       "output_type": "stream",
       "stream": "stdout",
       "text": [
        " \b\b\b\b\b\b\b\b\b\b\b\b\b\b\b\b\b\b\b\b\b\b\b\b\b\b"
       ]
      },
      {
       "output_type": "stream",
       "stream": "stdout",
       "text": [
        " ...convolving band 12/12"
       ]
      },
      {
       "output_type": "stream",
       "stream": "stdout",
       "text": [
        " \b\b\b\b\b\b\b\b\b\b\b\b\b\b\b\b\b\b\b\b\b\b\b\b\b\b"
       ]
      },
      {
       "output_type": "stream",
       "stream": "stdout",
       "text": [
        "\n"
       ]
      }
     ],
     "prompt_number": 2
    },
    {
     "cell_type": "code",
     "collapsed": false,
     "input": [
      "smooth = roi.plot_sources(which='PSRJ0205+6449', size=1.5, overlay_psf=False, \n",
      "    overlay_kwargs=dict(show_extensions=False, show_sources=True),\n",
      "    title='',\n",
      "    figsize=(4,4),\n",
      "    pixelsize_fraction=20,\n",
      "    kernel_rad=0.125,\n",
      "    interpolation='bilinear',\n",
      ")"
     ],
     "language": "python",
     "metadata": {},
     "outputs": [
      {
       "output_type": "display_data",
       "png": "[encoded data removed]"
      }
     ],
     "prompt_number": 3
    },
    {
     "cell_type": "code",
     "collapsed": false,
     "input": [
      "axes = smooth.axes\n",
      "axes.locator_params(axis=\"x\", nbins=2)\n",
      "axes.locator_params(axis=\"y\", nbins=2)\n",
      "fig = axes.get_figure()\n",
      "fig"
     ],
     "language": "python",
     "metadata": {},
     "outputs": [
      {
       "output_type": "pyout",
       "png": "[encoded data removed]",
       "prompt_number": 4,
       "text": [
        "<matplotlib.figure.Figure at 0x5c81d10>"
       ]
      }
     ],
     "prompt_number": 4
    },
    {
     "cell_type": "code",
     "collapsed": false,
     "input": [
      "fig.savefig('3C58.pdf')"
     ],
     "language": "python",
     "metadata": {},
     "outputs": [],
     "prompt_number": 5
    },
    {
     "cell_type": "code",
     "collapsed": false,
     "input": [],
     "language": "python",
     "metadata": {},
     "outputs": [],
     "prompt_number": 5
    },
    {
     "cell_type": "code",
     "collapsed": false,
     "input": [],
     "language": "python",
     "metadata": {},
     "outputs": []
    }
   ],
   "metadata": {}
  }
 ]
}