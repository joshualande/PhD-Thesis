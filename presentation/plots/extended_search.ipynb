{
 "metadata": {
  "name": "extended_search"
 },
 "nbformat": 3,
 "nbformat_minor": 0,
 "worksheets": [
  {
   "cells": [
    {
     "cell_type": "markdown",
     "metadata": {},
     "source": [
      "Recreate a pretty version of the plot of HESS J1632-478 from the extended source search paper"
     ]
    },
    {
     "cell_type": "code",
     "collapsed": false,
     "input": [
      "from lande.utilities.pubplot import set_latex_defaults\n",
      "set_latex_defaults()"
     ],
     "language": "python",
     "metadata": {},
     "outputs": [],
     "prompt_number": "*"
    },
    {
     "cell_type": "code",
     "collapsed": false,
     "input": [
      "import pyfits, os"
     ],
     "language": "python",
     "metadata": {},
     "outputs": [],
     "prompt_number": "*"
    },
    {
     "cell_type": "markdown",
     "metadata": {},
     "source": [
      "# Write code to read in legacy extended source search ROIs"
     ]
    },
    {
     "cell_type": "markdown",
     "metadata": {},
     "source": [
      "Note, before reading in the ROIs, we need to deal with some legacy code issues:"
     ]
    },
    {
     "cell_type": "code",
     "collapsed": false,
     "input": [
      "def fix_model(m):\n",
      "    m.npar = len(m._p)\n",
      "    from uw.utilities.parmap import LogMapper\n",
      "    m.mappers = [LogMapper]*m.npar\n",
      "    m.internal_cov_matrix = np.zeros([m.npar,m.npar]) \n",
      "    m._external = m._p.copy()\n",
      "    return m"
     ],
     "language": "python",
     "metadata": {},
     "outputs": [],
     "prompt_number": "*"
    },
    {
     "cell_type": "code",
     "collapsed": false,
     "input": [
      "from os.path import expandvars\n",
      "import cPickle\n",
      "import tempfile\n",
      "\n",
      "def kluge_load(filename,fast=False):\n",
      "    import uw.like.roi_save\n",
      "    f=open(expandvars(filename)).read()\n",
      "    f=f.replace(\"/nfs/slac/g/ki/ki03/lande/fermi/data/diffuse/\", \n",
      "               expandvars(\"$diffuse/\"))\n",
      "    f=f.replace(\"/nfs/slac/g/ki/ki03/lande/fermi_data/catalog_mirror/catalog_jan_31_2011/\",\n",
      "                \"/afs/slac/g/glast/groups/catalog/\")\n",
      "    f=f.replace(\"/nfs/slac/g/ki/ki03/lande/fermi_data/allsky/2FGL/v9/\",\n",
      "                \"/nfs/slac/g/ki/ki03/lande/fermi/data/old_data/allsky/2FGL/v9/\")\n",
      "    t=tempfile.NamedTemporaryFile()\n",
      "    t.write(f)\n",
      "    t.seek(0)\n",
      "    \n",
      "    os.environ['LATEXTDIR']='/nfs/slac/g/ki/ki03/lande/fermi/extended_archives/gll_psc_v05_templates'\n",
      "    \n",
      "    d=cPickle.load(t)\n",
      "    \n",
      "    for ps in d['point_sources']:\n",
      "        ps.model = fix_model(ps.model)\n",
      "    for ds in d['diffuse_sources']:\n",
      "        ds.smodel = fix_model(ds.smodel)\n",
      "        if hasattr(ds,'model'):\n",
      "            ds.model = ds.smodel\n",
      "            \n",
      "\n",
      "    if fast: \n",
      "        extra=dict(fit_emin=10**4.875,fit_emax=1e5,minROI=1,maxROI=1,conv_type=0)\n",
      "    else:\n",
      "        extra=dict()\n",
      "        \n",
      "    roi=uw.like.roi_save.load(d, **extra)\n",
      "    return roi"
     ],
     "language": "python",
     "metadata": {},
     "outputs": [],
     "prompt_number": "*"
    },
    {
     "cell_type": "markdown",
     "metadata": {},
     "source": [
      "# Plot HESS J1632-478"
     ]
    },
    {
     "cell_type": "code",
     "collapsed": false,
     "input": [
      "roi = kluge_load(\"$ki03/extended_catalog/2FGL/v17/followup_analysis/v2/standard_diffuse/spectral_emin_10000_v1/2FGL_J1632.4-4753c/v1/roi_Disk_2FGL_J1632.4-4753c.dat\")"
     ],
     "language": "python",
     "metadata": {},
     "outputs": []
    },
    {
     "cell_type": "code",
     "collapsed": false,
     "input": [
      "roi.print_summary(maxdist=1.5)"
     ],
     "language": "python",
     "metadata": {},
     "outputs": []
    },
    {
     "cell_type": "code",
     "collapsed": false,
     "input": [
      "smooth=roi.plot_source(which='2FGL J1632.4-4753c', title='', \n",
      "                size=2.5, psf_size=0.6,\n",
      "                overlay_kwargs=dict(show_extensions=False),\n",
      "                label_psf=False,\n",
      "                figsize=(4,3.5))"
     ],
     "language": "python",
     "metadata": {},
     "outputs": []
    },
    {
     "cell_type": "code",
     "collapsed": false,
     "input": [
      "def extra(ax):\n",
      "    f = pyfits.open(expandvars('$FERMI/hess/plane_survey/HESSJ1634-472_Map.fits'))\n",
      "    h = f[1].header\n",
      "    d = f[1].data\n",
      "\n",
      "    # Fix projection of HESS Image so that pywcs can read it.\n",
      "    h['CTYPE1'] = 'GLON-MER'\n",
      "    h['CTYPE2'] = 'GLAT-MER'\n",
      "    h['CUNIT1'] = 'deg'\n",
      "    h['CUNIT2'] = 'deg'\n",
      "    \n",
      "    ax = smooth.axes\n",
      "\n",
      "    ax.locator_params(axis=\"x\", nbins=3)\n",
      "    ax.locator_params(axis=\"y\", nbins=3)\n",
      "\n",
      "    cont=ax[h].contour(d,linspace(20,100,8),colors=\"white\", zorder=1)\n",
      "extra(smooth.axes)"
     ],
     "language": "python",
     "metadata": {},
     "outputs": []
    },
    {
     "cell_type": "code",
     "collapsed": false,
     "input": [
      "fig=smooth.axes.get_figure()\n",
      "fig.subplots_adjust(left=0.1)\n",
      "fig.savefig(filename='HESS_J1632-478.pdf')"
     ],
     "language": "python",
     "metadata": {},
     "outputs": []
    },
    {
     "cell_type": "markdown",
     "metadata": {},
     "source": [
      "# Plot HESS J1614-518:\n",
      "\n",
      "Code adapted from: ~/work/fermi/extended_catalog/2FGL/plots_for_paper/source_plots/1FGL_J1613.6-5100c/v9/run.py "
     ]
    },
    {
     "cell_type": "code",
     "collapsed": false,
     "input": [
      "roi = kluge_load(\"$ki03/extended_catalog/2FGL/v17/followup_analysis/v2/standard_diffuse/spectral_emin_10000_v1/2FGL_J1615.2-5138/v1/roi_Disk_2FGL_J1615.2-5138.dat\",fast=True)"
     ],
     "language": "python",
     "metadata": {},
     "outputs": []
    },
    {
     "cell_type": "code",
     "collapsed": false,
     "input": [
      "from skymaps import SkyDir\n",
      "smooth=roi.plot_sources(which='2FGL J1615.0-5051', title='', \n",
      "                size=2, psf_size=0.6,\n",
      "                overlay_kwargs=dict(show_extensions=False),\n",
      "                overlay_psf=False,\n",
      "                override_center=SkyDir(332,-0.5,SkyDir.GALACTIC),\n",
      "                figsize=(7,7))\n",
      "\n",
      "smooth.axes.set_ticklabel_type(\"absdeg\", \"absdeg\")\n",
      "\n",
      "smooth.axes.locator_params(axis=\"x\", nbins=3)\n",
      "smooth.axes.locator_params(axis=\"y\", nbins=3)"
     ],
     "language": "python",
     "metadata": {},
     "outputs": []
    },
    {
     "cell_type": "code",
     "collapsed": false,
     "input": [
      "f = pyfits.open(expandvars('$FERMI/hess/plane_survey/HESSJ1614-518_Map.fits'))\n",
      "h = f[1].header\n",
      "d =f[1].data\n",
      "\n",
      "h['CTYPE1'] = 'GLON-MER'\n",
      "h['CTYPE2'] = 'GLAT-MER'\n",
      "h['CUNIT1'] = 'deg'\n",
      "h['CUNIT2'] = 'deg'\n",
      "\n",
      "ax=smooth.axes\n",
      "\n",
      "cont=ax[h].contour(d,linspace(20,100,8),colors=\"white\", zorder=1)"
     ],
     "language": "python",
     "metadata": {},
     "outputs": []
    },
    {
     "cell_type": "code",
     "collapsed": false,
     "input": [
      "fig=smooth.axes.get_figure()"
     ],
     "language": "python",
     "metadata": {},
     "outputs": []
    },
    {
     "cell_type": "code",
     "collapsed": false,
     "input": [
      "fig.subplots_adjust(left=0.1)\n",
      "fig.savefig(filename='HESS_J1614-518.pdf')"
     ],
     "language": "python",
     "metadata": {},
     "outputs": []
    },
    {
     "cell_type": "markdown",
     "metadata": {},
     "source": [
      "# Plot HESS J1837"
     ]
    },
    {
     "cell_type": "code",
     "collapsed": false,
     "input": [
      "roi = kluge_load(\"$ki03/extended_catalog/2FGL/v17/followup_analysis/v2/standard_diffuse/spectral_emin_10000_v1/2FGL_J1837.3-0700c/v1/roi_Disk_2FGL_J1837.3-0700c.dat\",fast=True)"
     ],
     "language": "python",
     "metadata": {},
     "outputs": [],
     "prompt_number": "*"
    },
    {
     "cell_type": "code",
     "collapsed": false,
     "input": [
      "from skymaps import SkyDir\n",
      "smooth=roi.plot_sources(which='2FGL J1837.3-0700c', title='', \n",
      "                size=2, psf_size=0.6,\n",
      "                overlay_kwargs=dict(show_extensions=False),\n",
      "                overlay_psf=False,\n",
      "                kernel_rad = 0.15,\n",
      "                pixelsize_fraction=10,\n",
      "                figsize=(7,7))\n",
      "\n",
      "smooth.axes.set_ticklabel_type(\"absdeg\", \"absdeg\")\n",
      "\n",
      "smooth.axes.locator_params(axis=\"x\", nbins=2)\n",
      "smooth.axes.locator_params(axis=\"y\", nbins=2)"
     ],
     "language": "python",
     "metadata": {},
     "outputs": [],
     "prompt_number": "*"
    },
    {
     "cell_type": "code",
     "collapsed": false,
     "input": [
      "f = pyfits.open(expandvars('$FERMI/hess/plane_survey/HESSJ1837-069_Map.fits'))\n",
      "h = f[1].header\n",
      "d =f[1].data\n",
      "\n",
      "h['CTYPE1'] = 'GLON-MER'\n",
      "h['CTYPE2'] = 'GLAT-MER'\n",
      "h['CUNIT1'] = 'deg'\n",
      "h['CUNIT2'] = 'deg'\n",
      "\n",
      "cont=smooth.axes[h].contour(d,linspace(15,100,8),colors=\"white\", zorder=1)\n"
     ],
     "language": "python",
     "metadata": {},
     "outputs": [],
     "prompt_number": "*"
    },
    {
     "cell_type": "code",
     "collapsed": false,
     "input": [
      "fig=smooth.axes.get_figure()"
     ],
     "language": "python",
     "metadata": {},
     "outputs": [
      {
       "ename": "NameError",
       "evalue": "name 'smooth' is not defined",
       "output_type": "pyerr",
       "traceback": [
        "\u001b[1;31m---------------------------------------------------------------------------\u001b[0m\n\u001b[1;31mNameError\u001b[0m                                 Traceback (most recent call last)",
        "\u001b[1;32m<ipython-input-1-3353e70ae275>\u001b[0m in \u001b[0;36m<module>\u001b[1;34m()\u001b[0m\n\u001b[1;32m----> 1\u001b[1;33m \u001b[0mfig\u001b[0m\u001b[1;33m=\u001b[0m\u001b[0msmooth\u001b[0m\u001b[1;33m.\u001b[0m\u001b[0maxes\u001b[0m\u001b[1;33m.\u001b[0m\u001b[0mget_figure\u001b[0m\u001b[1;33m(\u001b[0m\u001b[1;33m)\u001b[0m\u001b[1;33m\u001b[0m\u001b[0m\n\u001b[0m",
        "\u001b[1;31mNameError\u001b[0m: name 'smooth' is not defined"
       ]
      }
     ],
     "prompt_number": 1
    },
    {
     "cell_type": "code",
     "collapsed": false,
     "input": [
      "fig.subplots_adjust(left=0.1)\n",
      "fig.savefig(filename='HESS_J1837-069.pdf')"
     ],
     "language": "python",
     "metadata": {},
     "outputs": [],
     "prompt_number": 42
    }
   ],
   "metadata": {}
  }
 ]
}