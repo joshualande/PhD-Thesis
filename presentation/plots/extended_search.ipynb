{
 "metadata": {
  "name": "extended_search"
 },
 "nbformat": 3,
 "nbformat_minor": 0,
 "worksheets": [
  {
   "cells": [
    {
     "cell_type": "markdown",
     "metadata": {},
     "source": [
      "Recreate a pretty version of the plot of HESS J1632-478 from the extended source search paper"
     ]
    },
    {
     "cell_type": "code",
     "collapsed": false,
     "input": [
      "from lande.utilities.pubplot import set_latex_defaults\n",
      "set_latex_defaults()"
     ],
     "language": "python",
     "metadata": {},
     "outputs": [],
     "prompt_number": 1
    },
    {
     "cell_type": "code",
     "collapsed": false,
     "input": [
      "import pyfits, os"
     ],
     "language": "python",
     "metadata": {},
     "outputs": [],
     "prompt_number": 2
    },
    {
     "cell_type": "markdown",
     "metadata": {},
     "source": [
      "# Write code to read in legacy extended source search ROIs"
     ]
    },
    {
     "cell_type": "markdown",
     "metadata": {},
     "source": [
      "Note, before reading in the ROIs, we need to deal with some legacy code issues:"
     ]
    },
    {
     "cell_type": "code",
     "collapsed": false,
     "input": [
      "def fix_model(m):\n",
      "    m.npar = len(m._p)\n",
      "    from uw.utilities.parmap import LogMapper\n",
      "    m.mappers = [LogMapper]*m.npar\n",
      "    m.internal_cov_matrix = np.zeros([m.npar,m.npar]) \n",
      "    m._external = m._p.copy()\n",
      "    return m"
     ],
     "language": "python",
     "metadata": {},
     "outputs": [],
     "prompt_number": 3
    },
    {
     "cell_type": "code",
     "collapsed": false,
     "input": [
      "from os.path import expandvars\n",
      "import cPickle\n",
      "import tempfile\n",
      "\n",
      "def kluge_load(filename,fast=False):\n",
      "    import uw.like.roi_save\n",
      "    f=open(expandvars(filename)).read()\n",
      "    f=f.replace(\"/nfs/slac/g/ki/ki03/lande/fermi/data/diffuse/\", \n",
      "               expandvars(\"$diffuse/\"))\n",
      "    f=f.replace(\"/nfs/slac/g/ki/ki03/lande/fermi_data/catalog_mirror/catalog_jan_31_2011/\",\n",
      "                \"/afs/slac/g/glast/groups/catalog/\")\n",
      "    f=f.replace(\"/nfs/slac/g/ki/ki03/lande/fermi_data/allsky/2FGL/v9/\",\n",
      "                \"/nfs/slac/g/ki/ki03/lande/fermi/data/old_data/allsky/2FGL/v9/\")\n",
      "    t=tempfile.NamedTemporaryFile()\n",
      "    t.write(f)\n",
      "    t.seek(0)\n",
      "    \n",
      "    os.environ['LATEXTDIR']='/nfs/slac/g/ki/ki03/lande/fermi/extended_archives/gll_psc_v05_templates'\n",
      "    \n",
      "    d=cPickle.load(t)\n",
      "    \n",
      "    for ps in d['point_sources']:\n",
      "        ps.model = fix_model(ps.model)\n",
      "    for ds in d['diffuse_sources']:\n",
      "        ds.smodel = fix_model(ds.smodel)\n",
      "        if hasattr(ds,'model'):\n",
      "            ds.model = ds.smodel\n",
      "            \n",
      "\n",
      "    if fast: \n",
      "        extra=dict(fit_emin=10**4.875,fit_emax=1e5,minROI=1,maxROI=1,conv_type=0)\n",
      "    else:\n",
      "        extra=dict()\n",
      "        \n",
      "    roi=uw.like.roi_save.load(d, **extra)\n",
      "    return roi"
     ],
     "language": "python",
     "metadata": {},
     "outputs": [],
     "prompt_number": 4
    },
    {
     "cell_type": "markdown",
     "metadata": {},
     "source": [
      "# Plot HESS J1632-478"
     ]
    },
    {
     "cell_type": "code",
     "collapsed": false,
     "input": [
      "roi = kluge_load(\"$ki03/extended_catalog/2FGL/v17/followup_analysis/v2/standard_diffuse/spectral_emin_10000_v1/2FGL_J1632.4-4753c/v1/roi_Disk_2FGL_J1632.4-4753c.dat\")"
     ],
     "language": "python",
     "metadata": {},
     "outputs": [
      {
       "output_type": "stream",
       "stream": "stdout",
       "text": [
        "Using gti from /afs/slac/g/glast/groups/catalog/P7_V4_SOURCE/ltcube_24m_pass7.4_source_z100_t90_cl0.fits\n",
        "loaded LivetimeCube /afs/slac/g/glast/groups/catalog/P7_V4_SOURCE/ltcube_24m_pass7.4_source_z100_t90_cl0.fits "
       ]
      },
      {
       "output_type": "stream",
       "stream": "stdout",
       "text": [
        "\n",
        ".....loading binfile /nfs/slac/g/ki/ki03/lande/fermi/data/old_data/allsky/2FGL/v9/binned_100_100000_8.fits ... "
       ]
      },
      {
       "output_type": "stream",
       "stream": "stdout",
       "text": [
        "found 52 bands, energies 0-1000000 MeV\n",
        ".....setting up point sources (75 in ROI)..."
       ]
      },
      {
       "output_type": "stream",
       "stream": "stdout",
       "text": [
        " done!\n",
        ".....setting up diffuse/extended backgrounds for 16 bands...\n",
        ".......... 2FGL J1632.4-4753c"
       ]
      },
      {
       "output_type": "stream",
       "stream": "stdout",
       "text": [
        " ...convolving band  1/16"
       ]
      },
      {
       "output_type": "stream",
       "stream": "stdout",
       "text": [
        " \b\b\b\b\b\b\b\b\b\b\b\b\b\b\b\b\b\b\b\b\b\b\b\b\b\b"
       ]
      },
      {
       "output_type": "stream",
       "stream": "stdout",
       "text": [
        " ...convolving band  2/16"
       ]
      },
      {
       "output_type": "stream",
       "stream": "stdout",
       "text": [
        " \b\b\b\b\b\b\b\b\b\b\b\b\b\b\b\b\b\b\b\b\b\b\b\b\b\b"
       ]
      },
      {
       "output_type": "stream",
       "stream": "stdout",
       "text": [
        " ...convolving band  3/16"
       ]
      },
      {
       "output_type": "stream",
       "stream": "stdout",
       "text": [
        " \b\b\b\b\b\b\b\b\b\b\b\b\b\b\b\b\b\b\b\b\b\b\b\b\b\b"
       ]
      },
      {
       "output_type": "stream",
       "stream": "stdout",
       "text": [
        " ...convolving band  4/16"
       ]
      },
      {
       "output_type": "stream",
       "stream": "stdout",
       "text": [
        " \b\b\b\b\b\b\b\b\b\b\b\b\b\b\b\b\b\b\b\b\b\b\b\b\b\b"
       ]
      },
      {
       "output_type": "stream",
       "stream": "stdout",
       "text": [
        " ...convolving band  5/16"
       ]
      },
      {
       "output_type": "stream",
       "stream": "stdout",
       "text": [
        " \b\b\b\b\b\b\b\b\b\b\b\b\b\b\b\b\b\b\b\b\b\b\b\b\b\b"
       ]
      },
      {
       "output_type": "stream",
       "stream": "stdout",
       "text": [
        " ...convolving band  6/16"
       ]
      },
      {
       "output_type": "stream",
       "stream": "stdout",
       "text": [
        " \b\b\b\b\b\b\b\b\b\b\b\b\b\b\b\b\b\b\b\b\b\b\b\b\b\b"
       ]
      },
      {
       "output_type": "stream",
       "stream": "stdout",
       "text": [
        " ...convolving band  7/16"
       ]
      },
      {
       "output_type": "stream",
       "stream": "stdout",
       "text": [
        " \b\b\b\b\b\b\b\b\b\b\b\b\b\b\b\b\b\b\b\b\b\b\b\b\b\b"
       ]
      },
      {
       "output_type": "stream",
       "stream": "stdout",
       "text": [
        " ...convolving band  8/16"
       ]
      },
      {
       "output_type": "stream",
       "stream": "stdout",
       "text": [
        " \b\b\b\b\b\b\b\b\b\b\b\b\b\b\b\b\b\b\b\b\b\b\b\b\b\b"
       ]
      },
      {
       "output_type": "stream",
       "stream": "stdout",
       "text": [
        " ...convolving band  9/16"
       ]
      },
      {
       "output_type": "stream",
       "stream": "stdout",
       "text": [
        " \b\b\b\b\b\b\b\b\b\b\b\b\b\b\b\b\b\b\b\b\b\b\b\b\b\b"
       ]
      },
      {
       "output_type": "stream",
       "stream": "stdout",
       "text": [
        " ...convolving band 10/16"
       ]
      },
      {
       "output_type": "stream",
       "stream": "stdout",
       "text": [
        " \b\b\b\b\b\b\b\b\b\b\b\b\b\b\b\b\b\b\b\b\b\b\b\b\b\b"
       ]
      },
      {
       "output_type": "stream",
       "stream": "stdout",
       "text": [
        " ...convolving band 11/16"
       ]
      },
      {
       "output_type": "stream",
       "stream": "stdout",
       "text": [
        " \b\b\b\b\b\b\b\b\b\b\b\b\b\b\b\b\b\b\b\b\b\b\b\b\b\b"
       ]
      },
      {
       "output_type": "stream",
       "stream": "stdout",
       "text": [
        " ...convolving band 12/16"
       ]
      },
      {
       "output_type": "stream",
       "stream": "stdout",
       "text": [
        " \b\b\b\b\b\b\b\b\b\b\b\b\b\b\b\b\b\b\b\b\b\b\b\b\b\b"
       ]
      },
      {
       "output_type": "stream",
       "stream": "stdout",
       "text": [
        " ...convolving band 13/16"
       ]
      },
      {
       "output_type": "stream",
       "stream": "stdout",
       "text": [
        " \b\b\b\b\b\b\b\b\b\b\b\b\b\b\b\b\b\b\b\b\b\b\b\b\b\b"
       ]
      },
      {
       "output_type": "stream",
       "stream": "stdout",
       "text": [
        " ...convolving band 14/16"
       ]
      },
      {
       "output_type": "stream",
       "stream": "stdout",
       "text": [
        " \b\b\b\b\b\b\b\b\b\b\b\b\b\b\b\b\b\b\b\b\b\b\b\b\b\b"
       ]
      },
      {
       "output_type": "stream",
       "stream": "stdout",
       "text": [
        " ...convolving band 15/16"
       ]
      },
      {
       "output_type": "stream",
       "stream": "stdout",
       "text": [
        " \b\b\b\b\b\b\b\b\b\b\b\b\b\b\b\b\b\b\b\b\b\b\b\b\b\b"
       ]
      },
      {
       "output_type": "stream",
       "stream": "stdout",
       "text": [
        " ...convolving band 16/16"
       ]
      },
      {
       "output_type": "stream",
       "stream": "stdout",
       "text": [
        " \b\b\b\b\b\b\b\b\b\b\b\b\b\b\b\b\b\b\b\b\b\b\b\b\b\b"
       ]
      },
      {
       "output_type": "stream",
       "stream": "stdout",
       "text": [
        "\n",
        ".......... ring_2year_P76_v0.fits"
       ]
      },
      {
       "output_type": "stream",
       "stream": "stdout",
       "text": [
        " ...convolving band  1/16"
       ]
      },
      {
       "output_type": "stream",
       "stream": "stdout",
       "text": [
        " \b\b\b\b\b\b\b\b\b\b\b\b\b\b\b\b\b\b\b\b\b\b\b\b\b\b"
       ]
      },
      {
       "output_type": "stream",
       "stream": "stdout",
       "text": [
        " ...convolving band  2/16"
       ]
      },
      {
       "output_type": "stream",
       "stream": "stdout",
       "text": [
        " \b\b\b\b\b\b\b\b\b\b\b\b\b\b\b\b\b\b\b\b\b\b\b\b\b\b"
       ]
      },
      {
       "output_type": "stream",
       "stream": "stdout",
       "text": [
        " ...convolving band  3/16"
       ]
      },
      {
       "output_type": "stream",
       "stream": "stdout",
       "text": [
        " \b\b\b\b\b\b\b\b\b\b\b\b\b\b\b\b\b\b\b\b\b\b\b\b\b\b"
       ]
      },
      {
       "output_type": "stream",
       "stream": "stdout",
       "text": [
        " ...convolving band  4/16"
       ]
      },
      {
       "output_type": "stream",
       "stream": "stdout",
       "text": [
        " \b\b\b\b\b\b\b\b\b\b\b\b\b\b\b\b\b\b\b\b\b\b\b\b\b\b"
       ]
      },
      {
       "output_type": "stream",
       "stream": "stdout",
       "text": [
        " ...convolving band  5/16"
       ]
      },
      {
       "output_type": "stream",
       "stream": "stdout",
       "text": [
        " \b\b\b\b\b\b\b\b\b\b\b\b\b\b\b\b\b\b\b\b\b\b\b\b\b\b"
       ]
      },
      {
       "output_type": "stream",
       "stream": "stdout",
       "text": [
        " ...convolving band  6/16"
       ]
      },
      {
       "output_type": "stream",
       "stream": "stdout",
       "text": [
        " \b\b\b\b\b\b\b\b\b\b\b\b\b\b\b\b\b\b\b\b\b\b\b\b\b\b"
       ]
      },
      {
       "output_type": "stream",
       "stream": "stdout",
       "text": [
        " ...convolving band  7/16"
       ]
      },
      {
       "output_type": "stream",
       "stream": "stdout",
       "text": [
        " \b\b\b\b\b\b\b\b\b\b\b\b\b\b\b\b\b\b\b\b\b\b\b\b\b\b"
       ]
      },
      {
       "output_type": "stream",
       "stream": "stdout",
       "text": [
        " ...convolving band  8/16"
       ]
      },
      {
       "output_type": "stream",
       "stream": "stdout",
       "text": [
        " \b\b\b\b\b\b\b\b\b\b\b\b\b\b\b\b\b\b\b\b\b\b\b\b\b\b"
       ]
      },
      {
       "output_type": "stream",
       "stream": "stdout",
       "text": [
        " ...convolving band  9/16"
       ]
      },
      {
       "output_type": "stream",
       "stream": "stdout",
       "text": [
        " \b\b\b\b\b\b\b\b\b\b\b\b\b\b\b\b\b\b\b\b\b\b\b\b\b\b"
       ]
      },
      {
       "output_type": "stream",
       "stream": "stdout",
       "text": [
        " ...convolving band 10/16"
       ]
      },
      {
       "output_type": "stream",
       "stream": "stdout",
       "text": [
        " \b\b\b\b\b\b\b\b\b\b\b\b\b\b\b\b\b\b\b\b\b\b\b\b\b\b"
       ]
      },
      {
       "output_type": "stream",
       "stream": "stdout",
       "text": [
        " ...convolving band 11/16"
       ]
      },
      {
       "output_type": "stream",
       "stream": "stdout",
       "text": [
        " \b\b\b\b\b\b\b\b\b\b\b\b\b\b\b\b\b\b\b\b\b\b\b\b\b\b"
       ]
      },
      {
       "output_type": "stream",
       "stream": "stdout",
       "text": [
        " ...convolving band 12/16"
       ]
      },
      {
       "output_type": "stream",
       "stream": "stdout",
       "text": [
        " \b\b\b\b\b\b\b\b\b\b\b\b\b\b\b\b\b\b\b\b\b\b\b\b\b\b"
       ]
      },
      {
       "output_type": "stream",
       "stream": "stdout",
       "text": [
        " ...convolving band 13/16"
       ]
      },
      {
       "output_type": "stream",
       "stream": "stdout",
       "text": [
        " \b\b\b\b\b\b\b\b\b\b\b\b\b\b\b\b\b\b\b\b\b\b\b\b\b\b"
       ]
      },
      {
       "output_type": "stream",
       "stream": "stdout",
       "text": [
        " ...convolving band 14/16"
       ]
      },
      {
       "output_type": "stream",
       "stream": "stdout",
       "text": [
        " \b\b\b\b\b\b\b\b\b\b\b\b\b\b\b\b\b\b\b\b\b\b\b\b\b\b"
       ]
      },
      {
       "output_type": "stream",
       "stream": "stdout",
       "text": [
        " ...convolving band 15/16"
       ]
      },
      {
       "output_type": "stream",
       "stream": "stdout",
       "text": [
        " \b\b\b\b\b\b\b\b\b\b\b\b\b\b\b\b\b\b\b\b\b\b\b\b\b\b"
       ]
      },
      {
       "output_type": "stream",
       "stream": "stdout",
       "text": [
        " ...convolving band 16/16"
       ]
      },
      {
       "output_type": "stream",
       "stream": "stdout",
       "text": [
        " \b\b\b\b\b\b\b\b\b\b\b\b\b\b\b\b\b\b\b\b\b\b\b\b\b\b"
       ]
      },
      {
       "output_type": "stream",
       "stream": "stdout",
       "text": [
        "\n",
        ".......... isotrop_2year_P76_source_v0.txt"
       ]
      },
      {
       "output_type": "stream",
       "stream": "stdout",
       "text": [
        " ...convolving band  1/16"
       ]
      },
      {
       "output_type": "stream",
       "stream": "stdout",
       "text": [
        " \b\b\b\b\b\b\b\b\b\b\b\b\b\b\b\b\b\b\b\b\b\b\b\b\b\b"
       ]
      },
      {
       "output_type": "stream",
       "stream": "stdout",
       "text": [
        " ...convolving band  2/16"
       ]
      },
      {
       "output_type": "stream",
       "stream": "stdout",
       "text": [
        " \b\b\b\b\b\b\b\b\b\b\b\b\b\b\b\b\b\b\b\b\b\b\b\b\b\b"
       ]
      },
      {
       "output_type": "stream",
       "stream": "stdout",
       "text": [
        " ...convolving band  3/16"
       ]
      },
      {
       "output_type": "stream",
       "stream": "stdout",
       "text": [
        " \b\b\b\b\b\b\b\b\b\b\b\b\b\b\b\b\b\b\b\b\b\b\b\b\b\b"
       ]
      },
      {
       "output_type": "stream",
       "stream": "stdout",
       "text": [
        " ...convolving band  4/16"
       ]
      },
      {
       "output_type": "stream",
       "stream": "stdout",
       "text": [
        " \b\b\b\b\b\b\b\b\b\b\b\b\b\b\b\b\b\b\b\b\b\b\b\b\b\b"
       ]
      },
      {
       "output_type": "stream",
       "stream": "stdout",
       "text": [
        " ...convolving band  5/16"
       ]
      },
      {
       "output_type": "stream",
       "stream": "stdout",
       "text": [
        " \b\b\b\b\b\b\b\b\b\b\b\b\b\b\b\b\b\b\b\b\b\b\b\b\b\b"
       ]
      },
      {
       "output_type": "stream",
       "stream": "stdout",
       "text": [
        " ...convolving band  6/16"
       ]
      },
      {
       "output_type": "stream",
       "stream": "stdout",
       "text": [
        " \b\b\b\b\b\b\b\b\b\b\b\b\b\b\b\b\b\b\b\b\b\b\b\b\b\b"
       ]
      },
      {
       "output_type": "stream",
       "stream": "stdout",
       "text": [
        " ...convolving band  7/16"
       ]
      },
      {
       "output_type": "stream",
       "stream": "stdout",
       "text": [
        " \b\b\b\b\b\b\b\b\b\b\b\b\b\b\b\b\b\b\b\b\b\b\b\b\b\b"
       ]
      },
      {
       "output_type": "stream",
       "stream": "stdout",
       "text": [
        " ...convolving band  8/16"
       ]
      },
      {
       "output_type": "stream",
       "stream": "stdout",
       "text": [
        " \b\b\b\b\b\b\b\b\b\b\b\b\b\b\b\b\b\b\b\b\b\b\b\b\b\b"
       ]
      },
      {
       "output_type": "stream",
       "stream": "stdout",
       "text": [
        " ...convolving band  9/16"
       ]
      },
      {
       "output_type": "stream",
       "stream": "stdout",
       "text": [
        " \b\b\b\b\b\b\b\b\b\b\b\b\b\b\b\b\b\b\b\b\b\b\b\b\b\b"
       ]
      },
      {
       "output_type": "stream",
       "stream": "stdout",
       "text": [
        " ...convolving band 10/16"
       ]
      },
      {
       "output_type": "stream",
       "stream": "stdout",
       "text": [
        " \b\b\b\b\b\b\b\b\b\b\b\b\b\b\b\b\b\b\b\b\b\b\b\b\b\b"
       ]
      },
      {
       "output_type": "stream",
       "stream": "stdout",
       "text": [
        " ...convolving band 11/16"
       ]
      },
      {
       "output_type": "stream",
       "stream": "stdout",
       "text": [
        " \b\b\b\b\b\b\b\b\b\b\b\b\b\b\b\b\b\b\b\b\b\b\b\b\b\b"
       ]
      },
      {
       "output_type": "stream",
       "stream": "stdout",
       "text": [
        " ...convolving band 12/16"
       ]
      },
      {
       "output_type": "stream",
       "stream": "stdout",
       "text": [
        " \b\b\b\b\b\b\b\b\b\b\b\b\b\b\b\b\b\b\b\b\b\b\b\b\b\b"
       ]
      },
      {
       "output_type": "stream",
       "stream": "stdout",
       "text": [
        " ...convolving band 13/16"
       ]
      },
      {
       "output_type": "stream",
       "stream": "stdout",
       "text": [
        " \b\b\b\b\b\b\b\b\b\b\b\b\b\b\b\b\b\b\b\b\b\b\b\b\b\b"
       ]
      },
      {
       "output_type": "stream",
       "stream": "stdout",
       "text": [
        " ...convolving band 14/16"
       ]
      },
      {
       "output_type": "stream",
       "stream": "stdout",
       "text": [
        " \b\b\b\b\b\b\b\b\b\b\b\b\b\b\b\b\b\b\b\b\b\b\b\b\b\b"
       ]
      },
      {
       "output_type": "stream",
       "stream": "stdout",
       "text": [
        " ...convolving band 15/16"
       ]
      },
      {
       "output_type": "stream",
       "stream": "stdout",
       "text": [
        " \b\b\b\b\b\b\b\b\b\b\b\b\b\b\b\b\b\b\b\b\b\b\b\b\b\b"
       ]
      },
      {
       "output_type": "stream",
       "stream": "stdout",
       "text": [
        " ...convolving band 16/16"
       ]
      },
      {
       "output_type": "stream",
       "stream": "stdout",
       "text": [
        " \b\b\b\b\b\b\b\b\b\b\b\b\b\b\b\b\b\b\b\b\b\b\b\b\b\b"
       ]
      },
      {
       "output_type": "stream",
       "stream": "stdout",
       "text": [
        "\n"
       ]
      }
     ],
     "prompt_number": 5
    },
    {
     "cell_type": "code",
     "collapsed": false,
     "input": [
      "roi.print_summary(maxdist=1.5)"
     ],
     "language": "python",
     "metadata": {},
     "outputs": [
      {
       "output_type": "stream",
       "stream": "stdout",
       "text": [
        " ------------------------------------------------------------------------------------------ \n",
        "\t Nearby sources within 1.5 degrees \n",
        " name               dist        ra       dec        TS     flux8     index      beta    cutoff\n"
       ]
      },
      {
       "output_type": "stream",
       "stream": "stdout",
       "text": [
        " 2FGL J1632.4-4753c  0.2   248.250   -47.768       488    359.01?     2.70?\n"
       ]
      },
      {
       "output_type": "stream",
       "stream": "stdout",
       "text": [
        " 2FGL J1630.2-4752   0.4   247.565   -47.874       151      1.21?     1.68?\n"
       ]
      },
      {
       "output_type": "stream",
       "stream": "stdout",
       "text": [
        " 2FGL J1632.4-4820c  0.4   248.114   -48.336       139     97.82?     2.75?\n"
       ]
      },
      {
       "output_type": "stream",
       "stream": "stdout",
       "text": [
        " 2FGL J1631.7-4720c  0.6   247.926   -47.345        44      2.39?     2.08?\n"
       ]
      },
      {
       "output_type": "stream",
       "stream": "stdout",
       "text": [
        " 2FGL J1636.3-4740c  0.6   248.907   -47.565       147      1.11?     1.70?     0.00?  1528.93?\n"
       ]
      },
      {
       "output_type": "stream",
       "stream": "stdout",
       "text": [
        " 2FGL J1635.4-4717c  0.9   248.720   -47.094       194      3.30?     1.94?\n",
        " 2FGL J1638.0-4703c  1.3   249.512   -47.053               14.52      2.53      0.33   1561.08 \n",
        " 2FGL J1628.1-4857c  1.3   247.045   -48.960               18.14      2.68      0.46    733.46 \n",
        " ------------------------------------------------------------------------------------------\n",
        " \tDiffuse sources\n",
        " ------------------------------------------------------------------------------------------\n",
        " ring_2year_P76_v0.fits      0.81?      0.93?\n",
        " isotrop_2year_P76_source_v0.txt      0.97?\n",
        " ------------------------------------------------------------------------------------------\n",
        " logLikelihood =  "
       ]
      },
      {
       "output_type": "stream",
       "stream": "stdout",
       "text": [
        "-75211.4773026\n",
        " ------------------------------------------------------------------------------------------\n"
       ]
      }
     ],
     "prompt_number": 6
    },
    {
     "cell_type": "code",
     "collapsed": false,
     "input": [
      "smooth=roi.plot_sources(which='2FGL J1632.4-4753c', title='', \n",
      "                size=2.5, psf_size=0.6,\n",
      "                overlay_kwargs=dict(show_extensions=False),\n",
      "                label_psf=False,\n",
      "                kernel_rad = 0.10,\n",
      "                pixelsize_fraction=20,\n",
      "                interpolation='bilinear',\n",
      "                figsize=(4,3.5))"
     ],
     "language": "python",
     "metadata": {},
     "outputs": [
      {
       "output_type": "display_data",
       "png": "[encoded data removed]"
      }
     ],
     "prompt_number": 7
    },
    {
     "cell_type": "code",
     "collapsed": false,
     "input": [
      "ax = smooth.axes\n",
      "\n",
      "f = pyfits.open(expandvars('$FERMI/hess/plane_survey/HESSJ1634-472_Map.fits'))\n",
      "h = f[1].header\n",
      "d = f[1].data\n",
      "\n",
      "# Fix projection of HESS Image so that pywcs can read it.\n",
      "h['CTYPE1'] = 'GLON-MER'\n",
      "h['CTYPE2'] = 'GLAT-MER'\n",
      "h['CUNIT1'] = 'deg'\n",
      "h['CUNIT2'] = 'deg'\n",
      "    \n",
      "ax = smooth.axes\n",
      "\n",
      "ax.locator_params(axis=\"x\", nbins=3)\n",
      "ax.locator_params(axis=\"y\", nbins=3)\n",
      "\n",
      "cont=ax[h].contour(d,linspace(20,100,8),colors=\"lightblue\", zorder=1)"
     ],
     "language": "python",
     "metadata": {},
     "outputs": [],
     "prompt_number": 8
    },
    {
     "cell_type": "code",
     "collapsed": false,
     "input": [
      "fig=smooth.axes.get_figure()\n",
      "fig.subplots_adjust(left=0.1)\n",
      "fig"
     ],
     "language": "python",
     "metadata": {},
     "outputs": [
      {
       "output_type": "pyout",
       "png": "[encoded data removed]",
       "prompt_number": 9,
       "text": [
        "<matplotlib.figure.Figure at 0x47e4fd0>"
       ]
      }
     ],
     "prompt_number": 9
    },
    {
     "cell_type": "code",
     "collapsed": false,
     "input": [
      "fig.savefig(filename='HESS_J1632-478.pdf')"
     ],
     "language": "python",
     "metadata": {},
     "outputs": [],
     "prompt_number": 10
    },
    {
     "cell_type": "markdown",
     "metadata": {},
     "source": [
      "# Plot HESS J1614-518:\n",
      "\n",
      "Code adapted from: ~/work/fermi/extended_catalog/2FGL/plots_for_paper/source_plots/1FGL_J1613.6-5100c/v9/run.py "
     ]
    },
    {
     "cell_type": "code",
     "collapsed": false,
     "input": [
      "roi = kluge_load(\"$ki03/extended_catalog/2FGL/v17/followup_analysis/v2/standard_diffuse/spectral_emin_10000_v1/2FGL_J1615.2-5138/v1/roi_Disk_2FGL_J1615.2-5138.dat\",fast=False)"
     ],
     "language": "python",
     "metadata": {},
     "outputs": [
      {
       "output_type": "stream",
       "stream": "stdout",
       "text": [
        "Using gti from /afs/slac/g/glast/groups/catalog/P7_V4_SOURCE/ltcube_24m_pass7.4_source_z100_t90_cl0.fits\n",
        "loaded LivetimeCube /afs/slac/g/glast/groups/catalog/P7_V4_SOURCE/ltcube_24m_pass7.4_source_z100_t90_cl0.fits "
       ]
      },
      {
       "output_type": "stream",
       "stream": "stdout",
       "text": [
        "\n",
        ".....loading binfile /nfs/slac/g/ki/ki03/lande/fermi/data/old_data/allsky/2FGL/v9/binned_100_100000_8.fits ... "
       ]
      },
      {
       "output_type": "stream",
       "stream": "stdout",
       "text": [
        "found 52 bands, energies 0-1000000 MeV\n",
        ".....setting up point sources (74 in ROI)..."
       ]
      },
      {
       "output_type": "stream",
       "stream": "stdout",
       "text": [
        " done!\n",
        ".....setting up diffuse/extended backgrounds for 16 bands...\n",
        ".......... 2FGL J1615.2-5138"
       ]
      },
      {
       "output_type": "stream",
       "stream": "stdout",
       "text": [
        " ...convolving band  1/16"
       ]
      },
      {
       "output_type": "stream",
       "stream": "stdout",
       "text": [
        " \b\b\b\b\b\b\b\b\b\b\b\b\b\b\b\b\b\b\b\b\b\b\b\b\b\b"
       ]
      },
      {
       "output_type": "stream",
       "stream": "stdout",
       "text": [
        " ...convolving band  2/16"
       ]
      },
      {
       "output_type": "stream",
       "stream": "stdout",
       "text": [
        " \b\b\b\b\b\b\b\b\b\b\b\b\b\b\b\b\b\b\b\b\b\b\b\b\b\b"
       ]
      },
      {
       "output_type": "stream",
       "stream": "stdout",
       "text": [
        " ...convolving band  3/16"
       ]
      },
      {
       "output_type": "stream",
       "stream": "stdout",
       "text": [
        " \b\b\b\b\b\b\b\b\b\b\b\b\b\b\b\b\b\b\b\b\b\b\b\b\b\b"
       ]
      },
      {
       "output_type": "stream",
       "stream": "stdout",
       "text": [
        " ...convolving band  4/16"
       ]
      },
      {
       "output_type": "stream",
       "stream": "stdout",
       "text": [
        " \b\b\b\b\b\b\b\b\b\b\b\b\b\b\b\b\b\b\b\b\b\b\b\b\b\b"
       ]
      },
      {
       "output_type": "stream",
       "stream": "stdout",
       "text": [
        " ...convolving band  5/16"
       ]
      },
      {
       "output_type": "stream",
       "stream": "stdout",
       "text": [
        " \b\b\b\b\b\b\b\b\b\b\b\b\b\b\b\b\b\b\b\b\b\b\b\b\b\b"
       ]
      },
      {
       "output_type": "stream",
       "stream": "stdout",
       "text": [
        " ...convolving band  6/16"
       ]
      },
      {
       "output_type": "stream",
       "stream": "stdout",
       "text": [
        " \b\b\b\b\b\b\b\b\b\b\b\b\b\b\b\b\b\b\b\b\b\b\b\b\b\b"
       ]
      },
      {
       "output_type": "stream",
       "stream": "stdout",
       "text": [
        " ...convolving band  7/16"
       ]
      },
      {
       "output_type": "stream",
       "stream": "stdout",
       "text": [
        " \b\b\b\b\b\b\b\b\b\b\b\b\b\b\b\b\b\b\b\b\b\b\b\b\b\b"
       ]
      },
      {
       "output_type": "stream",
       "stream": "stdout",
       "text": [
        " ...convolving band  8/16"
       ]
      },
      {
       "output_type": "stream",
       "stream": "stdout",
       "text": [
        " \b\b\b\b\b\b\b\b\b\b\b\b\b\b\b\b\b\b\b\b\b\b\b\b\b\b"
       ]
      },
      {
       "output_type": "stream",
       "stream": "stdout",
       "text": [
        " ...convolving band  9/16"
       ]
      },
      {
       "output_type": "stream",
       "stream": "stdout",
       "text": [
        " \b\b\b\b\b\b\b\b\b\b\b\b\b\b\b\b\b\b\b\b\b\b\b\b\b\b"
       ]
      },
      {
       "output_type": "stream",
       "stream": "stdout",
       "text": [
        " ...convolving band 10/16"
       ]
      },
      {
       "output_type": "stream",
       "stream": "stdout",
       "text": [
        " \b\b\b\b\b\b\b\b\b\b\b\b\b\b\b\b\b\b\b\b\b\b\b\b\b\b"
       ]
      },
      {
       "output_type": "stream",
       "stream": "stdout",
       "text": [
        " ...convolving band 11/16"
       ]
      },
      {
       "output_type": "stream",
       "stream": "stdout",
       "text": [
        " \b\b\b\b\b\b\b\b\b\b\b\b\b\b\b\b\b\b\b\b\b\b\b\b\b\b"
       ]
      },
      {
       "output_type": "stream",
       "stream": "stdout",
       "text": [
        " ...convolving band 12/16"
       ]
      },
      {
       "output_type": "stream",
       "stream": "stdout",
       "text": [
        " \b\b\b\b\b\b\b\b\b\b\b\b\b\b\b\b\b\b\b\b\b\b\b\b\b\b"
       ]
      },
      {
       "output_type": "stream",
       "stream": "stdout",
       "text": [
        " ...convolving band 13/16"
       ]
      },
      {
       "output_type": "stream",
       "stream": "stdout",
       "text": [
        " \b\b\b\b\b\b\b\b\b\b\b\b\b\b\b\b\b\b\b\b\b\b\b\b\b\b"
       ]
      },
      {
       "output_type": "stream",
       "stream": "stdout",
       "text": [
        " ...convolving band 14/16"
       ]
      },
      {
       "output_type": "stream",
       "stream": "stdout",
       "text": [
        " \b\b\b\b\b\b\b\b\b\b\b\b\b\b\b\b\b\b\b\b\b\b\b\b\b\b"
       ]
      },
      {
       "output_type": "stream",
       "stream": "stdout",
       "text": [
        " ...convolving band 15/16"
       ]
      },
      {
       "output_type": "stream",
       "stream": "stdout",
       "text": [
        " \b\b\b\b\b\b\b\b\b\b\b\b\b\b\b\b\b\b\b\b\b\b\b\b\b\b"
       ]
      },
      {
       "output_type": "stream",
       "stream": "stdout",
       "text": [
        " ...convolving band 16/16"
       ]
      },
      {
       "output_type": "stream",
       "stream": "stdout",
       "text": [
        " \b\b\b\b\b\b\b\b\b\b\b\b\b\b\b\b\b\b\b\b\b\b\b\b\b\b"
       ]
      },
      {
       "output_type": "stream",
       "stream": "stdout",
       "text": [
        "\n",
        ".......... MSH15-52"
       ]
      },
      {
       "output_type": "stream",
       "stream": "stdout",
       "text": [
        " ...convolving band  1/16"
       ]
      },
      {
       "output_type": "stream",
       "stream": "stdout",
       "text": [
        " \b\b\b\b\b\b\b\b\b\b\b\b\b\b\b\b\b\b\b\b\b\b\b\b\b\b"
       ]
      },
      {
       "output_type": "stream",
       "stream": "stdout",
       "text": [
        " ...convolving band  2/16"
       ]
      },
      {
       "output_type": "stream",
       "stream": "stdout",
       "text": [
        " \b\b\b\b\b\b\b\b\b\b\b\b\b\b\b\b\b\b\b\b\b\b\b\b\b\b"
       ]
      },
      {
       "output_type": "stream",
       "stream": "stdout",
       "text": [
        " ...convolving band  3/16"
       ]
      },
      {
       "output_type": "stream",
       "stream": "stdout",
       "text": [
        " \b\b\b\b\b\b\b\b\b\b\b\b\b\b\b\b\b\b\b\b\b\b\b\b\b\b"
       ]
      },
      {
       "output_type": "stream",
       "stream": "stdout",
       "text": [
        " ...convolving band  4/16"
       ]
      },
      {
       "output_type": "stream",
       "stream": "stdout",
       "text": [
        " \b\b\b\b\b\b\b\b\b\b\b\b\b\b\b\b\b\b\b\b\b\b\b\b\b\b"
       ]
      },
      {
       "output_type": "stream",
       "stream": "stdout",
       "text": [
        " ...convolving band  5/16"
       ]
      },
      {
       "output_type": "stream",
       "stream": "stdout",
       "text": [
        " \b\b\b\b\b\b\b\b\b\b\b\b\b\b\b\b\b\b\b\b\b\b\b\b\b\b"
       ]
      },
      {
       "output_type": "stream",
       "stream": "stdout",
       "text": [
        " ...convolving band  6/16"
       ]
      },
      {
       "output_type": "stream",
       "stream": "stdout",
       "text": [
        " \b\b\b\b\b\b\b\b\b\b\b\b\b\b\b\b\b\b\b\b\b\b\b\b\b\b"
       ]
      },
      {
       "output_type": "stream",
       "stream": "stdout",
       "text": [
        " ...convolving band  7/16"
       ]
      },
      {
       "output_type": "stream",
       "stream": "stdout",
       "text": [
        " \b\b\b\b\b\b\b\b\b\b\b\b\b\b\b\b\b\b\b\b\b\b\b\b\b\b"
       ]
      },
      {
       "output_type": "stream",
       "stream": "stdout",
       "text": [
        " ...convolving band  8/16"
       ]
      },
      {
       "output_type": "stream",
       "stream": "stdout",
       "text": [
        " \b\b\b\b\b\b\b\b\b\b\b\b\b\b\b\b\b\b\b\b\b\b\b\b\b\b"
       ]
      },
      {
       "output_type": "stream",
       "stream": "stdout",
       "text": [
        " ...convolving band  9/16"
       ]
      },
      {
       "output_type": "stream",
       "stream": "stdout",
       "text": [
        " \b\b\b\b\b\b\b\b\b\b\b\b\b\b\b\b\b\b\b\b\b\b\b\b\b\b"
       ]
      },
      {
       "output_type": "stream",
       "stream": "stdout",
       "text": [
        " ...convolving band 10/16"
       ]
      },
      {
       "output_type": "stream",
       "stream": "stdout",
       "text": [
        " \b\b\b\b\b\b\b\b\b\b\b\b\b\b\b\b\b\b\b\b\b\b\b\b\b\b"
       ]
      },
      {
       "output_type": "stream",
       "stream": "stdout",
       "text": [
        " ...convolving band 11/16"
       ]
      },
      {
       "output_type": "stream",
       "stream": "stdout",
       "text": [
        " \b\b\b\b\b\b\b\b\b\b\b\b\b\b\b\b\b\b\b\b\b\b\b\b\b\b"
       ]
      },
      {
       "output_type": "stream",
       "stream": "stdout",
       "text": [
        " ...convolving band 12/16"
       ]
      },
      {
       "output_type": "stream",
       "stream": "stdout",
       "text": [
        " \b\b\b\b\b\b\b\b\b\b\b\b\b\b\b\b\b\b\b\b\b\b\b\b\b\b"
       ]
      },
      {
       "output_type": "stream",
       "stream": "stdout",
       "text": [
        " ...convolving band 13/16"
       ]
      },
      {
       "output_type": "stream",
       "stream": "stdout",
       "text": [
        " \b\b\b\b\b\b\b\b\b\b\b\b\b\b\b\b\b\b\b\b\b\b\b\b\b\b"
       ]
      },
      {
       "output_type": "stream",
       "stream": "stdout",
       "text": [
        " ...convolving band 14/16"
       ]
      },
      {
       "output_type": "stream",
       "stream": "stdout",
       "text": [
        " \b\b\b\b\b\b\b\b\b\b\b\b\b\b\b\b\b\b\b\b\b\b\b\b\b\b"
       ]
      },
      {
       "output_type": "stream",
       "stream": "stdout",
       "text": [
        " ...convolving band 15/16"
       ]
      },
      {
       "output_type": "stream",
       "stream": "stdout",
       "text": [
        " \b\b\b\b\b\b\b\b\b\b\b\b\b\b\b\b\b\b\b\b\b\b\b\b\b\b"
       ]
      },
      {
       "output_type": "stream",
       "stream": "stdout",
       "text": [
        " ...convolving band 16/16"
       ]
      },
      {
       "output_type": "stream",
       "stream": "stdout",
       "text": [
        " \b\b\b\b\b\b\b\b\b\b\b\b\b\b\b\b\b\b\b\b\b\b\b\b\b\b"
       ]
      },
      {
       "output_type": "stream",
       "stream": "stdout",
       "text": [
        "\n",
        ".......... ring_2year_P76_v0.fits"
       ]
      },
      {
       "output_type": "stream",
       "stream": "stdout",
       "text": [
        " ...convolving band  1/16"
       ]
      },
      {
       "output_type": "stream",
       "stream": "stdout",
       "text": [
        " \b\b\b\b\b\b\b\b\b\b\b\b\b\b\b\b\b\b\b\b\b\b\b\b\b\b"
       ]
      },
      {
       "output_type": "stream",
       "stream": "stdout",
       "text": [
        " ...convolving band  2/16"
       ]
      },
      {
       "output_type": "stream",
       "stream": "stdout",
       "text": [
        " \b\b\b\b\b\b\b\b\b\b\b\b\b\b\b\b\b\b\b\b\b\b\b\b\b\b"
       ]
      },
      {
       "output_type": "stream",
       "stream": "stdout",
       "text": [
        " ...convolving band  3/16"
       ]
      },
      {
       "output_type": "stream",
       "stream": "stdout",
       "text": [
        " \b\b\b\b\b\b\b\b\b\b\b\b\b\b\b\b\b\b\b\b\b\b\b\b\b\b"
       ]
      },
      {
       "output_type": "stream",
       "stream": "stdout",
       "text": [
        " ...convolving band  4/16"
       ]
      },
      {
       "output_type": "stream",
       "stream": "stdout",
       "text": [
        " \b\b\b\b\b\b\b\b\b\b\b\b\b\b\b\b\b\b\b\b\b\b\b\b\b\b"
       ]
      },
      {
       "output_type": "stream",
       "stream": "stdout",
       "text": [
        " ...convolving band  5/16"
       ]
      },
      {
       "output_type": "stream",
       "stream": "stdout",
       "text": [
        " \b\b\b\b\b\b\b\b\b\b\b\b\b\b\b\b\b\b\b\b\b\b\b\b\b\b"
       ]
      },
      {
       "output_type": "stream",
       "stream": "stdout",
       "text": [
        " ...convolving band  6/16"
       ]
      },
      {
       "output_type": "stream",
       "stream": "stdout",
       "text": [
        " \b\b\b\b\b\b\b\b\b\b\b\b\b\b\b\b\b\b\b\b\b\b\b\b\b\b"
       ]
      },
      {
       "output_type": "stream",
       "stream": "stdout",
       "text": [
        " ...convolving band  7/16"
       ]
      },
      {
       "output_type": "stream",
       "stream": "stdout",
       "text": [
        " \b\b\b\b\b\b\b\b\b\b\b\b\b\b\b\b\b\b\b\b\b\b\b\b\b\b"
       ]
      },
      {
       "output_type": "stream",
       "stream": "stdout",
       "text": [
        " ...convolving band  8/16"
       ]
      },
      {
       "output_type": "stream",
       "stream": "stdout",
       "text": [
        " \b\b\b\b\b\b\b\b\b\b\b\b\b\b\b\b\b\b\b\b\b\b\b\b\b\b"
       ]
      },
      {
       "output_type": "stream",
       "stream": "stdout",
       "text": [
        " ...convolving band  9/16"
       ]
      },
      {
       "output_type": "stream",
       "stream": "stdout",
       "text": [
        " \b\b\b\b\b\b\b\b\b\b\b\b\b\b\b\b\b\b\b\b\b\b\b\b\b\b"
       ]
      },
      {
       "output_type": "stream",
       "stream": "stdout",
       "text": [
        " ...convolving band 10/16"
       ]
      },
      {
       "output_type": "stream",
       "stream": "stdout",
       "text": [
        " \b\b\b\b\b\b\b\b\b\b\b\b\b\b\b\b\b\b\b\b\b\b\b\b\b\b"
       ]
      },
      {
       "output_type": "stream",
       "stream": "stdout",
       "text": [
        " ...convolving band 11/16"
       ]
      },
      {
       "output_type": "stream",
       "stream": "stdout",
       "text": [
        " \b\b\b\b\b\b\b\b\b\b\b\b\b\b\b\b\b\b\b\b\b\b\b\b\b\b"
       ]
      },
      {
       "output_type": "stream",
       "stream": "stdout",
       "text": [
        " ...convolving band 12/16"
       ]
      },
      {
       "output_type": "stream",
       "stream": "stdout",
       "text": [
        " \b\b\b\b\b\b\b\b\b\b\b\b\b\b\b\b\b\b\b\b\b\b\b\b\b\b"
       ]
      },
      {
       "output_type": "stream",
       "stream": "stdout",
       "text": [
        " ...convolving band 13/16"
       ]
      },
      {
       "output_type": "stream",
       "stream": "stdout",
       "text": [
        " \b\b\b\b\b\b\b\b\b\b\b\b\b\b\b\b\b\b\b\b\b\b\b\b\b\b"
       ]
      },
      {
       "output_type": "stream",
       "stream": "stdout",
       "text": [
        " ...convolving band 14/16"
       ]
      },
      {
       "output_type": "stream",
       "stream": "stdout",
       "text": [
        " \b\b\b\b\b\b\b\b\b\b\b\b\b\b\b\b\b\b\b\b\b\b\b\b\b\b"
       ]
      },
      {
       "output_type": "stream",
       "stream": "stdout",
       "text": [
        " ...convolving band 15/16"
       ]
      },
      {
       "output_type": "stream",
       "stream": "stdout",
       "text": [
        " \b\b\b\b\b\b\b\b\b\b\b\b\b\b\b\b\b\b\b\b\b\b\b\b\b\b"
       ]
      },
      {
       "output_type": "stream",
       "stream": "stdout",
       "text": [
        " ...convolving band 16/16"
       ]
      },
      {
       "output_type": "stream",
       "stream": "stdout",
       "text": [
        " \b\b\b\b\b\b\b\b\b\b\b\b\b\b\b\b\b\b\b\b\b\b\b\b\b\b"
       ]
      },
      {
       "output_type": "stream",
       "stream": "stdout",
       "text": [
        "\n",
        ".......... isotrop_2year_P76_source_v0.txt"
       ]
      },
      {
       "output_type": "stream",
       "stream": "stdout",
       "text": [
        " ...convolving band  1/16"
       ]
      },
      {
       "output_type": "stream",
       "stream": "stdout",
       "text": [
        " \b\b\b\b\b\b\b\b\b\b\b\b\b\b\b\b\b\b\b\b\b\b\b\b\b\b"
       ]
      },
      {
       "output_type": "stream",
       "stream": "stdout",
       "text": [
        " ...convolving band  2/16"
       ]
      },
      {
       "output_type": "stream",
       "stream": "stdout",
       "text": [
        " \b\b\b\b\b\b\b\b\b\b\b\b\b\b\b\b\b\b\b\b\b\b\b\b\b\b"
       ]
      },
      {
       "output_type": "stream",
       "stream": "stdout",
       "text": [
        " ...convolving band  3/16"
       ]
      },
      {
       "output_type": "stream",
       "stream": "stdout",
       "text": [
        " \b\b\b\b\b\b\b\b\b\b\b\b\b\b\b\b\b\b\b\b\b\b\b\b\b\b"
       ]
      },
      {
       "output_type": "stream",
       "stream": "stdout",
       "text": [
        " ...convolving band  4/16"
       ]
      },
      {
       "output_type": "stream",
       "stream": "stdout",
       "text": [
        " \b\b\b\b\b\b\b\b\b\b\b\b\b\b\b\b\b\b\b\b\b\b\b\b\b\b"
       ]
      },
      {
       "output_type": "stream",
       "stream": "stdout",
       "text": [
        " ...convolving band  5/16"
       ]
      },
      {
       "output_type": "stream",
       "stream": "stdout",
       "text": [
        " \b\b\b\b\b\b\b\b\b\b\b\b\b\b\b\b\b\b\b\b\b\b\b\b\b\b"
       ]
      },
      {
       "output_type": "stream",
       "stream": "stdout",
       "text": [
        " ...convolving band  6/16"
       ]
      },
      {
       "output_type": "stream",
       "stream": "stdout",
       "text": [
        " \b\b\b\b\b\b\b\b\b\b\b\b\b\b\b\b\b\b\b\b\b\b\b\b\b\b"
       ]
      },
      {
       "output_type": "stream",
       "stream": "stdout",
       "text": [
        " ...convolving band  7/16"
       ]
      },
      {
       "output_type": "stream",
       "stream": "stdout",
       "text": [
        " \b\b\b\b\b\b\b\b\b\b\b\b\b\b\b\b\b\b\b\b\b\b\b\b\b\b"
       ]
      },
      {
       "output_type": "stream",
       "stream": "stdout",
       "text": [
        " ...convolving band  8/16"
       ]
      },
      {
       "output_type": "stream",
       "stream": "stdout",
       "text": [
        " \b\b\b\b\b\b\b\b\b\b\b\b\b\b\b\b\b\b\b\b\b\b\b\b\b\b"
       ]
      },
      {
       "output_type": "stream",
       "stream": "stdout",
       "text": [
        " ...convolving band  9/16"
       ]
      },
      {
       "output_type": "stream",
       "stream": "stdout",
       "text": [
        " \b\b\b\b\b\b\b\b\b\b\b\b\b\b\b\b\b\b\b\b\b\b\b\b\b\b"
       ]
      },
      {
       "output_type": "stream",
       "stream": "stdout",
       "text": [
        " ...convolving band 10/16"
       ]
      },
      {
       "output_type": "stream",
       "stream": "stdout",
       "text": [
        " \b\b\b\b\b\b\b\b\b\b\b\b\b\b\b\b\b\b\b\b\b\b\b\b\b\b"
       ]
      },
      {
       "output_type": "stream",
       "stream": "stdout",
       "text": [
        " ...convolving band 11/16"
       ]
      },
      {
       "output_type": "stream",
       "stream": "stdout",
       "text": [
        " \b\b\b\b\b\b\b\b\b\b\b\b\b\b\b\b\b\b\b\b\b\b\b\b\b\b"
       ]
      },
      {
       "output_type": "stream",
       "stream": "stdout",
       "text": [
        " ...convolving band 12/16"
       ]
      },
      {
       "output_type": "stream",
       "stream": "stdout",
       "text": [
        " \b\b\b\b\b\b\b\b\b\b\b\b\b\b\b\b\b\b\b\b\b\b\b\b\b\b"
       ]
      },
      {
       "output_type": "stream",
       "stream": "stdout",
       "text": [
        " ...convolving band 13/16"
       ]
      },
      {
       "output_type": "stream",
       "stream": "stdout",
       "text": [
        " \b\b\b\b\b\b\b\b\b\b\b\b\b\b\b\b\b\b\b\b\b\b\b\b\b\b"
       ]
      },
      {
       "output_type": "stream",
       "stream": "stdout",
       "text": [
        " ...convolving band 14/16"
       ]
      },
      {
       "output_type": "stream",
       "stream": "stdout",
       "text": [
        " \b\b\b\b\b\b\b\b\b\b\b\b\b\b\b\b\b\b\b\b\b\b\b\b\b\b"
       ]
      },
      {
       "output_type": "stream",
       "stream": "stdout",
       "text": [
        " ...convolving band 15/16"
       ]
      },
      {
       "output_type": "stream",
       "stream": "stdout",
       "text": [
        " \b\b\b\b\b\b\b\b\b\b\b\b\b\b\b\b\b\b\b\b\b\b\b\b\b\b"
       ]
      },
      {
       "output_type": "stream",
       "stream": "stdout",
       "text": [
        " ...convolving band 16/16"
       ]
      },
      {
       "output_type": "stream",
       "stream": "stdout",
       "text": [
        " \b\b\b\b\b\b\b\b\b\b\b\b\b\b\b\b\b\b\b\b\b\b\b\b\b\b"
       ]
      },
      {
       "output_type": "stream",
       "stream": "stdout",
       "text": [
        "\n",
        ".......... 2FGL J1615.0-5051"
       ]
      },
      {
       "output_type": "stream",
       "stream": "stdout",
       "text": [
        " ...convolving band  1/16"
       ]
      },
      {
       "output_type": "stream",
       "stream": "stdout",
       "text": [
        " \b\b\b\b\b\b\b\b\b\b\b\b\b\b\b\b\b\b\b\b\b\b\b\b\b\b"
       ]
      },
      {
       "output_type": "stream",
       "stream": "stdout",
       "text": [
        " ...convolving band  2/16"
       ]
      },
      {
       "output_type": "stream",
       "stream": "stdout",
       "text": [
        " \b\b\b\b\b\b\b\b\b\b\b\b\b\b\b\b\b\b\b\b\b\b\b\b\b\b"
       ]
      },
      {
       "output_type": "stream",
       "stream": "stdout",
       "text": [
        " ...convolving band  3/16"
       ]
      },
      {
       "output_type": "stream",
       "stream": "stdout",
       "text": [
        " \b\b\b\b\b\b\b\b\b\b\b\b\b\b\b\b\b\b\b\b\b\b\b\b\b\b"
       ]
      },
      {
       "output_type": "stream",
       "stream": "stdout",
       "text": [
        " ...convolving band  4/16"
       ]
      },
      {
       "output_type": "stream",
       "stream": "stdout",
       "text": [
        " \b\b\b\b\b\b\b\b\b\b\b\b\b\b\b\b\b\b\b\b\b\b\b\b\b\b"
       ]
      },
      {
       "output_type": "stream",
       "stream": "stdout",
       "text": [
        " ...convolving band  5/16"
       ]
      },
      {
       "output_type": "stream",
       "stream": "stdout",
       "text": [
        " \b\b\b\b\b\b\b\b\b\b\b\b\b\b\b\b\b\b\b\b\b\b\b\b\b\b"
       ]
      },
      {
       "output_type": "stream",
       "stream": "stdout",
       "text": [
        " ...convolving band  6/16"
       ]
      },
      {
       "output_type": "stream",
       "stream": "stdout",
       "text": [
        " \b\b\b\b\b\b\b\b\b\b\b\b\b\b\b\b\b\b\b\b\b\b\b\b\b\b"
       ]
      },
      {
       "output_type": "stream",
       "stream": "stdout",
       "text": [
        " ...convolving band  7/16"
       ]
      },
      {
       "output_type": "stream",
       "stream": "stdout",
       "text": [
        " \b\b\b\b\b\b\b\b\b\b\b\b\b\b\b\b\b\b\b\b\b\b\b\b\b\b"
       ]
      },
      {
       "output_type": "stream",
       "stream": "stdout",
       "text": [
        " ...convolving band  8/16"
       ]
      },
      {
       "output_type": "stream",
       "stream": "stdout",
       "text": [
        " \b\b\b\b\b\b\b\b\b\b\b\b\b\b\b\b\b\b\b\b\b\b\b\b\b\b"
       ]
      },
      {
       "output_type": "stream",
       "stream": "stdout",
       "text": [
        " ...convolving band  9/16"
       ]
      },
      {
       "output_type": "stream",
       "stream": "stdout",
       "text": [
        " \b\b\b\b\b\b\b\b\b\b\b\b\b\b\b\b\b\b\b\b\b\b\b\b\b\b"
       ]
      },
      {
       "output_type": "stream",
       "stream": "stdout",
       "text": [
        " ...convolving band 10/16"
       ]
      },
      {
       "output_type": "stream",
       "stream": "stdout",
       "text": [
        " \b\b\b\b\b\b\b\b\b\b\b\b\b\b\b\b\b\b\b\b\b\b\b\b\b\b"
       ]
      },
      {
       "output_type": "stream",
       "stream": "stdout",
       "text": [
        " ...convolving band 11/16"
       ]
      },
      {
       "output_type": "stream",
       "stream": "stdout",
       "text": [
        " \b\b\b\b\b\b\b\b\b\b\b\b\b\b\b\b\b\b\b\b\b\b\b\b\b\b"
       ]
      },
      {
       "output_type": "stream",
       "stream": "stdout",
       "text": [
        " ...convolving band 12/16"
       ]
      },
      {
       "output_type": "stream",
       "stream": "stdout",
       "text": [
        " \b\b\b\b\b\b\b\b\b\b\b\b\b\b\b\b\b\b\b\b\b\b\b\b\b\b"
       ]
      },
      {
       "output_type": "stream",
       "stream": "stdout",
       "text": [
        " ...convolving band 13/16"
       ]
      },
      {
       "output_type": "stream",
       "stream": "stdout",
       "text": [
        " \b\b\b\b\b\b\b\b\b\b\b\b\b\b\b\b\b\b\b\b\b\b\b\b\b\b"
       ]
      },
      {
       "output_type": "stream",
       "stream": "stdout",
       "text": [
        " ...convolving band 14/16"
       ]
      },
      {
       "output_type": "stream",
       "stream": "stdout",
       "text": [
        " \b\b\b\b\b\b\b\b\b\b\b\b\b\b\b\b\b\b\b\b\b\b\b\b\b\b"
       ]
      },
      {
       "output_type": "stream",
       "stream": "stdout",
       "text": [
        " ...convolving band 15/16"
       ]
      },
      {
       "output_type": "stream",
       "stream": "stdout",
       "text": [
        " \b\b\b\b\b\b\b\b\b\b\b\b\b\b\b\b\b\b\b\b\b\b\b\b\b\b"
       ]
      },
      {
       "output_type": "stream",
       "stream": "stdout",
       "text": [
        " ...convolving band 16/16"
       ]
      },
      {
       "output_type": "stream",
       "stream": "stdout",
       "text": [
        " \b\b\b\b\b\b\b\b\b\b\b\b\b\b\b\b\b\b\b\b\b\b\b\b\b\b"
       ]
      },
      {
       "output_type": "stream",
       "stream": "stdout",
       "text": [
        "\n"
       ]
      }
     ],
     "prompt_number": 11
    },
    {
     "cell_type": "code",
     "collapsed": false,
     "input": [
      "from skymaps import SkyDir\n",
      "smooth=roi.plot_sources(which='2FGL J1615.0-5051', title='', \n",
      "                size=2, psf_size=0.6,\n",
      "                overlay_kwargs=dict(show_extensions=False),\n",
      "                overlay_psf=False,\n",
      "                interpolation='bilinear',\n",
      "                kernel_rad = 0.10,\n",
      "                pixelsize_fraction=20,\n",
      "                figsize=(4,3.5))\n",
      "\n",
      "smooth.axes.locator_params(axis=\"x\", nbins=3)\n",
      "smooth.axes.locator_params(axis=\"y\", nbins=3)"
     ],
     "language": "python",
     "metadata": {},
     "outputs": [
      {
       "output_type": "display_data",
       "png": "[encoded data removed]"
      }
     ],
     "prompt_number": 12
    },
    {
     "cell_type": "code",
     "collapsed": false,
     "input": [
      "f = pyfits.open(expandvars('$FERMI/hess/plane_survey/HESSJ1614-518_Map.fits'))\n",
      "h = f[1].header\n",
      "d =f[1].data\n",
      "\n",
      "h['CTYPE1'] = 'GLON-MER'\n",
      "h['CTYPE2'] = 'GLAT-MER'\n",
      "h['CUNIT1'] = 'deg'\n",
      "h['CUNIT2'] = 'deg'\n",
      "\n",
      "ax=smooth.axes\n",
      "\n",
      "cont=ax[h].contour(d,linspace(20,100,8),colors=\"lightblue\", zorder=1)"
     ],
     "language": "python",
     "metadata": {},
     "outputs": [],
     "prompt_number": 13
    },
    {
     "cell_type": "code",
     "collapsed": false,
     "input": [
      "fig=smooth.axes.get_figure()\n",
      "fig"
     ],
     "language": "python",
     "metadata": {},
     "outputs": [
      {
       "output_type": "pyout",
       "png": "[encoded data removed]",
       "prompt_number": 14,
       "text": [
        "<matplotlib.figure.Figure at 0x1d25fe90>"
       ]
      }
     ],
     "prompt_number": 14
    },
    {
     "cell_type": "code",
     "collapsed": false,
     "input": [
      "fig.subplots_adjust(left=0.1)\n",
      "fig.savefig(filename='HESS_J1614-518.pdf')"
     ],
     "language": "python",
     "metadata": {},
     "outputs": [],
     "prompt_number": 15
    },
    {
     "cell_type": "markdown",
     "metadata": {},
     "source": [
      "# Plot HESS J1837"
     ]
    },
    {
     "cell_type": "code",
     "collapsed": false,
     "input": [
      "roi = kluge_load(\"$ki03/extended_catalog/2FGL/v17/followup_analysis/v2/standard_diffuse/spectral_emin_10000_v1/2FGL_J1837.3-0700c/v1/roi_Disk_2FGL_J1837.3-0700c.dat\",fast=False)"
     ],
     "language": "python",
     "metadata": {},
     "outputs": [
      {
       "output_type": "stream",
       "stream": "stdout",
       "text": [
        "Using gti from /afs/slac/g/glast/groups/catalog/P7_V4_SOURCE/ltcube_24m_pass7.4_source_z100_t90_cl0.fits\n",
        "loaded LivetimeCube /afs/slac/g/glast/groups/catalog/P7_V4_SOURCE/ltcube_24m_pass7.4_source_z100_t90_cl0.fits "
       ]
      },
      {
       "output_type": "stream",
       "stream": "stdout",
       "text": [
        "\n",
        ".....loading binfile /nfs/slac/g/ki/ki03/lande/fermi/data/old_data/allsky/2FGL/v9/binned_100_100000_8.fits ... "
       ]
      },
      {
       "output_type": "stream",
       "stream": "stdout",
       "text": [
        "found 52 bands, energies 0-1000000 MeV\n",
        ".....setting up point sources (66 in ROI)..."
       ]
      },
      {
       "output_type": "stream",
       "stream": "stdout",
       "text": [
        " done!\n",
        ".....setting up diffuse/extended backgrounds for 16 bands...\n",
        ".......... 2FGL J1837.3-0700c"
       ]
      },
      {
       "output_type": "stream",
       "stream": "stdout",
       "text": [
        " ...convolving band  1/16"
       ]
      },
      {
       "output_type": "stream",
       "stream": "stdout",
       "text": [
        " \b\b\b\b\b\b\b\b\b\b\b\b\b\b\b\b\b\b\b\b\b\b\b\b\b\b"
       ]
      },
      {
       "output_type": "stream",
       "stream": "stdout",
       "text": [
        " ...convolving band  2/16"
       ]
      },
      {
       "output_type": "stream",
       "stream": "stdout",
       "text": [
        " \b\b\b\b\b\b\b\b\b\b\b\b\b\b\b\b\b\b\b\b\b\b\b\b\b\b"
       ]
      },
      {
       "output_type": "stream",
       "stream": "stdout",
       "text": [
        " ...convolving band  3/16"
       ]
      },
      {
       "output_type": "stream",
       "stream": "stdout",
       "text": [
        " \b\b\b\b\b\b\b\b\b\b\b\b\b\b\b\b\b\b\b\b\b\b\b\b\b\b"
       ]
      },
      {
       "output_type": "stream",
       "stream": "stdout",
       "text": [
        " ...convolving band  4/16"
       ]
      },
      {
       "output_type": "stream",
       "stream": "stdout",
       "text": [
        " \b\b\b\b\b\b\b\b\b\b\b\b\b\b\b\b\b\b\b\b\b\b\b\b\b\b"
       ]
      },
      {
       "output_type": "stream",
       "stream": "stdout",
       "text": [
        " ...convolving band  5/16"
       ]
      },
      {
       "output_type": "stream",
       "stream": "stdout",
       "text": [
        " \b\b\b\b\b\b\b\b\b\b\b\b\b\b\b\b\b\b\b\b\b\b\b\b\b\b"
       ]
      },
      {
       "output_type": "stream",
       "stream": "stdout",
       "text": [
        " ...convolving band  6/16"
       ]
      },
      {
       "output_type": "stream",
       "stream": "stdout",
       "text": [
        " \b\b\b\b\b\b\b\b\b\b\b\b\b\b\b\b\b\b\b\b\b\b\b\b\b\b"
       ]
      },
      {
       "output_type": "stream",
       "stream": "stdout",
       "text": [
        " ...convolving band  7/16"
       ]
      },
      {
       "output_type": "stream",
       "stream": "stdout",
       "text": [
        " \b\b\b\b\b\b\b\b\b\b\b\b\b\b\b\b\b\b\b\b\b\b\b\b\b\b"
       ]
      },
      {
       "output_type": "stream",
       "stream": "stdout",
       "text": [
        " ...convolving band  8/16"
       ]
      },
      {
       "output_type": "stream",
       "stream": "stdout",
       "text": [
        " \b\b\b\b\b\b\b\b\b\b\b\b\b\b\b\b\b\b\b\b\b\b\b\b\b\b"
       ]
      },
      {
       "output_type": "stream",
       "stream": "stdout",
       "text": [
        " ...convolving band  9/16"
       ]
      },
      {
       "output_type": "stream",
       "stream": "stdout",
       "text": [
        " \b\b\b\b\b\b\b\b\b\b\b\b\b\b\b\b\b\b\b\b\b\b\b\b\b\b"
       ]
      },
      {
       "output_type": "stream",
       "stream": "stdout",
       "text": [
        " ...convolving band 10/16"
       ]
      },
      {
       "output_type": "stream",
       "stream": "stdout",
       "text": [
        " \b\b\b\b\b\b\b\b\b\b\b\b\b\b\b\b\b\b\b\b\b\b\b\b\b\b"
       ]
      },
      {
       "output_type": "stream",
       "stream": "stdout",
       "text": [
        " ...convolving band 11/16"
       ]
      },
      {
       "output_type": "stream",
       "stream": "stdout",
       "text": [
        " \b\b\b\b\b\b\b\b\b\b\b\b\b\b\b\b\b\b\b\b\b\b\b\b\b\b"
       ]
      },
      {
       "output_type": "stream",
       "stream": "stdout",
       "text": [
        " ...convolving band 12/16"
       ]
      },
      {
       "output_type": "stream",
       "stream": "stdout",
       "text": [
        " \b\b\b\b\b\b\b\b\b\b\b\b\b\b\b\b\b\b\b\b\b\b\b\b\b\b"
       ]
      },
      {
       "output_type": "stream",
       "stream": "stdout",
       "text": [
        " ...convolving band 13/16"
       ]
      },
      {
       "output_type": "stream",
       "stream": "stdout",
       "text": [
        " \b\b\b\b\b\b\b\b\b\b\b\b\b\b\b\b\b\b\b\b\b\b\b\b\b\b"
       ]
      },
      {
       "output_type": "stream",
       "stream": "stdout",
       "text": [
        " ...convolving band 14/16"
       ]
      },
      {
       "output_type": "stream",
       "stream": "stdout",
       "text": [
        " \b\b\b\b\b\b\b\b\b\b\b\b\b\b\b\b\b\b\b\b\b\b\b\b\b\b"
       ]
      },
      {
       "output_type": "stream",
       "stream": "stdout",
       "text": [
        " ...convolving band 15/16"
       ]
      },
      {
       "output_type": "stream",
       "stream": "stdout",
       "text": [
        " \b\b\b\b\b\b\b\b\b\b\b\b\b\b\b\b\b\b\b\b\b\b\b\b\b\b"
       ]
      },
      {
       "output_type": "stream",
       "stream": "stdout",
       "text": [
        " ...convolving band 16/16"
       ]
      },
      {
       "output_type": "stream",
       "stream": "stdout",
       "text": [
        " \b\b\b\b\b\b\b\b\b\b\b\b\b\b\b\b\b\b\b\b\b\b\b\b\b\b"
       ]
      },
      {
       "output_type": "stream",
       "stream": "stdout",
       "text": [
        "\n",
        ".......... HESSJ1825-137"
       ]
      },
      {
       "output_type": "stream",
       "stream": "stdout",
       "text": [
        " ...convolving band  1/16"
       ]
      },
      {
       "output_type": "stream",
       "stream": "stdout",
       "text": [
        " \b\b\b\b\b\b\b\b\b\b\b\b\b\b\b\b\b\b\b\b\b\b\b\b\b\b"
       ]
      },
      {
       "output_type": "stream",
       "stream": "stdout",
       "text": [
        " ...convolving band  2/16"
       ]
      },
      {
       "output_type": "stream",
       "stream": "stdout",
       "text": [
        " \b\b\b\b\b\b\b\b\b\b\b\b\b\b\b\b\b\b\b\b\b\b\b\b\b\b"
       ]
      },
      {
       "output_type": "stream",
       "stream": "stdout",
       "text": [
        " ...convolving band  3/16"
       ]
      },
      {
       "output_type": "stream",
       "stream": "stdout",
       "text": [
        " \b\b\b\b\b\b\b\b\b\b\b\b\b\b\b\b\b\b\b\b\b\b\b\b\b\b"
       ]
      },
      {
       "output_type": "stream",
       "stream": "stdout",
       "text": [
        " ...convolving band  4/16"
       ]
      },
      {
       "output_type": "stream",
       "stream": "stdout",
       "text": [
        " \b\b\b\b\b\b\b\b\b\b\b\b\b\b\b\b\b\b\b\b\b\b\b\b\b\b"
       ]
      },
      {
       "output_type": "stream",
       "stream": "stdout",
       "text": [
        " ...convolving band  5/16"
       ]
      },
      {
       "output_type": "stream",
       "stream": "stdout",
       "text": [
        " \b\b\b\b\b\b\b\b\b\b\b\b\b\b\b\b\b\b\b\b\b\b\b\b\b\b"
       ]
      },
      {
       "output_type": "stream",
       "stream": "stdout",
       "text": [
        " ...convolving band  6/16"
       ]
      },
      {
       "output_type": "stream",
       "stream": "stdout",
       "text": [
        " \b\b\b\b\b\b\b\b\b\b\b\b\b\b\b\b\b\b\b\b\b\b\b\b\b\b"
       ]
      },
      {
       "output_type": "stream",
       "stream": "stdout",
       "text": [
        " ...convolving band  7/16"
       ]
      },
      {
       "output_type": "stream",
       "stream": "stdout",
       "text": [
        " \b\b\b\b\b\b\b\b\b\b\b\b\b\b\b\b\b\b\b\b\b\b\b\b\b\b"
       ]
      },
      {
       "output_type": "stream",
       "stream": "stdout",
       "text": [
        " ...convolving band  8/16"
       ]
      },
      {
       "output_type": "stream",
       "stream": "stdout",
       "text": [
        " \b\b\b\b\b\b\b\b\b\b\b\b\b\b\b\b\b\b\b\b\b\b\b\b\b\b"
       ]
      },
      {
       "output_type": "stream",
       "stream": "stdout",
       "text": [
        " ...convolving band  9/16"
       ]
      },
      {
       "output_type": "stream",
       "stream": "stdout",
       "text": [
        " \b\b\b\b\b\b\b\b\b\b\b\b\b\b\b\b\b\b\b\b\b\b\b\b\b\b"
       ]
      },
      {
       "output_type": "stream",
       "stream": "stdout",
       "text": [
        " ...convolving band 10/16"
       ]
      },
      {
       "output_type": "stream",
       "stream": "stdout",
       "text": [
        " \b\b\b\b\b\b\b\b\b\b\b\b\b\b\b\b\b\b\b\b\b\b\b\b\b\b"
       ]
      },
      {
       "output_type": "stream",
       "stream": "stdout",
       "text": [
        " ...convolving band 11/16"
       ]
      },
      {
       "output_type": "stream",
       "stream": "stdout",
       "text": [
        " \b\b\b\b\b\b\b\b\b\b\b\b\b\b\b\b\b\b\b\b\b\b\b\b\b\b"
       ]
      },
      {
       "output_type": "stream",
       "stream": "stdout",
       "text": [
        " ...convolving band 12/16"
       ]
      },
      {
       "output_type": "stream",
       "stream": "stdout",
       "text": [
        " \b\b\b\b\b\b\b\b\b\b\b\b\b\b\b\b\b\b\b\b\b\b\b\b\b\b"
       ]
      },
      {
       "output_type": "stream",
       "stream": "stdout",
       "text": [
        " ...convolving band 13/16"
       ]
      },
      {
       "output_type": "stream",
       "stream": "stdout",
       "text": [
        " \b\b\b\b\b\b\b\b\b\b\b\b\b\b\b\b\b\b\b\b\b\b\b\b\b\b"
       ]
      },
      {
       "output_type": "stream",
       "stream": "stdout",
       "text": [
        " ...convolving band 14/16"
       ]
      },
      {
       "output_type": "stream",
       "stream": "stdout",
       "text": [
        " \b\b\b\b\b\b\b\b\b\b\b\b\b\b\b\b\b\b\b\b\b\b\b\b\b\b"
       ]
      },
      {
       "output_type": "stream",
       "stream": "stdout",
       "text": [
        " ...convolving band 15/16"
       ]
      },
      {
       "output_type": "stream",
       "stream": "stdout",
       "text": [
        " \b\b\b\b\b\b\b\b\b\b\b\b\b\b\b\b\b\b\b\b\b\b\b\b\b\b"
       ]
      },
      {
       "output_type": "stream",
       "stream": "stdout",
       "text": [
        " ...convolving band 16/16"
       ]
      },
      {
       "output_type": "stream",
       "stream": "stdout",
       "text": [
        " \b\b\b\b\b\b\b\b\b\b\b\b\b\b\b\b\b\b\b\b\b\b\b\b\b\b"
       ]
      },
      {
       "output_type": "stream",
       "stream": "stdout",
       "text": [
        "\n",
        ".......... W44"
       ]
      },
      {
       "output_type": "stream",
       "stream": "stdout",
       "text": [
        " ...convolving band  1/16"
       ]
      },
      {
       "output_type": "stream",
       "stream": "stdout",
       "text": [
        " \b\b\b\b\b\b\b\b\b\b\b\b\b\b\b\b\b\b\b\b\b\b\b\b\b\b"
       ]
      },
      {
       "output_type": "stream",
       "stream": "stdout",
       "text": [
        " ...convolving band  2/16"
       ]
      },
      {
       "output_type": "stream",
       "stream": "stdout",
       "text": [
        " \b\b\b\b\b\b\b\b\b\b\b\b\b\b\b\b\b\b\b\b\b\b\b\b\b\b"
       ]
      },
      {
       "output_type": "stream",
       "stream": "stdout",
       "text": [
        " ...convolving band  3/16"
       ]
      },
      {
       "output_type": "stream",
       "stream": "stdout",
       "text": [
        " \b\b\b\b\b\b\b\b\b\b\b\b\b\b\b\b\b\b\b\b\b\b\b\b\b\b"
       ]
      },
      {
       "output_type": "stream",
       "stream": "stdout",
       "text": [
        " ...convolving band  4/16"
       ]
      },
      {
       "output_type": "stream",
       "stream": "stdout",
       "text": [
        " \b\b\b\b\b\b\b\b\b\b\b\b\b\b\b\b\b\b\b\b\b\b\b\b\b\b"
       ]
      },
      {
       "output_type": "stream",
       "stream": "stdout",
       "text": [
        " ...convolving band  5/16"
       ]
      },
      {
       "output_type": "stream",
       "stream": "stdout",
       "text": [
        " \b\b\b\b\b\b\b\b\b\b\b\b\b\b\b\b\b\b\b\b\b\b\b\b\b\b"
       ]
      },
      {
       "output_type": "stream",
       "stream": "stdout",
       "text": [
        " ...convolving band  6/16"
       ]
      },
      {
       "output_type": "stream",
       "stream": "stdout",
       "text": [
        " \b\b\b\b\b\b\b\b\b\b\b\b\b\b\b\b\b\b\b\b\b\b\b\b\b\b"
       ]
      },
      {
       "output_type": "stream",
       "stream": "stdout",
       "text": [
        " ...convolving band  7/16"
       ]
      },
      {
       "output_type": "stream",
       "stream": "stdout",
       "text": [
        " \b\b\b\b\b\b\b\b\b\b\b\b\b\b\b\b\b\b\b\b\b\b\b\b\b\b"
       ]
      },
      {
       "output_type": "stream",
       "stream": "stdout",
       "text": [
        " ...convolving band  8/16"
       ]
      },
      {
       "output_type": "stream",
       "stream": "stdout",
       "text": [
        " \b\b\b\b\b\b\b\b\b\b\b\b\b\b\b\b\b\b\b\b\b\b\b\b\b\b"
       ]
      },
      {
       "output_type": "stream",
       "stream": "stdout",
       "text": [
        " ...convolving band  9/16"
       ]
      },
      {
       "output_type": "stream",
       "stream": "stdout",
       "text": [
        " \b\b\b\b\b\b\b\b\b\b\b\b\b\b\b\b\b\b\b\b\b\b\b\b\b\b"
       ]
      },
      {
       "output_type": "stream",
       "stream": "stdout",
       "text": [
        " ...convolving band 10/16"
       ]
      },
      {
       "output_type": "stream",
       "stream": "stdout",
       "text": [
        " \b\b\b\b\b\b\b\b\b\b\b\b\b\b\b\b\b\b\b\b\b\b\b\b\b\b"
       ]
      },
      {
       "output_type": "stream",
       "stream": "stdout",
       "text": [
        " ...convolving band 11/16"
       ]
      },
      {
       "output_type": "stream",
       "stream": "stdout",
       "text": [
        " \b\b\b\b\b\b\b\b\b\b\b\b\b\b\b\b\b\b\b\b\b\b\b\b\b\b"
       ]
      },
      {
       "output_type": "stream",
       "stream": "stdout",
       "text": [
        " ...convolving band 12/16"
       ]
      },
      {
       "output_type": "stream",
       "stream": "stdout",
       "text": [
        " \b\b\b\b\b\b\b\b\b\b\b\b\b\b\b\b\b\b\b\b\b\b\b\b\b\b"
       ]
      },
      {
       "output_type": "stream",
       "stream": "stdout",
       "text": [
        " ...convolving band 13/16"
       ]
      },
      {
       "output_type": "stream",
       "stream": "stdout",
       "text": [
        " \b\b\b\b\b\b\b\b\b\b\b\b\b\b\b\b\b\b\b\b\b\b\b\b\b\b"
       ]
      },
      {
       "output_type": "stream",
       "stream": "stdout",
       "text": [
        " ...convolving band 14/16"
       ]
      },
      {
       "output_type": "stream",
       "stream": "stdout",
       "text": [
        " \b\b\b\b\b\b\b\b\b\b\b\b\b\b\b\b\b\b\b\b\b\b\b\b\b\b"
       ]
      },
      {
       "output_type": "stream",
       "stream": "stdout",
       "text": [
        " ...convolving band 15/16"
       ]
      },
      {
       "output_type": "stream",
       "stream": "stdout",
       "text": [
        " \b\b\b\b\b\b\b\b\b\b\b\b\b\b\b\b\b\b\b\b\b\b\b\b\b\b"
       ]
      },
      {
       "output_type": "stream",
       "stream": "stdout",
       "text": [
        " ...convolving band 16/16"
       ]
      },
      {
       "output_type": "stream",
       "stream": "stdout",
       "text": [
        " \b\b\b\b\b\b\b\b\b\b\b\b\b\b\b\b\b\b\b\b\b\b\b\b\b\b"
       ]
      },
      {
       "output_type": "stream",
       "stream": "stdout",
       "text": [
        "\n",
        ".......... ring_2year_P76_v0.fits"
       ]
      },
      {
       "output_type": "stream",
       "stream": "stdout",
       "text": [
        " ...convolving band  1/16"
       ]
      },
      {
       "output_type": "stream",
       "stream": "stdout",
       "text": [
        " \b\b\b\b\b\b\b\b\b\b\b\b\b\b\b\b\b\b\b\b\b\b\b\b\b\b"
       ]
      },
      {
       "output_type": "stream",
       "stream": "stdout",
       "text": [
        " ...convolving band  2/16"
       ]
      },
      {
       "output_type": "stream",
       "stream": "stdout",
       "text": [
        " \b\b\b\b\b\b\b\b\b\b\b\b\b\b\b\b\b\b\b\b\b\b\b\b\b\b"
       ]
      },
      {
       "output_type": "stream",
       "stream": "stdout",
       "text": [
        " ...convolving band  3/16"
       ]
      },
      {
       "output_type": "stream",
       "stream": "stdout",
       "text": [
        " \b\b\b\b\b\b\b\b\b\b\b\b\b\b\b\b\b\b\b\b\b\b\b\b\b\b"
       ]
      },
      {
       "output_type": "stream",
       "stream": "stdout",
       "text": [
        " ...convolving band  4/16"
       ]
      },
      {
       "output_type": "stream",
       "stream": "stdout",
       "text": [
        " \b\b\b\b\b\b\b\b\b\b\b\b\b\b\b\b\b\b\b\b\b\b\b\b\b\b"
       ]
      },
      {
       "output_type": "stream",
       "stream": "stdout",
       "text": [
        " ...convolving band  5/16"
       ]
      },
      {
       "output_type": "stream",
       "stream": "stdout",
       "text": [
        " \b\b\b\b\b\b\b\b\b\b\b\b\b\b\b\b\b\b\b\b\b\b\b\b\b\b"
       ]
      },
      {
       "output_type": "stream",
       "stream": "stdout",
       "text": [
        " ...convolving band  6/16"
       ]
      },
      {
       "output_type": "stream",
       "stream": "stdout",
       "text": [
        " \b\b\b\b\b\b\b\b\b\b\b\b\b\b\b\b\b\b\b\b\b\b\b\b\b\b"
       ]
      },
      {
       "output_type": "stream",
       "stream": "stdout",
       "text": [
        " ...convolving band  7/16"
       ]
      },
      {
       "output_type": "stream",
       "stream": "stdout",
       "text": [
        " \b\b\b\b\b\b\b\b\b\b\b\b\b\b\b\b\b\b\b\b\b\b\b\b\b\b"
       ]
      },
      {
       "output_type": "stream",
       "stream": "stdout",
       "text": [
        " ...convolving band  8/16"
       ]
      },
      {
       "output_type": "stream",
       "stream": "stdout",
       "text": [
        " \b\b\b\b\b\b\b\b\b\b\b\b\b\b\b\b\b\b\b\b\b\b\b\b\b\b"
       ]
      },
      {
       "output_type": "stream",
       "stream": "stdout",
       "text": [
        " ...convolving band  9/16"
       ]
      },
      {
       "output_type": "stream",
       "stream": "stdout",
       "text": [
        " \b\b\b\b\b\b\b\b\b\b\b\b\b\b\b\b\b\b\b\b\b\b\b\b\b\b"
       ]
      },
      {
       "output_type": "stream",
       "stream": "stdout",
       "text": [
        " ...convolving band 10/16"
       ]
      },
      {
       "output_type": "stream",
       "stream": "stdout",
       "text": [
        " \b\b\b\b\b\b\b\b\b\b\b\b\b\b\b\b\b\b\b\b\b\b\b\b\b\b"
       ]
      },
      {
       "output_type": "stream",
       "stream": "stdout",
       "text": [
        " ...convolving band 11/16"
       ]
      },
      {
       "output_type": "stream",
       "stream": "stdout",
       "text": [
        " \b\b\b\b\b\b\b\b\b\b\b\b\b\b\b\b\b\b\b\b\b\b\b\b\b\b"
       ]
      },
      {
       "output_type": "stream",
       "stream": "stdout",
       "text": [
        " ...convolving band 12/16"
       ]
      },
      {
       "output_type": "stream",
       "stream": "stdout",
       "text": [
        " \b\b\b\b\b\b\b\b\b\b\b\b\b\b\b\b\b\b\b\b\b\b\b\b\b\b"
       ]
      },
      {
       "output_type": "stream",
       "stream": "stdout",
       "text": [
        " ...convolving band 13/16"
       ]
      },
      {
       "output_type": "stream",
       "stream": "stdout",
       "text": [
        " \b\b\b\b\b\b\b\b\b\b\b\b\b\b\b\b\b\b\b\b\b\b\b\b\b\b"
       ]
      },
      {
       "output_type": "stream",
       "stream": "stdout",
       "text": [
        " ...convolving band 14/16"
       ]
      },
      {
       "output_type": "stream",
       "stream": "stdout",
       "text": [
        " \b\b\b\b\b\b\b\b\b\b\b\b\b\b\b\b\b\b\b\b\b\b\b\b\b\b"
       ]
      },
      {
       "output_type": "stream",
       "stream": "stdout",
       "text": [
        " ...convolving band 15/16"
       ]
      },
      {
       "output_type": "stream",
       "stream": "stdout",
       "text": [
        " \b\b\b\b\b\b\b\b\b\b\b\b\b\b\b\b\b\b\b\b\b\b\b\b\b\b"
       ]
      },
      {
       "output_type": "stream",
       "stream": "stdout",
       "text": [
        " ...convolving band 16/16"
       ]
      },
      {
       "output_type": "stream",
       "stream": "stdout",
       "text": [
        " \b\b\b\b\b\b\b\b\b\b\b\b\b\b\b\b\b\b\b\b\b\b\b\b\b\b"
       ]
      },
      {
       "output_type": "stream",
       "stream": "stdout",
       "text": [
        "\n",
        ".......... isotrop_2year_P76_source_v0.txt"
       ]
      },
      {
       "output_type": "stream",
       "stream": "stdout",
       "text": [
        " ...convolving band  1/16"
       ]
      },
      {
       "output_type": "stream",
       "stream": "stdout",
       "text": [
        " \b\b\b\b\b\b\b\b\b\b\b\b\b\b\b\b\b\b\b\b\b\b\b\b\b\b"
       ]
      },
      {
       "output_type": "stream",
       "stream": "stdout",
       "text": [
        " ...convolving band  2/16"
       ]
      },
      {
       "output_type": "stream",
       "stream": "stdout",
       "text": [
        " \b\b\b\b\b\b\b\b\b\b\b\b\b\b\b\b\b\b\b\b\b\b\b\b\b\b"
       ]
      },
      {
       "output_type": "stream",
       "stream": "stdout",
       "text": [
        " ...convolving band  3/16"
       ]
      },
      {
       "output_type": "stream",
       "stream": "stdout",
       "text": [
        " \b\b\b\b\b\b\b\b\b\b\b\b\b\b\b\b\b\b\b\b\b\b\b\b\b\b"
       ]
      },
      {
       "output_type": "stream",
       "stream": "stdout",
       "text": [
        " ...convolving band  4/16"
       ]
      },
      {
       "output_type": "stream",
       "stream": "stdout",
       "text": [
        " \b\b\b\b\b\b\b\b\b\b\b\b\b\b\b\b\b\b\b\b\b\b\b\b\b\b"
       ]
      },
      {
       "output_type": "stream",
       "stream": "stdout",
       "text": [
        " ...convolving band  5/16"
       ]
      },
      {
       "output_type": "stream",
       "stream": "stdout",
       "text": [
        " \b\b\b\b\b\b\b\b\b\b\b\b\b\b\b\b\b\b\b\b\b\b\b\b\b\b"
       ]
      },
      {
       "output_type": "stream",
       "stream": "stdout",
       "text": [
        " ...convolving band  6/16"
       ]
      },
      {
       "output_type": "stream",
       "stream": "stdout",
       "text": [
        " \b\b\b\b\b\b\b\b\b\b\b\b\b\b\b\b\b\b\b\b\b\b\b\b\b\b"
       ]
      },
      {
       "output_type": "stream",
       "stream": "stdout",
       "text": [
        " ...convolving band  7/16"
       ]
      },
      {
       "output_type": "stream",
       "stream": "stdout",
       "text": [
        " \b\b\b\b\b\b\b\b\b\b\b\b\b\b\b\b\b\b\b\b\b\b\b\b\b\b"
       ]
      },
      {
       "output_type": "stream",
       "stream": "stdout",
       "text": [
        " ...convolving band  8/16"
       ]
      },
      {
       "output_type": "stream",
       "stream": "stdout",
       "text": [
        " \b\b\b\b\b\b\b\b\b\b\b\b\b\b\b\b\b\b\b\b\b\b\b\b\b\b"
       ]
      },
      {
       "output_type": "stream",
       "stream": "stdout",
       "text": [
        " ...convolving band  9/16"
       ]
      },
      {
       "output_type": "stream",
       "stream": "stdout",
       "text": [
        " \b\b\b\b\b\b\b\b\b\b\b\b\b\b\b\b\b\b\b\b\b\b\b\b\b\b"
       ]
      },
      {
       "output_type": "stream",
       "stream": "stdout",
       "text": [
        " ...convolving band 10/16"
       ]
      },
      {
       "output_type": "stream",
       "stream": "stdout",
       "text": [
        " \b\b\b\b\b\b\b\b\b\b\b\b\b\b\b\b\b\b\b\b\b\b\b\b\b\b"
       ]
      },
      {
       "output_type": "stream",
       "stream": "stdout",
       "text": [
        " ...convolving band 11/16"
       ]
      },
      {
       "output_type": "stream",
       "stream": "stdout",
       "text": [
        " \b\b\b\b\b\b\b\b\b\b\b\b\b\b\b\b\b\b\b\b\b\b\b\b\b\b"
       ]
      },
      {
       "output_type": "stream",
       "stream": "stdout",
       "text": [
        " ...convolving band 12/16"
       ]
      },
      {
       "output_type": "stream",
       "stream": "stdout",
       "text": [
        " \b\b\b\b\b\b\b\b\b\b\b\b\b\b\b\b\b\b\b\b\b\b\b\b\b\b"
       ]
      },
      {
       "output_type": "stream",
       "stream": "stdout",
       "text": [
        " ...convolving band 13/16"
       ]
      },
      {
       "output_type": "stream",
       "stream": "stdout",
       "text": [
        " \b\b\b\b\b\b\b\b\b\b\b\b\b\b\b\b\b\b\b\b\b\b\b\b\b\b"
       ]
      },
      {
       "output_type": "stream",
       "stream": "stdout",
       "text": [
        " ...convolving band 14/16"
       ]
      },
      {
       "output_type": "stream",
       "stream": "stdout",
       "text": [
        " \b\b\b\b\b\b\b\b\b\b\b\b\b\b\b\b\b\b\b\b\b\b\b\b\b\b"
       ]
      },
      {
       "output_type": "stream",
       "stream": "stdout",
       "text": [
        " ...convolving band 15/16"
       ]
      },
      {
       "output_type": "stream",
       "stream": "stdout",
       "text": [
        " \b\b\b\b\b\b\b\b\b\b\b\b\b\b\b\b\b\b\b\b\b\b\b\b\b\b"
       ]
      },
      {
       "output_type": "stream",
       "stream": "stdout",
       "text": [
        " ...convolving band 16/16"
       ]
      },
      {
       "output_type": "stream",
       "stream": "stdout",
       "text": [
        " \b\b\b\b\b\b\b\b\b\b\b\b\b\b\b\b\b\b\b\b\b\b\b\b\b\b"
       ]
      },
      {
       "output_type": "stream",
       "stream": "stdout",
       "text": [
        "\n"
       ]
      }
     ],
     "prompt_number": "*"
    },
    {
     "cell_type": "code",
     "collapsed": false,
     "input": [
      "from skymaps import SkyDir\n",
      "smooth=roi.plot_sources(which='2FGL J1837.3-0700c', title='', \n",
      "                size=2, psf_size=0.6,\n",
      "                overlay_kwargs=dict(show_extensions=False),\n",
      "                overlay_psf=False,\n",
      "                kernel_rad = 0.10,\n",
      "                pixelsize_fraction=20,\n",
      "                interpolation='bilinear',\n",
      "                figsize=(4,3.5))\n",
      "\n",
      "smooth.axes.locator_params(axis=\"x\", nbins=2)\n",
      "smooth.axes.locator_params(axis=\"y\", nbins=2)"
     ],
     "language": "python",
     "metadata": {},
     "outputs": [],
     "prompt_number": "*"
    },
    {
     "cell_type": "code",
     "collapsed": false,
     "input": [
      "f = pyfits.open(expandvars('$FERMI/hess/plane_survey/HESSJ1837-069_Map.fits'))\n",
      "h = f[1].header\n",
      "d =f[1].data\n",
      "\n",
      "h['CTYPE1'] = 'GLON-MER'\n",
      "h['CTYPE2'] = 'GLAT-MER'\n",
      "h['CUNIT1'] = 'deg'\n",
      "h['CUNIT2'] = 'deg'\n",
      "\n",
      "cont=smooth.axes[h].contour(d,linspace(15,100,8),colors=\"lightblue\", zorder=1)\n"
     ],
     "language": "python",
     "metadata": {},
     "outputs": [],
     "prompt_number": "*"
    },
    {
     "cell_type": "code",
     "collapsed": false,
     "input": [
      "fig=smooth.axes.get_figure()\n",
      "fig.subplots_adjust(left=0.1)\n",
      "fig"
     ],
     "language": "python",
     "metadata": {},
     "outputs": [],
     "prompt_number": "*"
    },
    {
     "cell_type": "code",
     "collapsed": false,
     "input": [
      "\n",
      "fig.savefig(filename='HESS_J1837-069.pdf')"
     ],
     "language": "python",
     "metadata": {},
     "outputs": [],
     "prompt_number": "*"
    },
    {
     "cell_type": "code",
     "collapsed": false,
     "input": [],
     "language": "python",
     "metadata": {},
     "outputs": []
    }
   ],
   "metadata": {}
  }
 ]
}